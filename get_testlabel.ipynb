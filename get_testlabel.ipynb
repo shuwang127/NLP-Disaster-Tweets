{
  "nbformat": 4,
  "nbformat_minor": 0,
  "metadata": {
    "colab": {
      "name": "get_testlabel.ipynb",
      "provenance": [],
      "toc_visible": true,
      "mount_file_id": "https://github.com/shuwang127/NLP-Disaster-Tweets/blob/master/get_testlabel.ipynb",
      "authorship_tag": "ABX9TyMWbZVcHI6ISrZh2HVZWW+k",
      "include_colab_link": true
    },
    "kernelspec": {
      "name": "python3",
      "display_name": "Python 3"
    }
  },
  "cells": [
    {
      "cell_type": "markdown",
      "metadata": {
        "id": "view-in-github",
        "colab_type": "text"
      },
      "source": [
        "<a href=\"https://colab.research.google.com/github/shuwang127/NLP-Disaster-Tweets/blob/master/get_testlabel.ipynb\" target=\"_parent\"><img src=\"https://colab.research.google.com/assets/colab-badge.svg\" alt=\"Open In Colab\"/></a>"
      ]
    },
    {
      "cell_type": "markdown",
      "metadata": {
        "id": "j85TV78BmSuH",
        "colab_type": "text"
      },
      "source": [
        "Set the root path for the current program file, as well as the data path and temporary file path."
      ]
    },
    {
      "cell_type": "code",
      "metadata": {
        "id": "RTcfWlZ2k23_",
        "colab_type": "code",
        "colab": {}
      },
      "source": [
        "rootPath = './drive/My Drive/Colab Notebooks/'\n",
        "dataPath = rootPath + '/data/'\n",
        "tempPath = rootPath + '/temp/'"
      ],
      "execution_count": 0,
      "outputs": []
    },
    {
      "cell_type": "markdown",
      "metadata": {
        "id": "ss7U7pDfmXE1",
        "colab_type": "text"
      },
      "source": [
        "Import python libraies."
      ]
    },
    {
      "cell_type": "code",
      "metadata": {
        "id": "7IHIzVtUmY_a",
        "colab_type": "code",
        "colab": {}
      },
      "source": [
        "import pandas as pd\n",
        "import numpy as np\n",
        "import re"
      ],
      "execution_count": 0,
      "outputs": []
    },
    {
      "cell_type": "markdown",
      "metadata": {
        "id": "3ZDY-lLfmmrW",
        "colab_type": "text"
      },
      "source": [
        "Load test and gold csv file."
      ]
    },
    {
      "cell_type": "code",
      "metadata": {
        "id": "KtH2GQ73mqdX",
        "colab_type": "code",
        "colab": {}
      },
      "source": [
        "test = pd.read_csv(dataPath + 'test.csv')\n",
        "# test.info()\n",
        "gold = pd.read_csv(dataPath + 'disaster_tweets.csv')\n",
        "# gold.info()"
      ],
      "execution_count": 0,
      "outputs": []
    },
    {
      "cell_type": "markdown",
      "metadata": {
        "id": "0u7Eaw0fFCXw",
        "colab_type": "text"
      },
      "source": [
        "Match the data."
      ]
    },
    {
      "cell_type": "code",
      "metadata": {
        "id": "YHb9sWrxtN37",
        "colab_type": "code",
        "colab": {}
      },
      "source": [
        "target = -1 * np.ones((len(test), 1), dtype = np.int64)\n",
        "for i in range(len(test)):\n",
        "    for j in range(len(gold)):\n",
        "        if re.sub('[^a-zA-Z0-9]',\"\",test['text'][i]) == re.sub('[^a-zA-Z0-9]',\"\",gold['text'][j]):\n",
        "            if gold['choose_one'][j] == \"Relevant\":\n",
        "                target[i] = 1\n",
        "            if gold['choose_one'][j] == \"Not Relevant\":\n",
        "                target[i] = 0\n",
        "            #break"
      ],
      "execution_count": 0,
      "outputs": []
    },
    {
      "cell_type": "markdown",
      "metadata": {
        "id": "Jze5ajZFPQXS",
        "colab_type": "text"
      },
      "source": [
        "Save results."
      ]
    },
    {
      "cell_type": "code",
      "metadata": {
        "id": "J31NiDFRPSJ4",
        "colab_type": "code",
        "colab": {}
      },
      "source": [
        "test['target'] = target\n",
        "test.to_csv(dataPath + 'test_labeled.csv', index = False)"
      ],
      "execution_count": 0,
      "outputs": []
    }
  ]
}