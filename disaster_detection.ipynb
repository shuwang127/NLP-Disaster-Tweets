{
  "nbformat": 4,
  "nbformat_minor": 0,
  "metadata": {
    "colab": {
      "name": "disaster_detection.ipynb",
      "provenance": [],
      "toc_visible": true,
      "machine_shape": "hm",
      "mount_file_id": "https://github.com/shuwang127/NLP-Disaster-Tweets/blob/master/disaster_detection.ipynb",
      "authorship_tag": "ABX9TyPIFFjgSCHU9zpI0vIAj/Qf",
      "include_colab_link": true
    },
    "kernelspec": {
      "name": "python3",
      "display_name": "Python 3"
    },
    "accelerator": "GPU"
  },
  "cells": [
    {
      "cell_type": "markdown",
      "metadata": {
        "id": "view-in-github",
        "colab_type": "text"
      },
      "source": [
        "<a href=\"https://colab.research.google.com/github/shuwang127/NLP-Disaster-Tweets/blob/master/disaster_detection.ipynb\" target=\"_parent\"><img src=\"https://colab.research.google.com/assets/colab-badge.svg\" alt=\"Open In Colab\"/></a>"
      ]
    },
    {
      "cell_type": "markdown",
      "metadata": {
        "id": "SQ1yZRJWch7C",
        "colab_type": "text"
      },
      "source": [
        "# Preliminary"
      ]
    },
    {
      "cell_type": "markdown",
      "metadata": {
        "id": "hn47Mkh-VZGs",
        "colab_type": "text"
      },
      "source": [
        "Set the root path for the current program file, as well as the data path and temporary file path."
      ]
    },
    {
      "cell_type": "code",
      "metadata": {
        "id": "NxX4qtvJ--Em",
        "colab_type": "code",
        "colab": {}
      },
      "source": [
        "rootPath = './drive/My Drive/Colab Notebooks/'\n",
        "dataPath = rootPath + '/data/'\n",
        "tempPath = rootPath + '/temp/'"
      ],
      "execution_count": 0,
      "outputs": []
    },
    {
      "cell_type": "markdown",
      "metadata": {
        "id": "eQCMRmJoVyDv",
        "colab_type": "text"
      },
      "source": [
        "Import python libraies."
      ]
    },
    {
      "cell_type": "code",
      "metadata": {
        "id": "f98rK62OEaaN",
        "colab_type": "code",
        "outputId": "8d509363-dcf5-4f2e-c33c-469d387af9a4",
        "colab": {
          "base_uri": "https://localhost:8080/",
          "height": 0
        }
      },
      "source": [
        "import os\n",
        "import re\n",
        "import random\n",
        "import math\n",
        "import nltk\n",
        "import pandas as pd\n",
        "import numpy as np\n",
        "from nltk.corpus import stopwords\n",
        "from nltk.stem import PorterStemmer\n",
        "from nltk.tokenize import TweetTokenizer\n",
        "from nltk import word_tokenize\n",
        "from sklearn.preprocessing import OneHotEncoder\n",
        "from itertools import chain\n",
        "import torch\n",
        "import torch.nn as nn\n",
        "import torch.optim as optim\n",
        "import torch.utils.data as torchdata\n",
        "nltk.download('stopwords')\n",
        "nltk.download('punkt')"
      ],
      "execution_count": 2,
      "outputs": [
        {
          "output_type": "stream",
          "text": [
            "[nltk_data] Downloading package stopwords to /root/nltk_data...\n",
            "[nltk_data]   Package stopwords is already up-to-date!\n",
            "[nltk_data] Downloading package punkt to /root/nltk_data...\n",
            "[nltk_data]   Package punkt is already up-to-date!\n"
          ],
          "name": "stdout"
        },
        {
          "output_type": "execute_result",
          "data": {
            "text/plain": [
              "True"
            ]
          },
          "metadata": {
            "tags": []
          },
          "execution_count": 2
        }
      ]
    },
    {
      "cell_type": "markdown",
      "metadata": {
        "id": "W61oBEbvdO_U",
        "colab_type": "text"
      },
      "source": [
        "# Load Data"
      ]
    },
    {
      "cell_type": "markdown",
      "metadata": {
        "id": "whbmTuZ_YNLz",
        "colab_type": "text"
      },
      "source": [
        "Load data from .csv files."
      ]
    },
    {
      "cell_type": "code",
      "metadata": {
        "id": "Bqy-c5TaXR5x",
        "colab_type": "code",
        "colab": {}
      },
      "source": [
        "def ReadCsvData():\n",
        "    # validate temp path\n",
        "    if not os.path.exists(tempPath):\n",
        "        os.mkdir(tempPath)\n",
        "    # read data from train.csv.\n",
        "    dataTrain = pd.read_csv(dataPath + 'train.csv')\n",
        "    print('[Info] Load %d training samples from %s/train.csv.' % (len(dataTrain), dataPath))\n",
        "    # read data from test.csv.\n",
        "    dataTest = pd.read_csv(dataPath + 'test_labeled.csv')\n",
        "    print('[Info] Load %d testing samples from %s/test_labeled.csv.' % (len(dataTest), dataPath))\n",
        "    # return\n",
        "    return dataTrain, dataTest"
      ],
      "execution_count": 0,
      "outputs": []
    },
    {
      "cell_type": "markdown",
      "metadata": {
        "id": "HNQ8XurQ1xzo",
        "colab_type": "text"
      },
      "source": [
        "Get keywords and vocabulary from training data."
      ]
    },
    {
      "cell_type": "code",
      "metadata": {
        "id": "ZVx8RAYH12tI",
        "colab_type": "code",
        "colab": {}
      },
      "source": [
        "def CreateVocabulary(dataTrain, dataTest):\n",
        "    # pre-process the data.\n",
        "    def Preprocess(data):\n",
        "        # remove url\n",
        "        pattern = r'http[s]?://(?:[a-zA-Z]|[0-9]|[$-_@.&+]|[!*\\(\\),]|(?:%[0-9a-fA-F][0-9a-fA-F]))+'\n",
        "        data = re.sub(pattern, '', data)\n",
        "        # remove html special characters.\n",
        "        pattern = r'&[(amp)(gt)(lt)]+;'\n",
        "        data = re.sub(pattern, '', data)\n",
        "        # remove independent numbers.\n",
        "        pattern = r' \\d+ '\n",
        "        data = re.sub(pattern, ' ', data)\n",
        "        # lower case capitalized words.\n",
        "        pattern = r'([A-Z][a-z]+)'\n",
        "        def LowerFunc(matched):\n",
        "            return matched.group(1).lower()\n",
        "        data = re.sub(pattern, LowerFunc, data)\n",
        "        # remove hashtags.\n",
        "        pattern = r'[@#]([A-Za-z]+)'\n",
        "        data = re.sub(pattern, '', data)\n",
        "        return data\n",
        "\n",
        "    # remove stop words.\n",
        "    def RemoveStop(data):\n",
        "        dataList = data.split()\n",
        "        for item in dataList:\n",
        "            if item.lower() in stopwords.words('english'):\n",
        "                dataList.remove(item)\n",
        "        dataNew = \" \".join(dataList)\n",
        "        return dataNew\n",
        "\n",
        "    # get tokens.\n",
        "    def GetTokens(data):\n",
        "        # use tweet tokenizer.\n",
        "        tknzr = TweetTokenizer()\n",
        "        tokens = tknzr.tokenize(data)\n",
        "        tokensNew = []\n",
        "        # tokenize at each punctuation.\n",
        "        pattern = r'[A-Za-z]+\\'[A-Za-z]+'\n",
        "        for tk in tokens:\n",
        "            if re.match(pattern, tk):\n",
        "                subtokens = word_tokenize(tk)\n",
        "                tokensNew = tokensNew + subtokens\n",
        "            else:\n",
        "                tokensNew.append(tk)\n",
        "        return tokensNew\n",
        "\n",
        "    # process tokens with stemming.\n",
        "    def WithStem(tokens):\n",
        "        porter = PorterStemmer()\n",
        "        tokensStem = []\n",
        "        for tk in tokens:\n",
        "            tokensStem.append(porter.stem(tk))\n",
        "        return tokensStem\n",
        "\n",
        "    # keywords.\n",
        "    keywdList = list(set(list(dataTrain['keyword'])))\n",
        "    keywdDict = dict(zip(keywdList, range(len(keywdList))))\n",
        "    dataTrain['keywd'] = dataTrain['keyword'].apply(lambda x: keywdDict[x])\n",
        "    dataTest['keywd'] = dataTest['keyword'].apply(lambda x: keywdDict[x])\n",
        "    # exist location info?\n",
        "    def is_nan(x):\n",
        "        return (x is np.nan or x != x)\n",
        "    dataTrain['loc'] = dataTrain['location'].apply(lambda x: (0 if is_nan(x) else 1))\n",
        "    dataTest['loc'] = dataTest['location'].apply(lambda x: (0 if is_nan(x) else 1))\n",
        "    # find url number.\n",
        "    pattern = r'http[s]?://(?:[a-zA-Z]|[0-9]|[$-_@.&+]|[!*\\(\\),]|(?:%[0-9a-fA-F][0-9a-fA-F]))+'\n",
        "    dataTrain['url'] = dataTrain['text'].apply(lambda x: len(re.findall(pattern, x)))\n",
        "    dataTest['url'] = dataTest['text'].apply(lambda x: len(re.findall(pattern, x)))\n",
        "\n",
        "    # if exist list.npz, load it.\n",
        "    if os.path.exists(tempPath + 'list.npz'):\n",
        "        print('[Info] Load text list (noStem/Stem) of train/test set from %s/list.npz.' % (tempPath))\n",
        "        return np.load(tempPath + 'list.npz', allow_pickle = True)\n",
        "\n",
        "    # process train list.\n",
        "    listTrainNoStem = []\n",
        "    listTrainStem = []\n",
        "    # read the training data.\n",
        "    for i in range(len(dataTrain)):\n",
        "        # get the training data.\n",
        "        data = dataTrain['text'][i]\n",
        "        # preprocess the data.\n",
        "        data = Preprocess(data)\n",
        "        # remove stop words.\n",
        "        data = RemoveStop(data)\n",
        "        # get the tokens for the data.\n",
        "        tokens = GetTokens(data)\n",
        "        listTrainNoStem.append(tokens)\n",
        "        # get the stemmed tokens for the data.\n",
        "        tokensStem = WithStem(tokens)\n",
        "        listTrainStem.append(tokensStem)\n",
        "    # process test list.\n",
        "    listTestNoStem = []\n",
        "    listTestStem = []\n",
        "    # read the testing data.\n",
        "    for i in range(len(dataTest)):\n",
        "        # get the testing data.\n",
        "        data = dataTest['text'][i]\n",
        "        # preprocess the data.\n",
        "        data = Preprocess(data)\n",
        "        # remove stop words.\n",
        "        data = RemoveStop(data)\n",
        "        # get the tokens for the data.\n",
        "        tokens = GetTokens(data)\n",
        "        listTestNoStem.append(tokens)\n",
        "        # get the stemmed tokens for the data.\n",
        "        tokensStem = WithStem(tokens)\n",
        "        listTestStem.append(tokensStem)\n",
        "    np.savez(tempPath + 'list.npz', listTrainNoStem=listTrainNoStem, listTrainStem=listTrainStem, listTestNoStem=listTestNoStem, listTestStem=listTestStem)\n",
        "    print('[Info] Load text list (noStem/Stem) of train/test set from %s/list.npz.' % (tempPath))\n",
        "    return np.load(tempPath + 'list.npz', allow_pickle = True)"
      ],
      "execution_count": 0,
      "outputs": []
    },
    {
      "cell_type": "markdown",
      "metadata": {
        "id": "bxanvMsLd2p-",
        "colab_type": "text"
      },
      "source": [
        "# Feature Extraction"
      ]
    },
    {
      "cell_type": "markdown",
      "metadata": {
        "id": "trknAeZwawS4",
        "colab_type": "text"
      },
      "source": [
        "Extract features from the data."
      ]
    },
    {
      "cell_type": "code",
      "metadata": {
        "id": "ePerXVX1a4PR",
        "colab_type": "code",
        "colab": {}
      },
      "source": [
        "def ExtractFeatures(dataset, dList, typeSet, typeStem, typeFeat):\n",
        "    # input validation.\n",
        "    if typeSet not in ['Train', 'Test']:\n",
        "        print('[Error] Dataset setting invalid!')\n",
        "        return\n",
        "    # sparse the corresponding dataset.\n",
        "    data = dList['list' + typeSet + typeStem]\n",
        "    D = len(data)\n",
        "    # build the vocabulary from training set.\n",
        "    vocab = list(set(list(chain.from_iterable(dList['listTrain' + typeStem]))))\n",
        "    V = len(vocab)\n",
        "    vocabDict = dict(zip(vocab, range(V)))\n",
        "    print('[Info] Load %d \\'%s\\' vocabulary words.' % (V, typeStem))\n",
        "\n",
        "    # get labels.\n",
        "    labels = np.array(dataset['target']).reshape(-1, 1)\n",
        "    # get text features.\n",
        "    features = np.zeros((D, V))\n",
        "    # get the feature matrix (Frequency).\n",
        "    if 'Frequency' == typeFeat:\n",
        "        for ind, doc in enumerate(data):\n",
        "            for item in doc:\n",
        "                if item in vocabDict:\n",
        "                    features[ind][vocabDict[item]] += 1\n",
        "    # get the feature matrix (Binary).\n",
        "    if 'Binary' == typeFeat:\n",
        "        for ind, doc in enumerate(data):\n",
        "            for item in doc:\n",
        "                if item in vocabDict:\n",
        "                    features[ind][vocabDict[item]] = 1\n",
        "    # get the feature matrix (TFIDF):\n",
        "    if 'TFIDF' == typeFeat:\n",
        "        if os.path.exists(tempPath + '/tfidf_' + typeSet + typeStem + '.npy'):\n",
        "            features = np.load(tempPath + '/tfidf_' + typeSet + typeStem + '.npy')\n",
        "        else:\n",
        "            # get freq and bin features.\n",
        "            termFreq = np.zeros((D, V))\n",
        "            termBin = np.zeros((D, V))\n",
        "            for ind, doc in enumerate(data):\n",
        "                for item in doc:\n",
        "                    if item in vocabDict:\n",
        "                        termFreq[ind][vocabDict[item]] += 1\n",
        "                        termBin[ind][vocabDict[item]] = 1\n",
        "            # get tf (1+log10)\n",
        "            tf = np.zeros((D, V))\n",
        "            for ind in range(D):\n",
        "                for i in range(V):\n",
        "                    if termFreq[ind][i] > 0:\n",
        "                        tf[ind][i] = 1 + math.log(termFreq[ind][i], 10)\n",
        "            del termFreq\n",
        "            # find idf\n",
        "            if os.path.exists(tempPath + '/idf_' + typeStem + '.npy'):\n",
        "                idf = np.load(tempPath + '/idf_' + typeStem + '.npy')\n",
        "            elif 'Train' == typeSet:\n",
        "                # get df\n",
        "                df = np.zeros((V, 1))\n",
        "                for ind in range(D):\n",
        "                    for i in range(V):\n",
        "                        df[i] += termBin[ind][i]\n",
        "                # get idf (log10(D/df))\n",
        "                idf = np.zeros((V, 1))\n",
        "                for i in range(V):\n",
        "                    if df[i] > 0:\n",
        "                        idf[i] = math.log(D, 10) - math.log(df[i], 10)\n",
        "                del df\n",
        "                np.save(tempPath + '/idf_' + typeStem + '.npy', idf)\n",
        "            else:\n",
        "                print('[Error] Need file: %s/idf_%s.npy to process test data!' % (tempPath, typeStem))\n",
        "                return\n",
        "            del termBin\n",
        "            # get tfidf\n",
        "            for ind in range(D):\n",
        "                for i in range(V):\n",
        "                    features[ind][i] = tf[ind][i] * idf[i]\n",
        "            np.save(tempPath + '/tfidf_' + typeSet + typeStem + '.npy', features)\n",
        "\n",
        "    # mix features.\n",
        "    # loc? (1 or 0)\n",
        "    featloc = np.array(dataset['loc']).reshape(-1, 1)\n",
        "    features = np.hstack((features, featloc))\n",
        "    # url number.\n",
        "    featurl = np.array(dataset['url']).reshape(-1, 1)\n",
        "    features = np.hstack((features, featurl))\n",
        "    # keywd onehot (222).\n",
        "    featkeywd = np.array(dataset['keywd']).reshape(-1, 1)\n",
        "    onehot_encoder = OneHotEncoder(sparse = False)\n",
        "    featkeywd = onehot_encoder.fit_transform(featkeywd)\n",
        "    features = np.hstack((features, featkeywd))\n",
        "    # return features and labels\n",
        "    print('[Info] Get %d \\'%s\\' %sing features (dim:%d) and labels (dim:1).' % (len(features), typeFeat, typeSet.lower(), len(features[0])))\n",
        "    return features, labels"
      ],
      "execution_count": 0,
      "outputs": []
    },
    {
      "cell_type": "markdown",
      "metadata": {
        "id": "OFaaAw39eJaR",
        "colab_type": "text"
      },
      "source": [
        "# Classifiers\n"
      ]
    },
    {
      "cell_type": "markdown",
      "metadata": {
        "id": "2i3TVlIwenES",
        "colab_type": "text"
      },
      "source": [
        "### Naive Bayes Classifier"
      ]
    },
    {
      "cell_type": "markdown",
      "metadata": {
        "id": "KSIKMy6tbPl-",
        "colab_type": "text"
      },
      "source": [
        "Naive bayes classifier training process."
      ]
    },
    {
      "cell_type": "code",
      "metadata": {
        "id": "o5tllt8bbbzO",
        "colab_type": "code",
        "colab": {}
      },
      "source": [
        "def NaiveBayesTrain(featTrain, labelTrain):\n",
        "    # define the log prior.\n",
        "    def GetLogPrior(labelTrain):\n",
        "        # count the number.\n",
        "        nDoc = len(labelTrain)\n",
        "        nPos = list(labelTrain).count(1)\n",
        "        nNag = list(labelTrain).count(0)\n",
        "        # calculate the logprior.\n",
        "        priorPos = math.log(nPos / nDoc)\n",
        "        priorNag = math.log(nNag / nDoc)\n",
        "        prior = [priorNag, priorPos]\n",
        "        return prior\n",
        "\n",
        "    # define loglikelihood.\n",
        "    def GetLogLikelihood(features, labels):\n",
        "        # get V and D.\n",
        "        V = len(features[0])\n",
        "        D = len(features)\n",
        "        cls = 2\n",
        "        # initilaze likelihood matrix.\n",
        "        likelihood = np.zeros((cls, V))\n",
        "        for ind in range(D):\n",
        "            for i in range(V):\n",
        "                likelihood[labels[ind][0]][i] += features[ind][i]\n",
        "        # Laplace smoothing.\n",
        "        denom = np.zeros((cls, 1))\n",
        "        for lb in range(cls):\n",
        "            denom[lb] = sum(likelihood[lb]) + V\n",
        "            for i in range(V):\n",
        "                likelihood[lb][i] += 1\n",
        "                likelihood[lb][i] /= denom[lb]\n",
        "                likelihood[lb][i] = math.log(likelihood[lb][i])\n",
        "        return likelihood\n",
        "\n",
        "    # get the log prior.\n",
        "    prior = GetLogPrior(labelTrain)\n",
        "    # get the log likelihood\n",
        "    likelihood = GetLogLikelihood(featTrain, labelTrain)\n",
        "    print('[Info] Naive Bayes classifier training done!')\n",
        "    return prior, likelihood"
      ],
      "execution_count": 0,
      "outputs": []
    },
    {
      "cell_type": "markdown",
      "metadata": {
        "id": "FH-uoO-8fgCw",
        "colab_type": "text"
      },
      "source": [
        "Naive bayes classifier testing process."
      ]
    },
    {
      "cell_type": "code",
      "metadata": {
        "id": "C9oVKU72fp5T",
        "colab_type": "code",
        "colab": {}
      },
      "source": [
        "def NaiveBayesTest(prior, likelihood, featTest):\n",
        "    # get V and D.\n",
        "    V = len(featTest[0])\n",
        "    D = len(featTest)\n",
        "    cls = 2\n",
        "    # get pred(D, cls) matrix and predictions(D, 1).\n",
        "    pred = np.zeros((D, cls))\n",
        "    predictions = np.zeros((D, 1))\n",
        "    for ind in range(D):\n",
        "        for lb in range(cls):\n",
        "            pred[ind][lb] += prior[lb]\n",
        "            for i in range(V):\n",
        "                pred[ind][lb] += likelihood[lb][i] * featTest[ind][i]\n",
        "        predictions[ind] = list(pred[ind]).index(max(pred[ind]))\n",
        "    print('[Info] Naive Bayes classifier testing done!')\n",
        "    return predictions"
      ],
      "execution_count": 0,
      "outputs": []
    },
    {
      "cell_type": "markdown",
      "metadata": {
        "id": "RYOmvNRKgDpZ",
        "colab_type": "text"
      },
      "source": [
        "### Logistic Regression Classifier"
      ]
    },
    {
      "cell_type": "markdown",
      "metadata": {
        "id": "-rmUoSFcrSmj",
        "colab_type": "text"
      },
      "source": [
        "Logistic regression model."
      ]
    },
    {
      "cell_type": "code",
      "metadata": {
        "id": "760BZt6GrVQd",
        "colab_type": "code",
        "colab": {}
      },
      "source": [
        "class LogisticRegression(nn.Module):\n",
        "    def __init__(self, dims):\n",
        "        super(LogisticRegression, self).__init__()\n",
        "        self.L1 = nn.Linear(dims, 1)\n",
        "        self.sigmoid = nn.Sigmoid()\n",
        "\n",
        "    def forward(self, x):\n",
        "        a1 = self.sigmoid(self.L1(x))\n",
        "        return a1"
      ],
      "execution_count": 0,
      "outputs": []
    },
    {
      "cell_type": "markdown",
      "metadata": {
        "id": "3rEI_t9egNbq",
        "colab_type": "text"
      },
      "source": [
        "Logistic regression classifier training process."
      ]
    },
    {
      "cell_type": "code",
      "metadata": {
        "id": "ig7j7TPKgXaM",
        "colab_type": "code",
        "colab": {}
      },
      "source": [
        "def LogisticTrain(featTrain, labelTrain, featTest, labelTest, rate = 0.1, iternum = 10000, chknum = 100):\n",
        "    # initialize network weights with uniform distribution.\n",
        "    def weight_init(m):\n",
        "        if isinstance(m, nn.Linear):\n",
        "            nn.init.uniform_(m.weight)\n",
        "            nn.init.uniform_(m.bias)\n",
        "\n",
        "    # get vector dimension and train/test number.\n",
        "    dims = len(featTrain[0])\n",
        "    numTrain = len(featTrain)\n",
        "    numTest = len(featTest)\n",
        "\n",
        "    # shuffle the data and label.\n",
        "    index = [i for i in range(numTrain)]\n",
        "    random.shuffle(index)\n",
        "    featTrain = featTrain[index]\n",
        "    labelTrain = labelTrain[index]\n",
        "    index = [i for i in range(numTest)]\n",
        "    random.shuffle(index)\n",
        "    featTest = featTest[index]\n",
        "    labelTest = labelTest[index]\n",
        "\n",
        "    # convert data (x,y) into tensor.\n",
        "    xTrain = torch.Tensor(featTrain).cuda()\n",
        "    yTrain = torch.LongTensor(labelTrain).cuda()\n",
        "    xTest = torch.Tensor(featTest).cuda()\n",
        "    yTest = torch.LongTensor(labelTest).cuda()\n",
        "\n",
        "    # convert to mini-batch form.\n",
        "    batchsize = 256\n",
        "    train = torchdata.TensorDataset(xTrain, yTrain)\n",
        "    trainloader = torchdata.DataLoader(train, batch_size = batchsize, shuffle = False)\n",
        "    test = torchdata.TensorDataset(xTest, yTest)\n",
        "    testloader = torchdata.DataLoader(test, batch_size = batchsize, shuffle = False)\n",
        "\n",
        "    # build the model of feed forward neural network.\n",
        "    print('[Para] Learning Rate = %.2f, Iteration Number = %d.' % (rate, iternum))\n",
        "    model = LogisticRegression(dims)\n",
        "    device = torch.device(\"cuda:0\" if torch.cuda.is_available() else \"cpu\")\n",
        "    model.apply(weight_init)\n",
        "    model.to(device)\n",
        "    # optimizing with stochastic gradient descent.\n",
        "    optimizer = optim.SGD(model.parameters(), lr = rate)\n",
        "    # seting loss function as mean squared error.\n",
        "    criterion = nn.MSELoss()\n",
        "\n",
        "    # run on each epoch.\n",
        "    accList = [0]\n",
        "    for epoch in range(iternum):\n",
        "        # training phase.\n",
        "        model.train()\n",
        "        lossTrain = 0\n",
        "        accTrain = 0\n",
        "        for iter, (data, label) in enumerate(trainloader):\n",
        "            data = data.to(device)\n",
        "            label = label.to(device)\n",
        "            optimizer.zero_grad()  # set the gradients to zero.\n",
        "            yhat = model.forward(data)  # get output\n",
        "            loss = criterion(label.float(), yhat)\n",
        "            loss.backward()\n",
        "            optimizer.step()\n",
        "            # statistic\n",
        "            lossTrain += loss.item()\n",
        "            preds = (yhat > 0.5).long()\n",
        "            accTrain += torch.sum(torch.eq(preds, label).long()).item()\n",
        "        lossTrain /= (iter + 1)\n",
        "        accTrain *= 100 / numTrain\n",
        "\n",
        "        # testing phase.\n",
        "        model.eval()\n",
        "        accTest = 0\n",
        "        with torch.no_grad():\n",
        "            for iter, (data, label) in enumerate(testloader):\n",
        "                data = data.to(device)\n",
        "                label = label.to(device)\n",
        "                yhat = model.forward(data)  # get output\n",
        "                # statistic\n",
        "                preds = (yhat > 0.5).long()\n",
        "                accTest += torch.sum(torch.eq(preds, label).long()).item()\n",
        "        accTest *= 100 / numTest\n",
        "        accList.append(accTest)\n",
        "\n",
        "        # output information.\n",
        "        if 0 == (epoch + 1) % chknum:\n",
        "            print('[Epoch %03d] Loss: %.3f, TrainAcc: %.3f%%, TestAcc: %.3f%%' % (epoch + 1, lossTrain, accTrain, accTest))\n",
        "        # save the best model.\n",
        "        if accList[-1] > max(accList[0:-1]):\n",
        "            torch.save(model.state_dict(), tempPath + '/model_logistic.pth')\n",
        "        # stop judgement.\n",
        "        if (epoch + 1) >= chknum and accList[-1] < min(accList[-chknum:-1]):\n",
        "            break\n",
        "\n",
        "    # load best model.\n",
        "    model.load_state_dict(torch.load(tempPath + '/model_logistic.pth'))\n",
        "    print('[Info] Logistic Regression classifier training done!')\n",
        "    return model"
      ],
      "execution_count": 0,
      "outputs": []
    },
    {
      "cell_type": "markdown",
      "metadata": {
        "id": "BcNF_E0ygd7k",
        "colab_type": "text"
      },
      "source": [
        "Logistic regression classifier testing process."
      ]
    },
    {
      "cell_type": "code",
      "metadata": {
        "id": "OT1C_J7dgkWH",
        "colab_type": "code",
        "colab": {}
      },
      "source": [
        "def LogisticTest(model, featTest):\n",
        "    D = len(featTest)\n",
        "    x = torch.Tensor(featTest).cuda()\n",
        "    yhat = model.forward(x)\n",
        "    predictions = np.zeros((D, 1))\n",
        "    for ind in range(D):\n",
        "        if yhat[ind] > 0.5:\n",
        "            predictions[ind][0] = 1\n",
        "    print('[Info] Logistic Regression classifier testing done!')\n",
        "    return predictions"
      ],
      "execution_count": 0,
      "outputs": []
    },
    {
      "cell_type": "markdown",
      "metadata": {
        "id": "zjdPPNFzryaZ",
        "colab_type": "text"
      },
      "source": [
        "### Feed Forward Neural Network"
      ]
    },
    {
      "cell_type": "markdown",
      "metadata": {
        "id": "1LlIO-XMsALa",
        "colab_type": "text"
      },
      "source": [
        "Feed Forward Neural Network model."
      ]
    },
    {
      "cell_type": "code",
      "metadata": {
        "id": "MYSUKZMGsFu1",
        "colab_type": "code",
        "colab": {}
      },
      "source": [
        "class FeedForwardNeuralNetwork(nn.Module):\n",
        "    def __init__(self, dims):\n",
        "        super(FeedForwardNeuralNetwork, self).__init__()\n",
        "        self.L1 = nn.Linear(dims, 20)\n",
        "        self.L2 = nn.Linear(20, 1)\n",
        "        self.sigmoid = nn.Sigmoid()\n",
        "\n",
        "    def forward(self, x):\n",
        "        a1 = self.sigmoid(self.L1(x))\n",
        "        a2 = self.sigmoid(self.L2(a1))\n",
        "        return a2"
      ],
      "execution_count": 0,
      "outputs": []
    },
    {
      "cell_type": "markdown",
      "metadata": {
        "id": "Vq3B2wA8sJcw",
        "colab_type": "text"
      },
      "source": [
        "FFNN training phase."
      ]
    },
    {
      "cell_type": "code",
      "metadata": {
        "id": "IigCxbMcsPyY",
        "colab_type": "code",
        "colab": {}
      },
      "source": [
        "def FFNNTrain(featTrain, labelTrain, featTest, labelTest, rate = 0.5, iternum = 10000, chknum = 100):\n",
        "    # initialize network weights with uniform distribution.\n",
        "    def weight_init(m):\n",
        "        if isinstance(m, nn.Linear):\n",
        "            nn.init.uniform_(m.weight)\n",
        "            nn.init.uniform_(m.bias)\n",
        "\n",
        "    # get vector dimension and train/test number.\n",
        "    dims = len(featTrain[0])\n",
        "    numTrain = len(featTrain)\n",
        "    numTest = len(featTest)\n",
        "\n",
        "    # shuffle the data and label.\n",
        "    index = [i for i in range(numTrain)]\n",
        "    random.shuffle(index)\n",
        "    featTrain = featTrain[index]\n",
        "    labelTrain = labelTrain[index]\n",
        "    index = [i for i in range(numTest)]\n",
        "    random.shuffle(index)\n",
        "    featTest = featTest[index]\n",
        "    labelTest = labelTest[index]\n",
        "\n",
        "    # convert data (x,y) into tensor.\n",
        "    xTrain = torch.Tensor(featTrain).cuda()\n",
        "    yTrain = torch.LongTensor(labelTrain).cuda()\n",
        "    xTest = torch.Tensor(featTest).cuda()\n",
        "    yTest = torch.LongTensor(labelTest).cuda()\n",
        "\n",
        "    # convert to mini-batch form.\n",
        "    batchsize = 256\n",
        "    train = torchdata.TensorDataset(xTrain, yTrain)\n",
        "    trainloader = torchdata.DataLoader(train, batch_size = batchsize, shuffle = False)\n",
        "    test = torchdata.TensorDataset(xTest, yTest)\n",
        "    testloader = torchdata.DataLoader(test, batch_size = batchsize, shuffle = False)\n",
        "\n",
        "    # build the model of feed forward neural network.\n",
        "    print('[Para] Learning Rate = %.2f, Iteration Number = %d.' % (rate, iternum))\n",
        "    model = FeedForwardNeuralNetwork(dims)\n",
        "    device = torch.device(\"cuda:0\" if torch.cuda.is_available() else \"cpu\")\n",
        "    model.apply(weight_init)\n",
        "    model.to(device)\n",
        "    # optimizing with stochastic gradient descent.\n",
        "    optimizer = optim.SGD(model.parameters(), lr = rate)\n",
        "    # seting loss function as mean squared error.\n",
        "    criterion = nn.MSELoss()\n",
        "\n",
        "    # run on each epoch.\n",
        "    accList = [0]\n",
        "    for epoch in range(iternum):\n",
        "        # training phase.\n",
        "        model.train()\n",
        "        lossTrain = 0\n",
        "        accTrain = 0\n",
        "        for iter, (data, label) in enumerate(trainloader):\n",
        "            data = data.to(device)\n",
        "            label = label.to(device)\n",
        "            optimizer.zero_grad()  # set the gradients to zero.\n",
        "            yhat = model.forward(data)  # get output\n",
        "            loss = criterion(label.float(), yhat)\n",
        "            loss.backward()\n",
        "            optimizer.step()\n",
        "            # statistic\n",
        "            lossTrain += loss.item()\n",
        "            preds = (yhat > 0.5).long()\n",
        "            accTrain += torch.sum(torch.eq(preds, label).long()).item()\n",
        "        lossTrain /= (iter + 1)\n",
        "        accTrain *= 100 / numTrain\n",
        "\n",
        "        # testing phase.\n",
        "        model.eval()\n",
        "        accTest = 0\n",
        "        with torch.no_grad():\n",
        "            for iter, (data, label) in enumerate(testloader):\n",
        "                data = data.to(device)\n",
        "                label = label.to(device)\n",
        "                yhat = model.forward(data)  # get output\n",
        "                # statistic\n",
        "                preds = (yhat > 0.5).long()\n",
        "                accTest += torch.sum(torch.eq(preds, label).long()).item()\n",
        "        accTest *= 100 / numTest\n",
        "        accList.append(accTest)\n",
        "\n",
        "        # output information.\n",
        "        if 0 == (epoch + 1) % chknum:\n",
        "            print('[Epoch %03d] Loss: %.3f, TrainAcc: %.3f%%, TestAcc: %.3f%%' % (epoch + 1, lossTrain, accTrain, accTest))\n",
        "        # save the best model.\n",
        "        if accList[-1] > max(accList[0:-1]):\n",
        "            torch.save(model.state_dict(), tempPath + '/model_FFNN.pth')\n",
        "        # stop judgement.\n",
        "        if (epoch + 1) >= chknum and accList[-1] < min(accList[-chknum:-1]):\n",
        "            break\n",
        "\n",
        "    # load best model.\n",
        "    model.load_state_dict(torch.load(tempPath + '/model_FFNN.pth'))\n",
        "    print('[Info] Feed Forward Neural Network classifier training done!')\n",
        "    return model"
      ],
      "execution_count": 0,
      "outputs": []
    },
    {
      "cell_type": "markdown",
      "metadata": {
        "id": "2oh8lisIsWgX",
        "colab_type": "text"
      },
      "source": [
        "FFNN test phase."
      ]
    },
    {
      "cell_type": "code",
      "metadata": {
        "id": "F1s1lWUPsdWp",
        "colab_type": "code",
        "colab": {}
      },
      "source": [
        "def FFNNTest(model, featTest):\n",
        "    D = len(featTest)\n",
        "    x = torch.Tensor(featTest).cuda()\n",
        "    yhat = model.forward(x)\n",
        "    predictions = np.zeros((D, 1))\n",
        "    for ind in range(D):\n",
        "        if yhat[ind] > 0.5:\n",
        "            predictions[ind][0] = 1\n",
        "    print('[Info] Feed Forward Neural Network classifier testing done!')\n",
        "    return predictions"
      ],
      "execution_count": 0,
      "outputs": []
    },
    {
      "cell_type": "markdown",
      "metadata": {
        "id": "Qfju-e3Qe_xR",
        "colab_type": "text"
      },
      "source": [
        "# Evaluation"
      ]
    },
    {
      "cell_type": "markdown",
      "metadata": {
        "id": "tF4Lo48bfGgr",
        "colab_type": "text"
      },
      "source": [
        "Evaluate and output the experimental results."
      ]
    },
    {
      "cell_type": "code",
      "metadata": {
        "id": "y0Y1QGF5fMKX",
        "colab_type": "code",
        "colab": {}
      },
      "source": [
        "def OutputEval(predictions, labels, typeStem, typeFeat, method):\n",
        "    # evaluate the predictions with gold labels, and get accuracy and confusion matrix.\n",
        "    def Evaluation(predictions, labels):\n",
        "        D = len(labels)\n",
        "        cls = 2\n",
        "        # get confusion matrix.\n",
        "        confusion = np.zeros((cls, cls))\n",
        "        for ind in range(D):\n",
        "            nRow = int(predictions[ind][0])\n",
        "            nCol = int(labels[ind][0])\n",
        "            confusion[nRow][nCol] += 1\n",
        "        # get accuracy.\n",
        "        accuracy = 0\n",
        "        for ind in range(cls):\n",
        "            accuracy += confusion[ind][ind]\n",
        "        accuracy /= D\n",
        "        return accuracy, confusion\n",
        "\n",
        "    # get accuracy and confusion matrix.\n",
        "    accuracy, confusion = Evaluation(predictions, labels)\n",
        "    # output on screen and to file.\n",
        "    print('       -------------------------------------------')\n",
        "    print('       ' + typeStem + ' | ' + typeFeat + ' | ' + method)\n",
        "    print('       accuracy : %.2f%%' % (accuracy * 100))\n",
        "    print('       confusion matrix :      (actual)')\n",
        "    print('                           Neg         Pos')\n",
        "    print('       (predicted) Neg     %-4d(TN)    %-4d(FN)' % (confusion[0][0], confusion[0][1]))\n",
        "    print('                   Pos     %-4d(FP)    %-4d(TP)' % (confusion[1][0], confusion[1][1]))\n",
        "    print('       -------------------------------------------')\n",
        "    return accuracy, confusion"
      ],
      "execution_count": 0,
      "outputs": []
    },
    {
      "cell_type": "markdown",
      "metadata": {
        "id": "o2ETtiume0Jx",
        "colab_type": "text"
      },
      "source": [
        "# Main Entrance."
      ]
    },
    {
      "cell_type": "markdown",
      "metadata": {
        "id": "bar8Vf_M8GVN",
        "colab_type": "text"
      },
      "source": [
        "Specify the details for different setting."
      ]
    },
    {
      "cell_type": "code",
      "metadata": {
        "id": "IrhX0uhB8CK3",
        "colab_type": "code",
        "colab": {}
      },
      "source": [
        "def demo(dataTrain, dataTest, dList, typeStem, typeFeat, method):\n",
        "    # input validation.\n",
        "    if typeStem not in ['NoStem', 'Stem']:\n",
        "        print('[Error] Stemming setting invalid!')\n",
        "        return\n",
        "    if typeFeat not in ['Frequency', 'Binary', 'TFIDF']:\n",
        "        print('[Error] Feature setting invalid!')\n",
        "        return\n",
        "    if method not in ['NaiveBayes', 'Logistic', 'FFNN']:\n",
        "        print('[Error] Classifier setting invalid!')\n",
        "        return\n",
        "    print('[Demo] ------ Data: %s | Feature: %s | Classifier: %s ------' % (typeStem, typeFeat, method))\n",
        "    # extract training features and labels.\n",
        "    featTrain, labelTrain = ExtractFeatures(dataTrain, dList, 'Train', typeStem, typeFeat)\n",
        "    # extract testing features and labels.\n",
        "    featTest, labelTest = ExtractFeatures(dataTest, dList, 'Test', typeStem, typeFeat)\n",
        "    # train and test the model.\n",
        "    if 'NaiveBayes' == method:\n",
        "        prior, likelihood = NaiveBayesTrain(featTrain, labelTrain)\n",
        "        predTest = NaiveBayesTest(prior, likelihood, featTest)\n",
        "    elif 'Logistic' == method:\n",
        "        model = LogisticTrain(featTrain, labelTrain, featTest, labelTest, rate=0.1)\n",
        "        predTest = LogisticTest(model, featTest)\n",
        "    elif 'FFNN' == method:\n",
        "        model = FFNNTrain(featTrain, labelTrain, featTest, labelTest, rate=0.5)\n",
        "        predTest = FFNNTest(model, featTest)\n",
        "    # evaluate.\n",
        "    accuracy, confusion = OutputEval(predTest, labelTest, typeStem, typeFeat, method)\n",
        "    return"
      ],
      "execution_count": 0,
      "outputs": []
    },
    {
      "cell_type": "markdown",
      "metadata": {
        "id": "GSXiVgILYa9q",
        "colab_type": "text"
      },
      "source": [
        "The main function and the entrance."
      ]
    },
    {
      "cell_type": "code",
      "metadata": {
        "id": "GnGE_FPdWH46",
        "colab_type": "code",
        "outputId": "2287662f-35b2-488f-d35a-608cc5bddae9",
        "colab": {
          "base_uri": "https://localhost:8080/",
          "height": 1000
        }
      },
      "source": [
        "def main():\n",
        "    # info.\n",
        "    print(\"-- AIT726 Project from Julia Jeng, Shu Wang, and Arman Anwar --\")\n",
        "    # load training and testing data.\n",
        "    dataTrain, dataTest = ReadCsvData()\n",
        "    # get keywords and vocabulary from training data.\n",
        "    dList = CreateVocabulary(dataTrain, dataTest)\n",
        "    # demo NaiveBayes\n",
        "    #demo(dataTrain, dataTest, dList, 'NoStem', 'Frequency', 'NaiveBayes')\n",
        "    #demo(dataTrain, dataTest, dList, 'NoStem', 'Binary', 'NaiveBayes')\n",
        "    #demo(dataTrain, dataTest, dList, 'NoStem', 'TFIDF', 'NaiveBayes')\n",
        "    #demo(dataTrain, dataTest, dList, 'Stem', 'Frequency', 'NaiveBayes')\n",
        "    #demo(dataTrain, dataTest, dList, 'Stem', 'Binary', 'NaiveBayes')\n",
        "    #demo(dataTrain, dataTest, dList, 'Stem', 'TFIDF', 'NaiveBayes')\n",
        "    # demo Logistic\n",
        "    #demo(dataTrain, dataTest, dList, 'NoStem', 'Frequency', 'Logistic')\n",
        "    #demo(dataTrain, dataTest, dList, 'NoStem', 'Binary', 'Logistic')\n",
        "    #demo(dataTrain, dataTest, dList, 'NoStem', 'TFIDF', 'Logistic')\n",
        "    #demo(dataTrain, dataTest, dList, 'Stem', 'Frequency', 'Logistic')\n",
        "    #demo(dataTrain, dataTest, dList, 'Stem', 'Binary', 'Logistic')\n",
        "    #demo(dataTrain, dataTest, dList, 'Stem', 'TFIDF', 'Logistic')\n",
        "    # demo FFNN\n",
        "    demo(dataTrain, dataTest, dList, 'NoStem', 'Frequency', 'FFNN')\n",
        "    demo(dataTrain, dataTest, dList, 'NoStem', 'Binary', 'FFNN')\n",
        "    demo(dataTrain, dataTest, dList, 'NoStem', 'TFIDF', 'FFNN')\n",
        "    demo(dataTrain, dataTest, dList, 'Stem', 'Frequency', 'FFNN')\n",
        "    demo(dataTrain, dataTest, dList, 'Stem', 'Binary', 'FFNN')\n",
        "    demo(dataTrain, dataTest, dList, 'Stem', 'TFIDF', 'FFNN')\n",
        "    return\n",
        "\n",
        "if __name__ == \"__main__\":\n",
        "    main()"
      ],
      "execution_count": 16,
      "outputs": [
        {
          "output_type": "stream",
          "text": [
            "-- AIT726 Project from Julia Jeng, Shu Wang, and Arman Anwar --\n",
            "[Info] Load 7613 training samples from ./drive/My Drive/Colab Notebooks//data//train.csv.\n",
            "[Info] Load 3263 testing samples from ./drive/My Drive/Colab Notebooks//data//test_labeled.csv.\n",
            "[Info] Load text list (noStem/Stem) of train/test set from ./drive/My Drive/Colab Notebooks//temp//list.npz.\n",
            "[Demo] ------ Data: NoStem | Feature: Frequency | Classifier: FFNN ------\n",
            "[Info] Load 15769 'NoStem' vocabulary words.\n",
            "[Info] Get 7613 'Frequency' training features (dim:15993) and labels (dim:1).\n",
            "[Info] Load 15769 'NoStem' vocabulary words.\n",
            "[Info] Get 3263 'Frequency' testing features (dim:15993) and labels (dim:1).\n",
            "[Para] Learning Rate = 0.50, Iteration Number = 10000.\n",
            "[Epoch 200] Loss: 0.235, TrainAcc: 57.573%, TestAcc: 57.033%\n",
            "[Epoch 400] Loss: 0.160, TrainAcc: 78.392%, TestAcc: 73.950%\n",
            "[Epoch 600] Loss: 0.108, TrainAcc: 87.955%, TestAcc: 77.475%\n",
            "[Epoch 800] Loss: 0.077, TrainAcc: 91.515%, TestAcc: 78.149%\n",
            "[Epoch 1000] Loss: 0.059, TrainAcc: 93.629%, TestAcc: 78.425%\n",
            "[Info] Feed Forward Neural Network classifier training done!\n",
            "[Info] Feed Forward Neural Network classifier testing done!\n",
            "       -------------------------------------------\n",
            "       NoStem | Frequency | FFNN\n",
            "       accuracy : 78.49%\n",
            "       confusion matrix :      (actual)\n",
            "                           Neg         Pos\n",
            "       (predicted) Neg     1647(TN)    488 (FN)\n",
            "                   Pos     214 (FP)    914 (TP)\n",
            "       -------------------------------------------\n",
            "[Demo] ------ Data: NoStem | Feature: Binary | Classifier: FFNN ------\n",
            "[Info] Load 15769 'NoStem' vocabulary words.\n",
            "[Info] Get 7613 'Binary' training features (dim:15993) and labels (dim:1).\n",
            "[Info] Load 15769 'NoStem' vocabulary words.\n",
            "[Info] Get 3263 'Binary' testing features (dim:15993) and labels (dim:1).\n",
            "[Para] Learning Rate = 0.50, Iteration Number = 10000.\n",
            "[Epoch 200] Loss: 0.571, TrainAcc: 42.966%, TestAcc: 42.967%\n",
            "[Epoch 400] Loss: 0.571, TrainAcc: 42.966%, TestAcc: 42.967%\n",
            "[Epoch 600] Loss: 0.246, TrainAcc: 55.865%, TestAcc: 57.033%\n",
            "[Epoch 800] Loss: 0.196, TrainAcc: 70.550%, TestAcc: 69.078%\n",
            "[Epoch 1000] Loss: 0.106, TrainAcc: 87.101%, TestAcc: 77.628%\n",
            "[Epoch 1200] Loss: 0.067, TrainAcc: 92.710%, TestAcc: 78.302%\n",
            "[Info] Feed Forward Neural Network classifier training done!\n",
            "[Info] Feed Forward Neural Network classifier testing done!\n",
            "       -------------------------------------------\n",
            "       NoStem | Binary | FFNN\n",
            "       accuracy : 78.42%\n",
            "       confusion matrix :      (actual)\n",
            "                           Neg         Pos\n",
            "       (predicted) Neg     1652(TN)    495 (FN)\n",
            "                   Pos     209 (FP)    907 (TP)\n",
            "       -------------------------------------------\n",
            "[Demo] ------ Data: NoStem | Feature: TFIDF | Classifier: FFNN ------\n",
            "[Info] Load 15769 'NoStem' vocabulary words.\n",
            "[Info] Get 7613 'TFIDF' training features (dim:15993) and labels (dim:1).\n",
            "[Info] Load 15769 'NoStem' vocabulary words.\n",
            "[Info] Get 3263 'TFIDF' testing features (dim:15993) and labels (dim:1).\n",
            "[Para] Learning Rate = 0.50, Iteration Number = 10000.\n",
            "[Epoch 200] Loss: 0.247, TrainAcc: 57.021%, TestAcc: 56.972%\n",
            "[Epoch 400] Loss: 0.246, TrainAcc: 57.047%, TestAcc: 57.003%\n",
            "[Epoch 600] Loss: 0.244, TrainAcc: 56.535%, TestAcc: 57.033%\n",
            "[Epoch 800] Loss: 0.239, TrainAcc: 56.141%, TestAcc: 57.095%\n",
            "[Info] Feed Forward Neural Network classifier training done!\n",
            "[Info] Feed Forward Neural Network classifier testing done!\n",
            "       -------------------------------------------\n",
            "       NoStem | TFIDF | FFNN\n",
            "       accuracy : 57.55%\n",
            "       confusion matrix :      (actual)\n",
            "                           Neg         Pos\n",
            "       (predicted) Neg     1827(TN)    1351(FN)\n",
            "                   Pos     34  (FP)    51  (TP)\n",
            "       -------------------------------------------\n",
            "[Demo] ------ Data: Stem | Feature: Frequency | Classifier: FFNN ------\n",
            "[Info] Load 11811 'Stem' vocabulary words.\n",
            "[Info] Get 7613 'Frequency' training features (dim:12035) and labels (dim:1).\n",
            "[Info] Load 11811 'Stem' vocabulary words.\n",
            "[Info] Get 3263 'Frequency' testing features (dim:12035) and labels (dim:1).\n",
            "[Para] Learning Rate = 0.50, Iteration Number = 10000.\n",
            "[Epoch 200] Loss: 0.236, TrainAcc: 57.087%, TestAcc: 57.033%\n",
            "[Epoch 400] Loss: 0.145, TrainAcc: 81.006%, TestAcc: 75.544%\n",
            "[Epoch 600] Loss: 0.098, TrainAcc: 88.979%, TestAcc: 77.138%\n",
            "[Epoch 800] Loss: 0.071, TrainAcc: 92.434%, TestAcc: 77.567%\n",
            "[Info] Feed Forward Neural Network classifier training done!\n",
            "[Info] Feed Forward Neural Network classifier testing done!\n",
            "       -------------------------------------------\n",
            "       Stem | Frequency | FFNN\n",
            "       accuracy : 77.75%\n",
            "       confusion matrix :      (actual)\n",
            "                           Neg         Pos\n",
            "       (predicted) Neg     1628(TN)    493 (FN)\n",
            "                   Pos     233 (FP)    909 (TP)\n",
            "       -------------------------------------------\n",
            "[Demo] ------ Data: Stem | Feature: Binary | Classifier: FFNN ------\n",
            "[Info] Load 11811 'Stem' vocabulary words.\n",
            "[Info] Get 7613 'Binary' training features (dim:12035) and labels (dim:1).\n",
            "[Info] Load 11811 'Stem' vocabulary words.\n",
            "[Info] Get 3263 'Binary' testing features (dim:12035) and labels (dim:1).\n",
            "[Para] Learning Rate = 0.50, Iteration Number = 10000.\n",
            "[Epoch 200] Loss: 0.570, TrainAcc: 42.966%, TestAcc: 42.967%\n",
            "[Epoch 400] Loss: 0.242, TrainAcc: 56.863%, TestAcc: 54.091%\n",
            "[Epoch 600] Loss: 0.166, TrainAcc: 77.026%, TestAcc: 73.828%\n",
            "[Epoch 800] Loss: 0.110, TrainAcc: 87.390%, TestAcc: 76.892%\n",
            "[Epoch 1000] Loss: 0.082, TrainAcc: 91.199%, TestAcc: 77.505%\n",
            "[Info] Feed Forward Neural Network classifier training done!\n",
            "[Info] Feed Forward Neural Network classifier testing done!\n",
            "       -------------------------------------------\n",
            "       Stem | Binary | FFNN\n",
            "       accuracy : 77.78%\n",
            "       confusion matrix :      (actual)\n",
            "                           Neg         Pos\n",
            "       (predicted) Neg     1629(TN)    493 (FN)\n",
            "                   Pos     232 (FP)    909 (TP)\n",
            "       -------------------------------------------\n",
            "[Demo] ------ Data: Stem | Feature: TFIDF | Classifier: FFNN ------\n",
            "[Info] Load 11811 'Stem' vocabulary words.\n",
            "[Info] Get 7613 'TFIDF' training features (dim:12035) and labels (dim:1).\n",
            "[Info] Load 11811 'Stem' vocabulary words.\n",
            "[Info] Get 3263 'TFIDF' testing features (dim:12035) and labels (dim:1).\n",
            "[Para] Learning Rate = 0.50, Iteration Number = 10000.\n",
            "[Epoch 200] Loss: 0.247, TrainAcc: 55.418%, TestAcc: 43.150%\n",
            "[Epoch 400] Loss: 0.246, TrainAcc: 55.445%, TestAcc: 43.641%\n",
            "[Epoch 600] Loss: 0.245, TrainAcc: 55.484%, TestAcc: 45.204%\n",
            "[Epoch 800] Loss: 0.235, TrainAcc: 56.128%, TestAcc: 52.007%\n",
            "[Epoch 1000] Loss: 0.210, TrainAcc: 61.342%, TestAcc: 59.792%\n",
            "[Epoch 1200] Loss: 0.176, TrainAcc: 71.785%, TestAcc: 66.473%\n",
            "[Epoch 1400] Loss: 0.146, TrainAcc: 79.719%, TestAcc: 70.058%\n",
            "[Epoch 1600] Loss: 0.128, TrainAcc: 83.121%, TestAcc: 71.591%\n",
            "[Epoch 1800] Loss: 0.116, TrainAcc: 85.065%, TestAcc: 72.234%\n",
            "[Epoch 2000] Loss: 0.109, TrainAcc: 86.195%, TestAcc: 72.479%\n",
            "[Epoch 2200] Loss: 0.103, TrainAcc: 87.127%, TestAcc: 72.602%\n",
            "[Epoch 2400] Loss: 0.099, TrainAcc: 87.692%, TestAcc: 72.724%\n",
            "[Info] Feed Forward Neural Network classifier training done!\n",
            "[Info] Feed Forward Neural Network classifier testing done!\n",
            "       -------------------------------------------\n",
            "       Stem | TFIDF | FFNN\n",
            "       accuracy : 72.88%\n",
            "       confusion matrix :      (actual)\n",
            "                           Neg         Pos\n",
            "       (predicted) Neg     1313(TN)    337 (FN)\n",
            "                   Pos     548 (FP)    1065(TP)\n",
            "       -------------------------------------------\n"
          ],
          "name": "stdout"
        }
      ]
    }
  ]
}