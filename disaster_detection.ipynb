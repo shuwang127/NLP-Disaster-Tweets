{
  "nbformat": 4,
  "nbformat_minor": 0,
  "metadata": {
    "colab": {
      "name": "disaster_detection.ipynb",
      "provenance": [],
      "toc_visible": true,
      "machine_shape": "hm",
      "mount_file_id": "https://github.com/shuwang127/NLP-Disaster-Tweets/blob/master/disaster_detection.ipynb",
      "authorship_tag": "ABX9TyMsDQjygTAMcw4SitDpUF49",
      "include_colab_link": true
    },
    "kernelspec": {
      "name": "python3",
      "display_name": "Python 3"
    },
    "accelerator": "GPU"
  },
  "cells": [
    {
      "cell_type": "markdown",
      "metadata": {
        "id": "view-in-github",
        "colab_type": "text"
      },
      "source": [
        "<a href=\"https://colab.research.google.com/github/shuwang127/NLP-Disaster-Tweets/blob/master/disaster_detection.ipynb\" target=\"_parent\"><img src=\"https://colab.research.google.com/assets/colab-badge.svg\" alt=\"Open In Colab\"/></a>"
      ]
    },
    {
      "cell_type": "markdown",
      "metadata": {
        "id": "SQ1yZRJWch7C",
        "colab_type": "text"
      },
      "source": [
        "# Preliminary"
      ]
    },
    {
      "cell_type": "markdown",
      "metadata": {
        "id": "hn47Mkh-VZGs",
        "colab_type": "text"
      },
      "source": [
        "Set the root path for the current program file, as well as the data path and temporary file path."
      ]
    },
    {
      "cell_type": "code",
      "metadata": {
        "id": "NxX4qtvJ--Em",
        "colab_type": "code",
        "colab": {}
      },
      "source": [
        "rootPath = './drive/My Drive/Colab Notebooks/'\n",
        "dataPath = rootPath + '/data/'\n",
        "tempPath = rootPath + '/temp/'"
      ],
      "execution_count": 0,
      "outputs": []
    },
    {
      "cell_type": "markdown",
      "metadata": {
        "id": "eQCMRmJoVyDv",
        "colab_type": "text"
      },
      "source": [
        "Import python libraies."
      ]
    },
    {
      "cell_type": "code",
      "metadata": {
        "id": "f98rK62OEaaN",
        "colab_type": "code",
        "outputId": "35b9a2a2-06bc-4bb1-fa7b-9064daf49eef",
        "colab": {
          "base_uri": "https://localhost:8080/",
          "height": 0
        }
      },
      "source": [
        "import os\n",
        "import re\n",
        "import gc\n",
        "import random\n",
        "import math\n",
        "import nltk\n",
        "import pandas as pd\n",
        "import numpy as np\n",
        "from nltk.corpus import stopwords\n",
        "from nltk.stem import PorterStemmer\n",
        "from nltk.tokenize import TweetTokenizer\n",
        "from nltk import word_tokenize\n",
        "from sklearn.preprocessing import OneHotEncoder\n",
        "from itertools import chain\n",
        "import torch\n",
        "import torch.nn as nn\n",
        "import torch.optim as optim\n",
        "import torch.utils.data as torchdata\n",
        "from sklearn.metrics import accuracy_score\n",
        "nltk.download('stopwords')\n",
        "nltk.download('punkt')"
      ],
      "execution_count": 26,
      "outputs": [
        {
          "output_type": "stream",
          "text": [
            "[nltk_data] Downloading package stopwords to /root/nltk_data...\n",
            "[nltk_data]   Package stopwords is already up-to-date!\n",
            "[nltk_data] Downloading package punkt to /root/nltk_data...\n",
            "[nltk_data]   Package punkt is already up-to-date!\n"
          ],
          "name": "stdout"
        },
        {
          "output_type": "execute_result",
          "data": {
            "text/plain": [
              "True"
            ]
          },
          "metadata": {
            "tags": []
          },
          "execution_count": 26
        }
      ]
    },
    {
      "cell_type": "markdown",
      "metadata": {
        "id": "W61oBEbvdO_U",
        "colab_type": "text"
      },
      "source": [
        "# Load Data"
      ]
    },
    {
      "cell_type": "markdown",
      "metadata": {
        "id": "whbmTuZ_YNLz",
        "colab_type": "text"
      },
      "source": [
        "Load data from .csv files."
      ]
    },
    {
      "cell_type": "code",
      "metadata": {
        "id": "Bqy-c5TaXR5x",
        "colab_type": "code",
        "colab": {}
      },
      "source": [
        "def ReadCsvData():\n",
        "    # validate temp path\n",
        "    if not os.path.exists(tempPath):\n",
        "        os.mkdir(tempPath)\n",
        "    # read data from train.csv.\n",
        "    dataTrain = pd.read_csv(dataPath + 'train.csv')\n",
        "    print('[Info] Load %d training samples from %s/train.csv.' % (len(dataTrain), dataPath))\n",
        "    # read data from test.csv.\n",
        "    dataTest = pd.read_csv(dataPath + 'test_labeled.csv')\n",
        "    print('[Info] Load %d testing samples from %s/test_labeled.csv.' % (len(dataTest), dataPath))\n",
        "    # return\n",
        "    return dataTrain, dataTest"
      ],
      "execution_count": 0,
      "outputs": []
    },
    {
      "cell_type": "markdown",
      "metadata": {
        "id": "HNQ8XurQ1xzo",
        "colab_type": "text"
      },
      "source": [
        "Get keywords and vocabulary from training data."
      ]
    },
    {
      "cell_type": "code",
      "metadata": {
        "id": "ZVx8RAYH12tI",
        "colab_type": "code",
        "colab": {}
      },
      "source": [
        "def CreateVocabulary(dataTrain, dataTest):\n",
        "    # pre-process the data.\n",
        "    def Preprocess(data):\n",
        "        # remove url\n",
        "        pattern = r'http[s]?://(?:[a-zA-Z]|[0-9]|[$-_@.&+]|[!*\\(\\),]|(?:%[0-9a-fA-F][0-9a-fA-F]))+'\n",
        "        data = re.sub(pattern, '', data)\n",
        "        # remove html special characters.\n",
        "        pattern = r'&[(amp)(gt)(lt)]+;'\n",
        "        data = re.sub(pattern, '', data)\n",
        "        # remove independent numbers.\n",
        "        pattern = r' \\d+ '\n",
        "        data = re.sub(pattern, ' ', data)\n",
        "        # lower case capitalized words.\n",
        "        pattern = r'([A-Z][a-z]+)'\n",
        "        def LowerFunc(matched):\n",
        "            return matched.group(1).lower()\n",
        "        data = re.sub(pattern, LowerFunc, data)\n",
        "        # remove hashtags.\n",
        "        pattern = r'[@#]([A-Za-z]+)'\n",
        "        data = re.sub(pattern, '', data)\n",
        "        return data\n",
        "\n",
        "    # remove stop words.\n",
        "    def RemoveStop(data):\n",
        "        dataList = data.split()\n",
        "        for item in dataList:\n",
        "            if item.lower() in stopwords.words('english'):\n",
        "                dataList.remove(item)\n",
        "        dataNew = \" \".join(dataList)\n",
        "        return dataNew\n",
        "\n",
        "    # get tokens.\n",
        "    def GetTokens(data):\n",
        "        # use tweet tokenizer.\n",
        "        tknzr = TweetTokenizer()\n",
        "        tokens = tknzr.tokenize(data)\n",
        "        tokensNew = []\n",
        "        # tokenize at each punctuation.\n",
        "        pattern = r'[A-Za-z]+\\'[A-Za-z]+'\n",
        "        for tk in tokens:\n",
        "            if re.match(pattern, tk):\n",
        "                subtokens = word_tokenize(tk)\n",
        "                tokensNew = tokensNew + subtokens\n",
        "            else:\n",
        "                tokensNew.append(tk)\n",
        "        return tokensNew\n",
        "\n",
        "    # process tokens with stemming.\n",
        "    def WithStem(tokens):\n",
        "        porter = PorterStemmer()\n",
        "        tokensStem = []\n",
        "        for tk in tokens:\n",
        "            tokensStem.append(porter.stem(tk))\n",
        "        return tokensStem\n",
        "\n",
        "    # keywords.\n",
        "    if os.path.exists(tempPath + 'keyword.npy'):\n",
        "        keywdList = list(np.load(tempPath + 'keyword.npy', allow_pickle=True))\n",
        "        keywdList[keywdList.index('nan')] = np.nan\n",
        "    else:\n",
        "        keywdList = list(set(list(dataTrain['keyword'])))\n",
        "        np.save(tempPath + 'keyword.npy', keywdList)\n",
        "    keywdDict = dict(zip(keywdList, range(len(keywdList))))\n",
        "    dataTrain['keywd'] = dataTrain['keyword'].apply(lambda x: keywdDict[x])\n",
        "    dataTest['keywd'] = dataTest['keyword'].apply(lambda x: keywdDict[x])\n",
        "    # exist location info?\n",
        "    def is_nan(x):\n",
        "        return (x is np.nan or x != x)\n",
        "    dataTrain['loc'] = dataTrain['location'].apply(lambda x: (0 if is_nan(x) else 1))\n",
        "    dataTest['loc'] = dataTest['location'].apply(lambda x: (0 if is_nan(x) else 1))\n",
        "    # find url number.\n",
        "    pattern = r'http[s]?://(?:[a-zA-Z]|[0-9]|[$-_@.&+]|[!*\\(\\),]|(?:%[0-9a-fA-F][0-9a-fA-F]))+'\n",
        "    dataTrain['url'] = dataTrain['text'].apply(lambda x: len(re.findall(pattern, x)))\n",
        "    dataTest['url'] = dataTest['text'].apply(lambda x: len(re.findall(pattern, x)))\n",
        "\n",
        "    # if exist list.npz, load it.\n",
        "    if os.path.exists(tempPath + 'list.npz'):\n",
        "        print('[Info] Load text list (noStem/Stem) of train/test set from %s/list.npz.' % (tempPath))\n",
        "        return np.load(tempPath + 'list.npz', allow_pickle = True)\n",
        "\n",
        "    # process train list.\n",
        "    listTrainNoStem = []\n",
        "    listTrainStem = []\n",
        "    # read the training data.\n",
        "    for i in range(len(dataTrain)):\n",
        "        # get the training data.\n",
        "        data = dataTrain['text'][i]\n",
        "        # preprocess the data.\n",
        "        data = Preprocess(data)\n",
        "        # remove stop words.\n",
        "        data = RemoveStop(data)\n",
        "        # get the tokens for the data.\n",
        "        tokens = GetTokens(data)\n",
        "        listTrainNoStem.append(tokens)\n",
        "        # get the stemmed tokens for the data.\n",
        "        tokensStem = WithStem(tokens)\n",
        "        listTrainStem.append(tokensStem)\n",
        "    # process test list.\n",
        "    listTestNoStem = []\n",
        "    listTestStem = []\n",
        "    # read the testing data.\n",
        "    for i in range(len(dataTest)):\n",
        "        # get the testing data.\n",
        "        data = dataTest['text'][i]\n",
        "        # preprocess the data.\n",
        "        data = Preprocess(data)\n",
        "        # remove stop words.\n",
        "        data = RemoveStop(data)\n",
        "        # get the tokens for the data.\n",
        "        tokens = GetTokens(data)\n",
        "        listTestNoStem.append(tokens)\n",
        "        # get the stemmed tokens for the data.\n",
        "        tokensStem = WithStem(tokens)\n",
        "        listTestStem.append(tokensStem)\n",
        "    np.savez(tempPath + 'list.npz', listTrainNoStem=listTrainNoStem, listTrainStem=listTrainStem, listTestNoStem=listTestNoStem, listTestStem=listTestStem)\n",
        "    print('[Info] Load text list (noStem/Stem) of train/test set from %s/list.npz.' % (tempPath))\n",
        "    return np.load(tempPath + 'list.npz', allow_pickle = True)"
      ],
      "execution_count": 0,
      "outputs": []
    },
    {
      "cell_type": "markdown",
      "metadata": {
        "id": "bxanvMsLd2p-",
        "colab_type": "text"
      },
      "source": [
        "# Feature Extraction"
      ]
    },
    {
      "cell_type": "markdown",
      "metadata": {
        "id": "trknAeZwawS4",
        "colab_type": "text"
      },
      "source": [
        "Extract features from the data."
      ]
    },
    {
      "cell_type": "code",
      "metadata": {
        "id": "ePerXVX1a4PR",
        "colab_type": "code",
        "colab": {}
      },
      "source": [
        "def ExtractFeatures(dataset, dList, typeSet, typeStem, typeFeat):\n",
        "    # input validation.\n",
        "    if typeSet not in ['Train', 'Test']:\n",
        "        print('[Error] Dataset setting invalid!')\n",
        "        return\n",
        "    # sparse the corresponding dataset.\n",
        "    data = dList['list' + typeSet + typeStem]\n",
        "    D = len(data)\n",
        "    # build the vocabulary from training set.\n",
        "    if os.path.exists(tempPath + '/vocab_' + typeStem + '.npy'):\n",
        "        vocab = np.load(tempPath + '/vocab_' + typeStem + '.npy')\n",
        "    else:\n",
        "        vocab = list(set(list(chain.from_iterable(dList['listTrain' + typeStem]))))\n",
        "        np.save(tempPath + '/vocab_' + typeStem + '.npy', vocab)\n",
        "    V = len(vocab)\n",
        "    vocabDict = dict(zip(vocab, range(V)))\n",
        "    print('[Info] Load %d \\'%s\\' vocabulary words.' % (V, typeStem))\n",
        "\n",
        "    # get labels.\n",
        "    labels = np.array(dataset['target']).reshape(-1, 1)\n",
        "    # get text features.\n",
        "    features = np.zeros((D, V))\n",
        "    # get the feature matrix (Frequency).\n",
        "    if 'Frequency' == typeFeat:\n",
        "        for ind, doc in enumerate(data):\n",
        "            for item in doc:\n",
        "                if item in vocabDict:\n",
        "                    features[ind][vocabDict[item]] += 1\n",
        "    # get the feature matrix (Binary).\n",
        "    if 'Binary' == typeFeat:\n",
        "        for ind, doc in enumerate(data):\n",
        "            for item in doc:\n",
        "                if item in vocabDict:\n",
        "                    features[ind][vocabDict[item]] = 1\n",
        "    # get the feature matrix (TFIDF):\n",
        "    if 'TFIDF' == typeFeat:\n",
        "        if os.path.exists(tempPath + '/tfidf_' + typeSet + typeStem + '.npy'):\n",
        "            features = np.load(tempPath + '/tfidf_' + typeSet + typeStem + '.npy')\n",
        "        else:\n",
        "            # get freq and bin features.\n",
        "            termFreq = np.zeros((D, V))\n",
        "            termBin = np.zeros((D, V))\n",
        "            for ind, doc in enumerate(data):\n",
        "                for item in doc:\n",
        "                    if item in vocabDict:\n",
        "                        termFreq[ind][vocabDict[item]] += 1\n",
        "                        termBin[ind][vocabDict[item]] = 1\n",
        "            # get tf (1+log10)\n",
        "            tf = np.zeros((D, V))\n",
        "            for ind in range(D):\n",
        "                for i in range(V):\n",
        "                    if termFreq[ind][i] > 0:\n",
        "                        tf[ind][i] = 1 + math.log(termFreq[ind][i], 10)\n",
        "            del termFreq\n",
        "            # find idf\n",
        "            if os.path.exists(tempPath + '/idf_' + typeStem + '.npy'):\n",
        "                idf = np.load(tempPath + '/idf_' + typeStem + '.npy')\n",
        "            elif 'Train' == typeSet:\n",
        "                # get df\n",
        "                df = np.zeros((V, 1))\n",
        "                for ind in range(D):\n",
        "                    for i in range(V):\n",
        "                        df[i] += termBin[ind][i]\n",
        "                # get idf (log10(D/df))\n",
        "                idf = np.zeros((V, 1))\n",
        "                for i in range(V):\n",
        "                    if df[i] > 0:\n",
        "                        idf[i] = math.log(D, 10) - math.log(df[i], 10)\n",
        "                del df\n",
        "                np.save(tempPath + '/idf_' + typeStem + '.npy', idf)\n",
        "            else:\n",
        "                print('[Error] Need file: %s/idf_%s.npy to process test data!' % (tempPath, typeStem))\n",
        "                return\n",
        "            del termBin\n",
        "            # get tfidf\n",
        "            for ind in range(D):\n",
        "                for i in range(V):\n",
        "                    features[ind][i] = tf[ind][i] * idf[i]\n",
        "            np.save(tempPath + '/tfidf_' + typeSet + typeStem + '.npy', features)\n",
        "\n",
        "    # mix features.\n",
        "    # loc? (1 or 0)\n",
        "    featloc = np.array(dataset['loc']).reshape(-1, 1)\n",
        "    features = np.hstack((features, featloc))\n",
        "    # url number.\n",
        "    featurl = np.array(dataset['url']).reshape(-1, 1)\n",
        "    features = np.hstack((features, featurl))\n",
        "    # keywd onehot (222).\n",
        "    featkeywd = np.array(dataset['keywd']).reshape(-1, 1)\n",
        "    onehot_encoder = OneHotEncoder(sparse = False)\n",
        "    featkeywd = onehot_encoder.fit_transform(featkeywd)\n",
        "    features = np.hstack((features, featkeywd))\n",
        "    # return features and labels\n",
        "    print('[Info] Get %d \\'%s\\' %sing features (dim:%d) and labels (dim:1).' % (len(features), typeFeat, typeSet.lower(), len(features[0])))\n",
        "    return features, labels"
      ],
      "execution_count": 0,
      "outputs": []
    },
    {
      "cell_type": "markdown",
      "metadata": {
        "id": "OFaaAw39eJaR",
        "colab_type": "text"
      },
      "source": [
        "# Classifiers\n"
      ]
    },
    {
      "cell_type": "markdown",
      "metadata": {
        "id": "2i3TVlIwenES",
        "colab_type": "text"
      },
      "source": [
        "### Naive Bayes Classifier"
      ]
    },
    {
      "cell_type": "markdown",
      "metadata": {
        "id": "KSIKMy6tbPl-",
        "colab_type": "text"
      },
      "source": [
        "Naive bayes classifier training process."
      ]
    },
    {
      "cell_type": "code",
      "metadata": {
        "id": "o5tllt8bbbzO",
        "colab_type": "code",
        "colab": {}
      },
      "source": [
        "def NaiveBayesTrain(featTrain, labelTrain):\n",
        "    # define the log prior.\n",
        "    def GetLogPrior(labelTrain):\n",
        "        # count the number.\n",
        "        nDoc = len(labelTrain)\n",
        "        nPos = list(labelTrain).count(1)\n",
        "        nNag = list(labelTrain).count(0)\n",
        "        # calculate the logprior.\n",
        "        priorPos = math.log(nPos / nDoc)\n",
        "        priorNag = math.log(nNag / nDoc)\n",
        "        prior = [priorNag, priorPos]\n",
        "        return prior\n",
        "\n",
        "    # define loglikelihood.\n",
        "    def GetLogLikelihood(features, labels):\n",
        "        # get V and D.\n",
        "        V = len(features[0])\n",
        "        D = len(features)\n",
        "        cls = 2\n",
        "        # initilaze likelihood matrix.\n",
        "        likelihood = np.zeros((cls, V))\n",
        "        for ind in range(D):\n",
        "            for i in range(V):\n",
        "                likelihood[labels[ind][0]][i] += features[ind][i]\n",
        "        # Laplace smoothing.\n",
        "        denom = np.zeros((cls, 1))\n",
        "        for lb in range(cls):\n",
        "            denom[lb] = sum(likelihood[lb]) + V\n",
        "            for i in range(V):\n",
        "                likelihood[lb][i] += 1\n",
        "                likelihood[lb][i] /= denom[lb]\n",
        "                likelihood[lb][i] = math.log(likelihood[lb][i])\n",
        "        return likelihood\n",
        "\n",
        "    # get the log prior.\n",
        "    prior = GetLogPrior(labelTrain)\n",
        "    # get the log likelihood\n",
        "    likelihood = GetLogLikelihood(featTrain, labelTrain)\n",
        "    print('[Info] Naive Bayes classifier training done!')\n",
        "    return prior, likelihood"
      ],
      "execution_count": 0,
      "outputs": []
    },
    {
      "cell_type": "markdown",
      "metadata": {
        "id": "FH-uoO-8fgCw",
        "colab_type": "text"
      },
      "source": [
        "Naive bayes classifier testing process."
      ]
    },
    {
      "cell_type": "code",
      "metadata": {
        "id": "C9oVKU72fp5T",
        "colab_type": "code",
        "colab": {}
      },
      "source": [
        "def NaiveBayesTest(prior, likelihood, featTest):\n",
        "    # get V and D.\n",
        "    V = len(featTest[0])\n",
        "    D = len(featTest)\n",
        "    cls = 2\n",
        "    # get pred(D, cls) matrix and predictions(D, 1).\n",
        "    pred = np.zeros((D, cls))\n",
        "    predictions = np.zeros((D, 1))\n",
        "    for ind in range(D):\n",
        "        for lb in range(cls):\n",
        "            pred[ind][lb] += prior[lb]\n",
        "            for i in range(V):\n",
        "                pred[ind][lb] += likelihood[lb][i] * featTest[ind][i]\n",
        "        predictions[ind] = list(pred[ind]).index(max(pred[ind]))\n",
        "    print('[Info] Naive Bayes classifier testing done!')\n",
        "    return predictions"
      ],
      "execution_count": 0,
      "outputs": []
    },
    {
      "cell_type": "markdown",
      "metadata": {
        "id": "RYOmvNRKgDpZ",
        "colab_type": "text"
      },
      "source": [
        "### Logistic Regression Classifier"
      ]
    },
    {
      "cell_type": "markdown",
      "metadata": {
        "id": "-rmUoSFcrSmj",
        "colab_type": "text"
      },
      "source": [
        "Logistic regression model."
      ]
    },
    {
      "cell_type": "code",
      "metadata": {
        "id": "760BZt6GrVQd",
        "colab_type": "code",
        "colab": {}
      },
      "source": [
        "class LogisticRegression(nn.Module):\n",
        "    def __init__(self, dims):\n",
        "        super(LogisticRegression, self).__init__()\n",
        "        self.L1 = nn.Linear(dims, 1)\n",
        "        self.sigmoid = nn.Sigmoid()\n",
        "\n",
        "    def forward(self, x):\n",
        "        a1 = self.sigmoid(self.L1(x))\n",
        "        return a1"
      ],
      "execution_count": 0,
      "outputs": []
    },
    {
      "cell_type": "markdown",
      "metadata": {
        "id": "3rEI_t9egNbq",
        "colab_type": "text"
      },
      "source": [
        "Logistic regression classifier training process."
      ]
    },
    {
      "cell_type": "code",
      "metadata": {
        "id": "ig7j7TPKgXaM",
        "colab_type": "code",
        "colab": {}
      },
      "source": [
        "def LogisticTrain(featTrain, labelTrain, featTest, labelTest, rate = 0.1, iternum = 10000, chknum = 100):\n",
        "    # initialize network weights with uniform distribution.\n",
        "    def weight_init(m):\n",
        "        if isinstance(m, nn.Linear):\n",
        "            nn.init.uniform_(m.weight)\n",
        "            nn.init.uniform_(m.bias)\n",
        "\n",
        "    # get vector dimension and train/test number.\n",
        "    dims = len(featTrain[0])\n",
        "    numTrain = len(featTrain)\n",
        "    numTest = len(featTest)\n",
        "\n",
        "    # shuffle the data and label.\n",
        "    index = [i for i in range(numTrain)]\n",
        "    random.shuffle(index)\n",
        "    featTrain = featTrain[index]\n",
        "    labelTrain = labelTrain[index]\n",
        "    index = [i for i in range(numTest)]\n",
        "    random.shuffle(index)\n",
        "    featTest = featTest[index]\n",
        "    labelTest = labelTest[index]\n",
        "\n",
        "    # convert data (x,y) into tensor.\n",
        "    xTrain = torch.Tensor(featTrain).cuda()\n",
        "    yTrain = torch.LongTensor(labelTrain).cuda()\n",
        "    xTest = torch.Tensor(featTest).cuda()\n",
        "    yTest = torch.LongTensor(labelTest).cuda()\n",
        "\n",
        "    # convert to mini-batch form.\n",
        "    batchsize = 256\n",
        "    train = torchdata.TensorDataset(xTrain, yTrain)\n",
        "    trainloader = torchdata.DataLoader(train, batch_size = batchsize, shuffle = False)\n",
        "    test = torchdata.TensorDataset(xTest, yTest)\n",
        "    testloader = torchdata.DataLoader(test, batch_size = batchsize, shuffle = False)\n",
        "\n",
        "    # build the model of feed forward neural network.\n",
        "    print('[Para] Learning Rate = %.2f, Iteration Number = %d.' % (rate, iternum))\n",
        "    model = LogisticRegression(dims)\n",
        "    device = torch.device(\"cuda:0\" if torch.cuda.is_available() else \"cpu\")\n",
        "    model.apply(weight_init)\n",
        "    model.to(device)\n",
        "    # optimizing with stochastic gradient descent.\n",
        "    optimizer = optim.SGD(model.parameters(), lr = rate)\n",
        "    # seting loss function as mean squared error.\n",
        "    criterion = nn.MSELoss()\n",
        "\n",
        "    # run on each epoch.\n",
        "    accList = [0]\n",
        "    for epoch in range(iternum):\n",
        "        # training phase.\n",
        "        model.train()\n",
        "        lossTrain = 0\n",
        "        accTrain = 0\n",
        "        for iter, (data, label) in enumerate(trainloader):\n",
        "            data = data.to(device)\n",
        "            label = label.to(device)\n",
        "            optimizer.zero_grad()  # set the gradients to zero.\n",
        "            yhat = model.forward(data)  # get output\n",
        "            loss = criterion(label.float(), yhat)\n",
        "            loss.backward()\n",
        "            optimizer.step()\n",
        "            # statistic\n",
        "            lossTrain += loss.item()\n",
        "            preds = (yhat > 0.5).long()\n",
        "            accTrain += torch.sum(torch.eq(preds, label).long()).item()\n",
        "        lossTrain /= (iter + 1)\n",
        "        accTrain *= 100 / numTrain\n",
        "\n",
        "        # testing phase.\n",
        "        model.eval()\n",
        "        accTest = 0\n",
        "        with torch.no_grad():\n",
        "            for iter, (data, label) in enumerate(testloader):\n",
        "                data = data.to(device)\n",
        "                label = label.to(device)\n",
        "                yhat = model.forward(data)  # get output\n",
        "                # statistic\n",
        "                preds = (yhat > 0.5).long()\n",
        "                accTest += torch.sum(torch.eq(preds, label).long()).item()\n",
        "        accTest *= 100 / numTest\n",
        "        accList.append(accTest)\n",
        "\n",
        "        # output information.\n",
        "        if 0 == (epoch + 1) % chknum:\n",
        "            print('[Epoch %03d] Loss: %.3f, TrainAcc: %.3f%%, TestAcc: %.3f%%' % (epoch + 1, lossTrain, accTrain, accTest))\n",
        "        # save the best model.\n",
        "        if accList[-1] > max(accList[0:-1]):\n",
        "            torch.save(model.state_dict(), tempPath + '/model_logistic.pth')\n",
        "        # stop judgement.\n",
        "        if (epoch + 1) >= chknum and accList[-1] < min(accList[-chknum:-1]):\n",
        "            break\n",
        "\n",
        "    # load best model.\n",
        "    model.load_state_dict(torch.load(tempPath + '/model_logistic.pth'))\n",
        "    print('[Info] Logistic Regression classifier training done!')\n",
        "    return model"
      ],
      "execution_count": 0,
      "outputs": []
    },
    {
      "cell_type": "markdown",
      "metadata": {
        "id": "BcNF_E0ygd7k",
        "colab_type": "text"
      },
      "source": [
        "Logistic regression classifier testing process."
      ]
    },
    {
      "cell_type": "code",
      "metadata": {
        "id": "OT1C_J7dgkWH",
        "colab_type": "code",
        "colab": {}
      },
      "source": [
        "def LogisticTest(model, featTest):\n",
        "    D = len(featTest)\n",
        "    x = torch.Tensor(featTest).cuda()\n",
        "    yhat = model.forward(x)\n",
        "    predictions = np.zeros((D, 1))\n",
        "    for ind in range(D):\n",
        "        if yhat[ind] > 0.5:\n",
        "            predictions[ind][0] = 1\n",
        "    print('[Info] Logistic Regression classifier testing done!')\n",
        "    return predictions"
      ],
      "execution_count": 0,
      "outputs": []
    },
    {
      "cell_type": "markdown",
      "metadata": {
        "id": "zjdPPNFzryaZ",
        "colab_type": "text"
      },
      "source": [
        "### Feed Forward Neural Network"
      ]
    },
    {
      "cell_type": "markdown",
      "metadata": {
        "id": "1LlIO-XMsALa",
        "colab_type": "text"
      },
      "source": [
        "Feed Forward Neural Network model."
      ]
    },
    {
      "cell_type": "code",
      "metadata": {
        "id": "MYSUKZMGsFu1",
        "colab_type": "code",
        "colab": {}
      },
      "source": [
        "class FeedForwardNeuralNetwork(nn.Module):\n",
        "    def __init__(self, dims):\n",
        "        super(FeedForwardNeuralNetwork, self).__init__()\n",
        "        self.L1 = nn.Linear(dims, 20)\n",
        "        self.L2 = nn.Linear(20, 1)\n",
        "        self.sigmoid = nn.Sigmoid()\n",
        "\n",
        "    def forward(self, x):\n",
        "        a1 = self.sigmoid(self.L1(x))\n",
        "        a2 = self.sigmoid(self.L2(a1))\n",
        "        return a2"
      ],
      "execution_count": 0,
      "outputs": []
    },
    {
      "cell_type": "markdown",
      "metadata": {
        "id": "Vq3B2wA8sJcw",
        "colab_type": "text"
      },
      "source": [
        "FFNN training phase."
      ]
    },
    {
      "cell_type": "code",
      "metadata": {
        "id": "IigCxbMcsPyY",
        "colab_type": "code",
        "colab": {}
      },
      "source": [
        "def FFNNTrain(featTrain, labelTrain, featTest, labelTest, rate = 0.5, iternum = 10000, chknum = 100):\n",
        "    # initialize network weights with uniform distribution.\n",
        "    def weight_init(m):\n",
        "        if isinstance(m, nn.Linear):\n",
        "            nn.init.uniform_(m.weight)\n",
        "            nn.init.uniform_(m.bias)\n",
        "\n",
        "    # get vector dimension and train/test number.\n",
        "    dims = len(featTrain[0])\n",
        "    numTrain = len(featTrain)\n",
        "    numTest = len(featTest)\n",
        "\n",
        "    # shuffle the data and label.\n",
        "    index = [i for i in range(numTrain)]\n",
        "    random.shuffle(index)\n",
        "    featTrain = featTrain[index]\n",
        "    labelTrain = labelTrain[index]\n",
        "    index = [i for i in range(numTest)]\n",
        "    random.shuffle(index)\n",
        "    featTest = featTest[index]\n",
        "    labelTest = labelTest[index]\n",
        "\n",
        "    # convert data (x,y) into tensor.\n",
        "    xTrain = torch.Tensor(featTrain).cuda()\n",
        "    yTrain = torch.LongTensor(labelTrain).cuda()\n",
        "    xTest = torch.Tensor(featTest).cuda()\n",
        "    yTest = torch.LongTensor(labelTest).cuda()\n",
        "\n",
        "    # convert to mini-batch form.\n",
        "    batchsize = 256\n",
        "    train = torchdata.TensorDataset(xTrain, yTrain)\n",
        "    trainloader = torchdata.DataLoader(train, batch_size = batchsize, shuffle = False)\n",
        "    test = torchdata.TensorDataset(xTest, yTest)\n",
        "    testloader = torchdata.DataLoader(test, batch_size = batchsize, shuffle = False)\n",
        "\n",
        "    # build the model of feed forward neural network.\n",
        "    print('[Para] Learning Rate = %.2f, Iteration Number = %d.' % (rate, iternum))\n",
        "    model = FeedForwardNeuralNetwork(dims)\n",
        "    device = torch.device(\"cuda:0\" if torch.cuda.is_available() else \"cpu\")\n",
        "    model.apply(weight_init)\n",
        "    model.to(device)\n",
        "    # optimizing with stochastic gradient descent.\n",
        "    optimizer = optim.SGD(model.parameters(), lr = rate)\n",
        "    # seting loss function as mean squared error.\n",
        "    criterion = nn.MSELoss()\n",
        "\n",
        "    # run on each epoch.\n",
        "    accList = [0]\n",
        "    for epoch in range(iternum):\n",
        "        # training phase.\n",
        "        model.train()\n",
        "        lossTrain = 0\n",
        "        accTrain = 0\n",
        "        for iter, (data, label) in enumerate(trainloader):\n",
        "            data = data.to(device)\n",
        "            label = label.to(device)\n",
        "            optimizer.zero_grad()  # set the gradients to zero.\n",
        "            yhat = model.forward(data)  # get output\n",
        "            loss = criterion(label.float(), yhat)\n",
        "            loss.backward()\n",
        "            optimizer.step()\n",
        "            # statistic\n",
        "            lossTrain += loss.item()\n",
        "            preds = (yhat > 0.5).long()\n",
        "            accTrain += torch.sum(torch.eq(preds, label).long()).item()\n",
        "        lossTrain /= (iter + 1)\n",
        "        accTrain *= 100 / numTrain\n",
        "\n",
        "        # testing phase.\n",
        "        model.eval()\n",
        "        accTest = 0\n",
        "        with torch.no_grad():\n",
        "            for iter, (data, label) in enumerate(testloader):\n",
        "                data = data.to(device)\n",
        "                label = label.to(device)\n",
        "                yhat = model.forward(data)  # get output\n",
        "                # statistic\n",
        "                preds = (yhat > 0.5).long()\n",
        "                accTest += torch.sum(torch.eq(preds, label).long()).item()\n",
        "        accTest *= 100 / numTest\n",
        "        accList.append(accTest)\n",
        "\n",
        "        # output information.\n",
        "        if 0 == (epoch + 1) % chknum:\n",
        "            print('[Epoch %03d] Loss: %.3f, TrainAcc: %.3f%%, TestAcc: %.3f%%' % (epoch + 1, lossTrain, accTrain, accTest))\n",
        "        # save the best model.\n",
        "        if accList[-1] > max(accList[0:-1]):\n",
        "            torch.save(model.state_dict(), tempPath + '/model_FFNN.pth')\n",
        "        # stop judgement.\n",
        "        if (epoch + 1) >= chknum and accList[-1] < min(accList[-chknum:-1]):\n",
        "            break\n",
        "\n",
        "    # load best model.\n",
        "    model.load_state_dict(torch.load(tempPath + '/model_FFNN.pth'))\n",
        "    print('[Info] Feed Forward Neural Network classifier training done!')\n",
        "    return model"
      ],
      "execution_count": 0,
      "outputs": []
    },
    {
      "cell_type": "markdown",
      "metadata": {
        "id": "2oh8lisIsWgX",
        "colab_type": "text"
      },
      "source": [
        "FFNN test phase."
      ]
    },
    {
      "cell_type": "code",
      "metadata": {
        "id": "F1s1lWUPsdWp",
        "colab_type": "code",
        "colab": {}
      },
      "source": [
        "def FFNNTest(model, featTest):\n",
        "    D = len(featTest)\n",
        "    x = torch.Tensor(featTest).cuda()\n",
        "    yhat = model.forward(x)\n",
        "    predictions = np.zeros((D, 1))\n",
        "    for ind in range(D):\n",
        "        if yhat[ind] > 0.5:\n",
        "            predictions[ind][0] = 1\n",
        "    print('[Info] Feed Forward Neural Network classifier testing done!')\n",
        "    return predictions"
      ],
      "execution_count": 0,
      "outputs": []
    },
    {
      "cell_type": "markdown",
      "metadata": {
        "id": "DzGv7QPKxiPR",
        "colab_type": "text"
      },
      "source": [
        "### TextRNN"
      ]
    },
    {
      "cell_type": "markdown",
      "metadata": {
        "id": "QqXlh08JxmL6",
        "colab_type": "text"
      },
      "source": [
        "TextRNN model."
      ]
    },
    {
      "cell_type": "code",
      "metadata": {
        "id": "kEyka3JkxlbA",
        "colab_type": "code",
        "colab": {}
      },
      "source": [
        "class TextRNN(nn.Module):\n",
        "    def __init__(self, preWeights, hiddenSize=32, hiddenLayers=1):\n",
        "        super(TextRNN, self).__init__()\n",
        "        # parameters.\n",
        "        class_num = 2\n",
        "        vocabSize = preWeights.shape[0]\n",
        "        embedDim = preWeights.shape[1]   # 128\n",
        "        # Embedding Layer\n",
        "        self.embedding = nn.Embedding(num_embeddings=vocabSize, embedding_dim=embedDim)\n",
        "        self.embedding.load_state_dict({'weight': preWeights})\n",
        "        self.embedding.weight.requires_grad = True\n",
        "        # lstm Layer\n",
        "        self.lstm = nn.LSTM(input_size=embedDim, hidden_size=hiddenSize, num_layers=hiddenLayers, bidirectional=True)\n",
        "        # Fully-Connected Layer\n",
        "        self.fc = nn.Linear(hiddenSize * hiddenLayers * 2, class_num)\n",
        "        # Softmax non-linearity\n",
        "        self.softmax = nn.Softmax(dim=-1)\n",
        "\n",
        "    def forward(self, x):\n",
        "        x = self.embedding(x)       # Batch_size * Sentence_length(32) * embed_dim(128)\n",
        "        x = x.permute(1, 0, 2)      # Sentence_length(32) * Batch_size * embed_dim(128)\n",
        "        lstm_out, (h_n, c_n) = self.lstm(x)\n",
        "        # lstm_out       Sentence_length * Batch_size * (hidden_layers * 2 [bio-direct])\n",
        "        # h_n           （num_layers * 2） * Batch_size * hidden_layers\n",
        "        #feature_map = self.dropout(h_n)  # （num_layers*2） * Batch_size * hidden_layers\n",
        "        feature_map = torch.cat([h_n[i, :, :] for i in range(h_n.shape[0])], dim=1)\n",
        "        # Batch_size * (hidden_size * hidden_layers * 2)\n",
        "        final_out = self.fc(feature_map)    # Batch_size * class_num\n",
        "        final_out = self.softmax(final_out)\n",
        "        return final_out"
      ],
      "execution_count": 0,
      "outputs": []
    },
    {
      "cell_type": "markdown",
      "metadata": {
        "id": "d4RDuODZxru_",
        "colab_type": "text"
      },
      "source": [
        "Get word dictionary."
      ]
    },
    {
      "cell_type": "code",
      "metadata": {
        "id": "s0CCIvghxuH-",
        "colab_type": "code",
        "colab": {}
      },
      "source": [
        "def GetWordDict(dList, typeStem):\n",
        "    # input validation.\n",
        "    if typeStem not in ['NoStem', 'Stem']:\n",
        "        print('[Error] Stemming setting invalid!')\n",
        "        return\n",
        "    # get listTrain and listTest.\n",
        "    listTrain = dList['listTrain' + typeStem]\n",
        "    listTest = dList['listTest' + typeStem]\n",
        "    # get vocab.\n",
        "    vocab = []\n",
        "    maxLen = 0\n",
        "    for item in listTrain:\n",
        "        vocab.extend(item)\n",
        "        maxLen = len(item) if (len(item) > maxLen) else maxLen\n",
        "    for item in listTest:\n",
        "        vocab.extend(item)\n",
        "        maxLen = len(item) if (len(item) > maxLen) else maxLen\n",
        "    vocab = list(set(vocab))\n",
        "    # word dict.\n",
        "    wordDict = {word: index for index, word in enumerate(vocab)}\n",
        "    wordDict['<pad>'] = len(wordDict)\n",
        "    #print(wordDict)\n",
        "    return maxLen, wordDict"
      ],
      "execution_count": 0,
      "outputs": []
    },
    {
      "cell_type": "markdown",
      "metadata": {
        "id": "dt0Ogmc1xymZ",
        "colab_type": "text"
      },
      "source": [
        "Get mappings from data to index."
      ]
    },
    {
      "cell_type": "code",
      "metadata": {
        "id": "j-1YW1FMx4n4",
        "colab_type": "code",
        "colab": {}
      },
      "source": [
        "def GetMapping(dataset, dList, typeSet, typeStem, maxLen, wordDict):\n",
        "    # input validation.\n",
        "    if typeSet not in ['Train', 'Test']:\n",
        "        print('[Error] Dataset setting invalid!')\n",
        "        return\n",
        "    if typeStem not in ['NoStem', 'Stem']:\n",
        "        print('[Error] Stemming setting invalid!')\n",
        "        return\n",
        "    # get data.\n",
        "    data = dList['list' + typeSet + typeStem]\n",
        "    D = len(data)\n",
        "    # get labels.\n",
        "    labels = np.array(dataset['target']).reshape(-1, 1)\n",
        "    #\n",
        "    data2index = []\n",
        "    for sentence in data:\n",
        "        sent2index = []\n",
        "        sentence.extend('<pad>' for i in range(maxLen - len(sentence)))\n",
        "        for word in sentence:\n",
        "            sent2index.append(wordDict[word])\n",
        "        data2index.append(sent2index)\n",
        "    return np.array(data2index), np.array(labels)"
      ],
      "execution_count": 0,
      "outputs": []
    },
    {
      "cell_type": "markdown",
      "metadata": {
        "id": "Cb3w5E5px5hw",
        "colab_type": "text"
      },
      "source": [
        "Get pre-weights for embedding layer."
      ]
    },
    {
      "cell_type": "code",
      "metadata": {
        "id": "mA0e1g_4x_52",
        "colab_type": "code",
        "colab": {}
      },
      "source": [
        "def GetEmbedding(wordDict, embedSize):\n",
        "    numWords = len(wordDict)\n",
        "    preWeights = np.zeros((numWords, embedSize))\n",
        "    for ind in range(numWords):\n",
        "        preWeights[ind] = np.random.normal(size=(embedSize,))\n",
        "    return preWeights"
      ],
      "execution_count": 0,
      "outputs": []
    },
    {
      "cell_type": "markdown",
      "metadata": {
        "id": "F0EWvWWQyBal",
        "colab_type": "text"
      },
      "source": [
        "TextRNN model training phase."
      ]
    },
    {
      "cell_type": "code",
      "metadata": {
        "id": "3MFL32DAyGoq",
        "colab_type": "code",
        "colab": {}
      },
      "source": [
        "def TextRNNTrain(dTrain, lTrain, dTest, lTest, preWeights, hiddenSize=64, batchsize=256, learnRate=0.0001, maxEpoch=1000000, showEpoch=10, perEpoch=10):\n",
        "    # tensor data processing.\n",
        "    xTrain = torch.from_numpy(dTrain).long().cuda()\n",
        "    yTrain = torch.from_numpy(lTrain).long().cuda()\n",
        "    xValid = torch.from_numpy(dTest).long().cuda()\n",
        "    yValid = torch.from_numpy(lTest).long().cuda()\n",
        "    # batch size processing.\n",
        "    train = torchdata.TensorDataset(xTrain, yTrain)\n",
        "    trainloader = torchdata.DataLoader(train, batch_size=batchsize, shuffle=False)\n",
        "    valid = torchdata.TensorDataset(xValid, yValid)\n",
        "    validloader = torchdata.DataLoader(valid, batch_size=batchsize, shuffle=False)\n",
        "\n",
        "    # build the model of recurrent neural network.\n",
        "    preWeights = torch.from_numpy(preWeights)\n",
        "    model = TextRNN(preWeights, hiddenSize=hiddenSize)\n",
        "    device = torch.device(\"cuda:0\" if torch.cuda.is_available() else \"cpu\")\n",
        "    model.to(device)\n",
        "    print('[Demo] --- RNNType: TextRNN | HiddenNodes: %d  ---' % (hiddenSize))\n",
        "    print('[Para] BatchSize=%d, LearningRate=%.4f, MaxEpoch=%d, PerEpoch=%d.' % (batchsize, learnRate, maxEpoch, perEpoch))\n",
        "    # optimizing with stochastic gradient descent.\n",
        "    optimizer = optim.Adam(model.parameters(), lr=learnRate)\n",
        "    # seting loss function as mean squared error.\n",
        "    criterion = nn.CrossEntropyLoss()\n",
        "    # memory\n",
        "    torch.backends.cudnn.benchmark = True\n",
        "    torch.backends.cudnn.enabled = True\n",
        "\n",
        "    # run on each epoch.\n",
        "    accList = [0]\n",
        "    for epoch in range(maxEpoch):\n",
        "        # training phase.\n",
        "        model.train()\n",
        "        lossTrain = 0\n",
        "        predictions = []\n",
        "        labels = []\n",
        "        for iter, (data, label) in enumerate(trainloader):\n",
        "            data = data.to(device)\n",
        "            label = label.contiguous().view(-1)\n",
        "            label = label.to(device)\n",
        "            optimizer.zero_grad()  # set the gradients to zero.\n",
        "            yhat = model.forward(data)  # get output\n",
        "            loss = criterion(yhat, label)\n",
        "            loss.backward()\n",
        "            optimizer.step()\n",
        "            # statistic\n",
        "            lossTrain += loss.item() * len(label)\n",
        "            preds = yhat.max(1)[1]\n",
        "            predictions.extend(preds.int().tolist())\n",
        "            labels.extend(label.int().tolist())\n",
        "            torch.cuda.empty_cache()\n",
        "        gc.collect()\n",
        "        torch.cuda.empty_cache()\n",
        "        lossTrain /= len(dTrain)\n",
        "        # train accuracy.\n",
        "        accTrain = accuracy_score(labels, predictions) * 100\n",
        "\n",
        "        # validation phase.\n",
        "        model.eval()\n",
        "        predictions = []\n",
        "        labels = []\n",
        "        with torch.no_grad():\n",
        "            for iter, (data, label) in enumerate(validloader):\n",
        "                data = data.to(device)\n",
        "                label = label.contiguous().view(-1)\n",
        "                label = label.to(device)\n",
        "                yhat = model.forward(data)  # get output\n",
        "                # statistic\n",
        "                preds = yhat.max(1)[1]\n",
        "                predictions.extend(preds.int().tolist())\n",
        "                labels.extend(label.int().tolist())\n",
        "                torch.cuda.empty_cache()\n",
        "        gc.collect()\n",
        "        torch.cuda.empty_cache()\n",
        "        # valid accuracy.\n",
        "        accValid = accuracy_score(labels, predictions) * 100\n",
        "        accList.append(accValid)\n",
        "\n",
        "        # output information.\n",
        "        if 0 == (epoch + 1) % showEpoch:\n",
        "            print('[Epoch %03d] loss: %.3f, train acc: %.3f%%, valid acc: %.3f%%.' % (epoch + 1, lossTrain, accTrain, accValid))\n",
        "        # save the best model.\n",
        "        if accList[-1] > max(accList[0:-1]):\n",
        "            torch.save(model.state_dict(), tempPath + '/model_TextRNN.pth')\n",
        "        # stop judgement.\n",
        "        if (epoch + 1) >= perEpoch * 5 and accList[-1] < min(accList[-perEpoch:-1]):\n",
        "            break\n",
        "\n",
        "    # load best model.\n",
        "    model.load_state_dict(torch.load(tempPath + '/model_TextRNN.pth'))\n",
        "    print('[Info] Text Recurrent Neural Network classifier training done!')\n",
        "    return model"
      ],
      "execution_count": 0,
      "outputs": []
    },
    {
      "cell_type": "markdown",
      "metadata": {
        "id": "XGTn2O3ayHo9",
        "colab_type": "text"
      },
      "source": [
        "TextRNN model testing phase."
      ]
    },
    {
      "cell_type": "code",
      "metadata": {
        "id": "yiPpPt6iyMfy",
        "colab_type": "code",
        "colab": {}
      },
      "source": [
        "def TextRNNTest(model, dTest, lTest):\n",
        "    xTest = torch.from_numpy(dTest).long().cuda()\n",
        "    yTest = torch.from_numpy(lTest).long().cuda()\n",
        "    test = torchdata.TensorDataset(xTest, yTest)\n",
        "    testloader = torchdata.DataLoader(test, batch_size=256, shuffle=False)\n",
        "    device = torch.device(\"cuda:0\" if torch.cuda.is_available() else \"cpu\")\n",
        "    # testing phase.\n",
        "    model.eval()\n",
        "    predictions = []\n",
        "    labels = []\n",
        "    with torch.no_grad():\n",
        "        for iter, (data, label) in enumerate(testloader):\n",
        "            data = data.to(device)\n",
        "            label = label.contiguous().view(-1)\n",
        "            label = label.to(device)\n",
        "            yhat = model.forward(data)  # get output\n",
        "            # statistic\n",
        "            preds = yhat.max(1)[1]\n",
        "            predictions.extend(preds.int().tolist())\n",
        "            labels.extend(label.int().tolist())\n",
        "            torch.cuda.empty_cache()\n",
        "    gc.collect()\n",
        "    torch.cuda.empty_cache()\n",
        "    # testing accuracy.\n",
        "    accuracy = accuracy_score(labels, predictions) * 100\n",
        "    predictions = [[item] for item in predictions]\n",
        "    return predictions, accuracy"
      ],
      "execution_count": 0,
      "outputs": []
    },
    {
      "cell_type": "markdown",
      "metadata": {
        "id": "Qfju-e3Qe_xR",
        "colab_type": "text"
      },
      "source": [
        "# Evaluation"
      ]
    },
    {
      "cell_type": "markdown",
      "metadata": {
        "id": "tF4Lo48bfGgr",
        "colab_type": "text"
      },
      "source": [
        "Evaluate and output the experimental results."
      ]
    },
    {
      "cell_type": "code",
      "metadata": {
        "id": "y0Y1QGF5fMKX",
        "colab_type": "code",
        "colab": {}
      },
      "source": [
        "def OutputEval(predictions, labels, typeStem, typeFeat, method):\n",
        "    # evaluate the predictions with gold labels, and get accuracy and confusion matrix.\n",
        "    def Evaluation(predictions, labels):\n",
        "        D = len(labels)\n",
        "        cls = 2\n",
        "        # get confusion matrix.\n",
        "        confusion = np.zeros((cls, cls))\n",
        "        for ind in range(D):\n",
        "            nRow = int(predictions[ind][0])\n",
        "            nCol = int(labels[ind][0])\n",
        "            confusion[nRow][nCol] += 1\n",
        "        # get accuracy.\n",
        "        accuracy = 0\n",
        "        for ind in range(cls):\n",
        "            accuracy += confusion[ind][ind]\n",
        "        accuracy /= D\n",
        "        return accuracy, confusion\n",
        "\n",
        "    # get accuracy and confusion matrix.\n",
        "    accuracy, confusion = Evaluation(predictions, labels)\n",
        "    # output on screen and to file.\n",
        "    print('       -------------------------------------------')\n",
        "    print('       ' + typeStem + ' | ' + typeFeat + ' | ' + method)\n",
        "    print('       accuracy : %.2f%%' % (accuracy * 100))\n",
        "    print('       confusion matrix :      (actual)')\n",
        "    print('                           Neg         Pos')\n",
        "    print('       (predicted) Neg     %-4d(TN)    %-4d(FN)' % (confusion[0][0], confusion[0][1]))\n",
        "    print('                   Pos     %-4d(FP)    %-4d(TP)' % (confusion[1][0], confusion[1][1]))\n",
        "    print('       -------------------------------------------')\n",
        "    return accuracy, confusion"
      ],
      "execution_count": 0,
      "outputs": []
    },
    {
      "cell_type": "markdown",
      "metadata": {
        "id": "o2ETtiume0Jx",
        "colab_type": "text"
      },
      "source": [
        "# Demo Entrance."
      ]
    },
    {
      "cell_type": "markdown",
      "metadata": {
        "id": "bar8Vf_M8GVN",
        "colab_type": "text"
      },
      "source": [
        "Specify the details for different setting."
      ]
    },
    {
      "cell_type": "code",
      "metadata": {
        "id": "IrhX0uhB8CK3",
        "colab_type": "code",
        "colab": {}
      },
      "source": [
        "def demo(dataTrain, dataTest, dList, typeStem, typeFeat, method):\n",
        "    # input validation.\n",
        "    if typeStem not in ['NoStem', 'Stem']:\n",
        "        print('[Error] Stemming setting invalid!')\n",
        "        return\n",
        "    if typeFeat not in ['Frequency', 'Binary', 'TFIDF']:\n",
        "        print('[Error] Feature setting invalid!')\n",
        "        return\n",
        "    if method not in ['NaiveBayes', 'Logistic', 'FFNN']:\n",
        "        print('[Error] Classifier setting invalid!')\n",
        "        return\n",
        "    print('[Demo] ------ Data: %s | Feature: %s | Classifier: %s ------' % (typeStem, typeFeat, method))\n",
        "    # extract training features and labels.\n",
        "    featTrain, labelTrain = ExtractFeatures(dataTrain, dList, 'Train', typeStem, typeFeat)\n",
        "    # extract testing features and labels.\n",
        "    featTest, labelTest = ExtractFeatures(dataTest, dList, 'Test', typeStem, typeFeat)\n",
        "    # train and test the model.\n",
        "    if 'NaiveBayes' == method:\n",
        "        prior, likelihood = NaiveBayesTrain(featTrain, labelTrain)\n",
        "        np.save(tempPath + '/prior_' + typeStem + '_' + typeFeat + '.npy', prior)\n",
        "        np.save(tempPath + '/likelihood_' + typeStem + '_' + typeFeat + '.npy', likelihood)\n",
        "        #np.save(tempPath + '/featTest_NB_' + typeStem + '_' + typeFeat + '.npy', featTest)\n",
        "        predTest = NaiveBayesTest(prior, likelihood, featTest)\n",
        "    elif 'Logistic' == method:\n",
        "        model = LogisticTrain(featTrain, labelTrain, featTest, labelTest, rate=0.1)\n",
        "        torch.save(model.state_dict(), tempPath + '/model_Logistic_' + typeStem + '_' + typeFeat + '.pth')\n",
        "        #np.save(tempPath + '/featTest_LR_' + typeStem + '_' + typeFeat + '.npy', featTest)\n",
        "        predTest = LogisticTest(model, featTest)\n",
        "    elif 'FFNN' == method:\n",
        "        model = FFNNTrain(featTrain, labelTrain, featTest, labelTest, rate=1)\n",
        "        torch.save(model.state_dict(), tempPath + '/model_FFNN_' + typeStem + '_' + typeFeat + '.pth')\n",
        "        #np.save(tempPath + '/featTest_FFNN_' + typeStem + '_' + typeFeat + '.npy', featTest)\n",
        "        predTest = FFNNTest(model, featTest)\n",
        "    # evaluate.\n",
        "    accuracy, confusion = OutputEval(predTest, labelTest, typeStem, typeFeat, method)\n",
        "    return"
      ],
      "execution_count": 0,
      "outputs": []
    },
    {
      "cell_type": "markdown",
      "metadata": {
        "id": "JliswFdbxSox",
        "colab_type": "text"
      },
      "source": [
        "RNN demo"
      ]
    },
    {
      "cell_type": "code",
      "metadata": {
        "id": "91Lb7IRMxUD8",
        "colab_type": "code",
        "colab": {}
      },
      "source": [
        "def demoRNN(dataTrain, dataTest, dList, typeStem, method):\n",
        "    # input validation.\n",
        "    if typeStem not in ['NoStem', 'Stem']:\n",
        "        print('[Error] Stemming setting invalid!')\n",
        "        return\n",
        "    if method not in ['TextRNN']:\n",
        "        print('[Error] Classifier setting invalid!')\n",
        "        return\n",
        "    print('[Demo] ------ Data: %s | Feature: WordEmbedding | Classifier: %s ------' % (typeStem, method))\n",
        "    # get word dict and embedding.\n",
        "    maxLen, wordDict = GetWordDict(dList, typeStem) # maxLen = 51, vocabNum = 14396\n",
        "    preWeights = GetEmbedding(wordDict, embedSize=256)\n",
        "    # extract training features and labels.\n",
        "    featTrain, labelTrain = GetMapping(dataTrain, dList, 'Train', typeStem, maxLen, wordDict) # numTrain = 7613\n",
        "    featTest, labelTest = GetMapping(dataTest, dList, 'Test', typeStem, maxLen, wordDict)\n",
        "    # train and test model.\n",
        "    if 'TextRNN' == method:\n",
        "        model = TextRNNTrain(featTrain, labelTrain, featTest, labelTest, preWeights)\n",
        "        torch.save(model.state_dict(), tempPath + '/model_TextRNN_' + typeStem + '.pth')\n",
        "        predTest, accuracy = TextRNNTest(model, featTest, labelTest)\n",
        "    # evaluate.\n",
        "    accuracy, confusion = OutputEval(predTest, labelTest, typeStem, 'WordEmbedding', method)\n",
        "    return"
      ],
      "execution_count": 0,
      "outputs": []
    },
    {
      "cell_type": "markdown",
      "metadata": {
        "id": "UbujPxznDhw1",
        "colab_type": "text"
      },
      "source": [
        "Test demo"
      ]
    },
    {
      "cell_type": "code",
      "metadata": {
        "id": "lFI9IOuWDjBG",
        "colab_type": "code",
        "colab": {}
      },
      "source": [
        "def demoTest(dataTest, dList, typeStem, typeFeat, method):\n",
        "    # input validation.\n",
        "    if typeStem not in ['NoStem', 'Stem']:\n",
        "        print('[Error] Stemming setting invalid!')\n",
        "        return\n",
        "    if typeFeat not in ['Frequency', 'Binary', 'TFIDF']:\n",
        "        print('[Error] Feature setting invalid!')\n",
        "        return\n",
        "    if method not in ['NaiveBayes', 'Logistic', 'FFNN']:\n",
        "        print('[Error] Classifier setting invalid!')\n",
        "        return\n",
        "    # extract testing features and labels.\n",
        "    featTest, labelTest = ExtractFeatures(dataTest, dList, 'Test', typeStem, typeFeat)\n",
        "    # train and test the model.\n",
        "    if 'NaiveBayes' == method:\n",
        "        prior = np.load(tempPath + '/prior_' + typeStem + '_' + typeFeat + '.npy', allow_pickle = True)\n",
        "        likelihood = np.load(tempPath + '/likelihood_' + typeStem + '_' + typeFeat + '.npy', allow_pickle = True)\n",
        "        #featTest = np.load(tempPath + '/featTest_FFNN_' + typeStem + '_' + typeFeat + '.npy', allow_pickle = True)\n",
        "        predTest = NaiveBayesTest(prior, likelihood, featTest)\n",
        "    elif 'Logistic' == method:\n",
        "        dims = len(featTest[0])\n",
        "        model = LogisticRegression(dims)\n",
        "        device = torch.device(\"cuda:0\" if torch.cuda.is_available() else \"cpu\")\n",
        "        model.to(device)\n",
        "        model.load_state_dict(torch.load(tempPath + '/model_Logistic_' + typeStem + '_' + typeFeat + '.pth'))\n",
        "        #featTest = np.load(tempPath + '/featTest_FFNN_' + typeStem + '_' + typeFeat + '.npy', allow_pickle = True)\n",
        "        predTest = LogisticTest(model, featTest)\n",
        "    elif 'FFNN' == method:\n",
        "        dims = len(featTest[0])\n",
        "        model = FeedForwardNeuralNetwork(dims)\n",
        "        device = torch.device(\"cuda:0\" if torch.cuda.is_available() else \"cpu\")\n",
        "        model.to(device)\n",
        "        model.load_state_dict(torch.load(tempPath + '/model_FFNN_' + typeStem + '_' + typeFeat + '.pth'))\n",
        "        #featTest = np.load(tempPath + '/featTest_FFNN_' + typeStem + '_' + typeFeat + '.npy', allow_pickle = True)\n",
        "        predTest = FFNNTest(model, featTest)\n",
        "    #elif 'TextRNN' == method:\n",
        "        # get word dict and embedding.\n",
        "        #maxLen, wordDict = GetWordDict(dList, typeStem) # maxLen = 51, vocabNum = 14396\n",
        "        #preWeights = GetEmbedding(wordDict, embedSize=256)\n",
        "        #featTest, labelTest = GetMapping(dataTest, dList, 'Test', typeStem, maxLen, wordDict)\n",
        "        # get model loaded.\n",
        "        #preWeights = torch.from_numpy(preWeights)\n",
        "        #model = TextRNN(preWeights, hiddenSize=64)\n",
        "        #device = torch.device(\"cuda:0\" if torch.cuda.is_available() else \"cpu\")\n",
        "        #model.to(device)\n",
        "        #model.load_state_dict(torch.load(tempPath + '/model_TextRNN_' + typeStem + '.pth'))\n",
        "        #predTest, accuracy = TextRNNTest(model, featTest, labelTest)\n",
        "\n",
        "    np.save(tempPath + '/predTest_' + typeStem + '_' + typeFeat + '_' + method +'.npy', predTest)\n",
        "    # evaluate.\n",
        "    accuracy, confusion = OutputEval(predTest, labelTest, typeStem, typeFeat, method)\n",
        "    return"
      ],
      "execution_count": 0,
      "outputs": []
    },
    {
      "cell_type": "markdown",
      "metadata": {
        "id": "4BOU3UzJw7g7",
        "colab_type": "text"
      },
      "source": [
        "# Main Entrance"
      ]
    },
    {
      "cell_type": "markdown",
      "metadata": {
        "id": "GSXiVgILYa9q",
        "colab_type": "text"
      },
      "source": [
        "The main function and the entrance."
      ]
    },
    {
      "cell_type": "code",
      "metadata": {
        "id": "GnGE_FPdWH46",
        "colab_type": "code",
        "outputId": "c361a0e3-c77d-4ab3-fa02-03526dbd840d",
        "colab": {
          "base_uri": "https://localhost:8080/",
          "height": 241
        }
      },
      "source": [
        "def main():\n",
        "    # info.\n",
        "    print(\"-- AIT726 Project from Julia Jeng, Shu Wang, and Arman Anwar --\")\n",
        "    # load training and testing data.\n",
        "    dataTrain, dataTest = ReadCsvData()\n",
        "    # get keywords and vocabulary from training data.\n",
        "    dList = CreateVocabulary(dataTrain, dataTest)\n",
        "    # demo NaiveBayes\n",
        "    #demo(dataTrain, dataTest, dList, 'NoStem', 'Frequency', 'NaiveBayes')\n",
        "    #demo(dataTrain, dataTest, dList, 'NoStem', 'Binary', 'NaiveBayes')\n",
        "    #demo(dataTrain, dataTest, dList, 'NoStem', 'TFIDF', 'NaiveBayes')\n",
        "    #demo(dataTrain, dataTest, dList, 'Stem', 'Frequency', 'NaiveBayes')\n",
        "    #demo(dataTrain, dataTest, dList, 'Stem', 'Binary', 'NaiveBayes')\n",
        "    #demo(dataTrain, dataTest, dList, 'Stem', 'TFIDF', 'NaiveBayes')\n",
        "    # demo Logistic\n",
        "    #demo(dataTrain, dataTest, dList, 'NoStem', 'Frequency', 'Logistic')\n",
        "    #demo(dataTrain, dataTest, dList, 'NoStem', 'Binary', 'Logistic')\n",
        "    #demo(dataTrain, dataTest, dList, 'NoStem', 'TFIDF', 'Logistic')\n",
        "    #demo(dataTrain, dataTest, dList, 'Stem', 'Frequency', 'Logistic')\n",
        "    #demo(dataTrain, dataTest, dList, 'Stem', 'Binary', 'Logistic')\n",
        "    #demo(dataTrain, dataTest, dList, 'Stem', 'TFIDF', 'Logistic')\n",
        "    # demo FFNN\n",
        "    #demo(dataTrain, dataTest, dList, 'NoStem', 'Frequency', 'FFNN')\n",
        "    #demo(dataTrain, dataTest, dList, 'NoStem', 'Binary', 'FFNN')\n",
        "    #demo(dataTrain, dataTest, dList, 'NoStem', 'TFIDF', 'FFNN')\n",
        "    #demo(dataTrain, dataTest, dList, 'Stem', 'Frequency', 'FFNN')\n",
        "    #demo(dataTrain, dataTest, dList, 'Stem', 'Binary', 'FFNN')\n",
        "    #demo(dataTrain, dataTest, dList, 'Stem', 'TFIDF', 'FFNN')\n",
        "    # demo RNN\n",
        "    demoRNN(dataTrain, dataTest, dList, 'Stem', 'TextRNN')\n",
        "    # demo Test\n",
        "    demoTest(dataTest, dList, 'NoStem', 'Binary', 'NaiveBayes')\n",
        "    demoTest(dataTest, dList, 'NoStem', 'Binary', 'Logistic')\n",
        "    demoTest(dataTest, dList, 'NoStem', 'Binary', 'FFNN')\n",
        "    return\n",
        "    \n",
        "if __name__ == \"__main__\":\n",
        "    main()"
      ],
      "execution_count": 0,
      "outputs": [
        {
          "output_type": "stream",
          "text": [
            "-- AIT726 Project from Julia Jeng, Shu Wang, and Arman Anwar --\n",
            "[Info] Load 7613 training samples from ./drive/My Drive/Colab Notebooks//data//train.csv.\n",
            "[Info] Load 3263 testing samples from ./drive/My Drive/Colab Notebooks//data//test_labeled.csv.\n",
            "[Info] Load text list (noStem/Stem) of train/test set from ./drive/My Drive/Colab Notebooks//temp//list.npz.\n",
            "[Demo] ------ Data: Stem | Feature: WordEmbedding | Classifier: TextRNN ------\n",
            "{'madonna': 0, 'coleslaw': 1, 'ferguson': 2, \"åê'demolit\": 3, 'she': 4, '=': 5, 'connect': 6, 'hough_jeff': 7, 'divis': 8, 'packard': 9, 'secur': 10, 'balloon': 11, '#7new': 12, 'itz': 13, 'brb': 14, 'intel': 15, '1948': 16, 'rs5': 17, 'platform': 18, 'ghetto': 19, 'seismic': 20, 'maailiss': 21, 'pvdrdljvc': 22, 'crazier': 23, 'offramp': 24, 'loughe': 25, '17:52': 26, 'fergi': 27, 'jota': 28, 'kraft': 29, 'cant': 30, 'salman': 31, 'NS': 32, 'plead': 33, 'hwrf': 34, 'electron': 35, '63rd': 36, 'nicevil': 37, 'mediev': 38, \"pakistan'ex-feder\": 39, 'acc': 40, 'okayyyyyi': 41, 'freiza': 42, '(:': 43, 'kinda-mort': 44, 'ian': 45, 'foothil': 46, 'groton': 47, 'salvadoran': 48, 'bestiv': 49, 'ensur': 50, 'kasabw': 51, 'MK': 52, 'follow-up': 53, 'subtleti': 54, 'director': 55, 'need': 56, 'ptsd': 57, 'borgeou': 58, 'amirit': 59, 'celtic.inde': 60, 'between': 61, 'goodnight': 62, '1.5': 63, 'foot': 64, 'comma': 65, 'scenario': 66, '158-1017': 67, 'checkpoint': 68, 'schiphol': 69, '12.5': 70, 'clot': 71, 'retali': 72, 'melani': 73, 'canal': 74, 'erykah': 75, 'xl-games.ru': 76, '#37592': 77, 'gear': 78, 'lago': 79, 'shape.and': 80, 'redempt': 81, 'saunter': 82, 'thug': 83, 'umm': 84, 'hiroshima-s': 85, '158-0853': 86, 'becaus': 87, 'coil': 88, 'funniest': 89, 'proport': 90, 'sublim': 91, '#452': 92, 'nikon': 93, 'cell': 94, 'mark': 95, 'mail': 96, 'resum': 97, 'vessel': 98, 'fine': 99, 'justifi': 100, '_reginald': 101, 'era': 102, 'reform': 103, '314': 104, 'hs': 105, 'pre': 106, 'youd': 107, 'coral': 108, 'anywher': 109, 'gain': 110, 'year-old': 111, 'these': 112, 'geneva': 113, '_cb': 114, '13131313': 115, 'sequenc': 116, 'scone': 117, 'big': 118, 'sothwest': 119, 'milit': 120, 'trope': 121, 'fill': 122, 'sigalert': 123, 'firemen': 124, 'howi': 125, 'draw': 126, 'leed': 127, 'aqgco': 128, 'godlik': 129, '10:38': 130, '_peel': 131, 'lassic': 132, 'tahini': 133, 'contri': 134, 'context': 135, 'socialwot': 136, 'crqck': 137, 'brainless': 138, 'undercard': 139, 'reduc': 140, 'catholic': 141, 'ive': 142, '_tourist': 143, 'emo': 144, 'miì': 145, 'absol': 146, 'handi': 147, 'waist': 148, '012': 149, '12mm': 150, 'rss': 151, 'to': 152, '70': 153, 'facil': 154, 'yourself': 155, 'mcourt': 156, 'discount': 157, 'camo': 158, 'hama': 159, 'CD': 160, 'napl': 161, 'import': 162, 'haha': 163, 'prognosi': 164, 'prosecutor': 165, 'timebomb': 166, 'parenthood': 167, 'sturgi': 168, 'fwi': 169, 'travers': 170, 'forestservic': 171, 'commod': 172, 'donaldson': 173, 'HT': 174, 'task': 175, 'live': 176, 'swansea': 177, 'post': 178, 'contig': 179, 'pvri': 180, 'core': 181, 'monthli': 182, 'espn': 183, 'fabric': 184, 'ebay': 185, 'top-down': 186, 'good': 187, 'rome': 188, 'warden': 189, 'miniatur': 190, 'evildead': 191, '_sting': 192, 'mention': 193, 'lightli': 194, 'mchenri': 195, 'ether': 196, 'redruthåêuk': 197, 'guabxfv': 198, 'breed': 199, '\\x81': 200, 'immin': 201, 'loss': 202, 'rigga': 203, 'rebel': 204, '_tornado': 205, '5-0': 206, 'grill': 207, 'flatback': 208, 'sharp': 209, 'earphon': 210, 'nflweek': 211, 'declin': 212, 'thermostat': 213, 'zrnf': 214, 'inspector': 215, 'fastest': 216, 'icymi': 217, 'to-read': 218, 'behaviour': 219, '-3.43': 220, 'dean': 221, 'parson': 222, 'gucci': 223, 'nevermor': 224, 'hardwel': 225, 'foxa': 226, 'seriou': 227, 'lavenderpoetrycaf': 228, 'somebodi': 229, '_ram0': 230, 'chunk': 231, 'happen': 232, 'procedur': 233, 'sick': 234, 'okinawa': 235, 'rossendal': 236, 'elkhorn': 237, 'caesar': 238, '_wgg': 239, 'wmata': 240, 'injuri': 241, '(': 242, 'floral': 243, 'piraci': 244, 'altamont': 245, 'descript': 246, 'liveleak': 247, 'hyatt': 248, 'reli': 249, '7:00': 250, 'doer': 251, 'innit': 252, 'backroad': 253, 'succeed': 254, 'e-hutch': 255, 'dart': 256, 'heartbreak': 257, 'paramor': 258, 'der': 259, 'aka': 260, 'noranda': 261, 'loretta': 262, 'wld': 263, 'NJ': 264, 'demolish-deep': 265, 'ped': 266, '1895': 267, 'staf': 268, 'enviroment': 269, '_south': 270, 'benghazi': 271, 'll': 272, 'thanksgiv': 273, 'bonu': 274, 'tuni': 275, '_brelsford': 276, 'flush': 277, 'finnish': 278, 'mobil': 279, 'switch': 280, 'foster': 281, '2724': 282, 'came': 283, \"'re\": 284, 'sept': 285, '_icu': 286, ']': 287, 'vibe': 288, 'waters-land': 289, 'temperatur': 290, 'heather': 291, 'devia': 292, 'martinmj': 293, 'flesh': 294, 'slut': 295, 'riser': 296, 'likkli': 297, '4ohio': 298, 'ââ86bn': 299, 'magnum': 300, 'brown-deton': 301, 'free': 302, 'oldest': 303, 'paus': 304, 'patio': 305, 'di': 306, 'austin': 307, 'unfortunemelodi': 308, 'catlow': 309, 'cnnbrk': 310, 'chicago-area': 311, 'liguist': 312, 'matter': 313, 'taco': 314, 'affect': 315, '@_ashj': 316, '_w1997': 317, 'outta': 318, 'accustom': 319, 'lamp': 320, 'nod': 321, 'dissert': 322, 'wake': 323, 'august': 324, 'rise': 325, '4len': 326, 'hashimoto': 327, '#8217': 328, 'veteran': 329, 'hatr': 330, 'heart': 331, 'elvi': 332, 'octagon': 333, 'nicol': 334, 'goat': 335, 'germ': 336, 'excit': 337, '30': 338, 'protein': 339, 'address': 340, 'mcmahon': 341, 'ûïyou': 342, 'apologis': 343, 'park': 344, 'astound': 345, 'klitschko': 346, 'wellington': 347, 'ga': 348, 'exhibit': 349, '_destroy': 350, 'tt': 351, 'sux': 352, 'taught': 353, 'phenomen': 354, 'fatburn': 355, 'jaylenejoybeligan': 356, 'delinqu': 357, 'laoi': 358, 'ontario': 359, 'rizzo': 360, 'nuy': 361, 'megalpoli': 362, 'imprison': 363, 'delug': 364, 'exam': 365, 'selfi': 366, 'lax': 367, 'repris': 368, 'ibrahimmisau': 369, 'kahel': 370, 'advers': 371, 'incit': 372, 'jbumzqpk': 373, 'potu': 374, 'afternoon': 375, 'deplor': 376, 'swing': 377, 'paper-storm': 378, 'fact': 379, 'û_1': 380, 'rebuilt': 381, 'itali': 382, 'compliment': 383, '16': 384, 'northeastern': 385, \"f'in\": 386, 'theme': 387, '_east': 388, 'genuin': 389, 'esh': 390, '3/4': 391, 'cunt': 392, 'beneath': 393, 'forward': 394, 'threat': 395, 'deconstruct': 396, 'warehous': 397, 'bland': 398, 'critter': 399, 'dei': 400, 'norfolk': 401, '1:7': 402, 'speaker': 403, 'tanker': 404, 'advic': 405, 'bow': 406, 'janta': 407, 'idiot': 408, 'submerg': 409, 'post-war': 410, 'wasn': 411, '1.13': 412, 'vandalis': 413, 'grit': 414, 'ssb': 415, '250k': 416, 'thyroid': 417, 'america': 418, '_realckt': 419, 'cbplawyer': 420, 'dead': 421, 'interior': 422, 'stale': 423, 'leo': 424, 'cartel': 425, 'skype': 426, 'utp': 427, '122': 428, 'kinet': 429, 'surfer': 430, 'yumiko': 431, 'winnabl': 432, 'refresh': 433, 'strive': 434, 'weston': 435, 'contemporari': 436, 'vladimir': 437, 'call': 438, 'faan': 439, 'pwhvgwax': 440, '6C': 441, 'hampshir': 442, 'ish': 443, 'undon': 444, 'bickford': 445, 'minor': 446, 'chiasson': 447, 'agenc': 448, 'breast': 449, 'never': 450, '_devo': 451, 'gpw': 452, 'roppongi': 453, '35.8140': 454, '2327564': 455, 'livemint': 456, 'ophelia': 457, 'necessari': 458, 'ooh': 459, 'gen': 460, 'board': 461, 'diesel': 462, 'pa': 463, 'forb': 464, 'pleas': 465, '305': 466, 'remembr': 467, '_brook': 468, 'innov': 469, 'facebook': 470, 'relaxinpr': 471, 'caitlin': 472, 'hide': 473, 'quick': 474, 'ûówe': 475, 'astroturf': 476, 'eaten': 477, 'diarrhea': 478, 'healthcar': 479, '014': 480, 'bistro': 481, '_carrol': 482, 'intertissu': 483, 'chug': 484, 'effort': 485, 'extern': 486, 'mf': 487, 'repress': 488, 'judg': 489, 'grand': 490, '100.000': 491, '_dirti': 492, 'spohn': 493, 'earthquak': 494, 'eliotschool': 495, 'sr121': 496, 'wbu': 497, 'victorian': 498, 'infact': 499, 'vroman': 500, 'tabl': 501, 'reactor-bas': 502, 'OH': 503, 'biolog': 504, 'children': 505, 'tutori': 506, 'metropol': 507, 'youth': 508, 'envis': 509, 'creativity-balance-longev': 510, 'ohio': 511, 'rockingham': 512, '7/10': 513, 'hihow': 514, 'pkk': 515, 'name': 516, 'retroact': 517, 'ebb': 518, 'starr': 519, 'boycarri': 520, 'wreck': 521, 'backward': 522, 'fastpitch': 523, 'edmonton': 524, 'tess': 525, '_21': 526, 'tan': 527, 'birthday': 528, '2613': 529, 'legionnair': 530, 'FC': 531, '21st': 532, 'mp.mi': 533, 'rework': 534, 'shut': 535, 'frustrat': 536, 'guild': 537, 'shopp': 538, 'summari': 539, 'foot-tal': 540, 'littlebitofbass': 541, 'trampl': 542, 'qti': 543, 'ibaraki': 544, 'automat': 545, 'potenti': 546, 'wsoc': 547, 'quot-televis': 548, 'moist': 549, 'pizza': 550, 'petrichour': 551, 'airasia': 552, 'self-piti': 553, 'bia': 554, 'brilliant': 555, 'orch': 556, 'ogt': 557, '@1233newcastl': 558, 'diseas': 559, 'snicker': 560, '#999day': 561, 'xavier': 562, 'packag': 563, 'molli': 564, 'design': 565, 'orchard': 566, 'strawberri': 567, 'jam': 568, 'career': 569, 'stavola': 570, 'email': 571, '_5': 572, 'tcc': 573, '369': 574, 'trashcan': 575, 'guy': 576, 'oregon': 577, 'labour': 578, 'feel': 579, 'soaker': 580, 'edkin': 581, 'redesign': 582, 'mainland': 583, 'keel': 584, 'maru': 585, 'stoke': 586, 'final': 587, 'panick': 588, 'billion': 589, 'germani': 590, 'squabbl': 591, 'newport': 592, 'stunningli': 593, 'reddish': 594, 'busiest': 595, 'landscap': 596, 'mh370': 597, '2x10': 598, 'underskirt': 599, 'putin': 600, 'moment': 601, 'besieg': 602, 'square-foot': 603, 'msm': 604, 'thereof': 605, 'prevent': 606, 'over-satur': 607, 'spend': 608, 'jitter': 609, 'scorpion': 610, 'dip': 611, 'vice': 612, 'ru': 613, 'sport': 614, 'dispos': 615, 'yemeni': 616, 'volcano': 617, 'J': 618, 'hub': 619, 'croze': 620, 'salado': 621, '#171': 622, 'bonner': 623, 'jersey': 624, 'quirk': 625, 'kelsey': 626, 'geoengin': 627, 'antiochu': 628, 'shtap': 629, 'overnight': 630, 'small': 631, '10mm': 632, 'rat': 633, 'trailhead': 634, '_llama': 635, 'evanston': 636, 'nice': 637, 'disappoint': 638, 'askin': 639, '. .': 640, ':(': 641, 'founder': 642, 'detour': 643, 'hazard-di': 644, 'lili': 645, 'foo': 646, 'tyrant': 647, '_wolverin': 648, 'encount': 649, 'egypt': 650, 'annddd': 651, 'fierc': 652, 'RI': 653, 'exhaust': 654, 'el-bestia': 655, 'shred': 656, 'memori': 657, 'wooooooo': 658, 'destroyed.it': 659, 'spit': 660, '_casualti': 661, 'medit': 662, 'workspac': 663, 'infect': 664, '_new': 665, 'premier': 666, 'northern': 667, 'remix': 668, '1330': 669, '_prime': 670, 'dress': 671, 'geyser': 672, 'barton': 673, 'gross': 674, 'scholar': 675, 'blown': 676, 'twain': 677, 'season': 678, 'coronet': 679, 'renam': 680, 'lubric': 681, 'emerg': 682, 'truli': 683, 'carri': 684, 'dorman': 685, 'mayweath': 686, 'khq': 687, 'dessic': 688, '4taiji': 689, 'donut': 690, 'nosso': 691, 'constitut': 692, 'hill': 693, 'falmer': 694, 'includ': 695, 'insomniac': 696, 'sterling-scott': 697, 'i77': 698, 'chill': 699, 'ppc': 700, 'arcadia': 701, '914': 702, 'fitzgerald': 703, 'success': 704, '_man_kitti': 705, 'expert': 706, 'belief': 707, 'dal': 708, 'hatzolah': 709, 'overse': 710, 'maca': 711, 'fewer': 712, 'denmark': 713, 'gees': 714, 'video.thank': 715, 'demand': 716, 'practic': 717, 'poetri': 718, 'weapon': 719, '2.2': 720, 'qualit': 721, 'davidson': 722, 'karjo': 723, 'hous': 724, 'mediterranean': 725, 'tripl': 726, 'vocalist': 727, 'unemploy': 728, 'honest': 729, 'forrestmankin': 730, 'suitabl': 731, 'gyrsi': 732, 'sock': 733, 'hypocrisi': 734, 'tb4': 735, 'kane': 736, 'diamond': 737, 'twin': 738, 'FH': 739, 'first': 740, 'blah': 741, 'donald': 742, 'credenti': 743, 'favorit': 744, 'outburst': 745, 'push': 746, 'dissuad': 747, 'tour': 748, 'yellowston': 749, 'dumbass': 750, 'tattoo': 751, 'reinstat': 752, 'rahm': 753, 'antichrist': 754, 'poll': 755, 'b4': 756, 'thirsti': 757, 'AQ': 758, 'thranduil': 759, '_ev': 760, 'trestl': 761, 'x-file': 762, 'delux': 763, 'month-old': 764, 'tfw': 765, 'speci': 766, 'praam': 767, 'preschool': 768, 'wut': 769, 'outrun': 770, '35w': 771, 'sylvan': 772, 'box': 773, 'em': 774, 'compens': 775, 'thurlow': 776, 'preval': 777, 'dehydr': 778, 'legal': 779, 'tenno': 780, '60': 781, 'colin': 782, 'delet': 783, 'youngin': 784, 'lyrium': 785, 'belt': 786, 'ghee': 787, 'showdown': 788, 'blais': 789, 'liber': 790, '5.2': 791, '_english': 792, 'apocalpyt': 793, 'hank': 794, 'select': 795, 'jenner': 796, 'pileup': 797, 'muzaffarabad': 798, 'obstacl': 799, '_sophi': 800, '99': 801, 'vuca': 802, 'harrow': 803, 'sacr': 804, 'dilapit': 805, 'std': 806, 'underwat': 807, 'viayoutub': 808, 'lollapalooza': 809, 'popobawa': 810, 'half': 811, 'wrestler': 812, 'seaton': 813, 'denver': 814, 'domain': 815, 'limeston': 816, 'E': 817, 'ethic': 818, 'lift': 819, '_iu': 820, 'DK': 821, 'supremacist': 822, 'sank': 823, 'al': 824, 'groom': 825, 'dewdney': 826, 'meltdown': 827, 'bcuz': 828, 'amali': 829, 'fgcu': 830, 'tellyi': 831, 'twi': 832, 'p': 833, 'disturb': 834, 'lock': 835, 'onlinea': 836, 'gaia': 837, 'nra': 838, 'derbi': 839, 't-storm': 840, '17:11': 841, 'spartan': 842, 'xb1': 843, 'yet': 844, 'ocalan': 845, 'start': 846, 'see': 847, 'lobbi': 848, 'wipe': 849, 'smokey': 850, 'nerv': 851, 'zionist': 852, 'deglin': 853, 'submit': 854, 'hint-devast': 855, '#8nn': 856, 'john': 857, 'outsid': 858, 'bloodi': 859, 'heat-wav': 860, 'inw': 861, 'bomber': 862, 'shot': 863, 'memor': 864, 'lone': 865, 'strain': 866, 'alexandrian': 867, 'browser': 868, '@3nach9': 869, 'sixth': 870, '...': 871, 'ball': 872, 't': 873, 'china': 874, 'interrog': 875, 'pornhub': 876, 'snipe': 877, 'mino': 878, 'beez': 879, 'ûïthat': 880, 'theyr': 881, 'shuttl': 882, 'kenosha': 883, 'serephina': 884, 'insid': 885, 'output': 886, 'auditori': 887, 'milkshak': 888, 'kesabaran': 889, 'org': 890, 'prysmian': 891, 'natur': 892, 'asthma': 893, 'bod': 894, 'infin': 895, 'shreveport': 896, 'pbcanpcx': 897, 'lauren': 898, 'hyung': 899, 'U': 900, 'depart': 901, 'dougkessl': 902, 'disloc': 903, 'northampton': 904, 'newlyw': 905, '_ration': 906, 'carpent': 907, 'reck': 908, 'con': 909, 'dem': 910, 'graham': 911, 'cherri': 912, 'judici': 913, '#4552': 914, '124.13': 915, 'obscur': 916, 'edk': 917, 'lyric': 918, 'wew': 919, 'vibrat': 920, 'harri': 921, 'aaaaaand': 922, 'outdoor': 923, 'hijack': 924, 'spi': 925, 'supress': 926, 'molloy': 927, 'host': 928, 'meat-lov': 929, 'clair': 930, 'guillermo': 931, 'tobacco': 932, '_delrim': 933, 'rey': 934, '1m': 935, '55081': 936, 'collect': 937, 'cottag': 938, 'talk': 939, 'cig': 940, 'panda': 941, 'verseth': 942, 'bumper': 943, 'bare': 944, 'here--cnn': 945, 'hotel': 946, 'robot_rainstorm': 947, 'klimkin': 948, '_ridha': 949, 'uluru': 950, 'stepkan': 951, 'confidenti': 952, 'manori': 953, 'safeco': 954, 'legend': 955, 'adida': 956, 'haaretz': 957, 'rubber': 958, 'politic': 959, 'kurt': 960, 'panti': 961, \"presqu'il\": 962, 'cupcak': 963, 'real-tim': 964, 'technolog': 965, 'certainti': 966, 'auto': 967, 'typewrit': 968, 'knowlddg': 969, 'mullah': 970, 'a27': 971, 'ûïcat': 972, 'nightmarish': 973, 'diva': 974, 'kano': 975, 'notifi': 976, 'gbonyin': 977, 'proud': 978, 'kaldi': 979, 'wolv': 980, 'vita': 981, \":'(\": 982, 't_t': 983, 'awe': 984, 'biller': 985, 'billionair': 986, 'hisao': 987, 'vicker': 988, '434': 989, 'lotm': 990, 'offens': 991, 'vine': 992, 'blowin': 993, 'featcha': 994, 'shine': 995, 'slosher': 996, 'intl': 997, 'halsey': 998, 'fil': 999, '7:10': 1000, 'noodl': 1001, 'overtak': 1002, 'maddi': 1003, 'orang': 1004, 'terrorist': 1005, 'aeg': 1006, 'law': 1007, 'syndrom': 1008, 'badass': 1009, 'shift': 1010, '100mb': 1011, 'katunew': 1012, 'allegedli': 1013, 'oakridg': 1014, 'suppos': 1015, 'afford': 1016, 'alfon': 1017, 'aliv': 1018, 'cruisingblaz': 1019, '{:': 1020, 'jacobin': 1021, '3åê': 1022, 'kpk': 1023, 'patriot': 1024, 'setsuko': 1025, 'spurgeon': 1026, 'york': 1027, 'hamburg': 1028, 'twp': 1029, 'mayflow': 1030, 'game-day': 1031, 'thong': 1032, 'mpp': 1033, 'difficulti': 1034, 'bake': 1035, 'vein': 1036, 'usb': 1037, 'unborn': 1038, 'beat': 1039, 'progress': 1040, '_kass': 1041, 'prod': 1042, 'sprint': 1043, 'maryland': 1044, 'esoter': 1045, 'pilgrim': 1046, 'bacteria': 1047, 'english': 1048, 'insult': 1049, 'newcastl': 1050, 'trooper': 1051, 'peopl': 1052, 'summersid': 1053, 'blow': 1054, '30pm': 1055, 'aunft': 1056, '_train': 1057, 'oworoshoki': 1058, 'postapocalypticflimflam': 1059, 'papi': 1060, 'curl': 1061, 'hhw': 1062, 'fdbdp': 1063, 'booti': 1064, 'cocktail': 1065, '2ad': 1066, 'dragneel': 1067, 'deem': 1068, 'vicin': 1069, 'reebok': 1070, 'holodomor': 1071, 'lion': 1072, 'independ': 1073, 'lookin': 1074, 'snowman': 1075, 'monkey': 1076, 'tunisian': 1077, 'exot': 1078, 'hankel': 1079, 'wth': 1080, '_women': 1081, 'contact': 1082, 'naval': 1083, '_paat': 1084, 'riggd': 1085, 'appreci': 1086, 'isra': 1087, '7.23': 1088, 'unstabl': 1089, 'barton-le-clay': 1090, 'eral': 1091, 'movi': 1092, 'warp': 1093, 'juliet': 1094, 'brazil': 1095, '326': 1096, 'lifeguard': 1097, 'indiana': 1098, '_brut_': 1099, 'skip': 1100, '_giuliani': 1101, 'stephenson': 1102, '630nz': 1103, 'nightmarishli': 1104, 'rescu': 1105, 'scari': 1106, '4vaal': 1107, 'chelsea': 1108, 'narrat': 1109, 'tasti': 1110, 'waterproof': 1111, '4everev': 1112, 'tailor': 1113, 'each': 1114, 'dimens': 1115, 'plank': 1116, 'colbert': 1117, 'nside': 1118, 'oral': 1119, 'intro': 1120, 'gettin': 1121, 'petebest': 1122, 'brew': 1123, 'empir': 1124, 'welli': 1125, 'ricochet': 1126, 'may': 1127, 'cheeto': 1128, 'eac': 1129, 'ben': 1130, 'suicide-bomb': 1131, 'quadrillion': 1132, 'youtub': 1133, 'DC': 1134, 'bat': 1135, 'stuffin': 1136, 'thriller': 1137, 'linford': 1138, 'cheesecak': 1139, 'clam': 1140, 'listen': 1141, 'collin': 1142, 'condens': 1143, 'pluto': 1144, '#9newsmorn': 1145, 'cya': 1146, 'regist': 1147, 'center': 1148, 'h20': 1149, 'tuition': 1150, 'goz': 1151, 'yeeessss': 1152, '_noel95': 1153, 'bowhunt': 1154, 'db5': 1155, 'chicago': 1156, 'paw': 1157, 'obligatori': 1158, 'consent': 1159, 'pivot': 1160, 'honour': 1161, 'highway': 1162, 'sunray': 1163, 'shatter': 1164, 'remain': 1165, '12m': 1166, 'hoist': 1167, 'horrif': 1168, 'vir': 1169, 'lupe': 1170, 'bombed-out': 1171, 'path': 1172, 'jacket': 1173, 'secondhand': 1174, 'gene': 1175, 'stripe': 1176, 'mon': 1177, 'coaster': 1178, 'dakota': 1179, 'grizzli': 1180, 'treat': 1181, 'dont': 1182, 'unaffect': 1183, 'mine': 1184, 'sha': 1185, 'ye': 1186, 'hair': 1187, 'x-ray': 1188, 'fir': 1189, 'chose': 1190, 'hollywood': 1191, 'apaz': 1192, 'tint': 1193, 'lifetim': 1194, '89': 1195, '@1800_injur': 1196, 'boutta': 1197, 'incl': 1198, 'hermitag': 1199, 'WY': 1200, 'âÂ': 1201, 'boo': 1202, 'horror': 1203, 'despit': 1204, 'ntsb': 1205, 'campground': 1206, 'kinder': 1207, 'ûïsippin': 1208, '75000': 1209, 'leh': 1210, 'abbott': 1211, 'still': 1212, 'åÊ': 1213, 'thick': 1214, '123': 1215, 'blend': 1216, 'hqhed': 1217, 'drama': 1218, 'thda': 1219, 'giant': 1220, 'dojo': 1221, 'tech-fre': 1222, 'slightest': 1223, 'seawal': 1224, 'subatom': 1225, 'rant': 1226, 'sabotag': 1227, 'diageo': 1228, 'accident': 1229, 'ugh': 1230, 'billneelynbc': 1231, 'HR': 1232, 'ET': 1233, 'slip': 1234, 'india-back': 1235, '_insan': 1236, '530': 1237, 'bovin': 1238, 'decade-long': 1239, 'upon': 1240, 'emile': 1241, 'grant': 1242, 'cecil': 1243, 'yakub': 1244, 'deton': 1245, '@_asianshawtyy': 1246, 'angela': 1247, 'rough': 1248, 'no-passeng': 1249, 'commenc': 1250, 'gate': 1251, 'outnumb': 1252, 'blackmail': 1253, 'cheryl': 1254, 'print': 1255, 'sputter': 1256, 'influenti': 1257, 'coif': 1258, 'whether': 1259, 'gender': 1260, 'bombed.it': 1261, '390': 1262, 'neil': 1263, 'buckl': 1264, 'slaves.w': 1265, 'calm': 1266, 'ambit': 1267, 'tunein': 1268, 'zouma': 1269, 'maria': 1270, 'valeri': 1271, 'impact': 1272, 'fkn': 1273, 'guo-qiang': 1274, 'stair': 1275, 'triad': 1276, 'photographi': 1277, 'garfield-cottag': 1278, 'insofar': 1279, 'infrastructur': 1280, 'weirdo': 1281, 'jammu.if': 1282, 'totteham': 1283, '11000': 1284, 'calgarian': 1285, 'desir': 1286, 'galaxi': 1287, '@_laneyslif': 1288, 'parch': 1289, 'perp': 1290, '_talkmc': 1291, 'jihad': 1292, 'psych': 1293, 'opu': 1294, 'cosponsor': 1295, 'casual': 1296, '2am': 1297, 'reason': 1298, '7-16': 1299, '04': 1300, 'downfal': 1301, 'bff': 1302, '4x4': 1303, 'villano': 1304, '_niggr': 1305, 'fear': 1306, 'experienc': 1307, '52.214904': 1308, 'easier': 1309, 'flavor': 1310, 'indic': 1311, 'aa': 1312, 'mountaintop': 1313, 'chann': 1314, 'bicentenni': 1315, 'count': 1316, 'late': 1317, '9.94': 1318, 'wagyu': 1319, 'demi': 1320, 'achimota': 1321, 'encyclopedia': 1322, 'hardcor': 1323, 'plea': 1324, 'winnipeg': 1325, 'sun_ofgod': 1326, 'minaj': 1327, 'ir': 1328, 'aashiqui': 1329, 'ind': 1330, 'plutot': 1331, 'zero': 1332, 'emeri': 1333, 'gladbach': 1334, 'iverson': 1335, 'up': 1336, 'journey': 1337, 'work-rel': 1338, 'chim': 1339, 'buildings-on-fir': 1340, 'vela': 1341, 'protestor': 1342, 'endors': 1343, 'KE': 1344, 'vitess': 1345, 'sophist': 1346, 'vist': 1347, 'birb': 1348, 'cigarett': 1349, 'accus': 1350, 'amid': 1351, '1.57': 1352, 'cebu': 1353, '_P': 1354, 'snowden': 1355, '1ff3r3nt1sg00d': 1356, 'multi-casualti': 1357, 'temp': 1358, 'shorelin': 1359, 'quivk': 1360, 'outlook': 1361, 'auc': 1362, 'score': 1363, 'lie': 1364, '064': 1365, 'trivium': 1366, 'toooooo': 1367, 'asylum': 1368, 'kit': 1369, 'locomot': 1370, 'warcraft': 1371, 'environment': 1372, 'skateboard': 1373, 'emperor': 1374, 'PS': 1375, 'anybodi': 1376, 'thrown': 1377, 'jealou': 1378, 'ltz': 1379, 'airport': 1380, '_sculli': 1381, 'natwest': 1382, '2/2': 1383, 'metroid': 1384, 'rip': 1385, '989': 1386, 'menciu': 1387, 'k_matako_bot': 1388, 'goodlook.run': 1389, '¬': 1390, 'toronto': 1391, 'LA': 1392, 'richelieu-saint-laur': 1393, 'indo-japan': 1394, 'lend': 1395, '15000044357': 1396, 'qualiti': 1397, 'ici': 1398, 'readout': 1399, 'kame': 1400, 'rocki': 1401, 'pamanian': 1402, '_ghost': 1403, '80m': 1404, 'bajrangi': 1405, 'sevenfigz': 1406, 'spider': 1407, 'diebold': 1408, 'rendit': 1409, '265v': 1410, 'lizeth': 1411, 'willingheart': 1412, 'utterli': 1413, 'hd': 1414, 'songfor': 1415, 'homecom': 1416, 'glide': 1417, '_knox': 1418, 'yours.stand': 1419, 'ctr': 1420, 'K3': 1421, 'resembl': 1422, 'ward': 1423, '1x1': 1424, 'wilson': 1425, 'n15b': 1426, 'geniu': 1427, 'charact': 1428, 'pakpattan': 1429, 'buddz': 1430, 'tkyonli': 1431, 'unpack': 1432, 'specul': 1433, 'apocalyps': 1434, 'appx': 1435, '260th': 1436, 'legitim': 1437, 'wormhol': 1438, 'sumn': 1439, 'parliment': 1440, 'standwout': 1441, 'NE': 1442, 'economi': 1443, 'trader': 1444, 'sera': 1445, 'should': 1446, '_wario': 1447, 'godslov': 1448, 'ceo': 1449, 'dmd': 1450, 'buffett': 1451, 'hussar': 1452, 'hess': 1453, 'RE': 1454, 'ejacul': 1455, 'ima': 1456, 'sarah': 1457, 'duh': 1458, 'szuter': 1459, 'unfold': 1460, '54.8': 1461, '2015.08': 1462, 'iwat': 1463, 'slightli': 1464, 'ûò7': 1465, 'ultra': 1466, '1915': 1467, 'un-imagin': 1468, 'que': 1469, 'suh': 1470, 'antiochhickoryhollow': 1471, 'antiviru': 1472, 'doc': 1473, 'grandad': 1474, 'yeaahh': 1475, 'ivoic': 1476, 'firework': 1477, 'wild': 1478, 'forrest': 1479, 'insomnia': 1480, 'elanorofrohan': 1481, 'hardi': 1482, 'ûïafter': 1483, 'looser': 1484, 'anyon': 1485, 'shop': 1486, 'left': 1487, 'ooohshit': 1488, '_keeponrockin': 1489, 'dkhqgv': 1490, 'wrote': 1491, 'begin': 1492, 'patent': 1493, 'massag': 1494, 'dambisa': 1495, 'pusssssssssi': 1496, 'slept': 1497, 'bulgarian': 1498, 'slide': 1499, 'takin': 1500, 'somethin': 1501, 'comin': 1502, 'strait': 1503, 'arlington': 1504, 'analysi': 1505, 'kick': 1506, 'slump': 1507, 'vintag': 1508, 'plz': 1509, '96km': 1510, 'sneez': 1511, 'superstit': 1512, 'favor': 1513, 'ca': 1514, 'queenåê': 1515, 'patricio': 1516, 'hilari': 1517, 'lurkin': 1518, '62': 1519, '__': 1520, 'accompani': 1521, 'yank': 1522, '@95root': 1523, 'rsf': 1524, 'mend': 1525, 'non-compli': 1526, 'flint': 1527, 'careen': 1528, 'garag': 1529, 'hose': 1530, 'major': 1531, 'blogger': 1532, 'dispatch': 1533, 'speak': 1534, 'supernatur': 1535, '531': 1536, 'shape': 1537, 'scariest': 1538, 'awwww': 1539, 'åêfedex': 1540, 'lyricaley': 1541, 'ps4': 1542, 'peal': 1543, 'fanboy': 1544, 'bookslast': 1545, 'rabidmonkey': 1546, 'baseman': 1547, '_chandler': 1548, 'specci': 1549, 'palin': 1550, 'optik': 1551, 'cardin': 1552, 'worn': 1553, 'mk2': 1554, 'sbujdjsj': 1555, '94kyle': 1556, 'nobodi': 1557, 'through': 1558, 'a40': 1559, 'karlsruh': 1560, 'stamp': 1561, 'eros': 1562, 'capabl': 1563, '11': 1564, 'astrakhan': 1565, 'metric': 1566, 'levi': 1567, 'murder': 1568, 'bomd': 1569, 'saumur': 1570, 'fairport': 1571, 'goooooooo': 1572, 'pend': 1573, '42': 1574, 'densiti': 1575, 'GD': 1576, 'nsf': 1577, 'humaza': 1578, 'breakfast': 1579, 'sarcast': 1580, 'whitewash': 1581, 'tweak': 1582, 'too': 1583, '_wate': 1584, 'kook': 1585, 'align': 1586, 'lbr': 1587, 'livin': 1588, 'cancer': 1589, 'biven': 1590, 'ight': 1591, '2nd': 1592, 'tend': 1593, 'fun': 1594, 'pnc': 1595, '39': 1596, '2.40': 1597, 'becuas': 1598, 'ak': 1599, 'water-resist': 1600, 'scofield': 1601, 'ÛÓ': 1602, 'ring': 1603, '600': 1604, 'przez': 1605, 'angelina': 1606, 'mainli': 1607, 'tfd': 1608, 'nail': 1609, 'anew': 1610, 'par': 1611, 'debut': 1612, 'hold': 1613, 'high': 1614, 'l-drago': 1615, 'somaliaeritrea': 1616, 'evad': 1617, 'titan': 1618, 'isa': 1619, 'ks161': 1620, 'non': 1621, 'wolfgangjoc': 1622, 'disadvantag': 1623, 'beauti': 1624, 'township': 1625, 'durant': 1626, 'libbi': 1627, 'transocean': 1628, 'e': 1629, 'survivor': 1630, 'hat': 1631, '58': 1632, 'MS': 1633, 'contrast': 1634, 'pine': 1635, 'dryden': 1636, 'ny2': 1637, 'polar': 1638, 'truths-of': 1639, 'manhood': 1640, 'instruct': 1641, 'ufhguhfidt': 1642, 'masturb': 1643, 'marley': 1644, 'briton': 1645, '_girl': 1646, 'exponenti': 1647, 'peic': 1648, 'locksmithing-art': 1649, 'fisherman': 1650, 'reopen': 1651, 'o784': 1652, 'caaaaaall': 1653, 'cigar': 1654, 'alley': 1655, 'gymnast': 1656, '#38745': 1657, 'amsterdam': 1658, 'bama': 1659, 'breach': 1660, 'dian': 1661, 'agricultur': 1662, 'photo-op': 1663, '91å': 1664, 'ahhhh': 1665, 'dang': 1666, '400t': 1667, 'nor': 1668, 'miss': 1669, 'squeaki': 1670, 'chord': 1671, 'dodg': 1672, 'regr': 1673, 'wyrmwood': 1674, 'nativ': 1675, 'HA': 1676, '1.00': 1677, 'standardis': 1678, 'cal': 1679, 'barbado': 1680, 'me': 1681, 've': 1682, 'scar': 1683, '119': 1684, 'motiv': 1685, 'seven': 1686, '6E': 1687, 'quot': 1688, 'unconsci': 1689, 'plug': 1690, '51': 1691, '917-032': 1692, 'privleg': 1693, '3lyon': 1694, 'usatoday_nfl': 1695, 'car': 1696, 'browni': 1697, 'apart': 1698, 'homi': 1699, 'hotbox': 1700, 'lafayett': 1701, 'i580': 1702, 'couldnt': 1703, 'vi': 1704, 'revenu': 1705, 'faith': 1706, 'iit': 1707, 'scotland': 1708, 'indonesian': 1709, 'frat': 1710, 'l.victoria': 1711, 'r1354': 1712, '@1061thetwist': 1713, 'unrest': 1714, 'coincid': 1715, 'ton': 1716, '_gidi': 1717, 'violat': 1718, 'shadow': 1719, '0789': 1720, 'ajmal': 1721, 'smhrn': 1722, 'thing': 1723, 'bridal': 1724, 'guerrilla': 1725, 'war-zon': 1726, 'withåêannihil': 1727, 'bang': 1728, 'cari': 1729, 'whyor': 1730, 'elecman': 1731, '4eva': 1732, 'sanchez': 1733, 'machin': 1734, '11:57': 1735, 'recordand': 1736, 'exp': 1737, 'jupit': 1738, 'ay': 1739, 'nothing': 1740, 'mere': 1741, 'epidem': 1742, 'KS': 1743, 'erea': 1744, 'hahaha': 1745, 'trick': 1746, 'woodland': 1747, 'falling-off-stool': 1748, 'cpanel': 1749, 'evid': 1750, 'vale': 1751, 'paci': 1752, \"can'two\": 1753, 'smooth': 1754, 'siena': 1755, 'bushfir': 1756, 'sivan': 1757, 'inspect': 1758, 'uttarakhand': 1759, '_': 1760, 'men_uk': 1761, 'henchman': 1762, 'shove': 1763, 'gaelit': 1764, 'keep': 1765, 'suit': 1766, 'nagasaki': 1767, 'ultimatum': 1768, 'radicalis': 1769, 'AA': 1770, 'shore': 1771, 'coolest': 1772, 'molecularli': 1773, 'crbzfz': 1774, 'glowng': 1775, 'striker': 1776, 'jamaica': 1777, 'elit': 1778, 'jare': 1779, 'laud': 1780, 'noaa': 1781, 'homework': 1782, 'netbot': 1783, 'sprinter': 1784, 'info-technew': 1785, 'XV': 1786, 'uplift': 1787, 'bitterroot': 1788, 'marquei': 1789, 'payer': 1790, 'changin': 1791, 'proper': 1792, 'hansel': 1793, 'cargo': 1794, 'advertis': 1795, 'sami': 1796, 'captor': 1797, 'wall': 1798, 'odeon': 1799, 'sprain': 1800, 'sex-them': 1801, 'OC': 1802, 'rd': 1803, 'log': 1804, 'gmt': 1805, 'latinoand': 1806, 'teduka': 1807, 'pillow': 1808, 'footag': 1809, 'servant': 1810, 'svetlana': 1811, 'beck': 1812, 'warlord': 1813, 'shush': 1814, 'exampl': 1815, 'bucharest': 1816, 'terraria': 1817, 'confess': 1818, 'anti-feminist': 1819, 'test': 1820, 'whoo': 1821, 'tetovo': 1822, 'my': 1823, 'ride': 1824, 'tmp': 1825, 'crown': 1826, 'nasb': 1827, 'noch': 1828, 'fangirl': 1829, 'room': 1830, 'sector': 1831, 'the': 1832, 'joli': 1833, 'grime': 1834, 'practition': 1835, 'gotthard': 1836, 'OK': 1837, 'perri': 1838, 'l-h': 1839, 'breakdown': 1840, 'bloom': 1841, 'tbr': 1842, '_brittani': 1843, 'beaverton': 1844, 'perform': 1845, 'eep': 1846, '375.000': 1847, '0013': 1848, 'exercis': 1849, 'NW': 1850, 'lind': 1851, 'kall': 1852, 'wpt': 1853, 'therapi': 1854, 'napa': 1855, 'dribbl': 1856, 'firefigth': 1857, 'berlatski': 1858, 'walk': 1859, 'bu': 1860, 'elsa': 1861, 'kosciusko': 1862, 'ogbor': 1863, '11:38': 1864, 'mhmmm': 1865, 'demis': 1866, 'gusti': 1867, 'weimar': 1868, '2015america': 1869, 'chandane': 1870, 'wpd': 1871, 'respond': 1872, 'side': 1873, '180': 1874, 'needi': 1875, 'thankkk': 1876, 'cowboy': 1877, 'motorcraft': 1878, 'pea': 1879, 'tonto': 1880, 'plane': 1881, 'etoff': 1882, 'indiscrimin': 1883, 'cole': 1884, 'poem': 1885, 'bloody-mind': 1886, 'ayhhhhhdjjfjrjjrdjjek': 1887, 'shane': 1888, 'seeker': 1889, 'shadowman': 1890, 'retail': 1891, '@21joseph': 1892, 'pickerel': 1893, 'tragedi': 1894, '_daa': 1895, '47km': 1896, '6612': 1897, '@4tpfa': 1898, 'earl': 1899, 'penn': 1900, 'hack': 1901, 'ny1': 1902, \"int'l\": 1903, '1993': 1904, '_periferico': 1905, '_miloko': 1906, '@1acd4900c1424d1': 1907, '@9newsgoldcoast': 1908, 'democrat': 1909, 'collision-unkn': 1910, 'phillip': 1911, 'nycfc': 1912, 'gravi': 1913, 'canaanit': 1914, 'extremist': 1915, 'deepwat': 1916, 'hapless': 1917, 'joy': 1918, '120v': 1919, '#1008pla': 1920, 'finer': 1921, 'downright': 1922, 'weigh': 1923, 'nap': 1924, 'blair': 1925, '#2minutemix': 1926, 'wdsu': 1927, 'geller': 1928, 'downtown': 1929, 'kwxggt': 1930, 'soz': 1931, 'malta': 1932, 'backroom': 1933, 'place': 1934, 'b': 1935, 'hitter': 1936, 'R7': 1937, 'skagg': 1938, 'radar': 1939, '357': 1940, 'sav': 1941, '0npzp': 1942, 'coat': 1943, 'durban': 1944, 'reportedli': 1945, 'iranian': 1946, 'emsc': 1947, 'kindermorgan': 1948, 'beaten': 1949, 'ballew': 1950, 'guap': 1951, 'spawn': 1952, 'mil-c': 1953, 'hpssjd': 1954, 'belo-ooow': 1955, 'farm': 1956, '`': 1957, 'reviv': 1958, 'invis': 1959, 'lb': 1960, 'tee': 1961, 'karma': 1962, 'event': 1963, 'ep': 1964, 'onlinemh': 1965, 'pour': 1966, 'to.remov': 1967, 'reaad': 1968, 'friggin': 1969, 'hog': 1970, 'want': 1971, 'invoic': 1972, 'coma': 1973, 'extinguish': 1974, 'iinet': 1975, 'faintli': 1976, 'northwestern': 1977, 'hmm': 1978, 'sunburn': 1979, 'hst': 1980, 'rubbin': 1981, 'sultri': 1982, 'sierra': 1983, 'suddenli': 1984, 'cmon': 1985, '301': 1986, 'hap': 1987, 'rich': 1988, 'regal': 1989, 'jan': 1990, 'isl': 1991, 'sharia': 1992, 'dwarv': 1993, 'cram': 1994, 'sumthng': 1995, 'eventu': 1996, 'silent': 1997, 'mortifi': 1998, 'NB': 1999, 'move': 2000, 'handsom': 2001, 'batista': 2002, 'horndal': 2003, 'drank': 2004, 'dice': 2005, 'rt-ed': 2006, 'plumb': 2007, 'nobl': 2008, 'ig': 2009, 'stream': 2010, '528': 2011, '33munni': 2012, 'rejuvenati': 2013, 'tasmania': 2014, 'US': 2015, 'monogram': 2016, '47': 2017, 'custom': 2018, 'dtom': 2019, 'factor': 2020, 'overrun': 2021, 'palm': 2022, 'banana': 2023, 'leader': 2024, 'trespass': 2025, 'albertvil': 2026, 'ba': 2027, 'mute': 2028, 'substanti': 2029, 'little-death': 2030, 'slew': 2031, 'm9a1': 2032, 'vol': 2033, 'easili': 2034, 'bardo': 2035, '__siren': 2036, 'feloni': 2037, '7aal': 2038, '645': 2039, 'gusto': 2040, 'pemantaujkt': 2041, '_dkarma': 2042, '1995': 2043, 'scratch': 2044, 'compound': 2045, 'charliz': 2046, 'destini': 2047, 'kenya': 2048, 'bn': 2049, 'lga': 2050, 'skynew': 2051, '370': 2052, 'receipt': 2053, 'mgm': 2054, 'then': 2055, 'sura': 2056, 'wahpeton': 2057, 'ex': 2058, 'misti': 2059, 'lasso': 2060, '_campi': 2061, 'gop-control': 2062, 'search': 2063, 'injustic': 2064, 'tryin': 2065, 'confus': 2066, 'treatmen': 2067, 'lara': 2068, 'insa': 2069, 'freya': 2070, 'dogg': 2071, 'invoicew': 2072, 'efcc': 2073, 'truckload': 2074, 'calendar': 2075, 'crawl': 2076, 'siouxlan': 2077, 'delud': 2078, 'ner': 2079, 'silinski': 2080, 'danc': 2081, 'owe': 2082, 'womengirl': 2083, 'shaken': 2084, 'gmcr': 2085, 'intens': 2086, 'whose': 2087, 'sahib': 2088, 'jumper': 2089, 'gah': 2090, 'poplar': 2091, 'petit': 2092, '3': 2093, 'nazi': 2094, 'kelli': 2095, 'pvp': 2096, 'taxpay': 2097, 'infield': 2098, 'suck': 2099, 'benoth': 2100, 'jap': 2101, 'carousel': 2102, '540': 2103, 'pree': 2104, 'tìüp': 2105, 'mindset': 2106, 'exclus': 2107, 'magellan': 2108, '21': 2109, '_jdavi': 2110, 'cc': 2111, 'mattress': 2112, 'untangl': 2113, 'sacramento': 2114, 'a10pari': 2115, 'ww2': 2116, 'tejc': 2117, 'weaken': 2118, '2D': 2119, 'expertis': 2120, 'A2': 2121, '=p': 2122, 'jak': 2123, '_yancey': 2124, 'axl': 2125, 'litig': 2126, 'reg': 2127, 'freedom': 2128, 'sweat-seek': 2129, 'rtphotographyuk': 2130, 'kira': 2131, '1': 2132, 'same-sex': 2133, 'laundri': 2134, 'fowler': 2135, 'venom': 2136, 'rejoic': 2137, 'theolog': 2138, 'dust': 2139, 'mthe': 2140, 'negro': 2141, 'wod': 2142, 'disarm': 2143, '500': 2144, 'splatl': 2145, 'axwav': 2146, 'deters': 2147, '_u': 2148, '_mikejo': 2149, 'jhaustin': 2150, 'chihaya': 2151, 'thank': 2152, 'hardsid': 2153, 'radioact': 2154, 'roller': 2155, 'ipa': 2156, 'windstormåêinsur': 2157, 'salha': 2158, 'homegrown': 2159, 'recogn': 2160, 'injur': 2161, 'restaur': 2162, 'esport': 2163, 'protector': 2164, 'tricycl': 2165, 'Q': 2166, 'westchest': 2167, 'nbchannib': 2168, 'saddlebrook': 2169, 'gps-base': 2170, '144': 2171, 'messiah': 2172, 'rotari': 2173, 'pharaoh': 2174, 'raheel': 2175, 'neptunia': 2176, 'snowflak': 2177, 'clip': 2178, 'woodlawn': 2179, 'veri': 2180, 'auction': 2181, 'anymor': 2182, 'landolina': 2183, 'hanneman': 2184, 'richardson': 2185, 'gail': 2186, 'darken': 2187, '517': 2188, 'apcåêpdp': 2189, 'ritual': 2190, 'actual': 2191, '435-327-1148': 2192, 'factsheet': 2193, 'damaturu': 2194, 'pit': 2195, 'newel': 2196, 'iwo': 2197, 'take': 2198, 'meow': 2199, '_litt44': 2200, 'droid': 2201, 'besid': 2202, 'jerusalem': 2203, 'looney': 2204, 'self-fulfil': 2205, 'feebl': 2206, 'holiday': 2207, 'cyclist': 2208, 'tunisia': 2209, 'faultlin': 2210, 'fetch': 2211, 'uruan': 2212, 'fukushima': 2213, 'dustpig': 2214, 'eudrylantiqua': 2215, '07': 2216, 'karymski': 2217, 'ronni': 2218, 'nicki': 2219, 'movt': 2220, 'dopest': 2221, 'other': 2222, 'lithium': 2223, 'S': 2224, 'winston': 2225, 'visto': 2226, 'sa15t': 2227, 'downpour': 2228, 'seek': 2229, 'deepak': 2230, 'bilsen': 2231, 'waterway': 2232, 'chesterfield': 2233, 'affluent': 2234, 'jima': 2235, 'prison-lik': 2236, '_molina036': 2237, 'prais': 2238, 'rebah': 2239, 'mmda': 2240, 'bronvil': 2241, '4coffe': 2242, 'holist': 2243, 'mcpherson': 2244, 'provinci': 2245, 'life-reboot': 2246, 'libyan': 2247, 'foi': 2248, 'nomin': 2249, 'serbian': 2250, 'catastrophic-fallen-angel': 2251, 'extra': 2252, 'trip': 2253, 'eden': 2254, 'bag': 2255, 'bear': 2256, 'daaamn': 2257, 'undermin': 2258, 'except': 2259, 'ssp': 2260, 'mosh': 2261, 'oneself': 2262, 'm6x1': 2263, 'eurobasket': 2264, 'prez': 2265, 'fari': 2266, 'utica': 2267, 'foul': 2268, 'magner': 2269, 'reactor': 2270, 'bbcnew': 2271, 'liquid': 2272, 'blitz': 2273, 'sarcasm': 2274, 'cbc': 2275, 'gel': 2276, 'walkthrough': 2277, 'flirt': 2278, 'man': 2279, 'exchang': 2280, 'awol': 2281, 'mink': 2282, '60mph': 2283, 'alsowhat': 2284, 'alway': 2285, 'pandora': 2286, 'earli': 2287, 'northwest': 2288, 'easi': 2289, '2:22': 2290, 'rousey': 2291, 'essenceofm': 2292, '0siri': 2293, 'gould': 2294, 'taipei': 2295, '_kadeeja': 2296, 'uac': 2297, 'hil': 2298, 'devast': 2299, 'harman': 2300, 'summer': 2301, 'conscious': 2302, 'ashdod': 2303, 'jar': 2304, 'V': 2305, 'hobbit': 2306, 'hartford': 2307, 'sorry-i': 2308, 'perla': 2309, 'kimanzi': 2310, 'cover': 2311, '2x': 2312, 'hideou': 2313, 'croat': 2314, 'tloz': 2315, 'princess': 2316, 'superhero': 2317, '#1oak': 2318, '18jst': 2319, 'ground': 2320, 'streak': 2321, 'liqd': 2322, '3x': 2323, 'tac': 2324, 'calorie-burn': 2325, 'cj': 2326, 'jeep': 2327, 'payday-prison': 2328, 'brat': 2329, 'freeway': 2330, 'advisori': 2331, 'niall': 2332, 'dannic': 2333, 'noooo': 2334, 'jackson': 2335, 'GC': 2336, 'buthidaung': 2337, 'teach': 2338, 'daviesmutia': 2339, 'jacqui': 2340, 'glenn': 2341, 'bk': 2342, 'healthi': 2343, 'savior': 2344, 'stretch': 2345, 'wrap': 2346, 'hollow': 2347, 'ironi': 2348, 'sketch': 2349, '143': 2350, 'queer': 2351, 'swim': 2352, 'jag': 2353, 'idek': 2354, 'churkin': 2355, 'goe': 2356, 'blake': 2357, 'SL': 2358, 'deploy': 2359, 'chip': 2360, 'remand': 2361, 'montgomeri': 2362, 'banquet': 2363, 'lib': 2364, 'sleet': 2365, 'kontagora': 2366, 'shoutout': 2367, 'emil': 2368, 'hotti': 2369, 'one-man': 2370, 'bsc': 2371, 'adultress': 2372, 'cloud': 2373, 'epicentr': 2374, 'opera': 2375, 'killsåêon': 2376, '2005': 2377, 'possum': 2378, '7': 2379, 'antioch': 2380, 'virgin': 2381, 'volcanoåêinåêrussia': 2382, 'awak': 2383, 'cb': 2384, 'alloy': 2385, 'relax': 2386, 'sky': 2387, 'voic': 2388, 'niley': 2389, 'nigga': 2390, 'sippin': 2391, 'cousin': 2392, 'neon': 2393, '19:36': 2394, 'heart-warm': 2395, 'heroic': 2396, 'wannab': 2397, 'jan-juli': 2398, 'workout': 2399, 'typic': 2400, 'form': 2401, 'ghostwrit': 2402, 'bump': 2403, 'aircraft': 2404, 'ballina': 2405, 'patna': 2406, '300m': 2407, 'abia': 2408, 'killin': 2409, 'backtrack': 2410, '#0518': 2411, 'henc': 2412, 'parcel': 2413, 'west': 2414, 'sight': 2415, 'race': 2416, 'recreat': 2417, 'worldoilåê': 2418, 'apocali': 2419, '_mischief_': 2420, 'default': 2421, 'mp3': 2422, 'foxnew': 2423, 'co': 2424, 'target': 2425, 'pennington': 2426, 'åÈ': 2427, 'fleek': 2428, 'mint': 2429, 'dupe': 2430, '_matrix': 2431, 'gunsmissilesbomb': 2432, 'leaveevacuateexitb': 2433, 'yuuko': 2434, 'tlk': 2435, 'seventi': 2436, 'trigger': 2437, '201day': 2438, 'ûóneglig': 2439, 'float': 2440, 'sona': 2441, 'planet': 2442, 'honestli': 2443, 'indoor': 2444, 'carso': 2445, 'south-western': 2446, 'aboooooortiooooonnnnn': 2447, 'jackman': 2448, 'conclud': 2449, '76': 2450, 'cain': 2451, 'jesu': 2452, 'preserv': 2453, '00dle': 2454, 'trolley': 2455, 'se': 2456, 'kontrol': 2457, 'mad': 2458, '1860': 2459, 'stephenscifi': 2460, 'triumphant': 2461, 'ER': 2462, 'AC': 2463, 'chemic': 2464, 'shower': 2465, 'arm': 2466, 'http': 2467, 'c': 2468, 'vodka': 2469, 'del': 2470, '911åêcall': 2471, 'river': 2472, 'alton': 2473, 'edt': 2474, 'mould': 2475, 'snack': 2476, 'dummi': 2477, 'ofclan': 2478, 'govt.otherwis': 2479, 'fuel': 2480, 'childfund': 2481, 'roof': 2482, 'wave': 2483, 'davi': 2484, 'uhmmmm': 2485, 'red-hand': 2486, 'beartooth': 2487, 'python': 2488, 'homefolk': 2489, 'dey': 2490, 'faceless': 2491, 'nexu': 2492, 'harlet': 2493, 'arcad': 2494, 'traffic': 2495, 'panther': 2496, 'mercuri': 2497, 'wowo': 2498, 'frnch': 2499, 'calori': 2500, '18:22': 2501, 'efak': 2502, 'news': 2503, 'luhan': 2504, 'punch': 2505, 'smaller': 2506, '_baseball41': 2507, 'residu': 2508, 'bnvfdag': 2509, 'key': 2510, 'foliag': 2511, 'despic': 2512, ':D': 2513, 'monstros': 2514, 'stile': 2515, 'understood': 2516, 'iger': 2517, 'photoset': 2518, 'zergel': 2519, 'niqqa': 2520, 'sgt': 2521, 'traditionalist': 2522, 'off': 2523, '_montani': 2524, 'er': 2525, 'slum': 2526, 'drove': 2527, 'ahamedi': 2528, 'ford': 2529, 'drawn': 2530, 'kingdom': 2531, 'mull': 2532, 'headlinelik': 2533, 'propheci': 2534, 'pride': 2535, 'villag': 2536, 'star': 2537, 'nvr': 2538, 'womem': 2539, '994': 2540, 'increasingli': 2541, 'mommi': 2542, 'octob': 2543, 'common': 2544, 'winter': 2545, 'special': 2546, \"'ve\": 2547, 'triumph': 2548, 'strop': 2549, 'tutu': 2550, 'cesspool': 2551, 'camcord': 2552, 'casualti': 2553, 'coastpowerlinetramtr': 2554, 'charl': 2555, 'bigamist': 2556, 'respect': 2557, 'januzaj': 2558, 'punish': 2559, 'stray': 2560, 'baekhyun': 2561, 'continu': 2562, 'godjesu': 2563, 'cad': 2564, 'suspect': 2565, 'weather': 2566, 'anthrax': 2567, 'blew': 2568, '_knight': 2569, 'meddl': 2570, 'papa': 2571, 'profit-hungri': 2572, 'terri': 2573, 'courtney': 2574, 'frusciant': 2575, 'tinderbox': 2576, 'panama': 2577, 'strip': 2578, '36': 2579, 'scaligero': 2580, 'dive': 2581, 'j3a': 2582, '097': 2583, 'eulog': 2584, 'disea': 2585, 'min': 2586, 'garbag': 2587, 'coach': 2588, 'all-tim': 2589, 'dispensari': 2590, 'ultim': 2591, 'sahel': 2592, 'cape': 2593, 'usw': 2594, 'behead': 2595, 'boonew': 2596, 'runway': 2597, '_13': 2598, 'drob': 2599, 'oiler': 2600, 'shouout': 2601, 'met': 2602, 'enrt': 2603, 'VA': 2604, '2/6': 2605, 'trickier': 2606, 'exactli': 2607, 'faction': 2608, 'aim': 2609, 'collision-no': 2610, 'radiat': 2611, 'moonlight': 2612, 'puff': 2613, 'rec': 2614, 'allah': 2615, 'carolinaåêablaz': 2616, 'inequ': 2617, 'keen': 2618, 'fade': 2619, 'gauteng': 2620, 'WP': 2621, 'seok': 2622, 'kagawa': 2623, 'temper': 2624, 'demolish': 2625, 'macia': 2626, 'lucif': 2627, 'MP': 2628, 'whirlwind': 2629, '7nigga': 2630, 'setlist': 2631, 'lava': 2632, 'when': 2633, 'horsesho': 2634, 'text': 2635, 'shhhh': 2636, \"nat'l\": 2637, '29/20': 2638, 'maghar': 2639, 'cmdr': 2640, '9:27': 2641, 'elat': 2642, 'ercjmnea': 2643, 'russellvil': 2644, 'udom': 2645, 'who-ooo-ol': 2646, 'buy': 2647, 'oof': 2648, 'van': 2649, 'tora': 2650, 'nylon': 2651, 'overload': 2652, '50k': 2653, 'monetari': 2654, 'blackberri': 2655, 'interrupt': 2656, 'x1434': 2657, 'argsuppos': 2658, '_morrow': 2659, 'complic': 2660, 'loom': 2661, 'BC': 2662, 'testi': 2663, 'forbid': 2664, 'gv': 2665, 'erect': 2666, 'volvo': 2667, 'sit': 2668, 'case': 2669, 'amazon': 2670, 'maiga': 2671, '221': 2672, 'bum': 2673, 'SA': 2674, 'sen': 2675, 'tire': 2676, 'XL': 2677, '_mariie': 2678, 'basalt': 2679, 'trap': 2680, 'pizzeria': 2681, 'half-rail': 2682, 'sprinkler': 2683, 'asher': 2684, 'balanc': 2685, 'WA': 2686, 'veneto': 2687, 'kurdistan': 2688, 'holmgren': 2689, 'bigrigradio': 2690, 'troop': 2691, 'empow': 2692, 'glass': 2693, 'ditch': 2694, 'watchdog': 2695, 'yessss': 2696, 'techerit': 2697, 'mc': 2698, '4fake': 2699, 'tuna': 2700, 'aiden': 2701, 'texa': 2702, 'seattl': 2703, '169.50': 2704, 'migrat': 2705, 'earbud': 2706, 'chiang': 2707, 'gio': 2708, 'booni': 2709, 'jerri': 2710, '_roos': 2711, 'nycha': 2712, 'catch': 2713, 'finish': 2714, 'replac': 2715, 'avert': 2716, 'stow': 2717, 'yobe': 2718, 'kno': 2719, 'hamptonroadsfor.m': 2720, 'backlash': 2721, 'dat': 2722, 'pio': 2723, 'morethan': 2724, 'effect': 2725, 'wdtv': 2726, 'ell': 2727, 'lanc': 2728, 'iii': 2729, 'bunker': 2730, 'oooooohhhh': 2731, 'gaynor': 2732, 'whi': 2733, 'lancast': 2734, 'theocraci': 2735, 'toss': 2736, '_usa': 2737, 'care': 2738, '1:18': 2739, 'invoicesx': 2740, 'lockstep': 2741, 'dove': 2742, 'acut': 2743, 'review': 2744, '#0215': 2745, 'andåêword': 2746, 'quantit': 2747, '10am': 2748, '05th': 2749, 'gamer': 2750, 'forthright': 2751, 'addict': 2752, '_nba': 2753, 'railway': 2754, '3pack': 2755, 'FR': 2756, 'detail': 2757, 'ironmanå': 2758, 'ì_n': 2759, 'winner': 2760, 'siteinvestig': 2761, 'unlock': 2762, 'tail': 2763, 'hang': 2764, 'calhoun': 2765, '24': 2766, 'baltimor': 2767, 'espresso': 2768, 'locker': 2769, 'film': 2770, '7/8': 2771, 'frenzi': 2772, 'treasure-hous': 2773, 'kinesiolog': 2774, 'dierk': 2775, 'aggrav': 2776, 'quickli': 2777, '56': 2778, 'soar': 2779, 'content': 2780, 'northumbria': 2781, 'ûïprefer': 2782, 'nearbi': 2783, 'joeysterl': 2784, 'ûªll': 2785, 'lofti': 2786, 'soldi': 2787, 'kenneth': 2788, 'gay': 2789, 'socialtim': 2790, 'lima': 2791, 'martyr': 2792, 'inferior': 2793, 'unwant': 2794, 'acdelco': 2795, '@8': 2796, 'mansion': 2797, 'pierc': 2798, 'fluid': 2799, 'janic': 2800, 'orphan': 2801, 'gpm': 2802, 'MM': 2803, 'street': 2804, 'dorion': 2805, 'trek': 2806, '1bullet': 2807, 'aquariu': 2808, 'saliv': 2809, 'proto-st': 2810, 'unless': 2811, 'unimpress': 2812, 'pamela': 2813, 'antoni': 2814, 'exum': 2815, 'ridah': 2816, 'correl': 2817, 'full-back': 2818, 'consequ': 2819, 'sack': 2820, 'reiter': 2821, 'mdash': 2822, 'explan': 2823, 'dorl': 2824, 'tisa': 2825, 'beer': 2826, 'stlnd': 2827, 'devour': 2828, 'boulevard': 2829, 'marquez': 2830, 'berri': 2831, 'overlook': 2832, 'fairli': 2833, 'hurrican': 2834, 'condemn': 2835, 'alberta': 2836, 'omron': 2837, 'candid': 2838, 'kansa': 2839, 'counterstrik': 2840, 'optic': 2841, 'authent': 2842, 'cossack': 2843, 'tem': 2844, 'fiddl': 2845, 'twit_san_diego': 2846, 'yolk': 2847, 'record': 2848, 'rooki': 2849, '4misha': 2850, 'kijima_matako': 2851, 'collater': 2852, 'newborn': 2853, 'such': 2854, 'latim': 2855, 'sizygwwf': 2856, 'www': 2857, 'shitti': 2858, '71st': 2859, 'offroad': 2860, '_trossen': 2861, 'call-in': 2862, 'mustang': 2863, 'spong': 2864, 'fault': 2865, 'nuclear-biological-chem': 2866, 'mystic': 2867, 'jakey': 2868, 'carb': 2869, 'keny': 2870, 'fighter': 2871, 'mi': 2872, 'low-carb': 2873, 'shield': 2874, 'dramat': 2875, 'kitana': 2876, '1d': 2877, 'offshoot': 2878, 'startup': 2879, 'flamethrow': 2880, 'assum': 2881, 'aisl': 2882, 'pilon': 2883, 'mcgwire': 2884, 'bigstar': 2885, 'oppress': 2886, 'uk-franc': 2887, '3rout': 2888, 'lemon': 2889, 'PM': 2890, 'clue': 2891, '_99': 2892, 'noth': 2893, 'rpn': 2894, 'malaysian': 2895, 'rhode': 2896, 'measl': 2897, 'chowchilla': 2898, 'trauma': 2899, 'cowardli': 2900, '_blue': 2901, 'territori': 2902, 'peasant': 2903, 'playlist': 2904, 'reach': 2905, 'fic': 2906, 'usd': 2907, 'mainlin': 2908, 'kickstart': 2909, 'unhealthi': 2910, 'spokan': 2911, 'burok': 2912, 'postpon': 2913, 'fenc': 2914, 'workforc': 2915, 'be4': 2916, 'jeb': 2917, '_defreita': 2918, 'ûïwarn': 2919, 'arnley': 2920, 'sweden': 2921, 'airbas': 2922, 'ieee': 2923, 'mcr': 2924, 'rain': 2925, 's3xleak': 2926, 'unpreced': 2927, '6aug': 2928, '@_tonedidit': 2929, 'sphere': 2930, 'war': 2931, 'torso': 2932, '70year': 2933, 'their': 2934, 'optim': 2935, '10x': 2936, 'spectacular': 2937, 'cone': 2938, 'immigr': 2939, 'order': 2940, 'rainstorm': 2941, 'sr91': 2942, 'benjamin': 2943, 'gaze': 2944, 'fentanyl': 2945, \"o'clock\": 2946, 'silenc': 2947, 'index': 2948, '_mama': 2949, 'pro': 2950, 'thorcon': 2951, 'literatur': 2952, 'fjizztxk': 2953, 'henri': 2954, 'drum': 2955, 'wolf': 2956, 'hardin': 2957, '_palmat': 2958, 'mulberri': 2959, 'megan': 2960, 'bioter': 2961, 'fairfax': 2962, 'long-term': 2963, 'ahead': 2964, 'began': 2965, 'emmanuel': 2966, '#7newsadl': 2967, 'subscript': 2968, 'twx': 2969, 'fact-check': 2970, 'alphen': 2971, 'RT': 2972, 'autom': 2973, 'bath': 2974, 'spliff': 2975, 'permit': 2976, 'two-vehicl': 2977, 'mess': 2978, '_may_not': 2979, 'clelli': 2980, 'toler': 2981, 'jihadist': 2982, 'skywar': 2983, 'rural': 2984, 'vergil': 2985, 'ks111': 2986, 'Q2': 2987, '_len': 2988, '2015-16': 2989, 'depth': 2990, 'latter': 2991, 'erupt': 2992, 'romero': 2993, 'southwest': 2994, '21:1023': 2995, 'south': 2996, 'saniti': 2997, 'aåêmiddle-ag': 2998, 'mango': 2999, 'denier': 3000, 'nan': 3001, 'woke': 3002, '01:02': 3003, 'as': 3004, 'busey': 3005, 'loki': 3006, 'musim': 3007, 'wheel': 3008, 'facad': 3009, 'bsf': 3010, 'onrhpz': 3011, '16:40': 3012, 'xuskak': 3013, 'btwn': 3014, 'decor': 3015, '_amtalia': 3016, 'toy': 3017, 'dismiss': 3018, 'ja': 3019, 'kwwwkwwwk': 3020, 'unconfirm': 3021, 'hate-viol': 3022, 'ago': 3023, 'jiahahahha': 3024, 'co-op': 3025, 'sikh': 3026, '448iturasya': 3027, 'pga': 3028, 'cuyahoga': 3029, 'millennium': 3030, '@_minimehh': 3031, 'finn': 3032, 'tumbleon': 3033, 'noooooooooooo': 3034, 'attain': 3035, 'forc': 3036, 'wexler': 3037, 'id': 3038, 'offsid': 3039, '@_nicksimboli_': 3040, 'mission': 3041, 'music': 3042, 'arami': 3043, '@178kakapo': 3044, 'redscarebot': 3045, 'workplac': 3046, 'chicken': 3047, 'yoeni': 3048, '_coco': 3049, 'ûïi': 3050, \"tolewant'g\": 3051, '´': 3052, '#': 3053, 'factori': 3054, 'becom': 3055, 'violet': 3056, 'depress': 3057, 'kappa': 3058, '72254': 3059, 'heenan': 3060, 'glen': 3061, 'baan': 3062, 'situ': 3063, 'rippl': 3064, 'molten': 3065, 'plume': 3066, 'victim': 3067, 'zirngast': 3068, 'tornado': 3069, 'relev': 3070, '64': 3071, 'ofr': 3072, 'bullshit': 3073, 'sorrow': 3074, 'srsli': 3075, 'storm-fre': 3076, 'grove': 3077, '_resolut': 3078, 'immens': 3079, 'way': 3080, 'raptur': 3081, 'trent': 3082, 'witch': 3083, 'sooo': 3084, 'postal': 3085, 'hashtag': 3086, 'curfew': 3087, \"s'more\": 3088, 'bak': 3089, 'citylink': 3090, 'listeria': 3091, 'terribl': 3092, 'sh': 3093, 'petersburg': 3094, 'critic': 3095, '):': 3096, '231a': 3097, 'friday': 3098, 'MF': 3099, 'politician': 3100, 'cheap': 3101, '@_souuul': 3102, 'wife': 3103, 'unsign': 3104, 'killedsomebodi': 3105, 'waimea': 3106, '247': 3107, 'alleg': 3108, 'hip-hop': 3109, 'hlp': 3110, 'tbi': 3111, 'retro': 3112, 'gloucest': 3113, 'wmur': 3114, '_destruct': 3115, 'magist': 3116, ':': 3117, 'verdict': 3118, 'sixpencee': 3119, 'thinner': 3120, 'ventil': 3121, 'riversid': 3122, 'kirsten': 3123, 'SR': 3124, 'fatal': 3125, 'inflict': 3126, 'join': 3127, 'randi': 3128, 'armenian': 3129, 'moyo': 3130, 'into': 3131, '_laidlaw': 3132, 'detector': 3133, 'platt': 3134, 'hamster': 3135, 'mankind': 3136, 'dwindl': 3137, 'ML': 3138, 'å': 3139, 'thesensualey': 3140, 'halloween': 3141, 'week': 3142, 'ina': 3143, 'knott': 3144, 'telekinesi': 3145, '_curti': 3146, 'pajama': 3147, '2002': 3148, 'winger': 3149, 'throw': 3150, 'portaloo': 3151, '03:27': 3152, 'alreadi': 3153, 'aspir': 3154, 'nixon': 3155, 'realis': 3156, 'wrightsboro': 3157, 'ps': 3158, 'HI': 3159, 'khuzdar': 3160, 'wa': 3161, 'AH': 3162, 'catcher': 3163, 'dazzl': 3164, '01:50': 3165, 'juda': 3166, '1.4': 3167, 'wormwood': 3168, 'foresaw': 3169, '8p': 3170, 'abbog': 3171, '_joe': 3172, 'vern': 3173, 'flourish': 3174, 'emmi': 3175, 'AS': 3176, 'debacl': 3177, 'wrong-way': 3178, 'cisladi': 3179, 'hole': 3180, 'saat': 3181, 'rins': 3182, '/:': 3183, 'SJ': 3184, '3.1': 3185, 'abomin': 3186, 'broad': 3187, '15000266818': 3188, 'cock': 3189, 'devi': 3190, 'lyk': 3191, 'dick': 3192, '5.1': 3193, 'clown': 3194, 'short-sid': 3195, '2go': 3196, 'marbl': 3197, 'hospit': 3198, 'term': 3199, 'instagram': 3200, 'HC': 3201, 'chocol': 3202, 'dreamwork': 3203, 'depot': 3204, 'driverless': 3205, 'investor': 3206, 'yor': 3207, 'scottsdal': 3208, 'despair': 3209, 'windfarm': 3210, 's': 3211, 'qld': 3212, 'fbi': 3213, 'closur': 3214, 'textur': 3215, 'barcelona': 3216, 'leav': 3217, 'sounder': 3218, 'galleria': 3219, 'headquart': 3220, 'capsul': 3221, 'alcohol': 3222, 'gotten': 3223, 'rememb': 3224, 'kneel': 3225, 'mooresvil': 3226, 'earn': 3227, 'energi': 3228, 'hobo': 3229, 'beam': 3230, \"it'sllik\": 3231, 'eau': 3232, 'ander': 3233, 'warriorcord': 3234, 'set': 3235, 'implicit': 3236, 'menahem': 3237, 'ctd': 3238, 'celebreti': 3239, 'sure-god': 3240, 'quartz': 3241, 'lifesav': 3242, 'nh': 3243, 'daniel': 3244, 'leftsid': 3245, 'ûï55': 3246, '2k15': 3247, 'dajaal': 3248, 'everton': 3249, 'pummel': 3250, 'fousey': 3251, 'dynasti': 3252, 'milwauke': 3253, 'wompppp': 3254, 'mesick': 3255, 'thiev': 3256, 'bit': 3257, '74': 3258, 'stage-two': 3259, 'oryx': 3260, 'vampiro': 3261, 'behold': 3262, 'spice': 3263, 'equestrian': 3264, '@_bookofdaniel': 3265, 'weed': 3266, '27001': 3267, 'dungeon': 3268, 'failur': 3269, '600.000': 3270, 'door': 3271, 'vega': 3272, '_be': 3273, '_siren': 3274, '303b': 3275, 'imperfect': 3276, '-7:30': 3277, 'tennesse': 3278, 'edwin': 3279, 'ks225': 3280, 'illumin': 3281, 'imprud': 3282, '08.05': 3283, 'tall': 3284, 'glove': 3285, 'prepper': 3286, 'bureaucrat': 3287, '!': 3288, 'frisco': 3289, 'sociologist': 3290, 'lgl': 3291, 'burning-lava-on-fir': 3292, 'carnag': 3293, 'liken': 3294, 'disown': 3295, 'sri': 3296, '1:04': 3297, 'subway': 3298, 't-shirt': 3299, 'googlemap': 3300, 'approv': 3301, 'sorta': 3302, 'skylin': 3303, 'flatt': 3304, 'hour': 3305, 'strongli': 3306, 'peak': 3307, 'sore': 3308, '7414229': 3309, 'beyoncì': 3310, 'hassl': 3311, 'esteem': 3312, 'wo': 3313, 'ûòdon': 3314, 'planet-x': 3315, 'msv': 3316, 'k': 3317, 'globe': 3318, 'pass': 3319, 'sterotyp': 3320, 'joel': 3321, 'KP': 3322, '@5sosfamupdat': 3323, 'go': 3324, 'miscalcul': 3325, 'udhampur': 3326, 'halfway': 3327, 'broadli': 3328, 'uncov': 3329, 'paradis': 3330, 'handbag': 3331, 'zion': 3332, '4the': 3333, 'screenshot': 3334, 'bailout': 3335, 'erdogan': 3336, 'emittin': 3337, 'twia': 3338, 'pantofel': 3339, 'hancock': 3340, 'nami': 3341, '1/13': 3342, 'mixtap': 3343, 'domino': 3344, 'replenish': 3345, 'roadid': 3346, 'cardio': 3347, 'he': 3348, 'clicca': 3349, 'a-huh': 3350, 'argu': 3351, 'albania': 3352, '10new': 3353, 'faculti': 3354, 'stab': 3355, 'inner': 3356, 'willyt': 3357, 'spitter': 3358, 'driven': 3359, 'juror': 3360, 'memo': 3361, 'wow-th': 3362, 'erod': 3363, 'desk': 3364, 'cameo': 3365, 'triple-digit': 3366, '_n': 3367, 'mage': 3368, 'WC': 3369, 'jariana': 3370, 'os': 3371, 'skyåênew': 3372, 'ûïrichmond': 3373, '_bomb': 3374, '#666': 3375, 'ign': 3376, 'mild': 3377, 'kombat': 3378, '666': 3379, 'lilourri': 3380, 'collud': 3381, 'enorm': 3382, '4km': 3383, '459': 3384, 'mutil': 3385, 'totalitarian': 3386, 'noemot': 3387, '_joy': 3388, '9th': 3389, 'concert-august': 3390, 'realiz': 3391, 'nigh': 3392, 'remak': 3393, 'narciss': 3394, 'asshol': 3395, 'victory.tot': 3396, 'gohan': 3397, 'madinah': 3398, 'endang': 3399, 'jet': 3400, 'women': 3401, 'defect': 3402, 'picken': 3403, \"ol'head\": 3404, 'stock': 3405, 'jakeåê': 3406, 'jsdf': 3407, 'am': 3408, 'splatdown': 3409, 'roosevelt': 3410, 'incredul': 3411, 'dragonval': 3412, 'slsp': 3413, 'bolt': 3414, 'roundabout': 3415, '15km': 3416, 'schulz': 3417, 'glori': 3418, 'massacr': 3419, 'fog': 3420, '@38_degre': 3421, 'artifici': 3422, '29-07-': 3423, '90': 3424, '23:54': 3425, 'spx': 3426, '3D': 3427, 'nyack': 3428, 'rear': 3429, 'dìäjìû': 3430, 'havin': 3431, 'charg': 3432, 'snction': 3433, 'broadway': 3434, '#039': 3435, 'polit': 3436, 'melbourn': 3437, 'candi': 3438, 'beard': 3439, 'emt': 3440, 'whale': 3441, 'bite': 3442, 'crawfordsvil': 3443, 'rickard': 3444, 'doom': 3445, 'byproduct': 3446, 'half-derail': 3447, 'starter': 3448, 'arabian': 3449, 'slain': 3450, 'katherin': 3451, 'T': 3452, 'adhd': 3453, 'sob': 3454, '002': 3455, 'disrupt': 3456, 'kudo': 3457, 'messi': 3458, 'saginaw': 3459, 'tfl': 3460, 'backyard': 3461, 'rori': 3462, 'belong': 3463, 'express': 3464, 'sod': 3465, 'shanaynay': 3466, 'privaci': 3467, 'medal': 3468, 'microb': 3469, 'smth': 3470, 'wast': 3471, 'to-do': 3472, 'deduct': 3473, 'languag': 3474, 'fanat': 3475, '165å': 3476, 'or': 3477, 'manur': 3478, 'turkish': 3479, 'councilman': 3480, 'fish': 3481, 'akam': 3482, 'damnnnn': 3483, 'fathom': 3484, 'vulner': 3485, 'warfar': 3486, 'iniqu': 3487, 'dmt': 3488, 'competit': 3489, 'rutherford': 3490, 'mileena': 3491, '2013': 3492, '73rd': 3493, 'slurpe': 3494, '1st': 3495, 'turkey': 3496, 'inn': 3497, 'mass-murder': 3498, 'regul': 3499, 'nab': 3500, 'jona': 3501, 'arkan': 3502, 'mclaughlin': 3503, 'diet': 3504, '05.08': 3505, 'freed': 3506, 'master': 3507, 'E1': 3508, 'throwback': 3509, 'pressur': 3510, 'ouch': 3511, 'verd': 3512, 'distinct': 3513, 'bomb': 3514, 'truck': 3515, 'do': 3516, 'kyodonew': 3517, 'backup': 3518, 'jean': 3519, 'lìä': 3520, 'cuti': 3521, 'sun': 3522, 'anti': 3523, 'greatli': 3524, 'nanotech': 3525, 'fl': 3526, 'upstair': 3527, 'nation': 3528, 'aba': 3529, 'doctor': 3530, 'ramp': 3531, 'orchestr': 3532, 'credit': 3533, 'dough': 3534, 'mysteri': 3535, 'scrub': 3536, 'ting': 3537, 'muzzamil': 3538, 'yanke': 3539, 'salt': 3540, 'speculatio': 3541, 'summon': 3542, 'rabaa': 3543, 'lust': 3544, 'tween': 3545, 'enterpris': 3546, 'wristband': 3547, 'reynold': 3548, '¡': 3549, '@4tile': 3550, 'hard-right': 3551, 'apartheid': 3552, 'deputi': 3553, 'cobra': 3554, 'wipp': 3555, 'durham': 3556, 'detona': 3557, 'ferrochrom': 3558, '_knicker': 3559, 'finit': 3560, 'rli': 3561, 'rudd': 3562, '_t_morgan': 3563, 'fundrais': 3564, 'local': 3565, 'YE': 3566, 'masonit': 3567, 'clanci': 3568, 'prize': 3569, 'beth': 3570, 'sin': 3571, 'storey': 3572, 'organizations--fluctu': 3573, 'minist': 3574, 'ny': 3575, 'penni': 3576, 'berlin': 3577, 'libertyvil': 3578, 'conceal': 3579, 'traumatis': 3580, 'expans': 3581, 'brush': 3582, 'password': 3583, 'karen': 3584, 'omg': 3585, 'lyme': 3586, 'floor': 3587, 'who': 3588, 'grandma': 3589, 'arin': 3590, 'toyota': 3591, 'syvret': 3592, 'AL': 3593, '_baraa1': 3594, 'obviou': 3595, 'referr': 3596, 'southampton': 3597, 'instaxbooti': 3598, '7k': 3599, 'spitti': 3600, 'of': 3601, 'spain': 3602, '#2015': 3603, 'hasn': 3604, 'fanbas': 3605, 'personnel': 3606, 'mania': 3607, 'sickmund': 3608, 'prematur': 3609, 'sown': 3610, 'repair': 3611, '_scumper': 3612, '700': 3613, 'doubl': 3614, 'prem': 3615, 'co-found': 3616, 'åêi': 3617, 'artic': 3618, 'hw18': 3619, 'explosion-proof': 3620, 'abnorm': 3621, 'lung': 3622, 'manserv': 3623, 'chosen': 3624, '31': 3625, 'j-walk': 3626, 'restiv': 3627, 'smoochi': 3628, 'explicitli': 3629, 'grenad': 3630, 'marri': 3631, 'wnba': 3632, 'eco-friendli': 3633, 'war-torn': 3634, 'otm': 3635, 'tast': 3636, 'buildup': 3637, 'briefcas': 3638, 'reboot': 3639, 'decreas': 3640, 'smart': 3641, 'rule': 3642, 'crop': 3643, 'famili': 3644, 'halt': 3645, 'crocodil': 3646, 'û_one': 3647, 'moth': 3648, 'MX': 3649, 'shinto': 3650, 'sunk': 3651, 'book': 3652, 'disord': 3653, 'greed': 3654, 'utd': 3655, 'me.i': 3656, 'perman': 3657, 'shawn': 3658, 'raghu': 3659, 'GG': 3660, '09': 3661, '00:52': 3662, 'oktaviana': 3663, 'graf': 3664, 'pinpoint': 3665, 'joe': 3666, 'stree': 3667, 'frickin': 3668, 'abella': 3669, 'agalloch': 3670, 'ìñ2': 3671, 'goooooooaaaaaal': 3672, 'grea': 3673, 'spirit': 3674, 'disinfo': 3675, 'franchis': 3676, '_footbal': 3677, 'orangi': 3678, 'scream': 3679, 'meet': 3680, 'enola': 3681, 'uptick': 3682, 'grì_nberg': 3683, 'ooooohshit': 3684, 'articl': 3685, 'android': 3686, 'relationship': 3687, 'qct': 3688, 'deafen': 3689, 'bitten': 3690, 'enem': 3691, 'rabbi': 3692, 'complaint': 3693, 'h-hello': 3694, 'wail': 3695, 'unawar': 3696, 'cutest': 3697, 'al-qaryatayn': 3698, 'beaumont': 3699, 'folk': 3700, '12th': 3701, 'dorrett': 3702, 'broader': 3703, 'filter': 3704, 'wineri': 3705, 'n': 3706, 'probe': 3707, 'pickup': 3708, 'lhh': 3709, 'stubborn': 3710, 'launch': 3711, '_5499': 3712, 'california': 3713, 'creat': 3714, 'tsa': 3715, 'cheat': 3716, 'all': 3717, 'myself': 3718, 'rosenberg': 3719, '09:13': 3720, 'rs40000cr': 3721, 'eyebal': 3722, 'scourg': 3723, '1am': 3724, 'tarp': 3725, 'bernard': 3726, '#3682': 3727, '76min': 3728, 'chainsaw': 3729, 'clipuri': 3730, 'gobsmack': 3731, 'golf': 3732, 'laleh': 3733, 'drool': 3734, 'friendship': 3735, '23km': 3736, 'hamosh': 3737, 'prater': 3738, 'crucial': 3739, 'louisan': 3740, 'wedgi': 3741, '500-7': 3742, 'elli': 3743, 'aberystwyth-shrewsburi': 3744, 'tryout': 3745, 'dan': 3746, 'boyhau': 3747, 'whitewalk': 3748, 'samaritan': 3749, 'abil': 3750, 'decrimin': 3751, 'cw500': 3752, 'carp': 3753, 'adopt': 3754, 'lonely': 3755, 'homeown': 3756, 'constel': 3757, 'chanc': 3758, 'bck': 3759, 'symptom': 3760, '2:30': 3761, 'sidjsjdjekdjskdjd': 3762, 'bicep': 3763, '16.99': 3764, 'awash': 3765, 'displeas': 3766, 'shudder': 3767, '00pm': 3768, 'nugget': 3769, 'cord': 3770, 'spare': 3771, 'san': 3772, 'lifelin': 3773, 'uel': 3774, 'peeter': 3775, 'anna': 3776, 'kororinpa': 3777, '500k': 3778, 'challeng': 3779, 'herman': 3780, 'eagl': 3781, 'ag': 3782, 'sour': 3783, 'kaiser': 3784, '263789f4': 3785, 'magu': 3786, 'bioterrorismi': 3787, 'specif': 3788, 'derail': 3789, 'techniqu': 3790, 'age': 3791, 'asset': 3792, 'rare_uk': 3793, 'ev': 3794, 'gawker': 3795, 'stamped': 3796, 'fuck': 3797, 'beta': 3798, 'hangi': 3799, 'businessman': 3800, 'leprosi': 3801, 'trib': 3802, '2fm': 3803, '_whaley': 3804, '3smantibatam': 3805, 'jr': 3806, 'nose': 3807, 'perhap': 3808, 'verhoek': 3809, 'ariana': 3810, 'ai': 3811, 'mous': 3812, '85v': 3813, 'kc5kh': 3814, 'Ûª': 3815, 'unend': 3816, 'tho': 3817, 'euro': 3818, 'huh': 3819, 'isn': 3820, 'commentari': 3821, 'strict': 3822, '158-1028': 3823, '2usa': 3824, 'GN': 3825, 'expos': 3826, 'factual': 3827, '9:45': 3828, 'ode-ek': 3829, 'tallest': 3830, 'lp': 3831, 'presum': 3832, 'store': 3833, 'brighten': 3834, '_boi_luk': 3835, 'alexand': 3836, 'conf': 3837, 'lose': 3838, 'sworn': 3839, 'harder': 3840, 'mascara': 3841, 'hana': 3842, 'bitter': 3843, 'autocraci': 3844, 'pun': 3845, 'harshli': 3846, 'copper': 3847, 'snide': 3848, 're-read': 3849, '@_itzsteven': 3850, 'icicl': 3851, 'hug': 3852, 'nora': 3853, 'stl': 3854, '18th': 3855, 'M5': 3856, 'HO': 3857, '@_animaladvoc': 3858, 'fife': 3859, 'appar': 3860, 'esp': 3861, 'hood': 3862, 'fittscott': 3863, 'dangl': 3864, 'shunichiro': 3865, 'andåêchina': 3866, ';': 3867, 'strang': 3868, 'assess': 3869, 'bengston': 3870, 'butter': 3871, 'takeaway': 3872, 'e-shop': 3873, 'sublimin': 3874, 'squash': 3875, 'camp': 3876, '_blaze': 3877, 'wfp': 3878, 'iraqi': 3879, 'heartach': 3880, 'agen': 3881, '98.00': 3882, 'beinart': 3883, 'ceil': 3884, 'shitton': 3885, '1600': 3886, 'blank': 3887, 'nightmar': 3888, 'zoom': 3889, '05': 3890, 'yday': 3891, 'ddo': 3892, 'miyagi': 3893, 'from': 3894, 'kenni': 3895, 'tenshi': 3896, 'unchart': 3897, 'creatur': 3898, 'flour': 3899, 'gn': 3900, 'midst': 3901, 'bluff': 3902, 'thorin': 3903, 'far': 3904, 'hairiti': 3905, 'lnp': 3906, 'conquer': 3907, 'tryna': 3908, 'kasich': 3909, 'cantar': 3910, 'icaru': 3911, 'heroin': 3912, 'snowstormi': 3913, 'aucklnd': 3914, 'juli': 3915, 'monti': 3916, 'rowyso': 3917, 'spaceship': 3918, 'sergio': 3919, 'fml': 3920, 'marg': 3921, 'blog': 3922, 'referenti': 3923, 'irvin': 3924, 'gesserit': 3925, 'last': 3926, 'constantli': 3927, 'chopper': 3928, 'multitudin': 3929, '22pm': 3930, 'bestfriend': 3931, 'exact': 3932, 'packet': 3933, 'timedo': 3934, 'bronx': 3935, 'rider': 3936, 'high-ris': 3937, '@_onlyftf': 3938, 'grew': 3939, 'hatchet-wield': 3940, 'overcom': 3941, 'mass-murd': 3942, 'intragener': 3943, 'hattrick': 3944, 'valu': 3945, 'commit': 3946, 'zaman': 3947, 'nsa': 3948, 'apr': 3949, 'sedan': 3950, 'sbee': 3951, 'number': 3952, '08780923344': 3953, 'cummerbund': 3954, 'scum': 3955, 'politifiact': 3956, 'laura': 3957, 'escap': 3958, 'um': 3959, 'surround': 3960, 'la': 3961, 'drift': 3962, '1egreer': 3963, 'bean': 3964, 'nors': 3965, 'chilli': 3966, 'along': 3967, 'terror': 3968, 'pointless': 3969, 'horoscop': 3970, 'wud': 3971, 'zotar': 3972, 'alchemist': 3973, 'kebab': 3974, 'captur': 3975, 'capac': 3976, 'crptotech': 3977, 'climat': 3978, '_lionx3': 3979, 'gunmen': 3980, '72': 3981, 'fishtail': 3982, '#034': 3983, 'grumpout': 3984, '(8': 3985, 'karasuno': 3986, 'assist': 3987, 'bleas': 3988, 'act': 3989, 'd50': 3990, 'fruit': 3991, 'asteroid': 3992, 'ìàekdar': 3993, 'distanc': 3994, 'goddess': 3995, 'collabor': 3996, 'governor': 3997, 'bengal': 3998, '043': 3999, 'magnet': 4000, 'sniiiiiiff': 4001, 'inspir': 4002, 'dvd': 4003, 'slit': 4004, 'mole': 4005, 'kumasian': 4006, 'awaken': 4007, 'printabl': 4008, 'satoshi': 4009, 'warrior': 4010, 'execut': 4011, 'hammond': 4012, 'parkway': 4013, 'choic': 4014, 'amend': 4015, 'bust': 4016, 'width': 4017, '2': 4018, 'wordk': 4019, 'civilian': 4020, '20yr': 4021, 'tr': 4022, '2500': 4023, 'varieti': 4024, '_dimrc': 4025, 'edna': 4026, 'rusher': 4027, 'lustig': 4028, 'torrent': 4029, 'neat': 4030, 'fragranc': 4031, '9:35': 4032, 'thunderstorm': 4033, 'myanmar': 4034, 'OR': 4035, 'mood': 4036, '_wiggin': 4037, 'bethesda': 4038, 'lest': 4039, 'date': 4040, 'satchel': 4041, 'uniqu': 4042, 'ars': 4043, 'staff': 4044, 'swivel': 4045, '9:00': 4046, 'chang': 4047, 'loner': 4048, 'artilleri': 4049, 'misaki': 4050, 'heheh': 4051, 'agent': 4052, 'sprite': 4053, 'investig': 4054, 'risk': 4055, 'monsoon': 4056, 'hope': 4057, 'th': 4058, 'keio': 4059, 'nearli': 4060, 'mid-day': 4061, 'attic': 4062, 'iffi': 4063, 'jaileen': 4064, 'badu': 4065, 'dieva': 4066, '1fmk': 4067, 'technica': 4068, 'hickson': 4069, 'lavera': 4070, 'submitt': 4071, 'self-seek': 4072, 'collab': 4073, 'staid': 4074, 'fre': 4075, 'fist': 4076, 'shtfplan': 4077, 'ihhen': 4078, 'mordechai': 4079, 'med': 4080, 'ed': 4081, 'omgggg': 4082, '___': 4083, '11c': 4084, 'forget': 4085, 'roh': 4086, 'momentum': 4087, 'wnd': 4088, '6': 4089, 'isnt': 4090, '8437150124': 4091, 'chri': 4092, 'dolla': 4093, 'buzzfe': 4094, 'krefeld': 4095, 'hardstyl': 4096, 'ûóher': 4097, 'jump': 4098, 'avalon': 4099, 'central': 4100, 'vuuuuu': 4101, 'lag': 4102, 'either': 4103, 'livelihood': 4104, 'tip': 4105, 'career-best': 4106, 'explod': 4107, 'NH': 4108, 'council': 4109, 'concentr': 4110, 'isol': 4111, 'crayon': 4112, 'porcupin': 4113, '9000': 4114, 'itrawcwb': 4115, 'clog': 4116, 'azeroth': 4117, 'brightli': 4118, 'mexican': 4119, 'reserv': 4120, 'puerto': 4121, 'mayonnais': 4122, 'featur': 4123, 'ray': 4124, 'shed': 4125, 'fulli': 4126, 'aniston': 4127, 'pennliv': 4128, 'ricket': 4129, 'AB': 4130, 'kindof': 4131, 'reduct': 4132, 'tre': 4133, 'taiwan': 4134, 'portrait': 4135, '_review': 4136, 'worldpay': 4137, 'function': 4138, '8-5-': 4139, 'tpanic': 4140, '67': 4141, 'difficult': 4142, 'fella': 4143, 'vacanc': 4144, '01:04': 4145, 'ppor': 4146, 'lighter': 4147, 'odd': 4148, 'poni': 4149, 'video': 4150, 'diretub': 4151, 'woah': 4152, 'whelen': 4153, '_nopeach': 4154, 'pedal': 4155, 'probat': 4156, 'mygc': 4157, 'gunk': 4158, 'superintend': 4159, 'abort': 4160, 'ashrafiyah': 4161, 'script': 4162, 'gresham': 4163, 'wallet': 4164, 'italianåêalp': 4165, 'atleast': 4166, '1.43': 4167, 'ohh': 4168, 'dunc': 4169, 'veterinarian': 4170, 'trash': 4171, 'depreci': 4172, 'gabriel': 4173, 'yehuda': 4174, 'campu': 4175, 'sword': 4176, 'nissan': 4177, 'avysss': 4178, 'oblivi': 4179, 'chop': 4180, 'urgent': 4181, 'zurich': 4182, 'diversifi': 4183, 'breivik': 4184, '_mischief': 4185, 'boylesport': 4186, '_fearon': 4187, 'prison': 4188, 'xo': 4189, 'alright': 4190, 'session': 4191, 'bizinsid': 4192, 'FB': 4193, 'sec': 4194, 'sharpli': 4195, '÷': 4196, 'hadnt': 4197, 'radic': 4198, 'jeez': 4199, 'neglect': 4200, 'lmao': 4201, 'ya': 4202, 'compass': 4203, 'fi': 4204, 'familiar': 4205, '_goat': 4206, 'margaret': 4207, 'mingo': 4208, 'cab': 4209, 'ninja': 4210, 'well-adjust': 4211, 'aurora': 4212, 'bolshevik': 4213, 'horowitz': 4214, 'pvc': 4215, 'got': 4216, 'thursd': 4217, 'nelson': 4218, 'lack': 4219, 'AK': 4220, 'wabash': 4221, 'bol-apm': 4222, 'mgsv': 4223, 'vulnera': 4224, 'utv': 4225, 'often': 4226, 'believ': 4227, 'trampolin': 4228, 'fusion': 4229, '19th': 4230, 'ohgod': 4231, 'cigg': 4232, 'damn': 4233, 'sylvia': 4234, 'superbug': 4235, 'licens': 4236, 'ddnt': 4237, 'strike': 4238, 'read': 4239, 'vinyl': 4240, 'summertim': 4241, 'vegetarian': 4242, 'awesomesauc': 4243, 'donå': 4244, '_adavi': 4245, '960kzim': 4246, 'bid': 4247, 'wasilla': 4248, 'jackhol': 4249, 'bobbl': 4250, 'wed': 4251, 'charli': 4252, 'tottenham': 4253, 'forebod': 4254, 'safsufa': 4255, 'ikpeazu': 4256, 'lincoln': 4257, 'golden': 4258, 'sinc': 4259, 'statewid': 4260, 'pic': 4261, 'murlo': 4262, 'honshu': 4263, 'dollar': 4264, '158-0992': 4265, 'aloi': 4266, 'crane': 4267, '4rw': 4268, 'morningi': 4269, '1967': 4270, 'bard': 4271, 'wasabi': 4272, 'merl': 4273, 'stewart': 4274, 'notley': 4275, 'fluffi': 4276, 'ossington': 4277, 'AZ': 4278, 'xkdrx': 4279, 'transgress': 4280, '_detroit': 4281, 'build': 4282, 'empti': 4283, 'liberti': 4284, 'colnharun': 4285, 'exclam': 4286, 'fantast': 4287, 'navig': 4288, 'ratio': 4289, 'slumber': 4290, 'onyx': 4291, 'eleph': 4292, 'ûïdeton': 4293, 'violent': 4294, 'siriu': 4295, 'plu': 4296, 'AD': 4297, 'sirmion': 4298, 'hoffman': 4299, '_akh': 4300, 'decre': 4301, 'jane': 4302, 'haircut': 4303, 'preston': 4304, '_twin': 4305, 'mccain': 4306, 'disney': 4307, 'optimist': 4308, 'virg': 4309, 'tmh': 4310, 'morebut': 4311, 'windstorm.follow': 4312, 'cogniz': 4313, 'axegressor': 4314, 'dotish': 4315, '2014': 4316, 'rescuer': 4317, '10k': 4318, 'barkevi': 4319, 'rijn': 4320, '1945': 4321, 'mafia': 4322, '7eyewit': 4323, 'interestud': 4324, 'galifianaki': 4325, 'burna': 4326, '64th': 4327, 'frail': 4328, 'malik': 4329, 'avi': 4330, 'neighbour': 4331, 'ronaldo': 4332, 'paso': 4333, 'åêwa': 4334, 'novemb': 4335, 'mumbl': 4336, 'translat': 4337, 'fremont': 4338, 'furst': 4339, 'caribean': 4340, 'decemb': 4341, 'throne': 4342, 'dmpl': 4343, 'gargoyl': 4344, '_gamin': 4345, 'stole': 4346, 'burglari': 4347, '17:10': 4348, 'fresher': 4349, 'yuan': 4350, 'jewelri': 4351, 'babi': 4352, 'teammat': 4353, 'skynet': 4354, '_elena': 4355, 'poignant': 4356, 'ohlordi': 4357, 'hanna': 4358, 'opinion': 4359, 'coast': 4360, 'gba': 4361, 'soil': 4362, 'achiev': 4363, 'soultech': 4364, '_in_nm': 4365, 'x1392': 4366, 'hoax': 4367, 'freeview': 4368, '@_gags_': 4369, 'invad': 4370, 'leona': 4371, 'rage': 4372, 'hoped-for': 4373, 'hid': 4374, 'thirst': 4375, 'watchin': 4376, 'meme-bait': 4377, '_draco': 4378, 'saddl': 4379, 'mayhem': 4380, 'shifter': 4381, 'kiddo': 4382, 'pokì': 4383, 'vers': 4384, 'lulgzimbestpict': 4385, 'darkspawn': 4386, 'ashley': 4387, 'monarchi': 4388, 'diaporama': 4389, 'beloeil': 4390, '8r13': 4391, '_swain': 4392, 'delani': 4393, 'new-born': 4394, 'hmu': 4395, 'alien': 4396, 'jackass': 4397, 'brena': 4398, '3x5': 4399, 'alaska': 4400, 'mirajan': 4401, 'snowi': 4402, 'percent': 4403, 'mind-kil': 4404, 'hyider_ghost': 4405, 'interpret': 4406, 'ate': 4407, 'niggah': 4408, '-08:00': 4409, 'sever': 4410, 'catalogu': 4411, 'encod': 4412, 'dredougi': 4413, 'sympathis': 4414, 'clinic': 4415, 'lesson': 4416, 'pumpkin': 4417, '01-06': 4418, 'georgian': 4419, 'made': 4420, 'problem': 4421, 'amidst': 4422, 'shown': 4423, 'kenai': 4424, '_zel': 4425, 'situat': 4426, 'dual': 4427, 'jax': 4428, 'denali': 4429, 'boob': 4430, 'tractor': 4431, 'counti': 4432, 'roblox': 4433, 'RR': 4434, 'lace': 4435, 'macabrelolita': 4436, 'boltåêcyclon': 4437, 'periwinkl': 4438, 'e-commerc': 4439, 'franci': 4440, '7am': 4441, 'FF': 4442, '_holl': 4443, 'jaiden': 4444, 'buddi': 4445, 'desean': 4446, 'cena': 4447, 'wood': 4448, 'break': 4449, 'highli': 4450, 'nino': 4451, 'lanetari': 4452, 'input': 4453, 'slideshar': 4454, 'hmmm': 4455, 'theramin': 4456, \"gov't\": 4457, 'pulkovo': 4458, 'cyhi': 4459, 'estat': 4460, 'aviat': 4461, 'florid': 4462, 'scoreless': 4463, 'what': 4464, 'wiwnpfxa': 4465, 'submiss': 4466, 're': 4467, 'legendari': 4468, 'self-talk': 4469, 'simmon': 4470, 'inåêchao': 4471, 'perish': 4472, 'dolphin': 4473, '\\\\:': 4474, 'rnk': 4475, 'lithgow': 4476, 'forex': 4477, 'fair': 4478, 'navbl': 4479, 'ilford': 4480, 'watch': 4481, 'lastma': 4482, 'eddi': 4483, 'etp': 4484, 'diari': 4485, 'explos': 4486, 'vocal': 4487, '2009': 4488, 'lobster': 4489, 'grate': 4490, 'as10012': 4491, 'albertson': 4492, 'comparison': 4493, 'crip': 4494, 'weymouth': 4495, 'indecis': 4496, '_aamir_javaid': 4497, '_kojima_en': 4498, 'insight': 4499, 'wasth': 4500, 'gansey': 4501, 'jumper-ca': 4502, 'delav': 4503, 'malon': 4504, 'strap': 4505, 'sandra': 4506, 'bldi': 4507, 'mcdonald': 4508, 'preach': 4509, 'pamper': 4510, 'estrella': 4511, 'aid': 4512, 'net': 4513, 'uud': 4514, 'johnmtaita': 4515, 'graduat': 4516, 'turkmen': 4517, '/8': 4518, 'humanityi': 4519, 'popularmmo': 4520, 'eric': 4521, 'mizuta': 4522, 'clock': 4523, 'maimonid': 4524, 'compet': 4525, 'down': 4526, 'mafireem': 4527, '4:30-': 4528, 'duma': 4529, '|': 4530, 'sat': 4531, 'hendrixonfir': 4532, 'pale': 4533, 'million': 4534, 'plain': 4535, 'aggarw': 4536, 'advis': 4537, 'firefight': 4538, 'runkeep': 4539, 'gemini': 4540, 'anthoni': 4541, 'santanico-pandemonium': 4542, 'monologu': 4543, 'experi': 4544, 'opp': 4545, 'well-known': 4546, 'adam': 4547, 'QB': 4548, 'welp': 4549, 'dickhead': 4550, 'brass': 4551, 'intrigu': 4552, 'bristol': 4553, 'windwaker-styl': 4554, 'o-lin': 4555, '_marei': 4556, '5:15': 4557, 'sue': 4558, 'ft': 4559, 'lot': 4560, 'pinki': 4561, 'jaysen': 4562, 'turdnado': 4563, 'maj': 4564, '_7': 4565, 'haaaaaa': 4566, 'utopian': 4567, '2000': 4568, 'resourc': 4569, 'smfh': 4570, '3:15': 4571, 'heiress': 4572, '4head': 4573, 'lucki': 4574, 'australian': 4575, 'chief': 4576, 'insan': 4577, 'brahman': 4578, 'neighbor': 4579, 'mockeri': 4580, 'omlett': 4581, 'islamaphob': 4582, 'pul': 4583, 'linerless': 4584, 'true': 4585, 'trans-gener': 4586, 'wh': 4587, '5fernandez': 4588, '_dreamer15': 4589, 'CL': 4590, '_1': 4591, 'sfgate': 4592, 'ugliest': 4593, 'modern': 4594, 'youuu': 4595, 'worst-ev': 4596, 'negara': 4597, '48': 4598, 'yc': 4599, 'bing': 4600, 'oppon': 4601, '_calfe': 4602, 'ost': 4603, 'nowlik': 4604, 'mmmmmm': 4605, 'job': 4606, 'linkuri': 4607, 'renov': 4608, 'dh30000': 4609, 'nephew': 4610, 'upgrad': 4611, 'analog': 4612, 'cdt': 4613, 'idkidk': 4614, 'apt': 4615, 'train': 4616, 'tool': 4617, 'cydia': 4618, 'bead': 4619, 'cross-bord': 4620, 'ju': 4621, 'edit': 4622, 'swayback': 4623, 'innoc': 4624, 'contribut': 4625, 'citi': 4626, 'pug': 4627, 'conclus': 4628, 'josephu': 4629, 'climb': 4630, 'entranc': 4631, 'q13': 4632, 'punjab': 4633, 'nuke': 4634, 'spark': 4635, 'bradi': 4636, 'hot': 4637, 'brooklyn': 4638, 'TJ': 4639, 'manslaught': 4640, '279.00': 4641, 'price': 4642, 'brine': 4643, 'lethal': 4644, 'razak': 4645, '@_keit': 4646, 'idiota': 4647, 'not': 4648, 'yezidi': 4649, 'jay': 4650, 'ghost': 4651, 'pl': 4652, 'regionåêåênear': 4653, 'roar': 4654, 'crash': 4655, 'risen': 4656, 'famin': 4657, 'crackin': 4658, 'ziuw': 4659, '_fat_guy': 4660, 'cleav': 4661, 'tutor': 4662, 'rabbit': 4663, '2slow2report': 4664, 'enabl': 4665, 'bartend': 4666, 'idc': 4667, 'stun': 4668, 'fat': 4669, 'eco': 4670, 'appeal': 4671, 'liv': 4672, '_eu': 4673, '138:8': 4674, 'acess': 4675, 'unfollow': 4676, 'stuart': 4677, 'conditionspriv': 4678, '573': 4679, 'pitfal': 4680, 'infecti': 4681, 'teemo': 4682, 'mapl': 4683, 'child': 4684, '1ti': 4685, 'glade': 4686, 'smile': 4687, '_argent': 4688, 'acquir': 4689, 'destruct': 4690, 'su': 4691, 'abc': 4692, 'assault': 4693, 'eastern': 4694, 'vabeng': 4695, 'sunset': 4696, '\\x9d': 4697, 'shanta': 4698, 'loud': 4699, 'tune': 4700, 'aspect': 4701, 'fest': 4702, 'expo': 4703, 'osha': 4704, 'byr': 4705, 'tomb': 4706, '_garcia': 4707, 'ortiz': 4708, '5/2015': 4709, 'fifti': 4710, 'saadth': 4711, 'investigatin': 4712, '_is_angri': 4713, '_novoa': 4714, 'outbid': 4715, 'nwo': 4716, 'blizzard': 4717, 'question': 4718, 'rene': 4719, 'armstrong': 4720, '5so': 4721, 'slither': 4722, 'vision': 4723, 'bimbo': 4724, \"'d\": 4725, 'unstopp': 4726, 'azz': 4727, 'recognit': 4728, 'hyukki': 4729, 'bleed': 4730, 'disembark': 4731, 'seamstress': 4732, 'contra': 4733, 'hostagesthrosw': 4734, 'religion': 4735, 'club': 4736, 'sef': 4737, '0sed': 4738, 'dk': 4739, 'superstar': 4740, 'ike': 4741, 'summit': 4742, 'trial': 4743, 'kou': 4744, 'amiibo': 4745, '_cameron': 4746, 'bukidnon': 4747, 'aaaa': 4748, 'mulan': 4749, 'indianperpetr': 4750, 'X': 4751, 'oup': 4752, 'ralph': 4753, 'some': 4754, 'gem': 4755, 'peer': 4756, 'iaavroiv': 4757, 'nar': 4758, 'remorseless': 4759, 'westi': 4760, 'dirt': 4761, 'baggag': 4762, 'freestyl': 4763, 'AN': 4764, 'vietnam': 4765, 'lolo': 4766, 'istg': 4767, 'dhalgren': 4768, 'confound': 4769, 'amp': 4770, 'tv': 4771, 'field-wid': 4772, 'landown': 4773, 'phmsa': 4774, 'nobleman': 4775, 'biometr': 4776, 'dhaka': 4777, 'hindustan': 4778, 'radneck': 4779, 'brazilian': 4780, 'workd': 4781, 'it': 4782, 'mechanicsburg': 4783, 'saud': 4784, 'prior': 4785, 'jew': 4786, 'CM': 4787, 'approachng': 4788, 'petti': 4789, 'cascad': 4790, 'firmli': 4791, 'enrout': 4792, '5:00': 4793, 'realli': 4794, 'steamship': 4795, 'periscop': 4796, 'ace': 4797, 'pardon': 4798, 'clyde': 4799, 'iri': 4800, 'archetyp': 4801, 'lawmak': 4802, 'mar': 4803, 'preacher': 4804, \"x'ma\": 4805, 'add': 4806, 'logist': 4807, 'undo': 4808, 'ghoul': 4809, '6/15': 4810, 'shotgun': 4811, 'averag': 4812, 'i15': 4813, 'mirag': 4814, 'robot-lvl': 4815, 'inroic': 4816, 'atop': 4817, 'assail': 4818, 'myztiziziziziz': 4819, 'pandem': 4820, 'demor': 4821, 'sure': 4822, 'govt': 4823, 'acura': 4824, 'fcked': 4825, '#1-1st': 4826, 'long-last': 4827, 'know-it-al': 4828, 'file': 4829, 'vineyard': 4830, 'gambl': 4831, 'colleg': 4832, 'run-down': 4833, 'acryl': 4834, 'ra': 4835, 'southeast': 4836, 'releas': 4837, 'deep': 4838, 'comrad': 4839, 'beau': 4840, 'vs': 4841, 'zumiez': 4842, 'rang': 4843, 'contract': 4844, 'wreck-it': 4845, 'republ': 4846, 'uncl': 4847, 'hydrat': 4848, 'namekian': 4849, 'dix': 4850, 'ssu': 4851, 'cia': 4852, 'seminar': 4853, 'like': 4854, 'gunman': 4855, 'gasolin': 4856, 'olap': 4857, 'farc': 4858, 'repeat': 4859, '79': 4860, 'tram': 4861, 'lt': 4862, 'especi': 4863, 'screw': 4864, 'connor': 4865, 'TU': 4866, 'tragic': 4867, 'comput': 4868, 'coffe': 4869, 'ayyy': 4870, 'social-media-driven': 4871, 'cooper': 4872, 'again-spiritu': 4873, 'fuckin': 4874, 'servicesgold': 4875, 'cher': 4876, 'crude': 4877, 'yelp': 4878, 'island': 4879, 'esevu': 4880, 'blue': 4881, 'bibl': 4882, 'billboard': 4883, 'CO': 4884, 'psfda': 4885, 'MT': 4886, 'garden': 4887, 'pletch': 4888, \"l'enfant\": 4889, 'sushi': 4890, 'ankl': 4891, 'repli': 4892, 'unauthor': 4893, 'eas': 4894, 'miner': 4895, 'turn': 4896, 'announc': 4897, 'humidifi': 4898, 'jasmin': 4899, 'IS': 4900, 'P:': 4901, 'air': 4902, 'unit': 4903, 'saudi': 4904, 'mcclain': 4905, 'cream': 4906, 'rihanna': 4907, 'lu': 4908, 'adani': 4909, 'paint': 4910, 'initi': 4911, 'detonateshot': 4912, 'eurocrisi': 4913, 'blueprint': 4914, 'vent': 4915, 'ascend': 4916, 'game': 4917, 'magog': 4918, 'H': 4919, 'brows': 4920, 'son': 4921, 'predict': 4922, 'attack.shar': 4923, 'kuznetsova': 4924, 'hit': 4925, 'roadway-properti': 4926, '6game': 4927, 'ypg': 4928, 'dardanel': 4929, 'natti': 4930, 'mix': 4931, 'splattershot': 4932, 'harvey': 4933, '13000': 4934, 'limit': 4935, 'litani': 4936, 'broken': 4937, 'scissor': 4938, 'nostalgia': 4939, 'glimps': 4940, 'damatu': 4941, 'hogan': 4942, 'unhing': 4943, 'tell': 4944, 'sinistra': 4945, 'unknown': 4946, 'contamin': 4947, 'homeland': 4948, 'sometim': 4949, 'deeper': 4950, 'chickmt': 4951, 'osama': 4952, 'southpoint': 4953, 'invit': 4954, 'lightn': 4955, 'nautic': 4956, '_bell82': 4957, 'egyptian': 4958, 'af': 4959, 'guest': 4960, 'sandwich': 4961, 'instead': 4962, 'alibaba': 4963, 'wise': 4964, '1lla': 4965, 'keratin': 4966, 'propos': 4967, '_traffic': 4968, 'leak': 4969, 'morocco': 4970, 'clever': 4971, \"onåê'th\": 4972, 'els': 4973, 'infograph': 4974, 'competet': 4975, 'glad': 4976, 'manual': 4977, 'ûªm': 4978, 'lasting': 4979, 'gigawatt': 4980, 'pathogen': 4981, 'cope': 4982, '4:46': 4983, 'alan': 4984, '900037': 4985, 'rope': 4986, 'nyclass': 4987, 'tf': 4988, 'trend': 4989, 'inde': 4990, 'wooden': 4991, '106:38': 4992, 'vancouveråêisland': 4993, 'hitchhik': 4994, 'piss': 4995, 'earth': 4996, 'colour': 4997, 'B4': 4998, '15:41': 4999, 'railroad': 5000, 'blackcat': 5001, 'stand-up': 5002, 'ng': 5003, '1620': 5004, 'hugh': 5005, 'xoxo': 5006, 'younger': 5007, '10pm': 5008, 'e-book': 5009, 'sicili': 5010, 'skew': 5011, 'flp': 5012, 'pikachu': 5013, 'tongu': 5014, 'zmne': 5015, 'stake': 5016, 'wk': 5017, 'propag': 5018, '12022': 5019, 'alloc': 5020, 'cipinang': 5021, '5km': 5022, 'mutant': 5023, '_nevalisti': 5024, 'rhett': 5025, 'regret': 5026, 'habit': 5027, 'reconnect': 5028, '@9newsbrisban': 5029, 'otl': 5030, 'vigil': 5031, 'medusa': 5032, 'mortem': 5033, \"us'g\": 5034, 'salvag': 5035, 'cannon': 5036, 'weisberg': 5037, 'streamyx-home-southern': 5038, 'wither': 5039, 'lump': 5040, 'cultiv': 5041, 'smantibatam': 5042, 'bolster': 5043, '9:15': 5044, 'A': 5045, 'mont': 5046, 'aannnnd': 5047, 'incap': 5048, 'match': 5049, 'infowar': 5050, '7986': 5051, 'greater': 5052, 'copenhagen': 5053, '17.beyonc': 5054, 'uproot': 5055, 'blight': 5056, 'newli': 5057, 'span': 5058, 'forest': 5059, '10-6': 5060, 'WE': 5061, 'outflow': 5062, 'pant': 5063, 'skye': 5064, 'asic': 5065, 'no-go': 5066, 'qvc': 5067, 'e-mini': 5068, '06:32': 5069, 'deceas': 5070, 'usa': 5071, '2.6': 5072, 'fell': 5073, 'dwell': 5074, 'protoshoggoth': 5075, 'mistrust': 5076, '3ke_sk1': 5077, 'yazidi': 5078, '_baby1': 5079, 'dijk': 5080, 'durabl': 5081, 'rental': 5082, '_queen': 5083, 'didn': 5084, 'visibl': 5085, 'pepper': 5086, '1km': 5087, 'tozlet': 5088, 'animatron': 5089, 'smug': 5090, 'doll': 5091, 'post-battl': 5092, '@15moferadio': 5093, 'bonesymcbon': 5094, '361': 5095, 'beli': 5096, 'exquisit': 5097, '1ìâå': 5098, 'switzerland': 5099, 'contempl': 5100, 'kettlebel': 5101, 'end': 5102, 'anyth': 5103, 'digniti': 5104, 'obliter': 5105, '@_charleyisqueen': 5106, 'longer': 5107, 'p_eopl': 5108, 'ronald': 5109, 'cau': 5110, 'shoot': 5111, 'sandun': 5112, 'wftv': 5113, 'goal': 5114, 'salti': 5115, '_jewel': 5116, 'chonc': 5117, 'nooooooooo': 5118, 'oikawa': 5119, 'held': 5120, 'oooh': 5121, 'row': 5122, 'PL': 5123, 'urself': 5124, 'destroyd': 5125, 'ambi': 5126, 'sisk': 5127, 'cider': 5128, 'duli': 5129, 'hen': 5130, 'arfur': 5131, 'ablaz': 5132, '5seattl': 5133, '_alway': 5134, 'reject': 5135, 'heavydirtysoul': 5136, 'mirkwood': 5137, 'southern': 5138, 'vinc': 5139, 'guthri': 5140, 'anjem': 5141, '9288322': 5142, 'chairman': 5143, 'reator': 5144, '78': 5145, 'krag': 5146, 'surpris': 5147, 'pollut': 5148, '\\x89': 5149, '17shawi': 5150, 'airborn': 5151, 'riski': 5152, 'someon': 5153, 'pakistan': 5154, 'artist': 5155, \"rock'n\": 5156, 'stung': 5157, 'exacerb': 5158, 'boyd': 5159, 'our': 5160, 'inund': 5161, 'belliger': 5162, 'nelli': 5163, 'frighten': 5164, 'ttw': 5165, 'signific': 5166, 'tenn': 5167, 'greatest': 5168, 'academi': 5169, 'elem': 5170, '40hourfamin': 5171, 'boost': 5172, 'pronounc': 5173, 'background': 5174, 'shahe': 5175, 'mold': 5176, 'built': 5177, 'economist': 5178, 'glue': 5179, 'brooo': 5180, 'emilio': 5181, 'trad': 5182, 'stand-us': 5183, 'tracklist': 5184, 'xxx': 5185, 'contest': 5186, 'zss': 5187, 'evansvil': 5188, 'hitchbot': 5189, 'zakuun': 5190, 'censor': 5191, 'fifth': 5192, 'mesmer': 5193, 'ubc': 5194, '57': 5195, 'kitti': 5196, 'ks100': 5197, 'displac': 5198, 'roll': 5199, 'businessmen': 5200, 'smirk': 5201, 'cgg': 5202, 'miltari': 5203, 'blown-up': 5204, 'multipl': 5205, '16:11': 5206, 'indyfest': 5207, 'clean': 5208, 'grim': 5209, 'argentinean': 5210, 'jewel': 5211, 'fave': 5212, 'hinata': 5213, 'cairo': 5214, 'blockag': 5215, 'duo': 5216, 'proce': 5217, 'candl': 5218, '4:8': 5219, \"cos'it\": 5220, 'spent': 5221, 'kcem': 5222, 'rosatom': 5223, 'radio': 5224, 'schoolgirl': 5225, 'quit': 5226, 'pcp': 5227, 'minion': 5228, 'vietnames': 5229, 'crit': 5230, 'hater': 5231, 'six-car': 5232, 'stormcom': 5233, 'rigour': 5234, 'slander': 5235, 'ûª93': 5236, 'awh': 5237, 'finna': 5238, 'sucker': 5239, 'bewar': 5240, '30-60': 5241, 'wroug': 5242, 'channel': 5243, 'rein': 5244, 'smoke': 5245, 'gta': 5246, 'curri': 5247, 'mind': 5248, \"took'em\": 5249, 'azusa': 5250, 'red-head': 5251, 'liveleakfun': 5252, 'flag': 5253, 'appl': 5254, 'ribbon': 5255, 'overtures.pleas': 5256, 'armageddon': 5257, 'sparkz': 5258, 'hostag': 5259, 'media': 5260, 'winik': 5261, 'so': 5262, 'reliv': 5263, 'bye': 5264, '00:25': 5265, 'rampag': 5266, 'wacko': 5267, 'grant_factori': 5268, 'done': 5269, 'tonn': 5270, 'symbol': 5271, 'moon': 5272, 'prone': 5273, 'horni': 5274, 'matthew': 5275, 'attach': 5276, '2025': 5277, 'keegan': 5278, 'uncertainti': 5279, '4fnet': 5280, 'khaki': 5281, 'jim': 5282, 'de-wat': 5283, 'oomf': 5284, 'emot': 5285, 'aT': 5286, 'bot': 5287, 'becym': 5288, 'buchana': 5289, 'nizer': 5290, 'ethiopian': 5291, 'apprais': 5292, '@_oliviaann_': 5293, '_song21': 5294, 'dragon': 5295, 'mike': 5296, 'gutrkp': 5297, 'hubri': 5298, 'ìñ1': 5299, '_barrowman': 5300, 'marjanov': 5301, 'ûïlove': 5302, 'weekend': 5303, 'M': 5304, 'capitul': 5305, 'whiskey': 5306, 'beatz': 5307, 'sweat': 5308, 'notr': 5309, 'lemonad': 5310, 'usth': 5311, '#06': 5312, '83': 5313, 'TN': 5314, 'leaf': 5315, 'rrod': 5316, 'fiorentina': 5317, 'usatoday': 5318, 'mcfadden': 5319, 'brinx': 5320, 'were': 5321, 'ensu': 5322, 'tibetan': 5323, 'lookout': 5324, 'tucson': 5325, 'snowbal': 5326, 'eur': 5327, 'post-capit': 5328, 'wnw': 5329, 'sansa': 5330, 'under': 5331, 'butch': 5332, 'villanova': 5333, 'sosa': 5334, '_jr_760': 5335, 'int': 5336, 'hjt': 5337, 'complain': 5338, 'lancasteronlin': 5339, 'swami': 5340, 'viper': 5341, 'brandac': 5342, 'hah': 5343, '7A': 5344, 'legionna': 5345, 'prob': 5346, 'pisco': 5347, 'enca': 5348, 'parisian': 5349, 'transform': 5350, '184': 5351, '4mayor': 5352, 'indistinguish': 5353, 'asburi': 5354, \"fine'-m\": 5355, 'reggi': 5356, 'dy': 5357, 'barri': 5358, 'testament': 5359, 'mynabird': 5360, 'plateau': 5361, 'entertain': 5362, 'absenc': 5363, 'cheesehead': 5364, 'cabl': 5365, 'evacu': 5366, 'ted': 5367, 'timestack': 5368, 'seemeth': 5369, 'fide': 5370, 'sophi': 5371, 'amo': 5372, 'cardboard': 5373, '33': 5374, 'abound': 5375, 's01e09': 5376, 'creamfield': 5377, 'tribut': 5378, 'A5': 5379, 'A1': 5380, 'lorr': 5381, 'proxi': 5382, 'cake': 5383, 'max': 5384, 'subtl': 5385, 'seashor': 5386, 'benefit': 5387, 'moor': 5388, 'vacat': 5389, 'lethbridg': 5390, 'flaunt': 5391, 'wtf': 5392, 'durden': 5393, 'morganit': 5394, '9/29': 5395, '97-98': 5396, 'ND': 5397, 'wickett': 5398, 'nonononono': 5399, 'carriag': 5400, 'similar': 5401, 'pet': 5402, 'txt': 5403, 'unsurprisingli': 5404, 'metastat': 5405, 'boxset': 5406, 'dame': 5407, 'stearn': 5408, '5040': 5409, 'drought': 5410, 'cozi': 5411, 'coldwood': 5412, 'crusad': 5413, 'magazin': 5414, 'wha': 5415, 'band': 5416, 'luv': 5417, 'jetstar': 5418, 'honey': 5419, 'rod': 5420, 'camila': 5421, 'vuln': 5422, '379': 5423, 'ex-presid': 5424, 'philadelphia': 5425, 'oneindia': 5426, 'nuff': 5427, 'non-hazard': 5428, 'laboratori': 5429, 'ol': 5430, 'blossom': 5431, 'regress': 5432, 'DM': 5433, 'racial': 5434, 'make': 5435, 'mr': 5436, 'AI': 5437, 'cypru': 5438, 'uninhabit': 5439, '101.9': 5440, 'bluedio': 5441, 'bayelsaåêst': 5442, 'headset': 5443, 'cara': 5444, 'schism': 5445, 'lizzi': 5446, 'sitc': 5447, 'foreman': 5448, 'leedstraif': 5449, 'sensor-knock': 5450, '@_rosewel': 5451, 'durvod': 5452, 'st': 5453, 'gratuit': 5454, 'D:': 5455, 'nenshi': 5456, 'fester': 5457, 'ridg': 5458, 'bonfir': 5459, 'spell': 5460, 'howel': 5461, 'probali': 5462, 'sheeran': 5463, '35': 5464, 'statesmanlik': 5465, 'emekagift': 5466, '13,000': 5467, 'twitterp': 5468, '_body95': 5469, '@_stiiilo': 5470, 'wbre': 5471, 'terrellt': 5472, 'goodrich': 5473, 'thine': 5474, 'butiqob': 5475, 'hangin': 5476, 'GT': 5477, 'matur': 5478, 'bill': 5479, 'evergreen': 5480, 'tyme': 5481, '71': 5482, 'angelriveralib': 5483, 'uke': 5484, 'sct': 5485, 'banerje': 5486, 'by': 5487, 'verrri': 5488, 'lefti': 5489, 'quietli': 5490, 'kill': 5491, 'shame': 5492, 'allianc': 5493, '400dr': 5494, 'stolen': 5495, 'werewolf': 5496, 'taki': 5497, 'zip': 5498, 'parad': 5499, 'pfft': 5500, '0-0': 5501, 'z10': 5502, '9am': 5503, 'hitch': 5504, 'sad': 5505, 'm27329': 5506, 'washington': 5507, 'lmaov': 5508, 'mortgag': 5509, 'moriya': 5510, 'crescent': 5511, '_america': 5512, 'uneven': 5513, 'histor': 5514, 'mind-blow': 5515, 'malyasiaairlin': 5516, 'usama': 5517, 'empathi': 5518, 'pictur': 5519, 'bracelet': 5520, 'length': 5521, 'thane': 5522, 'puck': 5523, 'dserialpcilp': 5524, 'shii': 5525, 'how': 5526, 'updat': 5527, 'chew': 5528, 'abov': 5529, '5th': 5530, 'utc': 5531, 'finger': 5532, '_nutt': 5533, 'upcom': 5534, 'wrked': 5535, 'senior': 5536, 'tank': 5537, 'testicl': 5538, 'ori': 5539, '3lyc': 5540, 'brevoort': 5541, 'remark': 5542, 'bannist': 5543, 'instantli': 5544, 'nitroglycerin': 5545, 'medium': 5546, 'nhk': 5547, '2:17': 5548, 'corey': 5549, 'washabl': 5550, '_goldrush': 5551, 'bayonet': 5552, 'letdown': 5553, 'ûïall': 5554, 'dunbar': 5555, 'steve': 5556, 'resist': 5557, 'nic': 5558, '10km': 5559, 'disdain': 5560, 'rueb': 5561, 'grain': 5562, 'wwii': 5563, 'tremor': 5564, 'sr14': 5565, 'anniversari': 5566, '20177-707': 5567, 'dancefloor': 5568, 'rindou': 5569, 'fiona': 5570, 'charger': 5571, 'firefightr': 5572, 'gigant': 5573, 'height': 5574, 'overal': 5575, '_reizei': 5576, '_0000': 5577, 'biblic': 5578, '_rain': 5579, 'thin': 5580, 'evangelical-liar': 5581, 'psychic': 5582, 'thailand': 5583, 'htarvrgli': 5584, 'rig': 5585, 'iran': 5586, 'burst': 5587, 'median': 5588, 'disgrac': 5589, 's61': 5590, 'cinema': 5591, '_4_a_ment': 5592, 'world.let': 5593, 'barrington': 5594, 'playstat': 5595, 'crow': 5596, 'farewel': 5597, '45perez': 5598, 'sapphir': 5599, 'aliyu': 5600, 'opt': 5601, 'michel': 5602, 'kalmikya': 5603, 'gulf': 5604, '210': 5605, 'tag': 5606, '_greyman': 5607, '519': 5608, 'wayn': 5609, 'woken': 5610, '4prez16': 5611, 'aveng': 5612, '@5hvzlaradio': 5613, 'connecticut': 5614, 'snag': 5615, '0407': 5616, 'ender': 5617, 'deliveri': 5618, '401k': 5619, 'co-develop': 5620, 'toxic': 5621, 'secret': 5622, 'motorcycl': 5623, 'simpl': 5624, 'saint': 5625, 'muhammadu': 5626, 'celesti': 5627, 'mead': 5628, 'leagu': 5629, 'href': 5630, 'mumbai': 5631, 'on-scen': 5632, 'cockpit': 5633, 'tackl': 5634, '2in1': 5635, 'export': 5636, 'atlant': 5637, 'between-song': 5638, 'darud': 5639, 'gov': 5640, 'ps2': 5641, 'moe': 5642, 'thoma': 5643, 'freezer': 5644, 'etern': 5645, 'privatis': 5646, 'molav': 5647, 'meat': 5648, 'sunscreen': 5649, 'mid': 5650, 'condol': 5651, 'shakespear': 5652, 'dawson': 5653, 'relat': 5654, 'ads.it': 5655, 'pick': 5656, 'link': 5657, 'fcsl': 5658, 'boast': 5659, 'ameribag': 5660, 'cam': 5661, 'bona': 5662, 'jinx': 5663, 'yuki': 5664, 'highlight': 5665, '_jinu': 5666, 'franta': 5667, '2:28': 5668, 'voter': 5669, 'racism': 5670, 'ship': 5671, 'tesla': 5672, '_nita99': 5673, 'deviat': 5674, 'pickl': 5675, 'solicitor': 5676, '@40urti': 5677, 'somewher': 5678, 'unilev': 5679, 'languish': 5680, 'slash-and-burn': 5681, 'disfigur': 5682, 'colonel': 5683, 'railway.prop': 5684, 'ûª': 5685, 'daisi': 5686, 'xvii': 5687, 'pat': 5688, 'osag': 5689, 'bridgework': 5690, 'return': 5691, 'ng2x5': 5692, 'unrel': 5693, 'unfortun': 5694, 'JD': 5695, 'drug': 5696, 'inferno': 5697, 'hi-r': 5698, 'bradley': 5699, 'hero': 5700, 'muster': 5701, 'betray': 5702, 'demo': 5703, 'lamb': 5704, 'outright': 5705, 'fab': 5706, 'presidenti': 5707, ';p': 5708, 'marc': 5709, 'hawaiianpaddlesport': 5710, 'darkest': 5711, 'answer': 5712, 'unabl': 5713, 'pasokon': 5714, 'nonsens': 5715, 'mollusk': 5716, 'ab': 5717, 'ferri': 5718, '_hodg': 5719, 'pill': 5720, 'mountain': 5721, 'approach': 5722, 'sanit': 5723, 'conspiraci': 5724, 'op': 5725, 'us101': 5726, 'modibo': 5727, 'tanzania': 5728, 'barcouski': 5729, 'encourag': 5730, 'timesofindia': 5731, 'tough': 5732, 'katrina': 5733, 'joshua': 5734, 'addit': 5735, '_butcher': 5736, '12:32': 5737, 'epic': 5738, 'gravel': 5739, '_johanfranzen': 5740, 'ter': 5741, '1055': 5742, '_hari': 5743, 'disposit': 5744, 'particip': 5745, 'corpor': 5746, 'diablo': 5747, 'deal': 5748, 'makoto': 5749, 'crook': 5750, 'motorist': 5751, 'strong-mind': 5752, 'bangin': 5753, 'intersectio': 5754, 'brother-n-law': 5755, 'wwi': 5756, 'ckec': 5757, 'malt': 5758, 'feder': 5759, 'therein': 5760, 'idaho': 5761, 'after-hour': 5762, 'posit': 5763, 'anonym': 5764, 'pete': 5765, '1dx': 5766, 'saver': 5767, 'agdq': 5768, 'hazzel': 5769, 'support': 5770, 'tantrum': 5771, '... .': 5772, 'knuckl': 5773, 'iliad': 5774, 'bilingu': 5775, 'shiver': 5776, 'ramat': 5777, 'devji': 5778, 'valley': 5779, 'plant': 5780, 'sensibl': 5781, '10:00': 5782, 'remad': 5783, 'vallerand': 5784, 'barrel': 5785, 'penney': 5786, 'delphi': 5787, 'mortar': 5788, 'avocado': 5789, 'bout': 5790, 'bbc': 5791, '3p': 5792, 'nyse': 5793, 'standard': 5794, 'cage': 5795, 'obama': 5796, 'aan': 5797, 'freud': 5798, 'decay': 5799, 'close': 5800, 'human': 5801, 'bharat': 5802, 'unfair': 5803, 'dure': 5804, 'huge': 5805, 'nearly-fat': 5806, 'currenc': 5807, 'seemli': 5808, 'BS': 5809, 'leftov': 5810, 'nave': 5811, 'cabin': 5812, 'spread': 5813, 'day': 5814, 'miprv': 5815, 'famineåêmemori': 5816, 'wear': 5817, '50ft': 5818, 'companion': 5819, 'emmeryn': 5820, 'meaningless': 5821, 'u.s.pacif': 5822, 'madsumm': 5823, 'variat': 5824, '@660new': 5825, 'dubbo': 5826, 'TG': 5827, 'vai': 5828, 'premis': 5829, 'oif': 5830, 'FM': 5831, 'ink': 5832, 'atla': 5833, 'g20': 5834, '44': 5835, 'transgend': 5836, 'hoop': 5837, 'self': 5838, 'damiengayl': 5839, 'temporari': 5840, 'long': 5841, 'stud': 5842, 'uhc': 5843, '950': 5844, 'drought-toler': 5845, 'unlik': 5846, 'tia': 5847, '#24': 5848, 'beyond': 5849, 'fightin': 5850, 'claw': 5851, '4500': 5852, 'nema': 5853, 'grahamwp': 5854, 'wisconsin': 5855, '140km': 5856, 'selfish': 5857, 'shuffl': 5858, 'weari': 5859, 'river-siskiy': 5860, 'ouvindo': 5861, 'glanc': 5862, 'hysteria': 5863, 'atlanta': 5864, 'reagan': 5865, 'tongue-twist': 5866, 'unsurpris': 5867, 'raleigh': 5868, 'wirelessli': 5869, 'traine': 5870, 'duda': 5871, 'code': 5872, 'prabhu': 5873, 'bracket': 5874, 'perk': 5875, '24:1': 5876, 'extrem': 5877, 'kept': 5878, '09:36': 5879, 'ahhhhh': 5880, 'donnelli': 5881, 'pastor': 5882, 'web': 5883, 'supplement': 5884, 'hilda': 5885, 'dll': 5886, 'unsur': 5887, 'help-hors': 5888, 'cute': 5889, '16252': 5890, 'festac': 5891, 'fez': 5892, 'poss': 5893, 'simmer': 5894, 'nuclear': 5895, 'mwjcdk': 5896, 'ttk': 5897, 'netflix': 5898, 'site': 5899, 'grabber': 5900, 'outcri': 5901, 'jocelyn': 5902, 'bhyderabad': 5903, 'leesburg': 5904, 'jez': 5905, 'champ': 5906, 'period': 5907, 'torch': 5908, 'fireman': 5909, 'totoooooo': 5910, 'slaveri': 5911, 'froze': 5912, 'SH': 5913, 'hhahaha': 5914, 'uncommon': 5915, 'control': 5916, 'yamashiro': 5917, 'peanut': 5918, 'smb': 5919, 'rest': 5920, 'lakh': 5921, 'fia': 5922, 'happy-hour': 5923, 'bombard': 5924, 'û_you': 5925, 'hallett': 5926, 'american': 5927, '_kiia': 5928, 'hunterston': 5929, 'prefer': 5930, 'process': 5931, 'rea': 5932, 'westero': 5933, 'hei': 5934, 'citadel': 5935, 'nyork': 5936, 'changelessli': 5937, 'guidelin': 5938, 'berggruen': 5939, 'unheal': 5940, '_sweet': 5941, 'redland': 5942, 'vivid': 5943, 'inaugur': 5944, 'chair': 5945, 'vacant': 5946, '0fsloth': 5947, 'willow': 5948, 'mr.obama': 5949, 'hiroshima': 5950, 'hahah': 5951, 'shawi': 5952, 'reveillertm': 5953, 'sandbox': 5954, '_pinto001': 5955, 'expedit': 5956, '10:34': 5957, 'pursu': 5958, 'viab': 5959, '3:45': 5960, 'urbanis': 5961, 'throwingknif': 5962, 'outfit': 5963, '@58hif': 5964, '74/75': 5965, 'drinker': 5966, 'firm': 5967, 'din': 5968, 'queensland': 5969, 'talston': 5970, 'harper': 5971, 'brasswork': 5972, 'jou': 5973, 'derma': 5974, 'ergo': 5975, 'eyesss': 5976, 'morn': 5977, '@670thescor': 5978, 'julian': 5979, 'rayner': 5980, 'pu': 5981, 'calcul': 5982, 'jpmorgan': 5983, 'morbid': 5984, 'dawabsha': 5985, 'kamon': 5986, 'evauc': 5987, 'ME': 5988, 'frankli': 5989, 'earnest': 5990, 'yer': 5991, 'swedish': 5992, 'thoroughli': 5993, '1pack': 5994, 'strategi': 5995, 'stonewal': 5996, 'disc': 5997, 'gentlemen': 5998, 'bind': 5999, 'reblog': 6000, 'attract': 6001, 'mw3': 6002, 'thisisfaz': 6003, 'cork': 6004, 'stephen': 6005, 'among': 6006, 'camouflag': 6007, 'plastic': 6008, 'defens': 6009, 'adelaid': 6010, 'tranci': 6011, '18w': 6012, 'si': 6013, 'yike': 6014, 'rosi': 6015, 'taho': 6016, 'fasten': 6017, 'overboard': 6018, 'js': 6019, 'differ': 6020, '9-11': 6021, 'kostum': 6022, 'activist': 6023, 'rattl': 6024, 'two-out': 6025, 'govern': 6026, 'dak': 6027, 'treatment': 6028, 'barrack': 6029, '12:11': 6030, 'tambo': 6031, 'resid': 6032, 'defeat': 6033, 'juanni': 6034, '300w': 6035, 'pact': 6036, 'sympathi': 6037, 'shud': 6038, 'outskirt': 6039, 'WB': 6040, 'panoram': 6041, 'kunstler': 6042, 'espargaro': 6043, 'wartim': 6044, 'fart': 6045, 'donat': 6046, '30th': 6047, '2.9': 6048, 'deepli': 6049, 'blinker': 6050, 'repent': 6051, 'champagn': 6052, 'fuckkkkkk': 6053, 'gave': 6054, '70-71': 6055, '11:54': 6056, 'leisur': 6057, 'certif': 6058, 'teamo': 6059, 'trusti': 6060, 'part': 6061, 'threshold': 6062, 'creeper': 6063, 'fnaf': 6064, 'hara-kiri': 6065, 'booz': 6066, 'hunger': 6067, 'devereaux': 6068, 'chaser': 6069, 'play': 6070, 'zipper': 6071, 'metrobu': 6072, 'kuwait': 6073, 'provoc': 6074, 'todd': 6075, 'edison': 6076, 'best': 6077, 'quak': 6078, 'cruddi': 6079, 'prefectur': 6080, '@__scrambledegg': 6081, 'drummond': 6082, 'warwick': 6083, 'warm': 6084, 'pleasur': 6085, 'network': 6086, 'indec': 6087, 'gm': 6088, 'affleck': 6089, 'uranium': 6090, 'inbetween': 6091, 'chao': 6092, 'suscept': 6093, 'self-imag': 6094, 'faceåê': 6095, 'ykelquiban': 6096, 'simultan': 6097, 'freebesieg': 6098, 'wolforth': 6099, 'pacif': 6100, 'rosali': 6101, 'andi': 6102, 'xxhjesc': 6103, 'dayton-area': 6104, 'runner': 6105, 'ask': 6106, 'storm': 6107, 'halifax': 6108, 'nikki': 6109, '150': 6110, 'combat': 6111, '336': 6112, 'xii': 6113, 'wsea': 6114, 'ri': 6115, 'chevrolet': 6116, 'ipod': 6117, 'perfect': 6118, 'afycso': 6119, 'receiv': 6120, 'zombi': 6121, 'attempt': 6122, 'ach': 6123, '9pm': 6124, 'subcontractor': 6125, 'restrospect': 6126, '_chip': 6127, 'legion': 6128, 'joann': 6129, 'bargain': 6130, '107.9': 6131, 'propaganda': 6132, 'poconorecord': 6133, 'camper': 6134, 'x2': 6135, 'guam': 6136, 'pyjama': 6137, 'wilder': 6138, 'lambast': 6139, 'half-erect': 6140, 'can': 6141, 'ridicul': 6142, 'nine': 6143, 'play-off': 6144, 'hehe': 6145, 'are': 6146, 'satelit': 6147, 'skanndtyagi': 6148, '15th': 6149, 'swoop': 6150, 'kissimme': 6151, 'wi': 6152, 'emili': 6153, 'grandeur': 6154, '@957thegam': 6155, 'huntington': 6156, 'black': 6157, 'awkward': 6158, 'sp': 6159, 'ks57': 6160, '140': 6161, 'satan': 6162, 'ali': 6163, 'OF': 6164, 'notif': 6165, 'remu': 6166, 'tepat': 6167, 'kan': 6168, 'splif': 6169, 'mom': 6170, 'futurist': 6171, 'filmmak': 6172, 'cindi': 6173, '3-4': 6174, 'databas': 6175, 'accuraci': 6176, 'ime': 6177, 'hearthston': 6178, 'dorret': 6179, 'label': 6180, 'eurpo': 6181, 'serious': 6182, 'program': 6183, 'stadium': 6184, 'bandoli': 6185, 'new': 6186, 'homer': 6187, 'internet': 6188, 'suicide-by-cop': 6189, 'gunfir': 6190, 'convict': 6191, 'gabon': 6192, 'bubbl': 6193, 'yee-haw': 6194, 'verg': 6195, 'spacex': 6196, 'sr22': 6197, 'vì_a': 6198, 'sigh': 6199, 'elsewer': 6200, 'weatherit': 6201, 'annual': 6202, 'screen': 6203, '7:53': 6204, 'lighten': 6205, 'june': 6206, 'clear': 6207, 'tale': 6208, 'brighton': 6209, 'rob': 6210, 'grid': 6211, 'parallel': 6212, 'yellow': 6213, 'gallup': 6214, 'school': 6215, 'stay': 6216, 'byityf': 6217, 'discuss': 6218, 'EQ': 6219, 'wehtwtvwloc': 6220, 'usmc': 6221, '20min': 6222, 'prada': 6223, 'christma': 6224, 'dcfd': 6225, 'trust': 6226, 'intern': 6227, 'boyfriend': 6228, 'invzic': 6229, 'redw': 6230, 'blk': 6231, '_en': 6232, 'slipper': 6233, 'ruthless': 6234, '11:16': 6235, 'stupid': 6236, 'remedyyyy': 6237, '405': 6238, '_nfpa': 6239, 'brisk': 6240, 'onlin': 6241, 'weiqin': 6242, '_keith44': 6243, 'flurri': 6244, 'dicki': 6245, 'dyxtmrydu': 6246, 'sokoto': 6247, 'empty-p': 6248, 'fresno': 6249, 'strong': 6250, 'cld': 6251, 'acoust': 6252, 'mukilteo': 6253, 'sandi': 6254, 'consult': 6255, 'biggest': 6256, 'consi': 6257, 'gloria': 6258, 'regard': 6259, 'theatr': 6260, 'goodwil': 6261, '1999': 6262, 'fat-suit': 6263, 'prophet': 6264, 'jitsu': 6265, 'kellogg': 6266, 'interven': 6267, 'ban': 6268, 'gist': 6269, 'complet': 6270, '1000': 6271, 'medicin': 6272, 'sunstar': 6273, '2out': 6274, 'roger': 6275, 'rebuild': 6276, 'watchmani': 6277, 'anyway': 6278, 'alga': 6279, 'rightli': 6280, 'satin': 6281, 'wow': 6282, 'burlington': 6283, 'worker': 6284, 'obispo': 6285, '_pagexxi': 6286, 'song': 6287, 'eminem': 6288, 'nyozi': 6289, 'ruhl': 6290, '_shawn': 6291, 'jimmi': 6292, 'warn': 6293, 'put': 6294, 'sink': 6295, 'divest': 6296, 'khan': 6297, 'ricotta': 6298, 'mil': 6299, 'sb228': 6300, 'GR': 6301, 'bank': 6302, 'junk': 6303, 'ofici': 6304, 'sean': 6305, 'a1a': 6306, 'naaa': 6307, 'flawless': 6308, 'atm': 6309, 'freakingg': 6310, 'nova': 6311, 'taxi': 6312, 'zoui': 6313, '20:29': 6314, 'edsa': 6315, 'drone': 6316, 'mizzou': 6317, 'biggi': 6318, 'necessarili': 6319, 'pole': 6320, 'bangtan': 6321, 'saison': 6322, 'messeng': 6323, 'harbor': 6324, '4sake': 6325, 'sought': 6326, 'cooki': 6327, '_naruto_': 6328, 'prosser': 6329, 'causin': 6330, 'lee': 6331, 'cubao': 6332, 'impur': 6333, 'mir': 6334, 'lansdown': 6335, 'jordan': 6336, 'rehears': 6337, 'freeman': 6338, 'MC': 6339, 'pace': 6340, 'houston': 6341, 'deci': 6342, 'grudg': 6343, 'm416': 6344, 'huffman': 6345, 'hp': 6346, '1028': 6347, 'bah': 6348, 'branch': 6349, '_kayle': 6350, 'smucker': 6351, 'humor': 6352, '=-[': 6353, 'ornament': 6354, 'orca': 6355, 'detroit': 6356, 'ave': 6357, 'racco': 6358, 'pak': 6359, 'shall': 6360, '43': 6361, 'peta': 6362, 'racist': 6363, 'decim': 6364, 'conserv': 6365, 'multidimensio': 6366, 'presley': 6367, 'nationwid': 6368, 'maintain': 6369, 'nuclear-d': 6370, 'ritualist': 6371, 'pmngiqi': 6372, 'wctv': 6373, 'system': 6374, 'invokc': 6375, 'manga': 6376, 'ifak': 6377, 'techi': 6378, 'dorri': 6379, '37': 6380, 'shirt': 6381, 'ppe': 6382, 'flick': 6383, 'abid': 6384, '10:30': 6385, 'karnythia': 6386, '60km': 6387, 'yamaguchi': 6388, 'numb': 6389, 'starmad': 6390, '93-95': 6391, 'give': 6392, 'anu': 6393, 'princ': 6394, 'robin': 6395, '213-296': 6396, 'shipper': 6397, 'devil': 6398, '1935': 6399, 'oi': 6400, 'ambulance.w': 6401, 'heli': 6402, 'weallheartonedirect': 6403, '44episodesofgg': 6404, 'open': 6405, '21k': 6406, 'x1424': 6407, 'therapist': 6408, 'jedi': 6409, 'ham': 6410, 'sacrific': 6411, 'no': 6412, '29pm': 6413, 'oem': 6414, 'fiasco': 6415, 'inquiri': 6416, 'flop': 6417, 'abstract': 6418, 'dirtyli': 6419, 'cheney': 6420, 'stabl': 6421, 'studi': 6422, '150bilno': 6423, 'drake': 6424, '95-03': 6425, 'guilti': 6426, 'won': 6427, 'kike': 6428, 'vr': 6429, 'persecut': 6430, 'rank': 6431, 'dilut': 6432, 'championship': 6433, 'manayunk': 6434, 'firebal': 6435, 'troy': 6436, 'landfal': 6437, 'british': 6438, '2.8': 6439, 'allergan': 6440, 'booth': 6441, 'courag': 6442, 'taliban': 6443, 'nno': 6444, 'explosives-rig': 6445, 'meca': 6446, '9:12': 6447, 'summerslam': 6448, 'wider': 6449, 'flechada': 6450, 'fang': 6451, 'jk': 6452, 'quarrel': 6453, 'depay': 6454, 'hsbfuckjsj': 6455, 'silver': 6456, 'kulli': 6457, '397': 6458, 'about': 6459, 'uh-oh': 6460, 'blink': 6461, 'ûï_georgi': 6462, 'convent': 6463, 'wash': 6464, '95': 6465, 'pogo': 6466, 'atamathon': 6467, 'been': 6468, 'prestig': 6469, \"ecology''human\": 6470, 'malfunct': 6471, 'hasaka': 6472, 'sasha': 6473, 'bundl': 6474, 'eufaula': 6475, 'godli': 6476, 'rs': 6477, 'measur': 6478, 'nasti': 6479, 'slowpok': 6480, 'thrift': 6481, 'home': 6482, 'safeti': 6483, '12.beyonc': 6484, 'hillari': 6485, 'badg': 6486, 'moron': 6487, 'speech': 6488, 'nother': 6489, 'fight': 6490, 'telnet': 6491, '8m': 6492, 'galact': 6493, '2.99': 6494, 'lad': 6495, 'decid': 6496, 'imag': 6497, 'browseråêhijack': 6498, '_org': 6499, 'musician': 6500, 'almighti': 6501, 'undercov': 6502, 'unlicens': 6503, 'transcript': 6504, 'togth': 6505, 'phew': 6506, 'ava': 6507, 'flashback': 6508, '8)': 6509, 'yal': 6510, 'cascada': 6511, '12u': 6512, 'memez': 6513, 'burford': 6514, \"o'neil\": 6515, 'stick': 6516, 'currensi': 6517, 'bfore': 6518, 'convivt': 6519, 'hardlin': 6520, 'ogun': 6521, 'forfeit': 6522, 'gunnar': 6523, '10w': 6524, 'atom': 6525, 'char': 6526, 'phantom': 6527, '50': 6528, 'meme': 6529, 'argh': 6530, 'widout': 6531, 'nout': 6532, 'chart': 6533, 'MY': 6534, 'increas': 6535, 'para': 6536, 'hungov': 6537, 'fort': 6538, 'dec': 6539, 'kim': 6540, 'kunai': 6541, 'oc73x': 6542, 'egg': 6543, 'abus': 6544, 'subaru': 6545, 'schoolboy': 6546, '15000270653': 6547, 'wound': 6548, 'forev': 6549, 'ûïfor': 6550, 'nairobi': 6551, \"'ll\": 6552, 'tori': 6553, 'alpin': 6554, 'spacer': 6555, 'rn': 6556, 'misstep': 6557, 'creepiest': 6558, '00nf00l': 6559, 'msg': 6560, 'chrissi': 6561, 'sequala': 6562, 'duti': 6563, 'stylist': 6564, 'rockstar': 6565, 'dc': 6566, '07af174a71408': 6567, 'disgust': 6568, 'cloth': 6569, 'dysfunct': 6570, 'quicker': 6571, 'man-mad': 6572, 'ovo': 6573, 'middl': 6574, 'transact': 6575, 'higuain': 6576, '_tomlinson': 6577, 'ebolaåêcas': 6578, 'hotspot': 6579, 'laps': 6580, 'neil_eastwood': 6581, 'cnbc': 6582, 'pharrel': 6583, 'lydia': 6584, 'mindless': 6585, 'wwii-era': 6586, 'mh17': 6587, 'tae': 6588, '11:00': 6589, 'hurri': 6590, 'pone': 6591, 'urg': 6592, 'rice': 6593, 'clinton': 6594, 'starb': 6595, '23': 6596, 'AV': 6597, 'prolifer': 6598, '10:15': 6599, 'pose': 6600, 'tech': 6601, 'eunha': 6602, 'cackl': 6603, 'sb57': 6604, 'pee': 6605, 'enslav': 6606, 'auburn': 6607, 'symphoni': 6608, 'steak': 6609, 'look': 6610, 'thrarchiv': 6611, 'clarion': 6612, 'soo': 6613, 'creepi': 6614, 'extend': 6615, 'tomlinson': 6616, 'tom': 6617, 'boudoir': 6618, 'arriv': 6619, 'bounc': 6620, 'stuff': 6621, 'boat': 6622, 'ad': 6623, 'hijacker-turned-sat-tutor': 6624, 'ireland': 6625, 'homosexu': 6626, 'raì¼l': 6627, 'sinai': 6628, 'ID': 6629, '4get': 6630, 'holt': 6631, 'margarita': 6632, '06': 6633, 'lip': 6634, 'skyscrap': 6635, 'ordain': 6636, 'khulna': 6637, 'live-stream': 6638, 'worthless': 6639, 'highest-rank': 6640, 'arena': 6641, '07/22': 6642, 'premium': 6643, 'mandem': 6644, 'magnitudeåêåêml': 6645, 'tch': 6646, 'conduct': 6647, 'prove': 6648, 'telltal': 6649, 'nypd': 6650, 'chp': 6651, 'yall': 6652, 'enthusiast': 6653, \"'\": 6654, 'drive-bi': 6655, 'disput': 6656, 'woo': 6657, 'carnegi': 6658, 'insert': 6659, 'RP': 6660, 'after': 6661, 'alon': 6662, '_the_tanz': 6663, 'silentmind': 6664, '_chi': 6665, \"we're-on-a-desolate-planet\": 6666, 'section': 6667, 'thought': 6668, 'heat': 6669, 't-dog': 6670, 'scarlet': 6671, 'liabil': 6672, 'exo': 6673, 'fav': 6674, 'creep': 6675, 'attack': 6676, 'noah': 6677, 'pagasa': 6678, '6.6': 6679, 'garza': 6680, 'dumbfound': 6681, '1976': 6682, 'wheat': 6683, 'coahuila': 6684, 'upper': 6685, 'ransomwar': 6686, 'opal': 6687, 'washard': 6688, '_jorg': 6689, 'green': 6690, 'besti': 6691, 'non-s-rank': 6692, 'dvc': 6693, 'hoodi': 6694, 'ugli': 6695, 'anchorag': 6696, 'NO': 6697, 'wreak': 6698, 'cook': 6699, 'cervix': 6700, 'troll': 6701, 'diplomaci': 6702, 'sift': 6703, 'wom': 6704, 'u2': 6705, ':)': 6706, 'auckland': 6707, 'IG': 6708, 'michael': 6709, '~': 6710, 'demon': 6711, 'NM': 6712, 'die': 6713, 'underground': 6714, 'superb': 6715, 'sake': 6716, 'narri': 6717, '1960': 6718, 'tweetstorm': 6719, 'publish': 6720, 'otherwis': 6721, 'raffi_rc': 6722, 'feinstein': 6723, 'whenev': 6724, 'woodward': 6725, 'yahoo': 6726, '@_itsmegss_': 6727, 'allay': 6728, 'romford': 6729, 'derek': 6730, 'our_mother_mari': 6731, 'maximum': 6732, 'wealth': 6733, 'palefac': 6734, 'mandatori': 6735, 'rnb': 6736, 'fri': 6737, 'hamayun': 6738, 'BP': 6739, 'hazard': 6740, 'subsequ': 6741, 'manufactur': 6742, 'superpow': 6743, 'one': 6744, 'BG': 6745, 'teiji': 6746, 'TY': 6747, 'supermarket': 6748, 'homicid': 6749, 'midweek': 6750, 'atmospher': 6751, 'nflexpertpick': 6752, 'amaz': 6753, 'disco': 6754, 'poc': 6755, 'shirley': 6756, 'lynch': 6757, 'burma': 6758, 'syd': 6759, 'stat': 6760, 'greyston': 6761, 'happili': 6762, 'allen': 6763, 'mini': 6764, 'php': 6765, 'heartless': 6766, 'forbath': 6767, 'E7': 6768, 'bulletproof': 6769, 'voluntari': 6770, 'pickpocket': 6771, 'teacher': 6772, 'hiv': 6773, '_novoa_': 6774, 'eisenhow': 6775, 'funni': 6776, 'disciplinari': 6777, 'havnt': 6778, 'inquisit': 6779, '_rmg': 6780, 'IO': 6781, 'tksg': 6782, 'navi': 6783, 'string': 6784, 'ohhhh': 6785, '8th': 6786, 'thediyhack': 6787, '4pm': 6788, 'endless': 6789, 'metropolitan': 6790, 'burner': 6791, 'stall': 6792, 'botha': 6793, 'christian': 6794, 'UP': 6795, 'apocalypt': 6796, 'early-exit': 6797, 'goner': 6798, '_pe': 6799, 'journal': 6800, '12': 6801, 'land': 6802, 'chapouti': 6803, '164': 6804, 'pra': 6805, 'cardio-tortur': 6806, 'aquarium': 6807, 'snotgreen': 6808, 'sutherland': 6809, 'playa': 6810, 'bg': 6811, 'gotdamn': 6812, 'dm': 6813, 'bed': 6814, 'absolut': 6815, 'footballfreestyl': 6816, 'heartbroken': 6817, 'elementari': 6818, 'unprepar': 6819, 'slr': 6820, 'av': 6821, 'heavyweight': 6822, 'benedict': 6823, 'huzzah': 6824, 'senzu': 6825, 'sG': 6826, 'fel': 6827, 'stu': 6828, '80pc': 6829, 'introvert': 6830, '_2': 6831, 'blower': 6832, 'burton': 6833, 'previous': 6834, 'calif': 6835, '115': 6836, 'tahreer': 6837, 'short': 6838, 'bait': 6839, 'mental': 6840, 'mrw': 6841, '_ninja': 6842, 'whatev': 6843, 'chat': 6844, 'justic': 6845, 'err': 6846, 'semi': 6847, 'opportun': 6848, 'beisbol': 6849, 'kaimai': 6850, 'thorium': 6851, 'fanfict': 6852, 'newav': 6853, 'tita': 6854, 'harmoni': 6855, 'rhiannon': 6856, 'phil': 6857, 'edcxo': 6858, '3fordemocraci': 6859, '_nanci': 6860, 'bon': 6861, 'grass': 6862, 'specialguest': 6863, 'tier': 6864, '2/100': 6865, 'wxia-tv': 6866, 'B': 6867, 'eeri': 6868, '7000': 6869, 'social': 6870, '_blood': 6871, 'butterfing': 6872, 'saturn': 6873, 'adapt': 6874, 'downgrad': 6875, 'splash': 6876, 'equival': 6877, 'hoe': 6878, 'gun': 6879, 'nawh': 6880, 'primarili': 6881, 'realm': 6882, 'sni': 6883, 'alba': 6884, 'enugu': 6885, 'foreskin': 6886, 'learni': 6887, 'MD': 6888, 'multi': 6889, 'leather': 6890, 'johnson': 6891, 'bacon': 6892, 'dreami': 6893, 'solemn': 6894, 'diego': 6895, 'ombudsmanship': 6896, 'hanayo': 6897, 'unfil': 6898, 'exagger': 6899, 'paul': 6900, 'spen': 6901, 'brian': 6902, 'bago': 6903, 'flatten': 6904, 'girlfriend': 6905, 'cocki': 6906, 'teddi': 6907, '8015': 6908, 'occupi': 6909, 'ogr': 6910, 'sensori': 6911, 'rubi': 6912, 'goodluck': 6913, 'gore': 6914, 'mesh': 6915, 'anchor': 6916, 'learn': 6917, 'quantum': 6918, 'utter': 6919, 'jewish': 6920, 'swea': 6921, 'ûïstretcher': 6922, 'cucumb': 6923, 'diggin': 6924, 'banki': 6925, 'minivan': 6926, 'stacey': 6927, 'IB': 6928, 'wolter': 6929, 'trois-rivier': 6930, 'bring': 6931, 'demonstr': 6932, 'anti-blight': 6933, 'word': 6934, 'mg': 6935, 'offici': 6936, 'eat': 6937, 'audienc': 6938, 'suppl': 6939, 'nko': 6940, 'val': 6941, 'morgan': 6942, 'pitch': 6943, 'acid': 6944, 'oak': 6945, 'heaven': 6946, 'dashboard': 6947, 'urogyn': 6948, 'everwh': 6949, 'arizona': 6950, 'nda': 6951, 'cerographi': 6952, 'goshen': 6953, 'bolan': 6954, 'brzjc': 6955, 'determin': 6956, 'privileg': 6957, 'rcmp': 6958, 'ration': 6959, 'specialist': 6960, 'feast.dll': 6961, 'amritsar': 6962, 'blond': 6963, '#26': 6964, 'okla': 6965, 'censorship': 6966, 'scandal': 6967, 'noxdv': 6968, 'braveri': 6969, 'zerohedg': 6970, 'breakdanc': 6971, 'aren': 6972, 'seri': 6973, 'favorita': 6974, 'soft': 6975, 'yesterday': 6976, 'knoxvil': 6977, 'swam': 6978, 'usg': 6979, 'brigad': 6980, 'terrain': 6981, '7a': 6982, 'cannot': 6983, 'LY': 6984, 'woe': 6985, '4608ìñ2474': 6986, 'bo3': 6987, 'barack': 6988, 'now': 6989, '_rainstorm': 6990, 'confin': 6991, ':\\\\': 6992, 'money': 6993, 'action': 6994, '@__srajapakse__': 6995, 'backti': 6996, 'souss': 6997, 'daem': 6998, 'actavi': 6999, 'halo': 7000, 'mid-morn': 7001, 'kp2': 7002, 'yessum': 7003, 'thunder': 7004, 'nne': 7005, 'ohhh': 7006, 'vermont': 7007, '_am_i': 7008, 'aar': 7009, '3million': 7010, 'surveil': 7011, 'norcal': 7012, 'dunde': 7013, 'dud': 7014, 'recal': 7015, '_797': 7016, '1141': 7017, 'kia': 7018, 'dampen': 7019, 'ekiti': 7020, 'chest': 7021, 'throat': 7022, 'everest': 7023, 'emmerdal': 7024, 'uncomfort': 7025, 'cuban': 7026, 'went': 7027, 'lgbt': 7028, 'stamford': 7029, 'militari': 7030, 'es': 7031, 'loser': 7032, 'lickin': 7033, 'irin': 7034, 'fpoj': 7035, 'inhof': 7036, 'toothsom': 7037, '1360 1360': 7038, 'dope': 7039, 'beetroot': 7040, 'dell': 7041, 'thereåêwer': 7042, 'bundi': 7043, 'further': 7044, 'dread': 7045, 'clothesless': 7046, '0603': 7047, 'command': 7048, 'offsit': 7049, 'whistl': 7050, 'deliber': 7051, 'hayden': 7052, 'flood-zon': 7053, '1888': 7054, 'somalia': 7055, '_blight': 7056, 'mido': 7057, 'costa': 7058, '_giang': 7059, 'recip': 7060, 'dqsvyusi': 7061, 'involv': 7062, 'tra': 7063, 'militia': 7064, '0840728': 7065, '4:00': 7066, 'guess': 7067, 'whom': 7068, '001': 7069, 'eyewit': 7070, 'fci': 7071, 'walter': 7072, 'cleanest': 7073, 'pandaw': 7074, 'theater': 7075, 'refund': 7076, 'microwav': 7077, 'capit': 7078, 'distress': 7079, 'soap': 7080, 'danni': 7081, '3.4': 7082, 'ûªarabia': 7083, 'paladin': 7084, 'collid': 7085, 'raung': 7086, 'principl': 7087, 'hacker': 7088, 'hump': 7089, '20:30': 7090, '}': 7091, 'horn': 7092, 'arti': 7093, 'volunt': 7094, '818x': 7095, 'whip': 7096, 'shrew': 7097, 'chore': 7098, 'befoooooooor': 7099, 'whoahahahahhdj': 7100, 'purport': 7101, 'jogger': 7102, 'alabamaquak': 7103, 'disneyland': 7104, 'phone': 7105, 'bieber': 7106, 'measli': 7107, 'steal': 7108, 'islamist': 7109, 'xfactor': 7110, 'bb4sp': 7111, 'payback': 7112, 'mistreat': 7113, 'pension': 7114, 'remov': 7115, '2006': 7116, 'misfit': 7117, 'sN': 7118, '2.1': 7119, 'audit': 7120, 'tut': 7121, 'elliott': 7122, 'bride': 7123, 'powerlin': 7124, 'marketingåêmediocr': 7125, 'spill': 7126, 'lui': 7127, 'loan': 7128, 'appropri': 7129, '_leigh13': 7130, 'deni': 7131, '_dx': 7132, 'vow': 7133, 'f35': 7134, 'geometr': 7135, 'greenway': 7136, 'casu': 7137, 'caribbean': 7138, 'awesomelov': 7139, 'marion': 7140, 'canyon': 7141, 'gull': 7142, 'hung': 7143, 'belli': 7144, '213-924': 7145, 'finalis': 7146, 'pouch': 7147, 'fairground': 7148, 'stil': 7149, '53:5': 7150, 'killeen': 7151, 'pretti': 7152, 'sympathyonlf': 7153, 'sieg': 7154, 'follownflnew': 7155, 'plaza': 7156, 'vivian': 7157, 'pell': 7158, 'eovm': 7159, 'swept': 7160, 'tdm': 7161, 'ÌÑ': 7162, 'motion': 7163, 'mello': 7164, 'conflict': 7165, 'death': 7166, 'album': 7167, 'header': 7168, '@__ohhmyjoshh': 7169, 'metr': 7170, 'sto': 7171, 'pedo': 7172, 'mouss': 7173, 'temecula': 7174, 'cube': 7175, 'power': 7176, 'cent': 7177, 'kidnap': 7178, 'report': 7179, 'ûïplan': 7180, 'frp': 7181, 'vandal': 7182, 'destiel': 7183, 'peek': 7184, 'mixxtail': 7185, 'shit': 7186, 'til': 7187, 'ûókodi': 7188, 'unarm': 7189, 'perfectli': 7190, 'mixer': 7191, 'colosseum': 7192, '4.53': 7193, 'none': 7194, 'outbreak': 7195, 'modifi': 7196, 'jamp': 7197, 'thuggin': 7198, 'correct': 7199, 'inspi': 7200, 'ama': 7201, '32931': 7202, '14th': 7203, 'cmcsa': 7204, 'ident': 7205, 'takeoff': 7206, 'ar': 7207, 'perth': 7208, 'household': 7209, 'annihil': 7210, 'mart.sun': 7211, 'fiction': 7212, 'cure': 7213, 'drumstep': 7214, 'suspens': 7215, 'know': 7216, \"s'thing\": 7217, 'whao': 7218, 'UR': 7219, 'wsjthinktank': 7220, 'raider': 7221, 'theft': 7222, 'gazebo': 7223, 'yaaasss': 7224, 'lewi': 7225, 'sfor': 7226, 'sigmund': 7227, 'occup': 7228, '_wbball': 7229, 'kimeri': 7230, 'gloomi': 7231, 'escuchando': 7232, 'partner': 7233, 'mane': 7234, 'understand': 7235, '10th': 7236, 'food': 7237, 'drew': 7238, 'agnivesh': 7239, 'winnemem': 7240, 'maker': 7241, 'gasparc': 7242, 'offic': 7243, 'oil': 7244, 'tommygshow': 7245, 'chik': 7246, 'bend': 7247, 'plummet': 7248, '1987': 7249, '1.25': 7250, 'bbake': 7251, 'whilst': 7252, 'protest': 7253, 'inst': 7254, 'approxim': 7255, 'G7': 7256, '_goddess': 7257, 'adjust': 7258, 'newberg': 7259, 'dirumah': 7260, 'heap': 7261, 'fidget': 7262, 'coney': 7263, 'obta': 7264, 'cricket': 7265, '_bagan': 7266, 'overtim': 7267, 'cum': 7268, 'consum': 7269, 'cross-bodi': 7270, 'intrus': 7271, '516': 7272, 'ame': 7273, 'onesi': 7274, ';D': 7275, 'quell': 7276, 'astonish': 7277, 'mass': 7278, 'father-of-thre': 7279, 'walktrough': 7280, 'uis': 7281, 'emergency-respons': 7282, 'divert': 7283, 'vaca': 7284, 'closer': 7285, 'paradigm': 7286, 'marilyn': 7287, 'coldston': 7288, 'scheme': 7289, 'afterward': 7290, '-07:00': 7291, 'cutter': 7292, 'display': 7293, '3dave': 7294, 'oli': 7295, 'sfe': 7296, 'ocampo': 7297, 'lilli': 7298, 'sep': 7299, 'r5live': 7300, 'portland': 7301, 'thar': 7302, 'followback': 7303, 'snd': 7304, 'ditto': 7305, '12000': 7306, 'tin': 7307, 'boundari': 7308, 'sindh': 7309, 'nope': 7310, 'passiv': 7311, 'gig': 7312, 'midg': 7313, 'born': 7314, 'realtim': 7315, 'nemanja': 7316, 'IK': 7317, 'CH': 7318, 'amazond': 7319, 'mva': 7320, 'billi': 7321, 'button': 7322, 'flaw': 7323, 'duplic': 7324, 'hunt': 7325, 'shania': 7326, 'cityporn': 7327, 'brake': 7328, 'omfg': 7329, 'cheer': 7330, 'sunni': 7331, 'anniv': 7332, 'fires-rain': 7333, 'romeo': 7334, 'fidayeen': 7335, 'mutt': 7336, 'bkn': 7337, 'policeman': 7338, 'correspond': 7339, 'result': 7340, 'aya': 7341, 'bro': 7342, 'fromåêwound': 7343, 'ef': 7344, '-07:0': 7345, 'francisco': 7346, 'northumberland': 7347, 'manit': 7348, 'lifestyl': 7349, 'requir': 7350, 'panic': 7351, 'bush': 7352, 'ren': 7353, 'melt': 7354, 'bruce': 7355, 'india': 7356, 'catech': 7357, 'react': 7358, 'non-lif': 7359, '70-80000': 7360, 'femnism': 7361, 'manchest': 7362, 'kach': 7363, 'fractur': 7364, 'fond': 7365, 'hieroglyph': 7366, 'mashup': 7367, 'boe': 7368, 'tattooin': 7369, 'steam': 7370, 'enemi': 7371, 'prioriti': 7372, 'combust': 7373, 'gridlock': 7374, '_youtsey': 7375, 'v': 7376, 'wpri': 7377, 'miseri': 7378, 'tweet': 7379, 'back': 7380, 'homebuy': 7381, 'cite': 7382, '300': 7383, '_hellfir': 7384, 'twitter': 7385, 'biolab': 7386, '4416': 7387, 'saipan': 7388, 'greg': 7389, 'gr': 7390, 'tow': 7391, 'appoint': 7392, 'd': 7393, 'mechan': 7394, 'unbeliev': 7395, 'uncontrol': 7396, 'set-back': 7397, 'gaug': 7398, 'indepth': 7399, 'DW': 7400, 'ruin': 7401, 'couch': 7402, 'belly-bomb': 7403, '?': 7404, 'behind': 7405, 'outrag': 7406, 'vagrant': 7407, 'mre': 7408, 'cartoony-lik': 7409, 'obsolet': 7410, '_gotta': 7411, 'fightåêterror': 7412, 'rumor': 7413, 'yard': 7414, 'montano': 7415, 'fleshgod': 7416, '>': 7417, 'gauz': 7418, 'pepsi': 7419, 'boi': 7420, 'alloosh': 7421, 'superfici': 7422, 'bestsel': 7423, 'livestream': 7424, 'friendship-y': 7425, 'bucket': 7426, 'colder': 7427, 'texan': 7428, 'reward': 7429, 'c720': 7430, 'lavatori': 7431, 'cramp': 7432, 'bono': 7433, 'elwood': 7434, 'cavali': 7435, '200.000+': 7436, 'drown': 7437, 'kcarosawmur': 7438, 'pdx': 7439, 'te': 7440, 'boss': 7441, 'girl': 7442, 'stanni': 7443, 'tort': 7444, 'rifl': 7445, 'idi': 7446, 'japan': 7447, 'TC': 7448, 'pref': 7449, 'angioplasti': 7450, 'onli': 7451, 'team': 7452, 'forgiven': 7453, 'currong': 7454, 'rsa': 7455, 'murphi': 7456, 'kabwandi': 7457, 'snowmobil': 7458, 'purdi': 7459, 'tote': 7460, 'normal': 7461, 'chick': 7462, 'isai': 7463, 'pot': 7464, 'pepperoni': 7465, 'saddledom': 7466, 'caught': 7467, 'slave': 7468, 'mosquito': 7469, 'ldnr-terrorist': 7470, 'mayor': 7471, '_r74': 7472, 'f496d': 7473, 'nearåêdinosaur': 7474, 'fate': 7475, 'smh': 7476, 'motogp': 7477, 'njenga': 7478, 'LN': 7479, 'april': 7480, 'sm': 7481, 'torrecilla': 7482, 'asad': 7483, 'grind': 7484, 'kayak': 7485, 'rim': 7486, 'bal': 7487, 'bug': 7488, 'found': 7489, 'cu': 7490, 'swarm': 7491, 'f': 7492, 're-open': 7493, 'scheer': 7494, 'jail': 7495, 'keithyy': 7496, 'retweet': 7497, 'athen': 7498, 'alarmingli': 7499, 'puni': 7500, 'christ': 7501, 'pediatr': 7502, 'sa': 7503, 'establish': 7504, 'bioterrorismus': 7505, 'caption': 7506, '3M': 7507, 'armi': 7508, 'haram': 7509, '_liam_payn': 7510, 'traffick': 7511, '24v': 7512, 'talkin': 7513, '98fm': 7514, 'cote': 7515, 'tawfmcaw': 7516, 'squirrel': 7517, 'plsss': 7518, 'cross-sectarian': 7519, '0810': 7520, 'summer.do': 7521, 'concuss': 7522, 'hidden': 7523, 'pileq': 7524, 'deer': 7525, 'mask': 7526, 'marriag': 7527, 'macomb': 7528, 'tonight': 7529, '1438': 7530, 'stone': 7531, 'fwo': 7532, 'check': 7533, 'emblem': 7534, 'shoook': 7535, 'lzktjnox': 7536, '4bb': 7537, 'qtszg': 7538, 'russaki': 7539, 'kow': 7540, 'gsp': 7541, 'rampant': 7542, 'mod': 7543, 'co-work': 7544, 'victorinox': 7545, 'hw': 7546, 'mideast': 7547, 'andrea': 7548, '14:16': 7549, 'finalist': 7550, 'scotu': 7551, 'bar': 7552, 'nsw': 7553, 'brig': 7554, 'the_af': 7555, 'runaway': 7556, 'A7': 7557, 'accomplish': 7558, 'nigeriantribun': 7559, 'ûªre': 7560, 'lightning-caus': 7561, '9/11': 7562, 'windsor': 7563, '_tech_upd': 7564, 'exofficio': 7565, 'ut': 7566, 'ns': 7567, 'marlon': 7568, 'tunes-blak': 7569, 'costli': 7570, 'unsecur': 7571, 'iceberg': 7572, 'hammer': 7573, 'foxtrot': 7574, 'canada': 7575, 'physic': 7576, 'compar': 7577, 'EP': 7578, 'ambul': 7579, 'fricken': 7580, '_shrimplevi': 7581, 'cocain': 7582, '_morgan': 7583, 'knobhead': 7584, 'impress': 7585, 'cut': 7586, 'canteen': 7587, '_breneman': 7588, 'h': 7589, 'takig': 7590, 'austrian': 7591, 'crazi': 7592, 'sundown': 7593, '411': 7594, 'roanok': 7595, 'museum': 7596, 'feast': 7597, 'lotg': 7598, 'euro-styl': 7599, 'alert': 7600, 'nov': 7601, '0406': 7602, 'calai': 7603, 'joboozoso': 7604, 'horrormovies.ca': 7605, 'pochett': 7606, 'cpu': 7607, 'individl': 7608, 'fantasi': 7609, 'krnv': 7610, 'rsl': 7611, 'policylab': 7612, 'substanc': 7613, 'icon': 7614, '17:26': 7615, 'lawton': 7616, 'kodiak': 7617, 'base': 7618, 'a2hanov': 7619, 'gon': 7620, 'theori': 7621, 'episcop': 7622, 'guarante': 7623, 'IJ': 7624, 'thh': 7625, 'hershey': 7626, 'peel': 7627, 'mic': 7628, 'campanha': 7629, '_infin': 7630, 'observ': 7631, 'evng': 7632, 'craft': 7633, 'bouta': 7634, '_uchiha_': 7635, 'feb': 7636, 'swear': 7637, 'roy': 7638, 'wknd': 7639, 'bachmann': 7640, 'cosm': 7641, 'agre': 7642, 'autist': 7643, 'wander': 7644, 'incom': 7645, 'zodiac': 7646, 'stereotyp': 7647, 'offload': 7648, 'audio': 7649, 'snuff': 7650, 'msha': 7651, 'diff': 7652, 'rap': 7653, 'akilah': 7654, 'columbia': 7655, 'vibez': 7656, 'aiii': 7657, 'DS': 7658, '17:00': 7659, 'zicac': 7660, 'incompet': 7661, 'immedi': 7662, 'german': 7663, 'icaseit': 7664, 'importantli': 7665, 'kinki': 7666, 'alredi': 7667, 'CT': 7668, 'timber': 7669, 'strengthen': 7670, 'santo': 7671, 'mgr': 7672, 'dilawri': 7673, 'conklin': 7674, '24x7': 7675, '4x11': 7676, 'sent': 7677, 'cement': 7678, 'bwin': 7679, 'janata': 7680, 'niec': 7681, 'ani': 7682, 'avoid': 7683, 'bodili': 7684, 'obedi': 7685, 'kid': 7686, 'moshav': 7687, 'ki': 7688, 'detectado': 7689, 'aaaaaaallll': 7690, 'iP': 7691, 'nba': 7692, 'denim': 7693, 'htt': 7694, 'abh': 7695, 'ch4': 7696, '_surnam': 7697, 'pickathon': 7698, 'browner': 7699, 'akram': 7700, 'safe': 7701, '@_laladeviluk': 7702, 'nockthi': 7703, 'abbandon': 7704, 'mile': 7705, \"y'all\": 7706, 'lieu': 7707, 'mum': 7708, 'fo': 7709, 'soon': 7710, 'torpedo': 7711, \"'s\": 7712, 'unscreen': 7713, 'be': 7714, 'sorri': 7715, '40mln': 7716, 'dominicana': 7717, 'directori': 7718, 'migrant': 7719, 'Û¼': 7720, 'stain': 7721, 'wedneday': 7722, 'larger': 7723, 'DD': 7724, 'altern': 7725, 'previou': 7726, 'spike': 7727, 'infami': 7728, 'manli': 7729, 'extract': 7730, 'claimin': 7731, 'wasp': 7732, 'god': 7733, 'T4': 7734, 'signatures.chang': 7735, 'oef': 7736, 'cornwal': 7737, 'expand': 7738, 'complex': 7739, 'refuge': 7740, 'aichi': 7741, 'sensor-senso': 7742, 'roman': 7743, 'NV': 7744, 'baba': 7745, 'video-bomb': 7746, 'intellig': 7747, '0.75': 7748, 'dagestan': 7749, 'wednesday': 7750, '121': 7751, 'sureti': 7752, 'ûówere': 7753, 'psqd': 7754, 'holtz': 7755, 'kisii': 7756, 'rick': 7757, 'cont': 7758, 'twenty-six': 7759, 'mycar': 7760, 'kitten': 7761, 'scroll': 7762, 'WD': 7763, 'sydney': 7764, '=P': 7765, 'alaskan': 7766, 'gog': 7767, 'battlefield': 7768, 'muumbo': 7769, 'apga': 7770, 'red': 7771, 'interlaken': 7772, 'crisi': 7773, 'apolog': 7774, 'windstorm': 7775, '813-274-8811': 7776, 'susfu': 7777, 'assur': 7778, 'wasteland': 7779, '_vain': 7780, 'solar': 7781, 'RZ': 7782, 'line': 7783, '4stic': 7784, 'constant': 7785, 'fundwhen': 7786, '4:30': 7787, 'georgia': 7788, 'focus': 7789, 'miracl': 7790, 'le': 7791, 'campaign': 7792, 'smackdown': 7793, 'intead': 7794, 'client': 7795, 'nfl': 7796, 'hi-lari': 7797, 'wrong': 7798, 'phantasm': 7799, 'head-on': 7800, 'minut': 7801, 'towel': 7802, 'servil': 7803, '7.beyonc': 7804, 'pkwi': 7805, 'LS': 7806, 'guag': 7807, 'cile': 7808, 'imm': 7809, 'delay': 7810, 'kevin': 7811, 'defend': 7812, 'CA': 7813, 'pharma': 7814, 'next': 7815, 'isla': 7816, 'jerkfac': 7817, \"qur'an\": 7818, 'slap': 7819, 'congratul': 7820, 'beastli': 7821, 'carmi': 7822, 'shaker': 7823, 'dump': 7824, 'conveni': 7825, 'over': 7826, 'weight': 7827, '6-7': 7828, 'everyth': 7829, '53inch': 7830, 'membuahkan': 7831, \"saying'darud\": 7832, 'incas': 7833, '_vi': 7834, 'feedback': 7835, 'gap': 7836, 'wrought': 7837, 'infuri': 7838, 'cyclon': 7839, 'dant': 7840, 'copycat': 7841, '4:28': 7842, 'seatbelt': 7843, 'watertown': 7844, 'scorch': 7845, 'rights.gener': 7846, 'lennox': 7847, 'dealer': 7848, 'cruz': 7849, 'posses': 7850, 'hudhud': 7851, 'SE': 7852, 'kiev': 7853, 'stainless': 7854, 'violin': 7855, 'kp': 7856, 'tooth': 7857, 'incid': 7858, 'noah_anynam': 7859, 'love': 7860, 'auz': 7861, 'cancel': 7862, 'quarantin': 7863, 'orakei': 7864, 'jeffersondori': 7865, 'iso': 7866, '_marqui': 7867, 'point': 7868, 'teesha': 7869, 'twelv': 7870, 'product': 7871, 'doppler': 7872, 'fukurodani': 7873, '45': 7874, 'layout': 7875, 'dilemma': 7876, 'newsbrokenemerg': 7877, 'radcliff': 7878, 'OS': 7879, 'simpli': 7880, '_com': 7881, 'nike': 7882, 'slogan': 7883, 'told': 7884, 'gd': 7885, 'gf': 7886, '_hoop': 7887, 'atc': 7888, 'reimagin': 7889, 'rin': 7890, 'bonsai': 7891, 'washi': 7892, 'hwo': 7893, 'foolish': 7894, 'frequent': 7895, '3h': 7896, 'rate': 7897, 'referencerefer': 7898, 'sila': 7899, 'matchwood': 7900, 'stump': 7901, 'ostentati': 7902, 'singl': 7903, 'paramed': 7904, 'mbiwa': 7905, '6pm': 7906, 'cold-blood': 7907, 'goin': 7908, 'avast': 7909, 'afghanistan': 7910, 'fam': 7911, 'maratha': 7912, 'noxiou': 7913, '4au': 7914, 'pure': 7915, 'dryer': 7916, 'somehow': 7917, 'chernobyl': 7918, 'citizen': 7919, 'ocd': 7920, 'syfi': 7921, 'secretli': 7922, 'dl': 7923, 'xoxoxxxooo': 7924, 'cat': 7925, 'BK': 7926, 'perenni': 7927, 'swallow': 7928, 'trim': 7929, 'AW': 7930, 'bicyclist': 7931, 'welfar': 7932, 'idioci': 7933, 'elbow': 7934, 'rove': 7935, 'canin': 7936, 'selmo': 7937, 'illus': 7938, 'WR': 7939, 'don': 7940, 'nat': 7941, 'meellltt': 7942, 'dam': 7943, 'help': 7944, '_ashley': 7945, 'defenseless': 7946, '25.5': 7947, 'pawsox': 7948, 'shout': 7949, '1985': 7950, 'amanda': 7951, 'luggag': 7952, 'coupl': 7953, 'calabria': 7954, 'mansehra': 7955, '27': 7956, 'hiss': 7957, 'ZX': 7958, '735m': 7959, 'seclus': 7960, 'scale': 7961, 'photogen': 7962, 'carter': 7963, '740': 7964, 'reallyyi': 7965, 'cnn': 7966, 'liz': 7967, '101': 7968, 'rebound': 7969, '_dog': 7970, 'shin': 7971, 'santa': 7972, 'islam': 7973, 'resin': 7974, 'raspi': 7975, \"shi'it\": 7976, 'gaza': 7977, 'hella': 7978, 'joelheyman': 7979, 'certain': 7980, '_engineerd': 7981, 'blaze': 7982, 'quiz': 7983, 'footbal': 7984, 'techesback': 7985, '7:13': 7986, 'ûócategor': 7987, 'gummi': 7988, 'tide': 7989, 'themh': 7990, 'dire': 7991, 'copa': 7992, 'michigan': 7993, '10:40': 7994, 'bcc': 7995, 'saam': 7996, 'socket': 7997, 'chef': 7998, 'uninvestig': 7999, 'frontlin': 8000, '_ruff23': 8001, 'phrobi': 8002, 'diss': 8003, 'lalaloopsi': 8004, 'weeklong': 8005, 'kijangbank': 8006, 'kaboom': 8007, 'sweater': 8008, 'fan': 8009, 'introduc': 8010, '3la': 8011, 'ryan': 8012, '88': 8013, 'btw': 8014, 'towboat': 8015, 'cor': 8016, 'unveil': 8017, 'fuddi': 8018, 'public': 8019, '7.5': 8020, 'PC': 8021, 'messag': 8022, 'quarterstaff': 8023, 'nomiya': 8024, 'shabab': 8025, 'heard': 8026, 'ofnsixjk': 8027, 'allow': 8028, '87': 8029, 'MB': 8030, 'co-pilot': 8031, 'cotton': 8032, 'appadvic': 8033, 'bridg': 8034, 'stretcher-bear': 8035, 'pretens': 8036, 'shutdown': 8037, 'award': 8038, 'dare': 8039, '70000': 8040, 'oddbal': 8041, 'error': 8042, 'qendil': 8043, 'twilight': 8044, 'ventur': 8045, 'IR': 8046, 'gecko': 8047, 'cgi': 8048, 'luca': 8049, 'sang': 8050, 'smoker': 8051, '82': 8052, 'geolog': 8053, 'outbre': 8054, '22.beyonc': 8055, '1070': 8056, 'withstand': 8057, 'po': 8058, 'well': 8059, 'foodborn': 8060, 'kog': 8061, 'format': 8062, 'kfv': 8063, 'never-end': 8064, 'immun': 8065, '_ell': 8066, 'ûò800000': 8067, 'spo': 8068, 'advantag': 8069, 'compliant': 8070, 'pretend': 8071, 'fibula': 8072, 'moral': 8073, '_shingal_genocid': 8074, 'carryi': 8075, 'europ': 8076, 'jsyk': 8077, 'vincent': 8078, 'venezuela': 8079, 'therefor': 8080, 'outag': 8081, 'curtain': 8082, 'fishiest': 8083, 'cognit': 8084, 'sissi': 8085, 'vixen': 8086, 'cop': 8087, 'zabadani': 8088, 'friedman': 8089, 'cross-exam': 8090, 'amino': 8091, 'contributor': 8092, 'divid': 8093, 'nazir': 8094, 'syrian': 8095, 'allerg': 8096, 'bound': 8097, 'ador': 8098, 'knock': 8099, 'lipstick': 8100, 'untrain': 8101, 'multidimen': 8102, 'sustain': 8103, 'gulag': 8104, '1800': 8105, 'bwp': 8106, 'ronda': 8107, 'diver': 8108, '90-100': 8109, 'loath': 8110, 'sweetpea': 8111, 'trade': 8112, 'sr37': 8113, 'extent': 8114, 'card': 8115, 'mhl': 8116, 'interspers': 8117, 'three': 8118, 'gypsi': 8119, 'holland': 8120, 'dill': 8121, 'cai': 8122, 'schoenfeld': 8123, '02': 8124, 'de': 8125, 'eurotunnel': 8126, 'virgil': 8127, 'indi': 8128, 'propel': 8129, 'kurdish': 8130, 'bitchi': 8131, 'imam': 8132, 'flare': 8133, 'tosu': 8134, 'countri': 8135, 'testifi': 8136, 'dumb': 8137, 'thundersnow': 8138, 'hit-and-run': 8139, 'voc': 8140, 'bo2': 8141, 'gotta': 8142, 'amongst': 8143, 'overhead': 8144, 'nooo': 8145, 'sewer': 8146, 'gunfight': 8147, 'greek': 8148, 'georgegallagh': 8149, 'matt': 8150, 'yr': 8151, 'salopek': 8152, 'ago.chicago': 8153, 'drink': 8154, 'M1': 8155, '2015-08-': 8156, 'welcom': 8157, 'preview': 8158, '9m': 8159, 'dept': 8160, 'sputnik': 8161, 'û_turn': 8162, 'admir': 8163, 'commonli': 8164, 'gut': 8165, 'steel': 8166, 'temptat': 8167, 'mattingli': 8168, 'buffet': 8169, 'interraci': 8170, 'zonewolf': 8171, 'round': 8172, 'ti': 8173, '_ellmor': 8174, 'ûïairplan': 8175, 'davison': 8176, 'watt': 8177, 'altitud': 8178, 'tulowitzki': 8179, 'qatar': 8180, 'bought': 8181, '_29': 8182, 'biker': 8183, 'sinking-fund': 8184, 'EM': 8185, 'ksl': 8186, 'eugen': 8187, 'get': 8188, 'kpdi': 8189, '24680': 8190, 'agnu': 8191, 'sunnymead': 8192, 'dictat': 8193, 'sneak': 8194, 'holi': 8195, 'frothi': 8196, 'inciner': 8197, 'slowli': 8198, 'bash': 8199, 'arreat': 8200, '1019': 8201, 'manuscript': 8202, 'mpc': 8203, 'cristiano': 8204, 'descend': 8205, 'sold': 8206, 'arson': 8207, 'slam': 8208, 'bass': 8209, 'fco': 8210, 'l-l': 8211, 'barber': 8212, 'attorney': 8213, ':-(': 8214, 'tenni': 8215, 'pay': 8216, 'IF': 8217, 'milita': 8218, 'eg': 8219, 'motel': 8220, 'legio': 8221, '1916': 8222, 'wreckag': 8223, 'crose': 8224, 'simul': 8225, 'silverman': 8226, '9:31': 8227, 'router': 8228, 'carhot': 8229, '0vecannon': 8230, 'ticket': 8231, 'fleet': 8232, 'veggi': 8233, 'whatsapp': 8234, 'stoodwatch': 8235, 'GI': 8236, 'xela': 8237, 'soloquiero': 8238, 'damsel': 8239, 'gaga': 8240, 'redcliff': 8241, 'blood': 8242, 'fourth': 8243, '_famili': 8244, 'gang': 8245, 'electrocutedboil': 8246, 'cyber': 8247, '_lauren83199': 8248, '03-08': 8249, 'own': 8250, 'damag': 8251, 'lyndon': 8252, '_rucku': 8253, 'vapor': 8254, '^': 8255, 'col': 8256, 'dishonest': 8257, 'skill': 8258, 'epicen': 8259, 'ûïmake': 8260, 'NY': 8261, 'gamescom': 8262, 'kai': 8263, 'ideas-th': 8264, 'elimin': 8265, 'tricki': 8266, 'drive': 8267, \"o'cuana\": 8268, 'whitner': 8269, 'sofa': 8270, 'pont': 8271, 'spear': 8272, 'trajectori': 8273, 'llf': 8274, 'compel': 8275, 'batter': 8276, 'usami-san': 8277, 'hike': 8278, 'nuclear-pow': 8279, 'drunk': 8280, '798': 8281, 'superman': 8282, 'alrighti': 8283, '«': 8284, 'japanes': 8285, 'shedid': 8286, 'munch': 8287, 'bypass': 8288, '_vn': 8289, ',': 8290, 'deriv': 8291, 'two': 8292, 'najib': 8293, 'faux': 8294, 'ou': 8295, 'bullet': 8296, 'afloat': 8297, 'voltair': 8298, 'ghe': 8299, 'marek': 8300, 'ph0to': 8301, 'fume': 8302, 'wozni': 8303, '801bl': 8304, 'restrict': 8305, 'kelbi': 8306, 'youngergrossli': 8307, 'aboard': 8308, '_serpa': 8309, 'apc': 8310, 'equal': 8311, 'salari': 8312, 'quarter': 8313, 'W': 8314, 'prodig': 8315, 'scent': 8316, 'emp': 8317, 'attitud': 8318, 'cultur': 8319, 'quezon': 8320, 'leelanau': 8321, 'cater': 8322, 'shemesh': 8323, 'omega': 8324, 'moham': 8325, 'endlessli': 8326, 'septemb': 8327, 'aia': 8328, 'dumpster': 8329, 'sedar': 8330, 'subcommitte': 8331, 'cali': 8332, 'pump': 8333, 'R': 8334, 'troup': 8335, 'RÌ': 8336, 'tobia': 8337, 'waitress': 8338, '1965': 8339, '1.2': 8340, 'rent': 8341, 'vandalz': 8342, 'accur': 8343, 'snuck': 8344, 'soup': 8345, 'eighty-nin': 8346, 'truthfrequencyradio': 8347, 'spontan': 8348, 'na': 8349, 'radler': 8350, 'fli': 8351, 'instant': 8352, 'chachi': 8353, 'usagi': 8354, 'academia': 8355, 'cdc': 8356, 'reaf': 8357, '1-5': 8358, '. ...': 8359, 'motorway': 8360, 'wesley': 8361, 'johnni': 8362, 'UD': 8363, 'iphoto': 8364, 'fieri': 8365, 'tampon': 8366, 'dog': 8367, 'window': 8368, 'inec': 8369, 'pre-dynast': 8370, 'EL': 8371, 'mustard': 8372, 'survey': 8373, '#615': 8374, '160': 8375, 'mcilroy': 8376, 'rhineston': 8377, 'almost': 8378, 'sjfeb': 8379, 'wick': 8380, 'stroke': 8381, '#140': 8382, 'naomi-no': 8383, '23:38': 8384, 'troubl': 8385, 'maid': 8386, 'statesvil': 8387, 'occurr': 8388, 'daubt': 8389, 'CN': 8390, 'drought-fuel': 8391, 'scare': 8392, 'L': 8393, 'industri': 8394, 'gainesvil': 8395, 'barra': 8396, 'triplemania': 8397, 'up---ah': 8398, '_mugger': 8399, 'leigh': 8400, 'so-cal': 8401, 'smartest': 8402, 'ûïa': 8403, 'roadwork': 8404, 'ocean': 8405, 'toung': 8406, 'palestin': 8407, 'byz': 8408, 'tor': 8409, '2991620': 8410, 'kegm': 8411, 'epiphan': 8412, 'suddendli': 8413, '_jim': 8414, 'reveng': 8415, 'institution': 8416, 'onto': 8417, 'helm': 8418, 'freez': 8419, 'rom': 8420, 'arrest': 8421, '__w': 8422, 'pov': 8423, 'burnin': 8424, 'hop': 8425, 'marijuana': 8426, 'incident': 8427, 'shelter': 8428, 'medic': 8429, 'in-gam': 8430, 'farmland': 8431, 'brit': 8432, 'mumbaitim': 8433, 'landsli': 8434, 'rockin': 8435, '402': 8436, 'wyou': 8437, 'delhi': 8438, 'warmer': 8439, '0si': 8440, 'headphon': 8441, 'self-esteem': 8442, 'hamstr': 8443, 'concert': 8444, 'given': 8445, 'closet': 8446, '111welfarework': 8447, 'dnbheaven': 8448, 'seat': 8449, 'raft': 8450, 'loo': 8451, 'enact': 8452, 'presenc': 8453, 'saunder': 8454, 'member': 8455, 'stealth': 8456, 'solo': 8457, '_country_hick': 8458, 'm151a1': 8459, '_grolsh': 8460, 'becam': 8461, 'fail': 8462, 'took': 8463, '@_gaabyx': 8464, 'totoooooooooo': 8465, 'twill': 8466, 'where': 8467, 'whomev': 8468, 'main': 8469, 'hale': 8470, 'appli': 8471, 'y': 8472, 'overpass': 8473, 'reaction': 8474, '12jst': 8475, 'fission': 8476, 'non-english': 8477, 'mlg': 8478, 'gofundm': 8479, 'account': 8480, '_winki': 8481, 'arabia': 8482, 'aw': 8483, 'viscou': 8484, 'beginn': 8485, 'UN': 8486, 'discov': 8487, '06:00': 8488, 'uncondit': 8489, 'brown': 8490, '_tsie': 8491, 'rembr': 8492, 'earthquake-report': 8493, 'complianc': 8494, 'forsur': 8495, 'skull': 8496, 'primal': 8497, 'wgton': 8498, 'SO': 8499, 'mmx': 8500, 'studebak': 8501, 'AT': 8502, 'wook': 8503, 'tambourin': 8504, 'non-passeng': 8505, '#5sosfam': 8506, '/': 8507, 'groceri': 8508, 'iclown': 8509, 'mouna': 8510, 'lizard': 8511, 'trident': 8512, 'har': 8513, 'bluetooth': 8514, '@50shadezofgrey': 8515, 'mr.affleck': 8516, 'sole': 8517, 'ever': 8518, 'restor': 8519, 'on-duti': 8520, 'saturday': 8521, 'sampl': 8522, '30stm': 8523, 'looooooooooool': 8524, 'faster': 8525, 'ov': 8526, 'write': 8527, 'edg': 8528, '48/1': 8529, 'subsecretariat': 8530, 'rainbow': 8531, 'formula': 8532, 'hav': 8533, 'writer': 8534, 'easton': 8535, 'zeroedgeå': 8536, 'brut': 8537, 'cyberman': 8538, 'arab': 8539, 'yay': 8540, 'dark': 8541, 'janeenorman': 8542, '363': 8543, 'fag': 8544, '6.beyonc': 8545, 'possess': 8546, 'remnant': 8547, 'DR': 8548, 'clev': 8549, 'harm': 8550, 'tyar': 8551, 'puls': 8552, 'laker': 8553, 'sustainourearth': 8554, 'sub-tornado': 8555, 'beacon': 8556, 'raptors.beg': 8557, 'raccoon': 8558, 'rosenthal-author': 8559, 'umbrella': 8560, 'kenyatta': 8561, 'lifelong': 8562, 'mudslid': 8563, 'idea': 8564, 'portfolio': 8565, 'amplifi': 8566, 'statu': 8567, '55432': 8568, 'hustlin': 8569, 'tyre': 8570, 'onboard': 8571, 'arrog': 8572, 'earlier': 8573, 'ufn': 8574, '1928': 8575, 'gtfo': 8576, '_ahrari': 8577, 'underestim': 8578, 'tumbl': 8579, 'syjexo': 8580, '_riot': 8581, 'lvl': 8582, 'ooorrrr': 8583, 'lick': 8584, 'bigger': 8585, 'bad': 8586, 'AM': 8587, 'redeemeth': 8588, 'yorkshir': 8589, 'bunt': 8590, 'junko': 8591, 'mahalo': 8592, 'gum': 8593, 'baum': 8594, 'acn': 8595, 'parshol': 8596, '29': 8597, 'wale': 8598, 'righteous': 8599, 'pave': 8600, 'babalmao': 8601, 'dtn': 8602, 'loot': 8603, 'turner': 8604, 'toughen': 8605, 'cantona': 8606, 'torrenti': 8607, 'forehead': 8608, 'TV': 8609, 'servic': 8610, 'third': 8611, '1.9': 8612, 'shirtless': 8613, 'mbataweel': 8614, 'hybrid': 8615, 'dark-stormy-tidal-sea': 8616, 'develop': 8617, 'storen': 8618, 'abandon': 8619, 'seismic-resist': 8620, 'press': 8621, 'faint': 8622, 'projectil': 8623, 'repay': 8624, '%': 8625, 'retir': 8626, 'truth': 8627, 'hush': 8628, 'etc': 8629, 'spammer': 8630, 'ûªt': 8631, 'democraci': 8632, '4ku': 8633, 'knife': 8634, '350': 8635, 'passion': 8636, 'piglet': 8637, 'tuski': 8638, 'hatchet': 8639, 'judith': 8640, 'bankstown': 8641, 'jami': 8642, 'at': 8643, 'inbound': 8644, '2015-2': 8645, 'rediscov': 8646, 'vehicl': 8647, 'top': 8648, 'circuit': 8649, 'liam': 8650, 'peac': 8651, 'fever': 8652, 'broadwat': 8653, 'stop': 8654, 'meerkat': 8655, 'hoof': 8656, '100bn': 8657, 'grandest': 8658, '15': 8659, 'suicid': 8660, 'akx': 8661, 'isao': 8662, 'l-v': 8663, 'sq': 8664, 'imposs': 8665, 'area': 8666, 'checkout': 8667, 'rescind': 8668, 'condom': 8669, 'pelosi': 8670, 'notexplain': 8671, 'and': 8672, '9/15': 8673, '_lado': 8674, 'wikipedia': 8675, 'overdr': 8676, 'yyeso': 8677, 'palestinian': 8678, 'reshap': 8679, 'bcz': 8680, 'deed': 8681, 'hew': 8682, 'acronym': 8683, 'regim': 8684, 'homeless': 8685, 'shaabi': 8686, 'como': 8687, 'mp': 8688, 'did': 8689, '55': 8690, 'todayhav': 8691, 'banjo': 8692, 'colo': 8693, 'interst': 8694, 'dalla': 8695, 'knob': 8696, 'hilversum': 8697, 'deactiv': 8698, 'afghetc': 8699, 'competitor': 8700, 'firetruck': 8701, 'gritti': 8702, 'corii': 8703, 'moscow': 8704, 'exist': 8705, 'multi-raci': 8706, 'retool': 8707, 'G3': 8708, 'kingston': 8709, '08/07': 8710, 'bet': 8711, 'crime': 8712, 'ON': 8713, 'lesnar': 8714, 'presid': 8715, 'pestl': 8716, 'ginga': 8717, 'soviet': 8718, 'ovari': 8719, 'tru': 8720, 'touch': 8721, 'testa': 8722, 'lloyd': 8723, 'wide': 8724, 'atw': 8725, '1grego': 8726, 'lil': 8727, '_karyn': 8728, 'broom': 8729, '1-6': 8730, 'u-': 8731, 'beig': 8732, 'padr': 8733, 'dj': 8734, 'adventur': 8735, '_fenton': 8736, 'claim': 8737, '[8': 8738, 'befor': 8739, 'violenc': 8740, ']:': 8741, 'yougslavia': 8742, 'lead': 8743, 'calgari': 8744, 'genisi': 8745, '@2': 8746, 'parley': 8747, '#16': 8748, '3340': 8749, 'congest': 8750, 'everybodi': 8751, 'beckon': 8752, 'rar': 8753, 'salli': 8754, 'runabout': 8755, '3lv': 8756, 'sincereti': 8757, 'smithsonian': 8758, 'legaci': 8759, 'polic': 8760, 'interv': 8761, 'demolition-dodg': 8762, 'pound': 8763, 'areal': 8764, 'cartervil': 8765, '1245z': 8766, 'okay': 8767, 'hue': 8768, 'vanish': 8769, 'ruler': 8770, 'jawan': 8771, 'l9udest': 8772, 'lcb': 8773, 'than': 8774, 'watchout': 8775, 'travi': 8776, 'stylishli': 8777, 'airlin': 8778, '212': 8779, 'hear': 8780, 'dorrian': 8781, 'implor': 8782, 'ps1': 8783, 'lesotho': 8784, 'vista': 8785, 'triniti': 8786, 'eight': 8787, 'half-way': 8788, 'disclaim': 8789, 'cv': 8790, 'societi': 8791, 'RB': 8792, 'jul': 8793, 'worldoil': 8794, 'hygien': 8795, 'hai': 8796, 'ski': 8797, 'struggl': 8798, 'norman': 8799, 'recognis': 8800, '208-267-6773': 8801, 'abbswinston': 8802, 'wherea': 8803, 'gotham': 8804, 'nottingham': 8805, 'nake': 8806, 'uptown': 8807, 'unter': 8808, 'hutch': 8809, 'father': 8810, 'liy': 8811, '_juic1': 8812, 'xmwte': 8813, 'entitl': 8814, 'breez': 8815, 'rock': 8816, 'epilept': 8817, 'better': 8818, 'cp2020': 8819, 'scatter': 8820, 'hasåêarriv': 8821, '1717': 8822, 'let': 8823, 'illustr': 8824, 'trillion': 8825, '17000': 8826, 'migrain': 8827, 'salut': 8828, 'dominguez': 8829, 'sy': 8830, '_torro_loco': 8831, 'italian': 8832, 'albeit': 8833, 'qual': 8834, 'januari': 8835, '0.6': 8836, 'coerc': 8837, 'langhorne-middletown': 8838, 'restless': 8839, 'K': 8840, 'cost': 8841, 'fundament': 8842, 'amas': 8843, 'soc': 8844, 'shortfal': 8845, 'wonder': 8846, 'capitalist': 8847, 'isil': 8848, 'unsuccess': 8849, 'buzz': 8850, 'slow': 8851, 'piner': 8852, 'schedul': 8853, 'offer': 8854, 'ndetent': 8855, 'northbound': 8856, 'û_it': 8857, 'misdirect': 8858, 'ancop': 8859, 'golem': 8860, 'tsutomi': 8861, 'sw': 8862, 'luck': 8863, 'cart': 8864, 'bkb': 8865, 'plot': 8866, 'gwatt': 8867, 'aquat': 8868, 'fring': 8869, 'tsunami': 8870, '025': 8871, 'diplomat': 8872, '__belli': 8873, '34:22': 8874, 'road': 8875, 'odel': 8876, 'wmv': 8877, '_voic': 8878, 'psychiatr': 8879, 'manifest': 8880, 'platinum': 8881, 'requiem': 8882, 'cuddl': 8883, 'finland': 8884, 'chem': 8885, 'juan': 8886, 'waig': 8887, 'paper': 8888, 'daughteri': 8889, 'dota': 8890, 'lap': 8891, 'hiker': 8892, 'anderson': 8893, 'uae': 8894, '456': 8895, 'parti': 8896, 'lozano': 8897, 'mud': 8898, 'boxer': 8899, 'sterl': 8900, 'bike': 8901, 'moli': 8902, 'drayesha': 8903, '5/16': 8904, 'robinson': 8905, 'atv': 8906, 'areva': 8907, 'awesomeeeeeee': 8908, '3mi': 8909, 'tyler': 8910, 'bushman': 8911, '_daniel_': 8912, '46': 8913, 'wiimington': 8914, 'tommorow': 8915, 'trump': 8916, 'apch': 8917, 'woodchuck': 8918, 'queen': 8919, 'whoever': 8920, '50-50': 8921, 'mock': 8922, 'kay': 8923, 'quest': 8924, 'unr': 8925, 'but': 8926, 'WI': 8927, 'refere': 8928, 'england': 8929, 'holli': 8930, 'threw': 8931, 'confer': 8932, '420': 8933, 'nikoniko': 8934, 'gent': 8935, 'older': 8936, 'unnecessari': 8937, '_elizabethh': 8938, 'freshman': 8939, 'year': 8940, 'catastroph': 8941, 'seewe': 8942, 'thompson': 8943, 'figur': 8944, 'bhaijaan': 8945, 'southtown': 8946, 'avalanch': 8947, 'data': 8948, 'cheapli': 8949, 'mani': 8950, 'affair': 8951, 'lcc': 8952, 'windriv': 8953, 'fujiwara': 8954, 'plantat': 8955, 'apropo': 8956, 'tear': 8957, 'explain': 8958, 'stori': 8959, 'bilic': 8960, 'MO': 8961, 'convect': 8962, 'nassau': 8963, 'interact': 8964, 'find': 8965, 'safari': 8966, 'dialys': 8967, 'straight': 8968, 'IT': 8969, '2bagenc': 8970, 'meant': 8971, 'budget': 8972, 'spa': 8973, 'bromleyth': 8974, 'sunday': 8975, 'moder': 8976, 'legisl': 8977, 'mv': 8978, 'dunk': 8979, '_ie': 8980, 'distant': 8981, 'gop': 8982, '11th': 8983, 'PA': 8984, 'SW': 8985, '_st': 8986, 'shevlin-hixon': 8987, 'malaysia': 8988, 'angel': 8989, 'protect': 8990, 'benzema': 8991, '4000': 8992, 'hundred-odd': 8993, 'hubert': 8994, 'reuter': 8995, 'fridg': 8996, 'airplaneåê': 8997, '_magazin': 8998, 'DT': 8999, 'M3': 9000, 'mydrought': 9001, 'hawaii': 9002, 'snoop': 9003, 'nbc': 9004, 'akxbskdn': 9005, 'overblown': 9006, 'seed': 9007, 'fieg': 9008, 'lindenow': 9009, 'reset': 9010, 'mee': 9011, 'had': 9012, 'wasnt': 9013, 'smuggler': 9014, 'landslide-damag': 9015, 'circular': 9016, 'separ': 9017, 'saw': 9018, 'offend': 9019, 'silverado': 9020, '1:57': 9021, 'yo': 9022, 'bulletin': 9023, 'amazing': 9024, 'koz': 9025, 'alabama': 9026, 'trynna': 9027, 'henley': 9028, 'iembot_hfo': 9029, 'warra': 9030, '05-08-': 9031, 'us70': 9032, '8ion': 9033, 'twitch': 9034, 'va': 9035, 'again': 9036, 'infest': 9037, 'noonan-heartbreak': 9038, 'elizabeth': 9039, 'confid': 9040, 'nite': 9041, 'tipster': 9042, 'upset': 9043, 'statement': 9044, 'hardcov': 9045, 'small-siz': 9046, 'interview': 9047, 'lowli': 9048, 'jade': 9049, 'ticken': 9050, 'mailer': 9051, 'ûïboonew': 9052, 'glitch': 9053, 'police-run': 9054, 'ok': 9055, 'worsen': 9056, 'kerri': 9057, 'archiv': 9058, 'could': 9059, 'railgun': 9060, 'shoe': 9061, 'spout': 9062, 'thirty-on': 9063, 'raid': 9064, 'keurig': 9065, 'fjord': 9066, 'ithat': 9067, 'cold': 9068, 'assembl': 9069, 'championsblackfoot': 9070, 'regiment': 9071, 'oompah-period': 9072, 'prohibit': 9073, 'mmk': 9074, 'deadgirltalk': 9075, 'dirk': 9076, 'stabliz': 9077, '2040': 9078, '_mar': 9079, 'extraordinair': 9080, 'cst': 9081, 'they': 9082, 'californian': 9083, 'dijon': 9084, 'etx': 9085, 'multimillion': 9086, 'sheer': 9087, 'await': 9088, 'IM': 9089, 'colomr': 9090, 'FT': 9091, 'ecstat': 9092, 'adult': 9093, 'swiss': 9094, 'corrupt': 9095, 'distract': 9096, 'dismantl': 9097, 'recoil': 9098, '172': 9099, 'ukrain': 9100, 'lawsuit': 9101, 'real-lif': 9102, 'sum': 9103, 'bathroom': 9104, 'puth': 9105, 'perli': 9106, 'cow': 9107, 'sincer': 9108, '6bn': 9109, 'schwarber': 9110, 'massiv': 9111, 'karachi': 9112, '5678': 9113, 'redbul': 9114, 'guid': 9115, 'alic': 9116, 'termin': 9117, '3.33': 9118, 'domin': 9119, 'wimp': 9120, 'snowstorm': 9121, 'bloor': 9122, 'owenrbroadhurst': 9123, '106.1': 9124, 'desert': 9125, 'tournament': 9126, 'floyd': 9127, 'tax': 9128, 'unjust': 9129, '2b': 9130, 'precondit': 9131, 'audi': 9132, 'ownership': 9133, 'coal': 9134, 'quiet': 9135, 'buddha': 9136, 'gma': 9137, 'hollyw': 9138, 'detain': 9139, 'åÇ': 9140, 'bright': 9141, 'cta': 9142, 'distribut': 9143, 'shaw': 9144, 'berahino': 9145, 'herald': 9146, 'lopez': 9147, 'vid': 9148, 'uprootin': 9149, '91': 9150, 'bloke': 9151, 'pneumonia': 9152, 'richmond': 9153, 'prepar': 9154, 'anxieti': 9155, 'absurd': 9156, 'stark': 9157, 'karnal': 9158, 'noon': 9159, 'ourselv': 9160, 'anger': 9161, 'rare': 9162, 'yemen': 9163, 'ps3': 9164, 'coliseum': 9165, 'batman': 9166, 'QA': 9167, 'spoke': 9168, 'pt1': 9169, '216': 9170, 'chapter': 9171, 'derailed_benchmark': 9172, '9:30': 9173, 'ndtv': 9174, 'batch': 9175, 'tidal': 9176, 'nuk': 9177, 'oso': 9178, 'jaron': 9179, 'shad': 9180, 'bigfoot': 9181, 'apd': 9182, 'throwin': 9183, 'chuck': 9184, 'reclus': 9185, '69': 9186, 'sourc': 9187, 'pumper': 9188, '_dame': 9189, 'fieldston': 9190, '61st': 9191, 'DL': 9192, 'griffin': 9193, 'chippewa': 9194, 'vitali': 9195, '_ling': 9196, 'corp': 9197, 'particularli': 9198, 'crackdown': 9199, 'hilli': 9200, 'O': 9201, '29800': 9202, 'soooo': 9203, 'upload': 9204, 'out': 9205, 'ordin': 9206, 'imagin': 9207, 'P': 9208, '98': 9209, 'cee': 9210, 'russian': 9211, 'namjoon': 9212, 'mtech': 9213, 'morti': 9214, 'group': 9215, 'reckless': 9216, 'aluminum': 9217, 'iphon': 9218, 'wattl': 9219, '1192': 9220, 'scene': 9221, 'bastard': 9222, \"n't\": 9223, 'bordentown': 9224, 'alter': 9225, 'struck': 9226, 'wire': 9227, 'tunnel': 9228, 'trickshot': 9229, 'ûïnumber': 9230, 'largest': 9231, 'atgam': 9232, '30min': 9233, 'gambia': 9234, 'experiment': 9235, 'anatomi': 9236, 'sheriff': 9237, 'mcutchen': 9238, 'joke': 9239, 'sidearm': 9240, 'handheld': 9241, 'commerci': 9242, 'jacinta': 9243, 'suresh': 9244, 'gym': 9245, 'fought': 9246, 'saku': 9247, 'loos': 9248, '4success': 9249, '_bulak': 9250, 'king': 9251, '1941': 9252, '4.3': 9253, 'while': 9254, 'humanitarian': 9255, 'valentin': 9256, 'popey': 9257, 'flame': 9258, 'larg': 9259, 'custer': 9260, 'chant': 9261, 'skc': 9262, 'anaheim': 9263, 'muckrock': 9264, 'brook': 9265, 'straighten': 9266, 'lebanon': 9267, 'intrud': 9268, 'html': 9269, 'nosc': 9270, 'muhammad': 9271, 'wraith': 9272, 'newsthousand': 9273, 'frontin': 9274, 'savour': 9275, 'cougar': 9276, 'issu': 9277, 'heartbroken.mobil': 9278, 'oo': 9279, 'ipo': 9280, 'pond': 9281, 'kanger': 9282, '55433': 9283, 'toke': 9284, 'commut': 9285, 'havoc': 9286, 'G': 9287, 'locksmith': 9288, 'acquisit': 9289, 'billiton': 9290, 'suruc': 9291, 'co2': 9292, 'coffin': 9293, 'shaldon': 9294, 'pic.twitter.com/pnpizodi': 9295, 'zack': 9296, '#124': 9297, '_ellwood': 9298, 'riviera': 9299, 'invent': 9300, 'skim': 9301, '238.00': 9302, 'perceiv': 9303, 'transwomen': 9304, 'philli': 9305, 'albani': 9306, 'deflateg': 9307, '_burk': 9308, 'attende': 9309, 'pada': 9310, 'ma': 9311, 'subreddit': 9312, 'cool': 9313, 'indiegogo': 9314, 'spin': 9315, 'janenelson': 9316, 'desol': 9317, 'invest': 9318, 'cactu': 9319, 'barfield': 9320, 'FL': 9321, 'flex': 9322, 'recommend': 9323, 'homag': 9324, '60ml': 9325, 'tita-dom': 9326, 'cfc': 9327, 'bene': 9328, '2young': 9329, 'buc': 9330, 'lit': 9331, 'systemat': 9332, 'hopfer': 9333, '3_6_12': 9334, 'tightli': 9335, 'perspect': 9336, '77': 9337, 'oliv': 9338, 'outbound': 9339, '_marsh22': 9340, '1943': 9341, 'kermit': 9342, 'M4': 9343, 'gosh': 9344, 'û_onli': 9345, 'march': 9346, 'method': 9347, 'trench': 9348, 'volga': 9349, 'ws': 9350, 'casino': 9351, 'idol': 9352, 'moonbeam': 9353, '_fan': 9354, 'wilsher': 9355, 'spree': 9356, 'cervelli': 9357, 'ypre': 9358, '_esh': 9359, 'caution': 9360, 'blame': 9361, 'him': 9362, 'bin': 9363, 'fleetwood': 9364, 'lionel': 9365, 'hao': 9366, 'ncjfcj': 9367, 'cti': 9368, 'mistaken': 9369, 'brunt': 9370, 'centiped': 9371, 'lake': 9372, 'thorgan': 9373, 'pearl': 9374, 'copperfield': 9375, 'uniti': 9376, 'realiti': 9377, 'tullamarin': 9378, 'ûªa': 9379, 'sac': 9380, 'greer': 9381, 'particul': 9382, 'disabl': 9383, 'pile': 9384, 'blaaaaaaa': 9385, 'treasur': 9386, 'gunshot': 9387, 'bethlehem': 9388, 'zimbabw': 9389, 'barracuda': 9390, 'NZ': 9391, 'outlet': 9392, 'hometown': 9393, 'slouch': 9394, 'flow': 9395, 'rolo': 9396, 'dh': 9397, 'hirochii': 9398, 'titti': 9399, 'surviv': 9400, 'easter': 9401, 'windowsil': 9402, '_bot': 9403, 'den': 9404, 'tabloid': 9405, 'guatemalan': 9406, 'LK': 9407, 'schella': 9408, 'gangstermail': 9409, 'cowork': 9410, 'childish': 9411, '1720': 9412, 'roleplay': 9413, 'sweet': 9414, '#12k': 9415, 'transit': 9416, 'choos': 9417, 'xc70': 9418, 'pomo': 9419, 'hard': 9420, 'minimum': 9421, 'edward': 9422, 'openli': 9423, 'warmth': 9424, 'shen': 9425, 'preorder': 9426, 'round-up': 9427, 'steer': 9428, 'econom': 9429, 'glononium': 9430, 'flew': 9431, 'herself': 9432, 'ta': 9433, 'D': 9434, 'charon': 9435, '_instiinctz': 9436, 'mina': 9437, 'salisburi': 9438, 'baaaack': 9439, 'mueller': 9440, 'intend': 9441, 'dislik': 9442, 'creek': 9443, 'fur': 9444, 'gimm': 9445, 'driver': 9446, '_luna': 9447, 'closeup': 9448, 'idp': 9449, 'northgat': 9450, 'oliviamil': 9451, 'wendel': 9452, 'weak': 9453, 'perfor': 9454, 't17': 9455, 'britain': 9456, 'reddit': 9457, 'mostli': 9458, 'cree': 9459, 'mutual': 9460, 'bordento': 9461, 'yoga': 9462, 'ûòåêcnbc': 9463, 'fuso': 9464, 'chan': 9465, 'your': 9466, 'explor': 9467, 'prescient': 9468, '#163': 9469, 'dispers': 9470, 'celtic': 9471, 'bitch': 9472, 'foundat': 9473, 'friendli': 9474, 'kc': 9475, 'outfield': 9476, '509': 9477, 'light': 9478, 'gi': 9479, 'tuffer': 9480, 'disillus': 9481, 'akito': 9482, 'gostei': 9483, 'calam': 9484, 'musicvideo': 9485, 'deck': 9486, 'old': 9487, 'shannon': 9488, 'bowl': 9489, 'drako': 9490, 'standstil': 9491, 'rodder': 9492, '#17': 9493, 'kamchatka': 9494, 'starv': 9495, 'wage': 9496, 'vast': 9497, 'dent': 9498, '_opu': 9499, 'gambit': 9500, 'hypo': 9501, 'wrestl': 9502, 'candlelight': 9503, 'ping': 9504, 'boom': 9505, '_workshop': 9506, 'impeach': 9507, 'martial': 9508, 'liverpool': 9509, 'battl': 9510, '_dom': 9511, \"long'__siren\": 9512, 'ice': 9513, 'comprehens': 9514, 'clare': 9515, 'jamal': 9516, 'crap': 9517, 'keith': 9518, 'clap': 9519, '8': 9520, 'rush': 9521, '11:45': 9522, 'popcorn': 9523, 'a-punk': 9524, 'fm': 9525, 'kbak': 9526, 'polaroid': 9527, 'maaaaan': 9528, 'septic': 9529, 'dystopian': 9530, '02-06': 9531, 'rightway': 9532, 'pray': 9533, 'alot': 9534, 'helicopt': 9535, 'southbound': 9536, 'toe': 9537, 'taxiway': 9538, 'torment': 9539, 'RV': 9540, 'gold': 9541, 'baa': 9542, 'grown': 9543, 'tltltltltlttlt': 9544, 'castl': 9545, '5S': 9546, 'paperback': 9547, 'dagger': 9548, 'agoni': 9549, 'abolish': 9550, 'uhhhhh': 9551, 'kabul': 9552, 'fe': 9553, '9:50': 9554, 'HD': 9555, 'discours': 9556, 'cuisin': 9557, 'ketchup': 9558, '15000266835': 9559, 'hcxvneoav': 9560, '@_dangdaddi': 9561, 'leonardvil': 9562, 'fforecast': 9563, 'finest': 9564, 'montana': 9565, 'yum': 9566, '@1rockstar62': 9567, 'embarrass': 9568, 'month': 9569, 'histori': 9570, 'destin': 9571, '__may': 9572, 'metal': 9573, 'windi': 9574, 'seeley': 9575, 'cataclysm': 9576, 'lol': 9577, 'ûïwhen': 9578, 'plagu': 9579, 'muse': 9580, 'aidan': 9581, 'zarharzar': 9582, 'abdul-rashe': 9583, 'collaps': 9584, 'would': 9585, 'notori': 9586, 'x36': 9587, 'payment': 9588, '16yr': 9589, 'trace': 9590, 'chitral': 9591, 'vanessa': 9592, 'carrier': 9593, 'pooper': 9594, '40w': 9595, 'knowledg': 9596, 'patp': 9597, '25-23': 9598, 'exc': 9599, 'souda': 9600, 'tube': 9601, 'latest': 9602, 'more': 9603, 'campsit': 9604, 'thr': 9605, 'butterfli': 9606, 'recov': 9607, 'grey': 9608, 'portug': 9609, 'fled': 9610, 'builder': 9611, '08': 9612, 'misocapnist': 9613, 'attent': 9614, 'sir': 9615, 'partnership': 9616, '@_ohhsehun': 9617, 'fix': 9618, 'enough': 9619, 'nd': 9620, 'gt-ii': 9621, 'juneau': 9622, 'sel': 9623, 'hodgin': 9624, 'unqualifi': 9625, 'foto': 9626, 'billet': 9627, '00': 9628, 'pittsburgh': 9629, 'patient-report': 9630, 'mash': 9631, 'turnpik': 9632, '1800w': 9633, 'thi': 9634, 'uphil': 9635, 'categori': 9636, 'aesop': 9637, 'surgic': 9638, 'tarmineta': 9639, 'per': 9640, 'jonesboro': 9641, 'dren': 9642, 'lmfaooo': 9643, 'extermin': 9644, 'ler': 9645, 'shooter': 9646, 'hail': 9647, 'ram': 9648, 'nude': 9649, 'cross-london': 9650, 'worldwid': 9651, 'chopra': 9652, 'ect': 9653, '16:54': 9654, 'playthrough': 9655, 'honduran': 9656, 'sabrina': 9657, 'an': 9658, 'provid': 9659, 'three-alarm': 9660, 'robot': 9661, 'sharecrop': 9662, '1990': 9663, 'sticki': 9664, 'pir': 9665, '1:87': 9666, 'here-delug': 9667, 'mediterran': 9668, 'internally-displac': 9669, 'harda': 9670, 'tini': 9671, 'sentient': 9672, '12new': 9673, 'EV': 9674, 'transfer': 9675, 'comeeee': 9676, 'airdri': 9677, 'everyon': 9678, 'rumbl': 9679, 'pendleton': 9680, 'theres': 9681, '250': 9682, 'also': 9683, 'daddi': 9684, 'bore': 9685, 'hooligan': 9686, 'most': 9687, 'cheroke': 9688, 'cre': 9689, 'hype': 9690, 'cech': 9691, 'grief': 9692, 'ran': 9693, 'african': 9694, ')': 9695, 'male': 9696, 'biltz': 9697, 'overwork': 9698, 'sexual': 9699, 'miln': 9700, 'dfljev': 9701, 'colorect': 9702, 'proof': 9703, '9.49': 9704, 'NF': 9705, 'present': 9706, '15l18': 9707, 'AU': 9708, 'kristi': 9709, 'bmw': 9710, 'irish': 9711, 'electrocut': 9712, 'teenag': 9713, 'pll': 9714, 'harrison': 9715, 'otsuka': 9716, 'remot': 9717, 'honda': 9718, '1892': 9719, 'sunflow': 9720, 'hors': 9721, 'nitish': 9722, 'commonwealth': 9723, '97': 9724, 'record-high': 9725, 'oun': 9726, 'up-clos': 9727, 'muscl': 9728, 'kennedi': 9729, 'giggl': 9730, 'megadeth-symphoni': 9731, 'tub': 9732, 'applaud': 9733, 'oz': 9734, 'huddl': 9735, 'didnt': 9736, 'amcx': 9737, '01:01': 9738, 'brendan': 9739, 'self-destruct': 9740, 'caller': 9741, 'dial': 9742, 'komen': 9743, 'alp': 9744, 'religion-fuel': 9745, 'sleep': 9746, 'crunchysens': 9747, 'suprem': 9748, 'loudest': 9749, '1986': 9750, 'smash': 9751, '1970the': 9752, '20000k': 9753, 'headlin': 9754, '... ...': 9755, 'ofa': 9756, 'RN': 9757, 'plath': 9758, 'mdt': 9759, 'toilet': 9760, 'alpha': 9761, 'louder': 9762, 'boon': 9763, '642498': 9764, 'airlift': 9765, 'sunbath': 9766, 'squad': 9767, 'novel': 9768, 'rainier': 9769, 'demco': 9770, 'deepest': 9771, 'jah': 9772, 'pax': 9773, 'joseph': 9774, 'fyi': 9775, 'x1415': 9776, 'latina': 9777, '44pm': 9778, 'bicycl': 9779, '11th2001': 9780, \"'M\": 9781, '1/2007': 9782, '4K': 9783, 'dentist': 9784, 'sega': 9785, 'cooperstown': 9786, 'hexagon': 9787, 'alisonannyoung': 9788, 'up-to-the-minut': 9789, 'elig': 9790, 'highsmith': 9791, 'fox': 9792, 'seaview': 9793, \"da'esh\": 9794, 'canva': 9795, 'C': 9796, 'jumpin': 9797, 'rather': 9798, 'worship': 9799, 'impend': 9800, 'near': 9801, 'sister': 9802, 'thx': 9803, '9:33': 9804, 'rq': 9805, 'crematoria': 9806, 'gape': 9807, 'snake': 9808, '2pack': 9809, '07:30': 9810, 'nana': 9811, 'unharm': 9812, 'recycl': 9813, 'mama': 9814, 'globi_inclus': 9815, 'intim': 9816, 'forney': 9817, 'grab': 9818, 'declar': 9819, 'alfredo': 9820, 'zayn': 9821, '_lage': 9822, 'remedi': 9823, 'tower': 9824, 'takeshima': 9825, 'desolatelost': 9826, 'gloriou': 9827, 'dismay': 9828, 'fraud': 9829, 'scarier': 9830, 'BY': 9831, 'bravo': 9832, 'palmer': 9833, 'ks94': 9834, 'fame': 9835, 'YA': 9836, 'left-lean': 9837, 'ch': 9838, 'nervou': 9839, 'fandom': 9840, 'flood': 9841, 'worth': 9842, '08/05': 9843, 'himika': 9844, 'pascal': 9845, '@61_alvin': 9846, 'ûï_leo': 9847, '03/08': 9848, '16475': 9849, 'lash': 9850, 'safer': 9851, '@_keypster': 9852, '41': 9853, 'kayla': 9854, 'thnk': 9855, 'muslim': 9856, '4am': 9857, 'employe': 9858, 'anacrusi': 9859, 'orpik': 9860, '0': 9861, 'abe': 9862, 'might': 9863, 'whistleblow': 9864, 'epoch': 9865, 'tha': 9866, 'û_the': 9867, 'reassign': 9868, 'closest': 9869, 'pub': 9870, 'come': 9871, 'lubbock': 9872, 'colorlin': 9873, 'ûïnew': 9874, 'lisowski': 9875, '..': 9876, 'fiat': 9877, '_surg': 9878, 'yup': 9879, 'elabor': 9880, 'oklahoma-ok': 9881, 'airsoft': 9882, 'buyout': 9883, 'mississauga': 9884, 'yeyeulala': 9885, 'abl': 9886, '70th': 9887, 'bo': 9888, 'sr': 9889, 'massgrav': 9890, 'cryibg': 9891, 'chiba': 9892, 'imo': 9893, 'snap': 9894, 'diaspora': 9895, 'self-inflict': 9896, 'influenc': 9897, 'trp': 9898, '2.iclown': 9899, '#89x': 9900, 'hardli': 9901, '#22day': 9902, 'ûïthe': 9903, 'cte': 9904, '447': 9905, 'bottom': 9906, 'cup': 9907, '5pm': 9908, 'cabrillo': 9909, 'hardest': 9910, '5.139055': 9911, 'ûïnobodi': 9912, 'tropic': 9913, 'headdesk': 9914, 'cuas': 9915, 'vict': 9916, 'cutleri': 9917, 'cemeteri': 9918, 'wanna': 9919, 'seal': 9920, 'anoth': 9921, 'fighterdena': 9922, 'volcan': 9923, 'ex-assembl': 9924, 'matia': 9925, 'loko': 9926, 'tanstaafl': 9927, 'edinburgh': 9928, 'makinwa': 9929, 'epa': 9930, 'technic': 9931, 'underway': 9932, 'squar': 9933, \"kidnap'g\": 9934, 'irretriev': 9935, 'abject': 9936, 'ltd': 9937, 'bois': 9938, 'asia': 9939, 'tonka': 9940, 'croft': 9941, 'mourn': 9942, 'hairi': 9943, 'bong': 9944, 'cruis': 9945, 'outcom': 9946, 'bf': 9947, 'midtown': 9948, 'bacup': 9949, 'begov': 9950, '3460': 9951, '@9tawan99': 9952, 'regardless': 9953, 'matako_milk': 9954, '_pio': 9955, 'disregard': 9956, 'togeth': 9957, 'grandpa': 9958, 'bigsbi': 9959, 'mt-a': 9960, 'vod': 9961, 'head': 9962, 'roofer': 9963, 'fresh': 9964, 'shira': 9965, 'tortur': 9966, 'omm': 9967, 'wind': 9968, 'classic': 9969, 'saferåê': 9970, 'dresser': 9971, 'remodel': 9972, 'chipper': 9973, 'skeeter': 9974, 'brave': 9975, 'sass': 9976, 'stevi': 9977, 'alejandro': 9978, 'foursquar': 9979, 'mump': 9980, 'hay': 9981, 'fema': 9982, 'tourist': 9983, 'lame': 9984, 'plant-cov': 9985, 'ballad': 9986, 'aladdin': 9987, '_video': 9988, 'bi': 9989, 'riooooo': 9990, 'thezlong': 9991, 'dreamland': 9992, 'charlott': 9993, 'kwaaaaa': 9994, 'neal': 9995, 'reveal': 9996, 'goonda': 9997, 'veld': 9998, 'jungl': 9999, 'anim': 10000, '124': 10001, '37b': 10002, 'say': 10003, 'dri': 10004, 'hawk': 10005, ':p': 10006, 'nate': 10007, 'twist': 10008, 'psm': 10009, 'financ': 10010, 'nbn': 10011, 'brick': 10012, 'manner': 10013, 'freshli': 10014, 'kiernan': 10015, '23_sn': 10016, 'prairi': 10017, 'victoria': 10018, 'inmat': 10019, 'apollo': 10020, 'hegot': 10021, 'westmeath': 10022, 'surrey': 10023, 'mhtw': 10024, 'upa': 10025, 'clearlak': 10026, 'salad': 10027, 'tianta': 10028, 'hashd': 10029, 'track': 10030, 'phase': 10031, 'marlen': 10032, 'ripe': 10033, '78734': 10034, 'awg': 10035, 'pillori': 10036, 'psycholog': 10037, 'nah': 10038, 'desecr': 10039, 'pradesh': 10040, \"magna-fi'\": 10041, 'brief': 10042, 'ÛÏ': 10043, 'burp': 10044, 't1000': 10045, 'grow': 10046, '070': 10047, 'elderli': 10048, 'todayi': 10049, 'rococo': 10050, 'vantag': 10051, 'sonia': 10052, 'patient': 10053, 'stack': 10054, 'alv': 10055, '126': 10056, 'color': 10057, 'realism': 10058, 'jeezu': 10059, 'wrong.suddenli': 10060, 'fa': 10061, 'till': 10062, 'circa': 10063, '96': 10064, 'curios': 10065, 'scoopit': 10066, 'stout': 10067, 'doessnt': 10068, 'kasab': 10069, 'greasi': 10070, '06:34': 10071, 'gari': 10072, 'robert': 10073, 'sometimesi': 10074, 'parter': 10075, 'yourselv': 10076, 'ferrel': 10077, '2016': 10078, '_paranoico': 10079, 'treati': 10080, 'poland': 10081, 'yorker': 10082, 'pasti': 10083, 'purifi': 10084, 'monitor': 10085, 'kotolili': 10086, 'fitba': 10087, 'psi': 10088, 'pqhaxp': 10089, '(415) 751-0880': 10090, 'oklahoma': 10091, 'impun': 10092, 'shelli': 10093, 'vestment': 10094, 'banish': 10095, 'retard': 10096, 'syria': 10097, 'scout': 10098, '90blks8wht': 10099, '#2a': 10100, 'sassi': 10101, 'congress': 10102, 'whattt': 10103, 'girardeau': 10104, 'mayan': 10105, 'pattern': 10106, 'mega': 10107, 'TB': 10108, 'desper': 10109, 'reportli': 10110, 'overcharg': 10111, 'disconnect': 10112, 'discoveri': 10113, 'incess': 10114, 'etroleum': 10115, 'smear': 10116, '905-877-8591': 10117, 'occur': 10118, 'mass-rap': 10119, 'all-pro': 10120, 'scifi': 10121, 'hunter': 10122, 'philippi': 10123, '_show': 10124, 'regular': 10125, 'lmfao': 10126, '2079': 10127, 'admin': 10128, 'indot': 10129, 'lunch': 10130, 'blevin': 10131, 'overturn': 10132, 'EH': 10133, 'mouth': 10134, 'counter': 10135, 'northland': 10136, 'gibraltar': 10137, 'marketwatch': 10138, 'sarumi': 10139, 'volgagrad': 10140, 'cash': 10141, 'refil': 10142, 'marinad': 10143, '0000': 10144, 'suho': 10145, 'aug': 10146, 'electr': 10147, 'tumblr': 10148, 'poster': 10149, 'wd': 10150, 'pan': 10151, '1tchell1987': 10152, 'photo': 10153, 'dothraki': 10154, 'maddddd': 10155, 'week-old': 10156, 'screech': 10157, '401': 10158, '2010': 10159, 'comp': 10160, 'stronger': 10161, 'landslid': 10162, 'sidewalk': 10163, 'clear.iran': 10164, 'micro': 10165, 'unreal': 10166, 'henshaw': 10167, '1775': 10168, 'appeas': 10169, 'isabel': 10170, 'GM': 10171, 'apartment-loan': 10172, 'tomorrow': 10173, 'intensifi': 10174, 'countless': 10175, '3.5': 10176, '01:26': 10177, 'hamilton': 10178, 'fairi': 10179, 'tp': 10180, 'niggaeven': 10181, 'husband': 10182, 'player': 10183, 'bloomberg': 10184, 'servicin': 10185, '_actu': 10186, 'Q1': 10187, 'cybersecur': 10188, '1D': 10189, 'whine': 10190, 'appal': 10191, 'coeffici': 10192, 'deejayempiresound': 10193, 'orphanag': 10194, 'vanderbilt': 10195, 'antipozi': 10196, 'dlc': 10197, 'fennovoima': 10198, '325.000': 10199, 'heartbeat': 10200, 'panik': 10201, 'terrif': 10202, 'hamper': 10203, \"married'__siren\": 10204, 'comedi': 10205, 'khosa': 10206, 'cypress': 10207, 'EB': 10208, 'trey': 10209, 'floodwat': 10210, 'night': 10211, 'trinna': 10212, '2.00': 10213, 'feminist': 10214, 'abcnew': 10215, 'district': 10216, 'hlg': 10217, 'tracey': 10218, '3000': 10219, 'shinichi': 10220, 'leadership': 10221, 'list': 10222, 'cilla': 10223, 'dave': 10224, 'britney': 10225, 'food.fre': 10226, 'mia': 10227, 'necro': 10228, 'basement': 10229, '_movi': 10230, 'carolin': 10231, 'spade': 10232, 'pen': 10233, 'snapchat': 10234, 'detect': 10235, 'wavi': 10236, 'chevi': 10237, 'pool': 10238, 'clergyforc': 10239, 'selfavow': 10240, 'romp': 10241, 'cocker': 10242, 'counselor': 10243, 'fucktard': 10244, 'owen': 10245, 'beyonc': 10246, 'spun': 10247, 'silli': 10248, 'identif': 10249, 'neelum': 10250, 'yogurt': 10251, 'crowd': 10252, 'hinton': 10253, 'korea': 10254, 'mainten': 10255, 'beastin': 10256, 'lenor': 10257, 'åÀ': 10258, 'hobbi': 10259, 'bosphor': 10260, 'holdin': 10261, '1965a': 10262, '4': 10263, 'hello': 10264, 'indiffer': 10265, 'wheatley': 10266, 'killer': 10267, 'dig': 10268, 'shortcut': 10269, '|:': 10270, 'routin': 10271, 'indah': 10272, '7/30': 10273, 'misl': 10274, 'monwabisi': 10275, 'brassier': 10276, 'onå': 10277, 'SI': 10278, 'xrwn': 10279, 'russel': 10280, 'pull': 10281, 'romant': 10282, 'mirror': 10283, 'offr': 10284, 'biz': 10285, 'breeder': 10286, 'convinc': 10287, 'gyp': 10288, 'charlton': 10289, 'autopsi': 10290, 'polici': 10291, 'blazer': 10292, 'quem': 10293, 'burglar': 10294, '5hvmaperform': 10295, 'dedic': 10296, 'bullpen': 10297, '¤': 10298, 'revolut': 10299, 'cleveland': 10300, 'sign-up': 10301, 'savvi': 10302, 'festiv': 10303, 'scrape': 10304, 'block': 10305, 'jake': 10306, 'red-light': 10307, 'tacoma': 10308, 'serv': 10309, 'ouvir': 10310, 'bamenda': 10311, 'streetlight': 10312, 'defin': 10313, 'white': 10314, 'asap': 10315, 'trfc': 10316, 'ur': 10317, 'hearth': 10318, 'disast': 10319, 'wallybait': 10320, 'war.peopl': 10321, 'vault': 10322, 'I5': 10323, 'x1': 10324, 'tgirl': 10325, 'progess': 10326, 'leitchfield': 10327, 'olymp': 10328, 'kiss': 10329, 'hirsch': 10330, 'fire': 10331, 'petersen': 10332, 'leftwich': 10333, 'tencent': 10334, 'rasaudauthor': 10335, '11:15': 10336, 'vermilion': 10337, 'BD': 10338, 'atl': 10339, 'moir': 10340, 'wiedem': 10341, 'rooftop': 10342, 'gnwt': 10343, 'hypnot': 10344, 'cranberri': 10345, 'cachet': 10346, \"'S\": 10347, 'ibliz': 10348, 'useless': 10349, 'bark': 10350, 'strongest': 10351, 'XP': 10352, 'fdx': 10353, '@_reddevil4life_': 10354, 'renew': 10355, '1970': 10356, '11:03': 10357, 'agree.sh': 10358, 'hottest': 10359, 'beep': 10360, 'SP': 10361, 'structur': 10362, 'TO': 10363, 'icemoon': 10364, 'wholesal': 10365, 'kurd': 10366, 'sale': 10367, 'everythign': 10368, 'parol': 10369, 'thruuu': 10370, 'defensenews.comu': 10371, '0epiphani': 10372, 'ghanem': 10373, 'wenger': 10374, 'overpow': 10375, 'wololo': 10376, '4.67': 10377, 'invas': 10378, 'ozz': 10379, 'suggest': 10380, 'holibob': 10381, 'life-threaten': 10382, 'pkadlik': 10383, '1043': 10384, 'begun': 10385, 'smp': 10386, 'permut': 10387, 'trekker': 10388, 'gander': 10389, 'illog': 10390, 'shizun': 10391, 'willian': 10392, 'aggress': 10393, 'everyday': 10394, 'bridgeport': 10395, '1961': 10396, 'midi': 10397, 'jelli': 10398, 'pundit': 10399, 'ayatollah': 10400, 'spous': 10401, 'neck': 10402, '_vh': 10403, '_3': 10404, 'brace': 10405, 'old-timey': 10406, 'past': 10407, 'dopey': 10408, 'strand': 10409, 'ktfounder': 10410, 'waldo': 10411, '_sick': 10412, 'tree': 10413, 'flatlin': 10414, 'chartreus': 10415, 'rover': 10416, 'super': 10417, 'gift': 10418, 'access': 10419, 'gal': 10420, '5quot': 10421, 'warship': 10422, 'enforc': 10423, 'sunk-cost': 10424, 'bee': 10425, 'bentley': 10426, 'impair': 10427, 'behalf': 10428, 'edm': 10429, 'aesthet': 10430, '_k': 10431, 'smother': 10432, 'auth': 10433, 'wht': 10434, 'retire': 10435, 'hrsto': 10436, 'coinflip': 10437, '1978': 10438, 'nusrah': 10439, 'dlh': 10440, 'teen': 10441, 'privat': 10442, '27jst': 10443, 'peacetim': 10444, 'hm': 10445, 'funtenna': 10446, 'definit': 10447, 'pokemon': 10448, 'GP': 10449, 'weightless': 10450, 'holmdel': 10451, 'camera': 10452, 'aussi': 10453, 'ashen': 10454, 'slix': 10455, 'psp': 10456, 'inject': 10457, 'soulja': 10458, 'hindsight': 10459, 'threaten': 10460, 'lite': 10461, 'neither': 10462, 'lookg': 10463, 'flood--rainstorm': 10464, 'jack': 10465, 'doug': 10466, 'loft': 10467, 'floorboard': 10468, 'kyli': 10469, 'clueless': 10470, 'former': 10471, '2ndabndiv': 10472, 'korzhonov': 10473, 'portabl': 10474, 'deadpool': 10475, 'dfr': 10476, 'explosives-pack': 10477, 'naemolgo': 10478, 'debat': 10479, 'ulcer': 10480, 'lord': 10481, 'damp': 10482, 'smoki': 10483, 'isi': 10484, '_anynam': 10485, 'anti-frack': 10486, 'ghul': 10487, 'decapit': 10488, 'worseit': 10489, 'helen': 10490, 'muffl': 10491, 'rebecca': 10492, 'appear': 10493, 'samel_samel': 10494, 'furnitur': 10495, 'cue': 10496, 'mrc': 10497, 'bankruptci': 10498, 'pedagogi': 10499, 'websit': 10500, 'buren': 10501, 'traci': 10502, 'compromis': 10503, '86': 10504, 'elm': 10505, '2day': 10506, 'bone': 10507, 'oper': 10508, 'dew': 10509, 'contractor': 10510, 'josh': 10511, 'aberdeen': 10512, 'grrrr': 10513, 'crunchi': 10514, 'monoton': 10515, 'unlimit': 10516, 'cosmet': 10517, 'duck': 10518, 'cap': 10519, 'nester': 10520, 'citat': 10521, 'missouri': 10522, 'asx': 10523, 'static': 10524, 'csx': 10525, 'swingman': 10526, 'brockton': 10527, 'shld': 10528, 'debri': 10529, 'william': 10530, 'taguatinga': 10531, '33333': 10532, 'mcconnel': 10533, 'magic': 10534, '495': 10535, 'dhsscitech': 10536, 'cod': 10537, 'alli': 10538, 'vital': 10539, 'threesom': 10540, 'excis': 10541, '32': 10542, 'lith': 10543, '911health': 10544, 'thousand': 10545, 'spec': 10546, 'mazda': 10547, 'charm': 10548, 'antebellum': 10549, '75k': 10550, 'gordon': 10551, 'osbourn': 10552, 'rapper': 10553, '1pick': 10554, 'ce': 10555, 'majesti': 10556, 'ûótech': 10557, 'trailer': 10558, 'neutron': 10559, 'toward': 10560, 'shortest': 10561, 'penetr': 10562, 'multidim': 10563, 'BU': 10564, 'trail': 10565, 'brant': 10566, 'jeepåêsunk': 10567, 'punk': 10568, 'gameplay': 10569, 'russia-ukrain': 10570, 'southdown': 10571, '_waow': 10572, 'adariu': 10573, 'yep': 10574, 'darwin': 10575, 'auto-mechan': 10576, 'dull': 10577, 'controversi': 10578, 'which': 10579, '06jst': 10580, 'shia': 10581, 'aborigin': 10582, 'intact': 10583, 'UV': 10584, 'pope': 10585, 'okinawan': 10586, 'union': 10587, 'consol': 10588, 'contradictori': 10589, 'redskin': 10590, 'jimin': 10591, 'readi': 10592, 'choppa': 10593, 'satisfact': 10594, 'bumpin': 10595, 'kung': 10596, 'embra': 10597, 'conting': 10598, 'netnewsledg': 10599, 'sunshin': 10600, 'reno': 10601, 'weep': 10602, 'qnh': 10603, '2392883': 10604, 'six': 10605, 'fuckface.com': 10606, 'crockeri': 10607, 'kenji': 10608, 'edmond': 10609, 'lownd': 10610, 'susp': 10611, 'hip': 10612, 'butterlondon': 10613, 'MI': 10614, 'arthriti': 10615, 'compon': 10616, 'hvi': 10617, 'concur': 10618, 'paxton': 10619, 'bigåêconsequ': 10620, 'magne-tract': 10621, 'pres.bad': 10622, 'surgeon': 10623, 'ember': 10624, 'entri': 10625, 'kakeru': 10626, 'repres': 10627, '#09': 10628, 'inciweb': 10629, 'relentless': 10630, 'champaign': 10631, 'run': 10632, '_polic': 10633, 'fold': 10634, 'ûòthe': 10635, 'beit': 10636, 'movement': 10637, 'smartphon': 10638, 'minu': 10639, 'staci': 10640, 'goofbal': 10641, 'hem': 10642, 'misogyni': 10643, 'falcon': 10644, 'tore': 10645, 'ehek': 10646, 'juici': 10647, 'antonio': 10648, 'dogger': 10649, 'wi-fi': 10650, 'templat': 10651, '2007': 10652, 'centr': 10653, 'show': 10654, 'space': 10655, 'resqu': 10656, 'bateman': 10657, 'PD': 10658, 'netanyahu': 10659, 'riddler': 10660, 'town': 10661, 'mophem': 10662, 'greec': 10663, 'decis': 10664, 'firebeatz': 10665, '4state': 10666, 'engin': 10667, 'tray': 10668, 'jessica': 10669, 'å_': 10670, 'emv': 10671, 'fuckboy': 10672, 'reus': 10673, 'vassalboro': 10674, 'great': 10675, 'korean': 10676, 'alarm': 10677, 'photoshop': 10678, 'hyderabad': 10679, 'mfi': 10680, 'anthelmint': 10681, 'pro-democraci': 10682, 'mari': 10683, 'senat': 10684, 'waianapanapa': 10685, 'feet': 10686, '_enbot': 10687, 'mataa': 10688, \"wind-it'\": 10689, 'much': 10690, 'notificationsu': 10691, 'implic': 10692, 'pleeeas': 10693, 'wit': 10694, '_post': 10695, 'london': 10696, 'penalti': 10697, 'hom': 10698, '4got': 10699, 'lover': 10700, 'hillarymass': 10701, 'pedro': 10702, 'giveaway': 10703, 'gard': 10704, '117': 10705, 'sinjar': 10706, 'acr': 10707, '_e': 10708, 'financi': 10709, 'split': 10710, 'libya': 10711, 'auto-bodi': 10712, 'gpv': 10713, 'pars': 10714, 'r21': 10715, 'burn': 10716, 'priest': 10717, 'sif': 10718, 'sara': 10719, 'lower': 10720, 'appercept': 10721, 'primari': 10722, 'socialist': 10723, 'clad': 10724, 'riot': 10725, 'fifteen': 10726, '_niketown': 10727, 'wont': 10728, 'veil': 10729, 'russia': 10730, 'knew': 10731, '500th': 10732, 'doe': 10733, 'prompt': 10734, 'programm': 10735, 'church': 10736, 'revolv': 10737, 'xbox': 10738, 'rivalri': 10739, 'doco': 10740, 'howev': 10741, 'mid-south': 10742, '26_rfc': 10743, 'ST': 10744, 'rapidli': 10745, 'fals': 10746, 'stern': 10747, 'lattic': 10748, 'tactic': 10749, 'iceland': 10750, 'awhil': 10751, 'simplifi': 10752, 'caravan': 10753, 'sleigh': 10754, 'lzk': 10755, 'front': 10756, 'douchebag': 10757, 'manag': 10758, 'stardat': 10759, 'hr': 10760, 'perez': 10761, 'bsg': 10762, '_mcguir': 10763, 'user': 10764, 'A3': 10765, '945hpa': 10766, 'infam': 10767, 'iplay': 10768, 'niamh': 10769, 'bud': 10770, 'hymn': 10771, 'bottl': 10772, 'gateau': 10773, 'jun': 10774, '*': 10775, 'unexercis': 10776, 'nece': 10777, 'marxism': 10778, 'RD': 10779, 'deadliest': 10780, 'w': 10781, '2:20': 10782, 'seiz': 10783, 'knockout': 10784, 'jyb': 10785, 'rash': 10786, 'humboldt': 10787, '_mcfen': 10788, 'mag': 10789, 'roster': 10790, 'origin': 10791, 'counter-terror': 10792, 'footwear': 10793, 'josi': 10794, 'landmark': 10795, 'mitt': 10796, 'locat': 10797, 'hilton': 10798, 't34': 10799, 'terrorist.bstrd': 10800, 'kany': 10801, 'infantryman': 10802, 'philip': 10803, 'rape': 10804, 'cuff': 10805, 'tap': 10806, '_blaz': 10807, 'taint': 10808, 'busti': 10809, 'librari': 10810, 'ndp': 10811, 'wouldn': 10812, 'codes.structur': 10813, 'cri': 10814, 'yeah': 10815, 'microlight': 10816, 'horizon': 10817, 'column': 10818, 'ireport': 10819, 'minim': 10820, 'nothin': 10821, 'poor': 10822, '22': 10823, 'ministri': 10824, 'canadian': 10825, 'research': 10826, 'accord': 10827, 'asswip': 10828, 'spså': 10829, 'ethiopia': 10830, 'ungodli': 10831, 'handcuf': 10832, 'nobel': 10833, 'hasil': 10834, 'mill': 10835, 'pageshi': 10836, 'racer': 10837, 'vic': 10838, 'UK': 10839, '_event': 10840, 'cosima': 10841, 'advanc': 10842, '30m': 10843, 'portion': 10844, '5': 10845, 'lujo': 10846, 'architect': 10847, 'patrol': 10848, 'kosher': 10849, 'iof': 10850, 'bell': 10851, 'no-sport': 10852, 'wii': 10853, 'blackburn': 10854, '_hoffman96': 10855, 'labor': 10856, 'graveyard': 10857, 'guimara': 10858, '20': 10859, 'broadcast': 10860, 'hua': 10861, 'puppi': 10862, 'transcend': 10863, 'merci': 10864, 'x': 10865, 'bt': 10866, 'slice': 10867, 'gameofkitten': 10868, 'lto': 10869, 'ûªve': 10870, ':P': 10871, 'wand': 10872, '[': 10873, 'sow': 10874, '7chicago': 10875, 'agreement': 10876, '2pm': 10877, 'birth': 10878, '450': 10879, 'fecal': 10880, 'ûïburn': 10881, 'hell': 10882, 'marr': 10883, 'acquiesc': 10884, 'dickson': 10885, '030/6': 10886, '007': 10887, '2112': 10888, 'hotter': 10889, 'circumst': 10890, 'confeder': 10891, 'kendal': 10892, '_canin': 10893, 'gnocchi': 10894, 'childhood': 10895, 'typo': 10896, 'dnt': 10897, 'dgm': 10898, 'beach': 10899, 'youku': 10900, 'rt_com': 10901, 'draft': 10902, 'foreign': 10903, 'maci': 10904, 'settlement': 10905, 'guard': 10906, 'direct': 10907, 'civil': 10908, 'sketchbook': 10909, 'setanta': 10910, 'abrianna': 10911, 'typographi': 10912, 'skyler': 10913, '_sltv': 10914, 'cleanup': 10915, 'ala': 10916, 'jkl': 10917, '200.00': 10918, ':-d': 10919, 'pow': 10920, 'streamlin': 10921, 'juic': 10922, 'asian': 10923, 'reid': 10924, 'prkng': 10925, 'hindu': 10926, 'region': 10927, 'no-on': 10928, 'fatima': 10929, 'mo': 10930, 'improv': 10931, 'volatil': 10932, 'thinkin': 10933, 'stockwel': 10934, 'thee': 10935, 'mullin': 10936, 'seren': 10937, 'whitbourn': 10938, 'phandom': 10939, 'lesbian': 10940, '20k': 10941, 'speed': 10942, '_M': 10943, 'oh': 10944, 'chattanooga': 10945, 'kamayani': 10946, '_T': 10947, '_4u': 10948, 'arc': 10949, 'narr': 10950, '_chick': 10951, 'panay': 10952, 'sort': 10953, 'soni': 10954, 'urib': 10955, 'blvd': 10956, 'el': 10957, 'bayelsa': 10958, 'sub': 10959, 'chase': 10960, 'sheet': 10961, '_114': 10962, 'huebel': 10963, 'harden': 10964, 'tak': 10965, 'oversight': 10966, 'there': 10967, 'hunhri': 10968, 'patch': 10969, 'orchid': 10970, 'vector': 10971, 'volleybal': 10972, 'unsens': 10973, 'pari': 10974, 'brunett': 10975, 'strangers-blkwht-from': 10976, 'david': 10977, 'meter': 10978, 'e-bik': 10979, 'anomali': 10980, '_bartlett': 10981, 'busin': 10982, 'makeup': 10983, 'cafe': 10984, 'mypillowstudio': 10985, 'noel': 10986, 'save': 10987, 'telli': 10988, 'airstrik': 10989, 'class': 10990, 'passeng': 10991, 'zimmer': 10992, '9': 10993, 'smack': 10994, '4th': 10995, '4.4': 10996, 'stockton': 10997, 'surfac': 10998, 'minutia': 10999, 'smell': 11000, 'jhmnye': 11001, 'neighborhood': 11002, 'sweep': 11003, '80ft': 11004, '1907': 11005, 'vote': 11006, 'roomr': 11007, 'argument': 11008, 'nyt': 11009, 'inventori': 11010, 'dinah': 11011, '_x_music': 11012, 'yarbrough': 11013, 'byrn': 11014, 'mild-mann': 11015, 'woulda': 11016, 'tiffanyfrizzel': 11017, 'msf': 11018, 'reap': 11019, 'damascu': 11020, 'vike': 11021, 'paperwork': 11022, 'greet': 11023, 'spaceshiptwo': 11024, 'draenor': 11025, 'arrang': 11026, 'gone': 11027, 'author': 11028, 'gener': 11029, 'rioter': 11030, 'microphon': 11031, 'coastguard': 11032, '52k': 11033, '5000': 11034, 'art': 11035, 'sunburst': 11036, 'airhorn': 11037, '©': 11038, 'nuu': 11039, '01:11': 11040, 'later': 11041, 'corner': 11042, 'llegast': 11043, 'heir': 11044, 'midsumm': 11045, '73km': 11046, 'ngata': 11047, 'visit': 11048, 'tuesday': 11049, 'cbc.ca': 11050, 'mma': 11051, 'policemen': 11052, 'BE': 11053, 'ibeto': 11054, 'cnua': 11055, 'rajman': 11056, 'ass': 11057, 'domest': 11058, 'greink': 11059, 'afrin': 11060, 'dtb': 11061, 'ktchn': 11062, 'written': 11063, 'delmont': 11064, '1969 9847': 11065, 'withdraw': 11066, 'steadi': 11067, 'belter': 11068, 'denial': 11069, 'anq': 11070, 'duke': 11071, 'carpool': 11072, 'recruit': 11073, 'shake': 11074, 'cleric': 11075, 'gif': 11076, 'ha': 11077, 'undeserv': 11078, '1946': 11079, 'stoni': 11080, '7:12': 11081, 'hakogaku': 11082, 'pm': 11083, 'util': 11084, 'magnitud': 11085, 'imperi': 11086, 'favourit': 11087, 'surgeri': 11088, 'tomato': 11089, 'lost': 11090, 'x-post': 11091, 'unu': 11092, 'boarder': 11093, 'extens': 11094, 'amateur': 11095, 'divin': 11096, 'market': 11097, 'kind': 11098, 'until': 11099, 'stem': 11100, 'duckvillelol': 11101, 'buff': 11102, 'bummer': 11103, 'okanowa': 11104, 'rogan': 11105, 'joint': 11106, 'golfbal': 11107, 'sanford': 11108, 'qzloremft': 11109, 'chadbourn': 11110, 'chieftain': 11111, 'mtr': 11112, 'srk': 11113, '1.94': 11114, 'marvin': 11115, 'indonesia': 11116, 'babal': 11117, 'uvopwz': 11118, 'around': 11119, 's2g': 11120, 'tapa': 11121, '@90sangelicmalik': 11122, '2u': 11123, 'cast': 11124, 'hapa': 11125, 'odai': 11126, 'loop': 11127, 'vanilla': 11128, 'gazett': 11129, 'littl': 11130, 'battleship': 11131, 'scalabrin': 11132, 'project': 11133, 'sudden': 11134, 'repopul': 11135, 'irrelev': 11136, 'kiki': 11137, 'matic': 11138, 'jst': 11139, 'piga': 11140, 'eighth': 11141, 'tape': 11142, 'susi': 11143, 'suffield': 11144, 'underwrit': 11145, 'calumet': 11146, 'lisp': 11147, 'western': 11148, 'donington': 11149, 'entryway': 11150, 'frog': 11151, 'pugwash': 11152, 'gaymaro': 11153, 'propan': 11154, 'umntu': 11155, 'gospel': 11156, 'everywher': 11157, 'swiftli': 11158, 'collis': 11159, 'goulburn': 11160, 'hurl': 11161, 'schemat': 11162, 'administ': 11163, 'morality-zion': 11164, 'rona': 11165, 'rsx': 11166, 'hector': 11167, 'guatemala': 11168, 'higher': 11169, 'rite': 11170, 'tirelessli': 11171, 'health': 11172, '_staub': 11173, 'bobcat': 11174, 'ûókill': 11175, 'oppa': 11176, 'tink': 11177, '2296': 11178, 'wintergreen': 11179, 'ukrainian': 11180, 'villain': 11181, 'i405': 11182, 'profit': 11183, '#3novic': 11184, 'nooooo': 11185, 'iowa': 11186, '1/2': 11187, 'widespread': 11188, 'renison': 11189, 'irrespect': 11190, 'hiram': 11191, 'against': 11192, '_wolf_': 11193, 'brand': 11194, 'airhead': 11195, 'four': 11196, 'misfortunebut': 11197, 'wind-mi': 11198, 'rel': 11199, 'rub': 11200, 'fadc': 11201, 'assad': 11202, 'crowchild': 11203, '09:39': 11204, 'kcrw': 11205, 'laptop': 11206, 'divers': 11207, 'costlier': 11208, 'voslooru': 11209, '999': 11210, 'non-pow': 11211, 'lanjut': 11212, 'jeff': 11213, '3ph007': 11214, 'certifi': 11215, '-04:00': 11216, 'sentenc': 11217, 'croydon': 11218, 'forgotten': 11219, 'haley': 11220, 'northeast': 11221, 'alwsl': 11222, 'wors': 11223, ';)': 11224, '+': 11225, 'plenti': 11226, 'proclaim': 11227, 'horribl': 11228, 'wealthi': 11229, 'gorgeou': 11230, 'purs': 11231, 'whoop': 11232, 'akfnejf': 11233, 'gmail': 11234, '_rideout': 11235, 'multiplay': 11236, '_music': 11237, '=(': 11238, 'cameroon': 11239, 'splattl': 11240, 'yougov': 11241, 'both': 11242, 'tecno': 11243, 'realist': 11244, 'lez': 11245, 'potato': 11246, \"c'est\": 11247, 'madhya': 11248, 'half-nak': 11249, 'asir': 11250, 'mortal': 11251, 'shelbi': 11252, 'mate': 11253, 'rand': 11254, 'bruis': 11255, 'iredel': 11256, 'all-in': 11257, '6/2015': 11258, 'those': 11259, 'rotat': 11260, '90th': 11261, '24/7': 11262, 'app': 11263, 'serial': 11264, 'sooooo': 11265, '6:30': 11266, 'slower': 11267, 'more--osha': 11268, 'parker': 11269, 'bowman': 11270, 'minecraft': 11271, '7amdollela': 11272, 'arceen': 11273, 'big-tent': 11274, 'jen': 11275, '8sandscrim': 11276, '_justu': 11277, 'horrifi': 11278, 'carr': 11279, 'upheav': 11280, 'åêm': 11281, 'that': 11282, 'sugg': 11283, 'lumpur': 11284, 'ashton': 11285, 'sanitis': 11286, 'humphrey': 11287, 'natalia': 11288, '4.6': 11289, 'pin': 11290, 'beatdown': 11291, 'ought': 11292, 'sleeper': 11293, 'anatom': 11294, 'warrant': 11295, 'laighign': 11296, 'nashvil': 11297, 'nois': 11298, 'newåêheight': 11299, 'oceanåê': 11300, 'bernardino': 11301, 'EU': 11302, 'franklin': 11303, '_co': 11304, 'math': 11305, 'keeper': 11306, 'sportwatch': 11307, 'a': 11308, 'here': 11309, '_nation': 11310, 're-enslav': 11311, 'cloudi': 11312, '@_chelsdelong12': 11313, 'option': 11314, 'yhngsjlg': 11315, 'vaccin': 11316, 'foxsportscom': 11317, 'sfa': 11318, 'savag': 11319, 'jfc': 11320, 'arnhem': 11321, 'multidimension': 11322, 'tat': 11323, 'huffington': 11324, 'steamrol': 11325, 'reunit': 11326, 'oamsgajagahahah': 11327, 'pair': 11328, 'beef': 11329, 'dome': 11330, 'decal': 11331, 'tulsa': 11332, 'peen': 11333, 'proven': 11334, 'lynchburg': 11335, 'metro': 11336, 'jenna': 11337, 'ess': 11338, 'bmx': 11339, 'rubberi': 11340, 'bute': 11341, 'sk398': 11342, 'co-star': 11343, 'shark': 11344, 'courier': 11345, 'trafford': 11346, 'alil': 11347, 'grape': 11348, 'purpos': 11349, 'sensor': 11350, 'silo': 11351, 'reef': 11352, 'stylish': 11353, 'water': 11354, '#8392': 11355, 'someday': 11356, 'mariah': 11357, 'porn': 11358, '@1': 11359, 'trixie_drown': 11360, 'kamper': 11361, 'nabard': 11362, 'boston': 11363, 'scott': 11364, 'fte': 11365, 'glitter': 11366, 'nagaski': 11367, 'jazz': 11368, 'ricki': 11369, 'FD': 11370, 'amen': 11371, 'ayyo': 11372, 'patrickjbutl': 11373, 'kindlng': 11374, '_thegoon': 11375, '#20150613': 11376, 'worri': 11377, 'westmarch': 11378, 'billow': 11379, 'melodyjkt': 11380, 'Z': 11381, 'cuf': 11382, 'lpdkl': 11383, '1919': 11384, '19000': 11385, 'ppl': 11386, 'sheath': 11387, 'subject': 11388, 'thru': 11389, 'hall': 11390, 'maui': 11391, 'mall': 11392, 'drag': 11393, 'farther': 11394, 'africa': 11395, 'dub': 11396, 'follow': 11397, 'toni': 11398, 'fast': 11399, 'curli': 11400, '#7294': 11401, 'funko': 11402, 'dab': 11403, 'nrc': 11404, 'memphi': 11405, 'carl': 11406, 'toll': 11407, 'cin': 11408, 'softenza': 11409, 'attila': 11410, '_wynn3': 11411, 'cring': 11412, 'rep': 11413, 'ensembl': 11414, 'latin': 11415, 'turbin': 11416, 'pleasant': 11417, 'inning': 11418, '_r_knox': 11419, '4new': 11420, 'equip': 11421, 'pigeon': 11422, 'wy': 11423, 'rebirth': 11424, 'exit': 11425, 'wizard': 11426, 'stan': 11427, '_teapot': 11428, 'mezcal': 11429, 'coz': 11430, 'actin': 11431, 'miller': 11432, '65': 11433, 'mkx': 11434, 'nit': 11435, 'pioneer': 11436, 'willi': 11437, 'johannesburg': 11438, '5:30': 11439, 'skinni': 11440, 'gisel': 11441, 'hebron': 11442, '1/3': 11443, 'ep03': 11444, 'norton': 11445, '4wd': 11446, 'gianni': 11447, 'as10004': 11448, 'hungri': 11449, 'surah': 11450, 'skin': 11451, 'ella': 11452, 'tix': 11453, 'delta': 11454, 'bioterror': 11455, 'lore': 11456, '4-0': 11457, 'thu': 11458, '15000044153': 11459, 'hasbro': 11460, 'meanwhil': 11461, 'narrowli': 11462, 'newspap': 11463, 'a-bomb': 11464, 'pita': 11465, 'usat': 11466, 'pasco': 11467, 'recoveri': 11468, 'aimlessli': 11469, 'chane': 11470, 'within': 11471, 'apiec': 11472, \"'D\": 11473, 'wolverin': 11474, 'kfc': 11475, 'soggi': 11476, 'chaco': 11477, 'newser': 11478, 'taungbazar': 11479, 'ryt': 11480, 'solano': 11481, 'mop': 11482, 'patrick': 11483, 'pacquiao': 11484, 'asid': 11485, 'coquitlam': 11486, 'ser': 11487, 'JK': 11488, '5/15': 11489, 'utilis': 11490, 'needless': 11491, 'univers': 11492, 'sea': 11493, 'electro': 11494, 'tribal': 11495, 'reflect': 11496, 'republican': 11497, 'nick': 11498, 'nitti': 11499, 'engl': 11500, 'rower': 11501, 'time-laps': 11502, 'forsyth': 11503, 'heavenli': 11504, 'tyron': 11505, 'crest': 11506, 'shootn': 11507, 'ounc': 11508, 'yaound': 11509, 'pre-sinkhol': 11510, 'sugar': 11511, 'journo': 11512, 'LU': 11513, '_tsunami': 11514, 'chromebook': 11515, 'piggi': 11516, 'arsen': 11517, 'blast': 11518, '_sacramento': 11519, 'wafer-thin': 11520, 'walerga': 11521, 'goof': 11522, 'yeda': 11523, 'wayward': 11524, 'famou': 11525, 'shear': 11526, 'java': 11527, 'nbanew': 11528, 'jennif': 11529, 'stood': 11530, 'just': 11531, 'ks315': 11532, '582': 11533, 'whipe': 11534, 'irwin': 11535, '5/8': 11536, 'frost': 11537, 'testimoni': 11538, 'ipok': 11539, 'fedex': 11540, 'plez': 11541, 'webinar': 11542, 'happi': 11543, 'person': 11544, 'pie': 11545, '_atlay': 11546, '08/02': 11547, 'midwest': 11548, 'ira': 11549, 'bowel': 11550, '786': 11551, 'folder': 11552, 'castel': 11553, 'sail': 11554, 'slay': 11555, 'nyc': 11556, 'instinct': 11557, 'jiwa': 11558, 'Û_': 11559, 'im': 11560, 'ûïlittl': 11561, 'sittway': 11562, 'unload': 11563, 'dr': 11564, 'prosper': 11565, 'strength': 11566, 'concret': 11567, 'greedi': 11568, '_kurier': 11569, '_4': 11570, 'pheonix': 11571, 'lmk': 11572, 'alex': 11573, '_i_am': 11574, 'architectur': 11575, '7/29': 11576, 'uve': 11577, 'ofcours': 11578, 'hint': 11579, 'blind': 11580, 'KY': 11581, 'wrinkl': 11582, 'raynor': 11583, 'piti': 11584, 'philippin': 11585, 'aftermath': 11586, 'spectrum': 11587, 'bullsey': 11588, 'anxiou': 11589, 'humili': 11590, '2.5': 11591, 'bebacksoon': 11592, 'redo': 11593, 'åáåáåá': 11594, 'ajw': 11595, 'skirt': 11596, 'ûïif': 11597, 'hickori': 11598, 'strut': 11599, 'snort': 11600, 'bask': 11601, 'billion-dollar': 11602, 'near-fat': 11603, 'tea': 11604, 'run-in': 11605, 'wild-look': 11606, 'spsgsp': 11607, '_28': 11608, 'artifact': 11609, 'regc': 11610, 'TR': 11611, 'isaiah': 11612, 'equat': 11613, 'cover-up': 11614, 'stare': 11615, 'pam': 11616, 'fitz': 11617, 'stuck': 11618, 'nostril': 11619, '4.2': 11620, 'jacksonvil': 11621, 'c-list': 11622, 'luckili': 11623, 'soak': 11624, 'rbpk': 11625, '£': 11626, 'harass': 11627, '@5sosglobalsquad': 11628, 'ant': 11629, 'agw': 11630, 'afrikaan': 11631, 'jpii': 11632, 'olath': 11633, 'compulsori': 11634, '_singh': 11635, 'sidelin': 11636, '50mix': 11637, 'individu': 11638, 'possibl': 11639, 'recap': 11640, 'hotepina': 11641, 'lulu': 11642, 'oth': 11643, 'prime': 11644, 'policyhold': 11645, 'first-ev': 11646, 'clico': 11647, 'oct': 11648, '0nking0201': 11649, 'chronicl': 11650, 'eboni': 11651, 'artwork': 11652, 'yeh': 11653, 'crew': 11654, 'nnw': 11655, 'forreal': 11656, 'affili': 11657, 'walker': 11658, 'homepag': 11659, 'lamarcu': 11660, 'abt': 11661, 'ploppi': 11662, 'stalin': 11663, 'PP': 11664, 'timelaps': 11665, 'earner': 11666, 'bellerin': 11667, 'epsom': 11668, 'leicester_merc': 11669, 'righteou': 11670, '_mp': 11671, 'metallica': 11672, 'flee': 11673, 'hundr': 11674, 'genocid': 11675, 'ladin': 11676, 'partial': 11677, 'N': 11678, 'less': 11679, '3dc': 11680, 'congrat': 11681, 'uber': 11682, 'scam': 11683, 'chines': 11684, 'prayer': 11685, '1dtour': 11686, 'justin': 11687, 'kitchen': 11688, 'materi': 11689, 'drought.check': 11690, 'wce': 11691, 'osp': 11692, 'elvia': 11693, '1179': 11694, 'manuel': 11695, 'throughout': 11696, 'poverti': 11697, '94': 11698, 'tlvface': 11699, 'hillsid': 11700, 'heartwarm': 11701, '=/': 11702, 'signal': 11703, 'fr': 11704, 'farmer': 11705, 'biryani': 11706, 'LT': 11707, 'x1411': 11708, 'highest': 11709, 'destroy': 11710, 'ûókaiserjaeg': 11711, 'relief': 11712, 'combin': 11713, '12hr': 11714, 'richi': 11715, 'lender': 11716, 'scienc': 11717, 'foragesecret': 11718, 'authoritarian': 11719, 'qave': 11720, '18:00': 11721, 'half-hr': 11722, 'downstair': 11723, 'laden': 11724, 'bleacher': 11725, 'latino': 11726, 'sander': 11727, 'monument': 11728, 'notic': 11729, 'plung': 11730, 'powder': 11731, 'pocket': 11732, 'elijah': 11733, 'sparxxx': 11734, 'whimsi': 11735, 'a283': 11736, 'mebeat': 11737, 'plymouth': 11738, '1983': 11739, 'microsoft': 11740, 'NR': 11741, '8km': 11742, 'fall': 11743, 'briliantli': 11744, 'xD': 11745, 'student': 11746, 'six-met': 11747, 'goddamn': 11748, 'hungrier': 11749, 'mistress': 11750, 'versu': 11751, '_loyko': 11752, 'weaponri': 11753, 'sanctuari': 11754, 'highland': 11755, 'aogashima': 11756, 'estu': 11757, 'wamber': 11758, 'feat': 11759, 'hookier': 11760, 'micom': 11761, '_babe': 11762, 'rossum': 11763, 'lunat': 11764, 'ignor': 11765, 'busta': 11766, 'junction': 11767, '_star39': 11768, 'flynn': 11769, '5C': 11770, 'rascal': 11771, 'tlc': 11772, 'dublin': 11773, '_mugabi': 11774, 'S5': 11775, 'trueli': 11776, 'surf': 11777, 'capsiz': 11778, 'trunk': 11779, '52611': 11780, 'wer': 11781, 'carlo': 11782, 'tagliatel': 11783, 'wal-mart': 11784, 'emi': 11785, 'newbi': 11786, 'ncm': 11787, 'piano': 11788, 'cramer': 11789, 'pak.they': 11790, 'you': 11791, 'least': 11792, 'meg': 11793, 'shaolin': 11794, 'cheek': 11795, 'ostens': 11796, 'hook': 11797, 'ibom': 11798, 'khalil': 11799, 'overr': 11800, 'negoti': 11801, 'vape': 11802, 'away': 11803, 'hurt': 11804, 'right': 11805, 'devalu': 11806, '313': 11807, 'ahahahga': 11808, 'lexington': 11809, 'AR': 11810, 'telegraph': 11811, 'chandrababu': 11812, 'speedtech': 11813, 'needl': 11814, 'face': 11815, 'fat-burn': 11816, 'x1435': 11817, 'transport': 11818, 'disaster-rel': 11819, 'turban': 11820, '_me_up_guk': 11821, 'tangl': 11822, 'virtu': 11823, 'breath': 11824, 'unto': 11825, '419-3': 11826, 'lumbar': 11827, 'invinc': 11828, 'westminist': 11829, 'fund': 11830, 'elk': 11831, 'refer': 11832, 'circl': 11833, 'sharif': 11834, 'i10': 11835, 'neg': 11836, 'khrone': 11837, '_brooksi': 11838, 'sticker': 11839, 'obsess': 11840, 'asf': 11841, 'pancak': 11842, 'inevit': 11843, '#365disast': 11844, 'moan': 11845, '10/1': 11846, 'filler': 11847, 'cd': 11848, 'felon': 11849, 'mishap': 11850, 'moi': 11851, 'overpr': 11852, 'che': 11853, '4japan': 11854, 'negat': 11855, '08:02': 11856, 'helio': 11857, 'evil': 11858, '750k': 11859, '201': 11860, 'marian': 11861, 'ermac': 11862, 'gulfport': 11863, 'satur': 11864, 'hunk': 11865, 'sign': 11866, 'terrenc': 11867, 'waggon': 11868, '_vodka': 11869, 'pipelin': 11870, 'organis': 11871, 'bliss': 11872, '08:00': 11873, 'womb': 11874, 'sex': 11875, '_njoki': 11876, 'punctur': 11877, 'usag': 11878, 'daughter': 11879, 'ten': 11880, 'DO': 11881, 'x1386': 11882, 'pple': 11883, '_stclair': 11884, 'retract': 11885, 'û_t-school-land': 11886, ':/': 11887, 'listenl': 11888, 'specimen': 11889, 'onr': 11890, 'wrapup': 11891, '_micallef': 11892, 'ûïeven': 11893, 'breather': 11894, 'revers': 11895, 'i': 11896, 'wtm': 11897, '133': 11898, '2008': 11899, 'crave': 11900, 'delus': 11901, 'rt_america': 11902, 'actor': 11903, '92-93': 11904, 'swanger': 11905, 'amazin': 11906, 'ÛÒ': 11907, 'hunchback': 11908, 'rmt': 11909, 'lab': 11910, 'pikin': 11911, '917-141': 11912, 'transporta': 11913, '118': 11914, 'gat': 11915, 'circu': 11916, 'x1421': 11917, 'zhejiang': 11918, 'fatal.it': 11919, 'golan': 11920, 'shadowflam': 11921, '40': 11922, 'crystal': 11923, 'yh': 11924, 'serb': 11925, 'zzzz': 11926, 'sioux': 11927, 'void': 11928, 'chulli': 11929, 'nkea': 11930, 'imeshika': 11931, 'eversaf': 11932, 'fckng': 11933, 'crashsterl': 11934, 'goodby': 11935, 'dinner': 11936, 'chemical-weapon': 11937, 'firstaid': 11938, 'quizz': 11939, 'candylit': 11940, 'subconsci': 11941, 'soundtrack': 11942, 'prosecut': 11943, 'endur': 11944, 'ibrahimov': 11945, 'pregnant': 11946, 'offlin': 11947, 'rude': 11948, 'ozil': 11949, 'doubt': 11950, 'colli': 11951, 'Ì': 11952, 'incheon': 11953, 'goodel': 11954, 'brinco': 11955, 'pasta': 11956, 'calmli': 11957, 'itinerari': 11958, '15:04': 11959, 'heavi': 11960, 'pleasantli': 11961, '_de': 11962, 'evac': 11963, '00:11': 11964, 'ahh': 11965, 'idk': 11966, 'copi': 11967, 'reunion': 11968, 'ear': 11969, 'heavyåêrain': 11970, 'lvg': 11971, 'voluntary-inciweb': 11972, 'hoke': 11973, 'humid': 11974, '2reduc': 11975, 'comfort': 11976, 'clutch': 11977, 'educ': 11978, '2015': 11979, 'liabl': 11980, 'gayåêman': 11981, '4month': 11982, 'sumo': 11983, 'someth': 11984, 'kiilud': 11985, 'lane': 11986, 'epl': 11987, 'severino': 11988, '_style': 11989, 'steep': 11990, 'dorett': 11991, 'sens': 11992, 'microchip': 11993, 'inspctkp': 11994, 'carmik': 11995, 'broth': 11996, 'km': 11997, 'encaust': 11998, 'taken': 11999, '11:30': 12000, 'voltaic': 12001, 'kith': 12002, 'piec': 12003, 'planner': 12004, 'albertan': 12005, 'firey': 12006, '_williamso': 12007, '_hurn': 12008, 'pitcher': 12009, 'scuf': 12010, 'sham': 12011, 'manor': 12012, 'saudiåêmosqu': 12013, 'rgj': 12014, 'reed': 12015, 'jihadi': 12016, 'below-the-mason-dixon-lin': 12017, 'cooool': 12018, '¢': 12019, 'rwi': 12020, 'scotiabank': 12021, 'celebr': 12022, 'hsu': 12023, 'cereal': 12024, 'mat': 12025, '300000': 12026, 'skyland': 12027, 'btm': 12028, 'soner': 12029, 'warthen': 12030, 'examin': 12031, 'shite': 12032, 'curvac': 12033, 'upward': 12034, 'cookbook': 12035, 'fragil': 12036, 'infiltr': 12037, '105': 12038, 'pre-born': 12039, '411naija': 12040, 'salvat': 12041, 'satellit': 12042, 'funer': 12043, 'tima': 12044, '395': 12045, 'precisionist': 12046, 'page': 12047, 'lyf': 12048, 'ci': 12049, 'nathaniel': 12050, 'cabramatta': 12051, 'think': 12052, 'dixon': 12053, 'spray': 12054, 'repuls': 12055, 'oppos': 12056, 'excel': 12057, 'bel-air': 12058, 'vassal': 12059, 'car-induc': 12060, 'cest': 12061, 'familyfriends.lot': 12062, 'farrakhan': 12063, 'vida': 12064, 'cedar': 12065, 'cuz': 12066, 'titl': 12067, 'though': 12068, '59': 12069, 'excus': 12070, '2-1-': 12071, 'TF': 12072, 'x-men': 12073, '_sea': 12074, 'absurdli': 12075, \"rts''democraci\": 12076, 'real': 12077, 'groin': 12078, 'decent': 12079, 'wait': 12080, 'lockdown': 12081, 'un': 12082, 'thread': 12083, 'loa': 12084, 'commoditiesåêar': 12085, 'scourgu': 12086, 'ramifi': 12087, 'ûïparti': 12088, 'hoo': 12089, 'burger': 12090, 'intersect': 12091, 'blanket': 12092, 'appetit': 12093, 'newer': 12094, '19yr': 12095, 'plate': 12096, 'lapaka': 12097, 'lanka': 12098, 'uniform': 12099, 'rio': 12100, 'softbal': 12101, 'raini': 12102, 'lure': 12103, '48åêhour': 12104, 'teeth': 12105, 'rid': 12106, 'ûïthi': 12107, 'vall': 12108, 'romanatwoodvlog': 12109, 'kpa': 12110, '_hunter762': 12111, 'estim': 12112, 'associ': 12113, 'solv': 12114, 'DQ': 12115, 'cartoon': 12116, 'GO': 12117, 'swime': 12118, 'dutch': 12119, 'whole': 12120, 'total': 12121, 'mlk': 12122, '2601': 12123, 'wtc': 12124, 'disrespect': 12125, 'mamata': 12126, '7:15': 12127, 'uh': 12128, 'increment': 12129, 'gmtti': 12130, 'hellfir': 12131, 'day-to-day': 12132, 'kurtkamka': 12133, 'travel': 12134, 'same': 12135, 'awar': 12136, 'dualcom': 12137, 'mariana': 12138, 'whini': 12139, 'zenit': 12140, 'loui': 12141, 'wildflow': 12142, 'fortun': 12143, 'watermelon': 12144, 'vulcan': 12145, 'global': 12146, 'hairdryer': 12147, 'cyclone-sama': 12148, 'noi': 12149, '_mike': 12150, 'childcar': 12151, 'blacken': 12152, '_uk': 12153, 'dancer': 12154, 'grandmoth': 12155, 'cliff': 12156, 'fwt': 12157, '6:52': 12158, 'type': 12159, '61': 12160, '_casey': 12161, 'toenail': 12162, 'sht': 12163, 'terwillig': 12164, 'bounti': 12165, 'vendor': 12166, 'jokin': 12167, 'involuntari': 12168, 'l': 12169, 'rag': 12170, 'broke': 12171, 'heller': 12172, 'cumberbatch': 12173, '_rosett': 12174, 'avail': 12175, 'map': 12176, 'mav': 12177, 'jrowah': 12178, 'ash': 12179, 'knight': 12180, 'hotboy': 12181, 'phalaborwa': 12182, '12v': 12183, 'european': 12184, 'demonstratio': 12185, 'bite-rel': 12186, 'commun': 12187, '#911': 12188, 'casualty-gray': 12189, 'aldwark': 12190, 'bulli': 12191, 'airplan': 12192, 'below': 12193, 'litter': 12194, 'multidimensi': 12195, 'hannah': 12196, 'onshit': 12197, 'grace': 12198, 'field': 12199, 'predat': 12200, 'inch': 12201, 'bhp': 12202, 'newest': 12203, 'visag': 12204, 'illusionimagess': 12205, 'dyersburg': 12206, 'ì¼sica': 12207, 'bolasi': 12208, 'rt': 12209, 'pci': 12210, 'mmmm': 12211, 'colombia': 12212, 'sibl': 12213, 'fotoset': 12214, '30a': 12215, 'gonna': 12216, 'tesco': 12217, 'fifteen-mile-high': 12218, 'dash': 12219, 'convert': 12220, 'lean': 12221, 'sonic': 12222, 'beast': 12223, 'graph': 12224, '_ben': 12225, 'vet': 12226, 'impli': 12227, 'ancient': 12228, 'hibern': 12229, 'dwight': 12230, 'komo': 12231, 'yell': 12232, '5:36': 12233, 'dracula': 12234, 'unavoid': 12235, 'lorri': 12236, 'tte': 12237, 'tampa': 12238, 'shortchang': 12239, 'submarin': 12240, '14': 12241, 'guardrail': 12242, 'fcking': 12243, 'unpredict': 12244, 'gestur': 12245, 'opposit': 12246, '54': 12247, '0.9': 12248, 'load': 12249, 'stew': 12250, 'DE': 12251, 'gregori': 12252, '@1outsid': 12253, 'meatbal': 12254, 'skate': 12255, 'croatian': 12256, '163': 12257, 'flash': 12258, 'concept': 12259, 'employ': 12260, 'decomposit': 12261, 'flake': 12262, 'parliamentari': 12263, 'heartland': 12264, 'fizzi': 12265, 'corrod': 12266, '_homasttopa': 12267, 'cptesco': 12268, 'assert': 12269, 'bihar': 12270, 'cuck': 12271, 'athlet': 12272, '6:08': 12273, 'illusoria': 12274, 'clarksvil': 12275, 'TL': 12276, 'mona': 12277, 'hey': 12278, 'logan': 12279, 'buffer': 12280, 'len': 12281, 'spam': 12282, 'bald': 12283, 'gag': 12284, 'omw': 12285, 'monopol': 12286, '2pc': 12287, 'comment': 12288, 'tighten': 12289, 'naayf': 12290, 'sevenfold': 12291, 'massiveåêflood': 12292, 'mri': 12293, 'dune': 12294, 'aftershock': 12295, 'droppd': 12296, '_ae': 12297, 'vashon': 12298, '2night': 12299, 'rch': 12300, 'macabr': 12301, 'episod': 12302, '5live': 12303, 'manzanita': 12304, 'dawg': 12305, 'talisman': 12306, 'belov': 12307, '3rd': 12308, 'lifeit': 12309, 'fellowship': 12310, 'harsh': 12311, 'kessler': 12312, 'bricktop': 12313, 'swollen': 12314, 'blockad': 12315, 'zix': 12316, '_last': 12317, '172.40': 12318, 'aaarrrgghhh': 12319, '@_edvinnn': 12320, 'baffl': 12321, 'rhyme': 12322, 'supervisor': 12323, 'gawlowski': 12324, 'rbi': 12325, 'franc': 12326, 'variou': 12327, 'infomerci': 12328, 'vlog': 12329, 'sell': 12330, 'beforeitsnew': 12331, 'bedtim': 12332, 'bokuto': 12333, 'wanna-b': 12334, 'thou': 12335, 'texian': 12336, 'in-stor': 12337, 'captiv': 12338, 'bbm': 12339, 'supremo': 12340, 'stationright': 12341, '66': 12342, 'full-blown': 12343, 'manåêarm': 12344, 'v-hull': 12345, 'fossil': 12346, 'areas-minor': 12347, 'norwalk': 12348, 'retreat': 12349, 'pakistani': 12350, 'salmon': 12351, 'layer': 12352, 'cpr': 12353, 'b1g': 12354, 'compani': 12355, 'introduct': 12356, 'gurion': 12357, 'hailstorm': 12358, 'touchdown': 12359, 'casey': 12360, 'sing': 12361, 'ûªdonnel': 12362, 'letter': 12363, 'sigu': 12364, 'border': 12365, 'fascin': 12366, 'bradford': 12367, 'carbondal': 12368, 'breh': 12369, 'grimrail': 12370, 'cross': 12371, '_ooc': 12372, 'goku': 12373, '2007he': 12374, 'nrc_middleeast': 12375, 'dvbb': 12376, 'wsvr': 12377, 'fugazzi': 12378, 'buhari': 12379, 'stefano': 12380, 'causat': 12381, 'unaddress': 12382, 'tariq': 12383, 'reliefweb': 12384, 'colorado': 12385, 'luka': 12386, '429cj': 12387, 'VS': 12388, 'goldstein': 12389, 'tablet': 12390, 'loved-up': 12391, 'pilot': 12392, 'yuppi': 12393, '_bang': 12394, 'tribun': 12395, 'ssw': 12396, 'overflow': 12397, 'bond': 12398, 'curd': 12399, 'releg': 12400, 'hate': 12401, 'baruch': 12402, 'click': 12403, 'devis': 12404, 'coun': 12405, 'ill': 12406, 'queenmi': 12407, 'rout': 12408, 'landi': 12409, 'dude': 12410, 'wrist': 12411, 'û_that': 12412, 'typhoon-devast': 12413, 'municip': 12414, 'ffvii': 12415, 'liter': 12416, 'unplug': 12417, 'afflict': 12418, 'metlif': 12419, 'ac': 12420, 'toddler': 12421, 'elgato': 12422, 'nepal': 12423, 'pineview': 12424, '1975': 12425, '15000270364': 12426, 'hipster': 12427, 'celeb': 12428, 'dozen': 12429, 'bless': 12430, '_warn': 12431, 'committe': 12432, 'graphic': 12433, 'villa': 12434, 'ferndal': 12435, '_electrocut': 12436, 'orianna': 12437, 'wet': 12438, 'psychologist': 12439, 'breaker': 12440, '_d': 12441, 'nato': 12442, 'foodstand': 12443, 'sculli': 12444, '#263chat': 12445, 'balconi': 12446, 'awesom': 12447, 'brbr': 12448, 'eto': 12449, 'whensoev': 12450, 'dee': 12451, 'sanction': 12452, '3-7': 12453, '3g': 12454, 'vill': 12455, 'few': 12456, 'refus': 12457, 'darker': 12458, 'info': 12459, 'firearm': 12460, 'today': 12461, '4ublogeurop': 12462, 'habor': 12463, 'twice': 12464, 'champion': 12465, ';-)': 12466, 'note': 12467, 'hwi': 12468, 'five': 12469, 'inform': 12470, 'hammondvil': 12471, 'ûïwe': 12472, 'download': 12473, 'exhibitor': 12474, 'lembra': 12475, 'helo': 12476, 'gandhi': 12477, 'occas': 12478, 'req': 12479, '2208': 12480, 'cooler': 12481, 'prodigi': 12482, 'tie': 12483, 'even': 12484, '8:': 12485, 'cafetier': 12486, '80': 12487, 'xv': 12488, '@_dmerida': 12489, 'sackvil': 12490, 'favori': 12491, 'mississippi': 12492, 'friend': 12493, 'gallipoli': 12494, 'wouldnt': 12495, 'persist': 12496, 'noob': 12497, '2.4': 12498, 'we': 12499, 'spur': 12500, 'suspend': 12501, 'prom': 12502, 'bhavana': 12503, 'gratia': 12504, 'eve': 12505, 'profil': 12506, 'lana': 12507, 'inc': 12508, 'accept': 12509, '103': 12510, 'driscol': 12511, 'glean': 12512, 'rumah': 12513, 'nurs': 12514, 'refugio': 12515, '4real21': 12516, 'recount': 12517, 'monday': 12518, 'consumerist': 12519, 'naypyidaw': 12520, '877': 12521, 'jammu': 12522, 'deadli': 12523, 'lide': 12524, 'accid': 12525, 'logic': 12526, 'decad': 12527, 'anza': 12528, 'effigi': 12529, 'renewsit': 12530, '4:35': 12531, 'proc': 12532, 'christi': 12533, 'nowwwwww': 12534, 'thalapathi': 12535, 'idm': 12536, 'dye': 12537, 'unexplain': 12538, 'live-act': 12539, 'shade': 12540, 'eri': 12541, 'waziristan': 12542, '27w': 12543, '75': 12544, 'burrito': 12545, 'crumbl': 12546, 'dental': 12547, 'solut': 12548, 'deliri': 12549, 'boy': 12550, '2ash': 12551, 'remors': 12552, 'aguero': 12553, 'v4': 12554, 'ww1': 12555, 'pussi': 12556, 'pol': 12557, 'sul': 12558, 'revel': 12559, 'porcini': 12560, 'knive': 12561, 'langtre': 12562, 'familia': 12563, 'work': 12564, 'spyro': 12565, 'bob': 12566, 'tbh': 12567, 'kidney': 12568, '_photo': 12569, 'nueva': 12570, 'heal': 12571, 'curs': 12572, 'roni': 12573, '1979': 12574, 'haiti': 12575, 'x1402': 12576, 'offbeat': 12577, 'theonion': 12578, '08/06': 12579, 'boko': 12580, 'blowjob': 12581, 'breakth': 12582, 'tsipra': 12583, 'whoa': 12584, 'caus': 12585, 'shell': 12586, 'everytim': 12587, 'miami': 12588, 'steven': 12589, 'chili': 12590, 'nunu': 12591, 'weird': 12592, 'tyuler': 12593, 'hazmat': 12594, 'young': 12595, 'curlin': 12596, 'homemad': 12597, 'bail': 12598, '3am': 12599, 'fy': 12600, 'daili': 12601, 'embroid': 12602, '7seattl': 12603, 'amman': 12604, 'presstitut': 12605, 'lunaci': 12606, 'must-se': 12607, 'goingon': 12608, '_selenaluna': 12609, 'bairstow': 12610, '3.0': 12611, 'oven': 12612, 'fyld': 12613, 'whack-a-mol': 12614, 'pg': 12615, 'AP': 12616, 'comic': 12617, 'monica': 12618, 'ketep': 12619, '_now': 12620, 'greenspac': 12621, 'ny1burst': 12622, 'third-quart': 12623, '_india': 12624, 'goggl': 12625, 'canadasuicid': 12626, '-4-15': 12627, 'myth': 12628, 'must': 12629, 'com': 12630, 'illeg': 12631, 'keller': 12632, 'nank': 12633, 'garcia': 12634, 'sweati': 12635, 'sdb': 12636, 'actress': 12637, 'holm': 12638, 'hand': 12639, 'temporarili': 12640, 'disagr': 12641, 'buse': 12642, 'NU': 12643, 'mitig': 12644, 'harwich': 12645, '_twit': 12646, 'martha': 12647, '3other': 12648, 'gasp': 12649, 'chucker': 12650, 'jacqu': 12651, 'settl': 12652, 'helplin': 12653, 'viewer': 12654, 'xshanemichaelsx': 12655, 'roga': 12656, 'stereo': 12657, 'stellar': 12658, 'stir': 12659, 'gigatech': 12660, 'biosurveil': 12661, 'jarmusch': 12662, 'parapleg': 12663, 'brain': 12664, 'Û': 12665, 'ne': 12666, 'carmel': 12667, '#5sosquot': 12668, 'kuala': 12669, 'australia': 12670, 'salvi': 12671, 'zach': 12672, 'carolina': 12673, 'plan': 12674, 'catalina': 12675, 'springer': 12676, 'fashion': 12677, 'redeem': 12678, 'mateo': 12679, 'buri': 12680, 'modest': 12681, 'kindli': 12682, 'although': 12683, 'colouj': 12684, 'time': 12685, 'downsid': 12686, 'have': 12687, 'futur': 12688, 'cave': 12689, 'disappear': 12690, 'kian': 12691, 'thai': 12692, 'conquest': 12693, 'rspca': 12694, 'soudelor': 12695, 'uneduc': 12696, 'pasadena': 12697, 'georg': 12698, 'pipe': 12699, 'skeleton': 12700, 'urban': 12701, 'shh': 12702, '203rd': 12703, 'arsonist': 12704, 'F': 12705, 'DJ': 12706, '.': 12707, 'sayin': 12708, 'dum': 12709, 'iiii': 12710, 'stress': 12711, 'thrust': 12712, 'infantri': 12713, 'asleep': 12714, 'role': 12715, 'spoil': 12716, 'romania': 12717, 'spot': 12718, 'ûïtell': 12719, 'ladi': 12720, '1980': 12721, 'tone': 12722, 'editor': 12723, 'jailbreak': 12724, 'roundhous': 12725, 'well-ground': 12726, 'burundi': 12727, 'wrld': 12728, 'bother': 12729, 'blowout': 12730, 'suze': 12731, 'edmund': 12732, '36chamber': 12733, 'ongo': 12734, 'notion': 12735, 'xekstrin': 12736, '_33': 12737, 'andal': 12738, 'suspici': 12739, 'nathan': 12740, 'use': 12741, '8/': 12742, '53': 12743, 'yeat': 12744, '777': 12745, 'juanmthompson': 12746, 'resort': 12747, 'B2': 12748, 'never-mind': 12749, 'yuvi': 12750, 'preciou': 12751, '066gp': 12752, \"r'lyeh\": 12753, 'collar': 12754, 'J3': 12755, 'resolv': 12756, 'rpm': 12757, 'salyer': 12758, 'elev': 12759, '060/5': 12760, 'seasonfrom': 12761, 'wisdom': 12762, 'HE': 12763, 'jose': 12764, 'richard': 12765, '627': 12766, 'disclo': 12767, 'sammi': 12768, 'hicksvil': 12769, 'ransack': 12770, 'cobe': 12771, 'wwa': 12772, 'creativ': 12773, 'ego': 12774, 'geek_apocalyps': 12775, 'skarlet': 12776, 'niiiic': 12777, 'thicker': 12778, 'walmart': 12779, '2012': 12780, 'pledg': 12781, '48id': 12782, 'misha': 12783, 'depend': 12784, 'root': 12785, 'okanagan': 12786, 'wsl': 12787, 'robbi': 12788, 'starz': 12789, 'superv': 12790, 'merg': 12791, 'high-tech': 12792, '_a_robert': 12793, 'dear': 12794, 'beluga': 12795, 'patienc': 12796, 'overwhelm': 12797, 'onnnn': 12798, 'XD': 12799, 'imagini': 12800, 'offspr': 12801, 'bit-defend': 12802, '501': 12803, 'badli': 12804, 'led': 12805, 'mundo': 12806, 'forefath': 12807, '@9tarbox': 12808, '@_pokemoncards_': 12809, '@': 12810, 'suncorp': 12811, 'avenu': 12812, 'fit': 12813, 'MH': 12814, 'aul': 12815, 'karaman': 12816, 'mount': 12817, 'mallord': 12818, 'culinari': 12819, 'popular': 12820, 'frozen': 12821, 'jamaican': 12822, 'sinkhol': 12823, 'packåêfor': 12824, 'anakin': 12825, 'off-road': 12826, 'infinit': 12827, '3A': 12828, 'spanish': 12829, 'pad': 12830, 'combo': 12831, 'winc': 12832, 'ep016': 12833, '::': 12834, 'sing-a-long': 12835, '0.15': 12836, '2500fp': 12837, '_abc': 12838, 'looter': 12839, 'horno': 12840, 'silveri': 12841, 'mean': 12842, 'on-go': 12843, 'sexist': 12844, 'chizu': 12845, 'roquey': 12846, 'sharper': 12847, 'pink': 12848, 'muzzi': 12849, 'oyster': 12850, 'respons': 12851, 'prong': 12852, '100': 12853, 'imbalances--ar': 12854, '3G': 12855, 'momentsathil': 12856, 'sooooooo': 12857, 'tame': 12858, 'metaphor': 12859, 'crusti': 12860, 'sudan': 12861, '60m': 12862, 'EE': 12863, 'getaway': 12864, 'xcom': 12865, 'sponsorship': 12866, 'lou': 12867, 'gastric': 12868, 'diagnosi': 12869, '90-96': 12870, 'florin': 12871, 'luiz': 12872, 'nowplay': 12873, 'arian': 12874, 'pandemonium': 12875, 'chpsre': 12876, 'rubbl': 12877, 'chofu': 12878, \"y'know\": 12879, 'deco': 12880, 'crater': 12881, 'preset': 12882, 'marker': 12883, 'japton': 12884, 'crapgam': 12885, '7newsbayarea': 12886, 'eo': 12887, 'pox': 12888, 'shidddd': 12889, 'otp': 12890, 'modi': 12891, 'fake': 12892, 'server': 12893, 'lightman': 12894, 'claiborn': 12895, '_bez': 12896, 'gilgit': 12897, 'mcv': 12898, '911': 12899, 'monterrey': 12900, ':-)': 12901, 'mosqu': 12902, 'spd': 12903, 'QN': 12904, '@_wildfire__': 12905, 'directli': 12906, 'indian': 12907, 'pisgah': 12908, 'applic': 12909, 'santiago': 12910, 'devot': 12911, 'motta': 12912, 'jodorowski': 12913, '10:45': 12914, 'suffici': 12915, 'yea': 12916, 'peculiar': 12917, '_10': 12918, 'stalag': 12919, 'lego': 12920, 'ep18': 12921, 'knox': 12922, '-10:00': 12923, 'paid': 12924, 'stand': 12925, '64oz': 12926, 'bc': 12927, 'choudari': 12928, 'victori': 12929, 'pre-ord': 12930, 'second': 12931, 'templ': 12932, '6new': 12933, '_caballero': 12934, 'est': 12935, 'kindl': 12936, '25': 12937, 'crippl': 12938, 'hond': 12939, 'drill': 12940, 'basi': 12941, 'minuscul': 12942, '92': 12943, 'compl': 12944, 'organ': 12945, 'indict': 12946, '#21dayfix': 12947, 'slayer': 12948, 'guardian': 12949, 'atåêcinema': 12950, 'mothernaturenetwork': 12951, 'wart': 12952, '2B': 12953, 'ashayo': 12954, '_chat': 12955, 'paulista': 12956, 'slicker': 12957, 'mme_austin': 12958, 'ûïhatchet': 12959, 'ullman': 12960, 'Ìü': 12961, 'heel': 12962, 'timesnewsdesk': 12963, 'cafì': 12964, '676/76': 12965, '150806': 12966, 'x1441': 12967, 'virtual': 12968, '7P': 12969, 'elect': 12970, 'notorieti': 12971, 'elector': 12972, '@2for1lapd': 12973, 'ravioliåêwith': 12974, 'pop': 12975, 'life': 12976, 'share': 12977, '_tv': 12978, 'dwarf': 12979, 'reconstruct': 12980, '_fd': 12981, 'stagefright': 12982, 'sherfield': 12983, 'french': 12984, 'stratford': 12985, 'embrac': 12986, 'georgina': 12987, 'dock': 12988, 'aubrey': 12989, 'uncertain': 12990, 'dubstep': 12991, 'cruel': 12992, 'eff': 12993, 'hago': 12994, '@_301dc': 12995, 'oblig': 12996, '72w': 12997, 'nowish': 12998, 'paintbal': 12999, 'postcard': 13000, '23rd': 13001, 'kanglaonlin': 13002, 'oop': 13003, '15000266858': 13004, '_kroschel': 13005, 'overåêhostag': 13006, 'lo': 13007, 'anythin': 13008, 'pbx': 13009, 'on': 13010, 'PB': 13011, '100nd': 13012, 'florenc': 13013, 'chain': 13014, 'homophobia': 13015, 'de-rail': 13016, 'femal': 13017, 'waiver': 13018, 'i80': 13019, 'properti': 13020, '@20skyhawkmm20': 13021, 'waimat': 13022, 'vamo': 13023, 'low': 13024, 'albert': 13025, '60:1': 13026, 'court': 13027, 'mlb': 13028, \"åê'nigeria\": 13029, 'lim': 13030, 'cabbag': 13031, 'tact': 13032, '-': 13033, 'langley': 13034, 'convers': 13035, 'trophi': 13036, 'khomeini': 13037, '_juli': 13038, 'gagnon': 13039, 'I': 13040, 'divestitur': 13041, 'brother': 13042, 'ke': 13043, '43rd': 13044, 'dorito': 13045, 'pull-up': 13046, 'nui': 13047, 'documentari': 13048, 'multidimensiona': 13049, 'br': 13050, 'full': 13051, 'dose': 13052, 'vinni': 13053, 'benson': 13054, 'peep': 13055, 'gretel': 13056, 'midget': 13057, '300k': 13058, 'stomach': 13059, '_lac': 13060, 'popul': 13061, 'for': 13062, 'bedhair': 13063, 'targ': 13064, 'andr': 13065, 'WW': 13066, 'charnock': 13067, 'mother': 13068, 'fool': 13069, 'waterfur': 13070, 'tremont': 13071, '_delo': 13072, 'yosemit': 13073, 'alska': 13074, 'doesnt': 13075, 'crimin': 13076, 'myelf': 13077, '@_lasha_k': 13078, 'lindsay': 13079, 'ah-maz': 13080, 'faisal': 13081, 'choctaw': 13082, 'harvest': 13083, 'rogu': 13084, 'hire': 13085, 'snippet': 13086, 'bribe': 13087, 'percentag': 13088, 'regent': 13089, 'preced': 13090, 'nether': 13091, 'teas': 13092, 'campeonato': 13093, 'unknowingli': 13094, 'mccormick': 13095, 'rum': 13096, 'bday': 13097, 'basket': 13098, 'zone': 13099, 'engag': 13100, 'phoenix': 13101, 'birmingham': 13102, 'motor': 13103, '2hour': 13104, 'nut': 13105, '_miller_7': 13106, 'motorcyclist': 13107, 'glacier': 13108, 'creel': 13109, 'rev': 13110, 'shawne': 13111, '2leezi': 13112, 'jame': 13113, 'sewag': 13114, 'ari': 13115, 'panel': 13116, 'obvious': 13117, 'alllll': 13118, 'religi': 13119, 'onofr': 13120, 'offensiveåêcont': 13121, 'kyle': 13122, 'raw': 13123, 'complimentari': 13124, 'knw': 13125, 'haiyan': 13126, 'û_ahhh': 13127, '1-7': 13128, 'da': 13129, 'expect': 13130, 'boot': 13131, 'marin': 13132, 'porridg': 13133, 'mug': 13134, 'flat': 13135, 'modoc': 13136, '52': 13137, 'stormtroop': 13138, 'nowt': 13139, 'juri': 13140, 'o_o': 13141, 'eras': 13142, 'indianapoli': 13143, '1tpgazett': 13144, '9km': 13145, 'knee': 13146, 'feelin': 13147, 'taylor': 13148, 'marketplac': 13149, 'jon': 13150, 'coulda': 13151, 'WN': 13152, 'averi': 13153, 'ashenforest': 13154, '10:35': 13155, 'seem': 13156, 'longaberg': 13157, '0sullivan': 13158, 'shanghai': 13159, '18:26': 13160, '400000': 13161, 'wakho': 13162, 'instal': 13163, 'ebola': 13164, 'cracker': 13165, 'floatin': 13166, 'bali': 13167, 'armori': 13168, 'biggar': 13169, 'childress': 13170, 'afghan': 13171, 'poorli': 13172, 'prensa': 13173, 'felt': 13174, 'laudner': 13175, 'retain': 13176, 'rl': 13177, 'kolkata': 13178, 'entir': 13179, '_sumya15': 13180, 'masterpiec': 13181, 'grave': 13182, 'zeal': 13183, 'poway': 13184, '__cee': 13185, 'shock': 13186, 'epicent': 13187, 'foreclos': 13188, 'jgisavq': 13189, 'sandstorm': 13190, 'gtxrwm': 13191, 'bred': 13192, 'bird': 13193, 'pulwama': 13194, 'arent': 13195, 'inj': 13196, '@5sostag': 13197, 'toothpast': 13198, 'beg': 13199, 'delight': 13200, 'mayb': 13201, 'fred': 13202, '_arsonist': 13203, 'enjoy': 13204, 'allegi': 13205, 'gadget': 13206, 'size': 13207, 'remind': 13208, 'reservoir': 13209, '6.1': 13210, 'across': 13211, 'neonat': 13212, 'symantec': 13213, 'owner': 13214, 'grade': 13215, 'deserv': 13216, '26': 13217, 'style': 13218, 'promot': 13219, 'åèmgn-africaå': 13220, '\\\\': 13221, 'bull': 13222, 'demeanor': 13223, 'rush-hour': 13224, 'shipwreck': 13225, 'consid': 13226, 'model': 13227, 'enter': 13228, 'siren': 13229, 'lay': 13230, 'smaug': 13231, '93065': 13232, 'antholog': 13233, 'ferno': 13234, 'sand': 13235, 'fran': 13236, 'tourniquet': 13237, 'scientist': 13238, 'wcw': 13239, 'rainfal': 13240, 'usf': 13241, 'thursday': 13242, '28': 13243, 'her': 13244, 'connector': 13245, 'document': 13246, 'hlongwan': 13247, 'bickleton': 13248, 'corps': 13249, 'choke': 13250, 'vest': 13251, '911bomb': 13252, 'illuminati': 13253, 'fahlo': 13254, 'produc': 13255, 'pixar': 13256, 'simpson': 13257, 'itself': 13258, 'gillibrand': 13259, 'stripteas': 13260, 'adamantli': 13261, 'sam.smith': 13262, 'okotok': 13263, '45m': 13264, 'promis': 13265, 'epilepsi': 13266, 'autobiographi': 13267, 'olour': 13268, 'tarynel': 13269, 'demolit': 13270, 'greta': 13271, 'eastbound': 13272, 'sam': 13273, 'horrend': 13274, 'shaper': 13275, 'bunk': 13276, 'å¼36': 13277, 'photograph': 13278, 'afp': 13279, 'spilt': 13280, 'forecast': 13281, 'seward': 13282, 'worldnew': 13283, 'rival': 13284, 'longest': 13285, 'lexi': 13286, 'hangarback': 13287, 'purchas': 13288, 'squeez': 13289, 'properli': 13290, 'mac': 13291, 'mpd': 13292, 'eh': 13293, 'musik': 13294, '_orang': 13295, 'lew': 13296, 'mode': 13297, 'def': 13298, 'kindersley': 13299, 'remast': 13300, 'rotten': 13301, 'fallout': 13302, 'lobbyist': 13303, '7/28': 13304, 'midnight': 13305, 'houz': 13306, 'pole-vault': 13307, 'freddi': 13308, 'cultsierr': 13309, 'barbar': 13310, 'makurazaki': 13311, '55436': 13312, 'rose': 13313, 'camden': 13314, 'romanc': 13315, 'tokyo': 13316, 'anoder.did': 13317, '@666canberra': 13318, 'forse': 13319, 'jojowizphilipp': 13320, '213-4678': 13321, 'cautiou': 13322, 'kijan': 13323, 'hijink': 13324, 'means.it': 13325, '@_afrojazz': 13326, 'overtook': 13327, 'mosebi': 13328, 'worst': 13329, '4me_sew': 13330, 'obj': 13331, 'statist': 13332, 'cr': 13333, 'aft': 13334, 'jess': 13335, 'certainli': 13336, 'stretcher': 13337, 'marketforc': 13338, 'win': 13339, 'lightbulb': 13340, 'judgement': 13341, 'cessna': 13342, 'aseer': 13343, 'shortag': 13344, 'misguid': 13345, 'colombian': 13346, 'o': 13347, 'angri': 13348, '@115film': 13349, 'shay': 13350, '_madonna': 13351, '#05': 13352, 'stockholm': 13353, 'shovel': 13354, 'puppet': 13355, 'provok': 13356, 'postexist': 13357, '20th': 13358, 'lrt': 13359, 'danger': 13360, '_raze': 13361, '1-800-465-8733': 13362, 'norri': 13363, 'provinc': 13364, 'osteen': 13365, 'r3do': 13366, 'bio': 13367, 'marsac': 13368, 'garfield': 13369, 'fallen': 13370, 'urgentther': 13371, 'profession': 13372, 'counterpart': 13373, 'censu': 13374, 'sentinel': 13375, 'ron': 13376, 'natsu': 13377, 'skism': 13378, 'monster': 13379, '4.5': 13380, 'salvador': 13381, 'probabl': 13382, 'wish': 13383, 'ursula': 13384, 'cocoa': 13385, 'pastur': 13386, 'hendrick': 13387, 'ulzzang': 13388, 'mushroom': 13389, 'perpetr': 13390, 'NC': 13391, 'sadli': 13392, 'playoff': 13393, 'siouxland': 13394, '44:22': 13395, 'northwest-proof': 13396, 'awn': 13397, '_dolc': 13398, 'render': 13399, 'gamma': 13400, 'barak': 13401, 'if': 13402, 'describ': 13403, 'aldridg': 13404, 'sequel': 13405, 'stage': 13406, 'dupre': 13407, 'careless': 13408, '4-6': 13409, 'benstraci': 13410, '1963': 13411, 'campbel': 13412, 'tri': 13413, 'downtim': 13414, 'recur': 13415, 'eastward': 13416, 'towlinedrift': 13417, 'revolt': 13418, \"'m\": 13419, 'bchocol': 13420, 'dravet': 13421, '2bone': 13422, 'fulfil': 13423, 'criess': 13424, 'sailor': 13425, '_traina': 13426, 'roskomnadzor': 13427, 'frugal': 13428, 'orlean': 13429, 'wine': 13430, 'fem': 13431, 'integr': 13432, 'xl61': 13433, 'g': 13434, 'engulf': 13435, 'straw': 13436, '_nomissski': 13437, '2.0': 13438, 'dugway': 13439, 'elitist': 13440, 'montego': 13441, 'superior': 13442, 'lik': 13443, 'nokia': 13444, 'qwkd': 13445, 'yiraneuni': 13446, 'u': 13447, '08/3': 13448, 'handsid': 13449, 'sew': 13450, 'garbage-bot': 13451, 'geno': 13452, 'nurgl': 13453, 'mipasho': 13454, 'regulatori': 13455, 'gazan': 13456, 'rail': 13457, 'condo': 13458, 'rot': 13459, 'cp030': 13460, 'metropoli': 13461, 'musk': 13462, 'zimpapersview': 13463, 'item': 13464, 'bodi': 13465, 'insur': 13466, 'trama': 13467, '11am': 13468, 'strictli': 13469, 'CR': 13470, 'typhoon': 13471, 'non-exist': 13472, 'gmmbc': 13473, '#4playthursday': 13474, '58200': 13475, 'bangladesh': 13476, 'alexi': 13477, 'dubloadz': 13478, 'blunt': 13479, 'contruct': 13480, 'humbl': 13481, 'terrifi': 13482, 'sask': 13483, 'patron': 13484, 'cannib': 13485, 'vpsay': 13486, 'suv': 13487, 'pack': 13488, 'denton': 13489, 'itun': 13490, 'foil': 13491, 'osborn': 13492, '6-0': 13493, 'particular': 13494, 'cs6': 13495, 'EF': 13496, '84': 13497, 'teleport': 13498, '2gether': 13499, 'hist': 13500, 'historic-church': 13501, 'syndic': 13502, '11.2': 13503, 'charmeus': 13504, 'reckon': 13505, 'EJ': 13506, 'nort': 13507, 'bb': 13508, 'katu': 13509, '1998-99': 13510, 'wing': 13511, 'omaha': 13512, 'hiatt': 13513, 'donni': 13514, 'bunch': 13515, '_ina': 13516, 'creation': 13517, 'theyll': 13518, 'shook': 13519, 'wwe': 13520, 'allot': 13521, 'churchil': 13522, 'aunt': 13523, 'moblin': 13524, 'charleston': 13525, 'mindkil': 13526, 'usual': 13527, '295ss': 13528, 'nbcnightlynew': 13529, 'contr': 13530, 'anterior': 13531, 'solitud': 13532, 'amblesid': 13533, 'yennora': 13534, 'kinda': 13535, 'caleen': 13536, 'bedroom': 13537, 'ritchi': 13538, 'mxaaaa': 13539, 'bengali': 13540, 'riyadh': 13541, 'BN': 13542, 'uganda': 13543, 'prolong': 13544, 'ara': 13545, 'jonathan': 13546, 'capoeira': 13547, '_bento': 13548, 'veget': 13549, 'aint': 13550, 'rapid-fir': 13551, 'sip': 13552, 'dere': 13553, '14000': 13554, 'single-car': 13555, 'woman': 13556, 'bicycle-suv': 13557, 'norwich': 13558, 'underpass': 13559, 'marvel': 13560, 'unsaf': 13561, 'vì_deo': 13562, 'tht': 13563, 'timelin': 13564, 'redistribut': 13565, 'wheeler': 13566, 'ty': 13567, 'coalit': 13568, 'palermo': 13569, '_six': 13570, 'shironu_akaineko': 13571, 'reput': 13572, 'confirm': 13573, 'perturb': 13574, 'viru': 13575, 'shootoutåê': 13576, 'lemm': 13577, 'nasahurrican': 13578, '30wu1f2': 13579, 'pt4': 13580, 'pander': 13581, '130': 13582, 'pdp': 13583, 'shaft': 13584, 'creami': 13585, '2left': 13586, 'guevara': 13587, '12:00': 13588, 'restart': 13589, 'nine-year-old': 13590, '10m': 13591, 'slight': 13592, '@_explicitpretti': 13593, 'basebal': 13594, 'helsinki': 13595, 'kgb': 13596, 'hermancranston': 13597, 'handicap': 13598, '_harrup': 13599, '10/3': 13600, '__cg': 13601, 'entiti': 13602, 'scab': 13603, 'lolol': 13604, 'moreland': 13605, 'paratroop': 13606, 'en': 13607, '5oil': 13608, 'HS': 13609, 'beet': 13610, 'flight': 13611, 'missil': 13612, 'wamu': 13613, 'fraction': 13614, 'fwd': 13615, 'via': 13616, '_caitlyn99': 13617, '{': 13618, '410': 13619, 'headach': 13620, '_carbon': 13621, 'gatensburi': 13622, 'mba': 13623, 'writing--weekli': 13624, 'coverag': 13625, 'wlb': 13626, 'legit': 13627, 'lisa': 13628, 'leg': 13629, 'bowknot': 13630, 'm': 13631, 'jason': 13632, 'hoshin': 13633, '@4tp_kotc': 13634, 'argentina': 13635, '13': 13636, 'metrotown': 13637, '01': 13638, 'drumpf': 13639, 'wildfir': 13640, 'nw': 13641, '10': 13642, 'treblinka': 13643, 'zarri': 13644, 'asb': 13645, 'leon': 13646, '@_freemarket': 13647, 'liver': 13648, 'morel': 13649, '25c': 13650, 'them': 13651, 'errrr': 13652, '_floyd': 13653, 'shoota': 13654, 'zealand': 13655, 'lamha': 13656, 'wank': 13657, 'revis': 13658, 'buzzi': 13659, 'behavior': 13660, 'backpack': 13661, 'eye': 13662, 'linden': 13663, 'triangl': 13664, 'tinder': 13665, '_franc': 13666, 'furi': 13667, 'anytim': 13668, 'brock': 13669, 'illinoi': 13670, 'ignit': 13671, 'logo': 13672, 'lanford': 13673, 'permiss': 13674, 'lawrenc': 13675, '_sanchez': 13676, 'suffic': 13677, 'rgreen': 13678, 'fellow': 13679, 'hydro': 13680, 'undergroundbestsel': 13681, 'iron': 13682, 'fallaci': 13683, 'wifi': 13684, 'II': 13685, 'murfreesboro': 13686, 'rocket': 13687, 'laugh': 13688, 'astrologian': 13689, '0.45': 13690, 'prepared': 13691, 'manipur': 13692, 'electrostat': 13693, 'charcoal': 13694, '1128': 13695, 'solid': 13696, 'bae': 13697, 'buffalo': 13698, 'rico': 13699, 'bruh': 13700, 'vtc': 13701, 'mattson': 13702, 'noooooooo': 13703, 'mob': 13704, 'administr': 13705, 'buscemi': 13706, 'environ': 13707, 'retrofit': 13708, 'fvck': 13709, 'dealership': 13710, 'iraq': 13711, 'monro': 13712, 'underwood': 13713, 'forgot': 13714, '_off_cliff': 13715, 'divorc': 13716, 'take-hom': 13717, 'looooool': 13718, 'TX': 13719, 'peddl': 13720, 'sensei': 13721, 'body-bag': 13722, 'nankana': 13723, 'etisalat': 13724, 'puddl': 13725, 'maxsi': 13726, 'editori': 13727, 'barrier': 13728, 'div': 13729, 'cheeki': 13730, 'corn': 13731, '#629': 13732, 'supposedli': 13733, 'seen': 13734, 'deutsch': 13735, 'world': 13736, 'journalist': 13737, 'rever': 13738, '8-p': 13739, 'north': 13740, '1new': 13741, 'insect': 13742, 'satisfi': 13743, 'ffa': 13744, 'nasa': 13745, 'quot-oper': 13746, 'faulti': 13747, 'flower': 13748, 'painthey': 13749, 'crept': 13750, 'dad': 13751, 'clark': 13752, '2coastdj': 13753, 'maketh': 13754, 'haunt': 13755, '34': 13756, 'lookss': 13757, 'gimp': 13758, 'smith': 13759, 'intertwin': 13760, 'focu': 13761, 'skinless': 13762, 'ûªl': 13763, 'growth': 13764, 'courtof': 13765, 'gentl': 13766, 'hamlet': 13767, 'bella': 13768, 'ricin': 13769, '@_drodrolagi': 13770, 'thigh': 13771, '3cz': 13772, 'natali': 13773, '_purdue': 13774, 'mandat': 13775, 'undetect': 13776, 'ssshhheeesshh': 13777, 'talent': 13778, 'freak': 13779, 'pleb': 13780, 'pc': 13781, 'boweri': 13782, 'madison': 13783, 'honor': 13784, 'recentlu': 13785, '#9973': 13786, 'psa': 13787, \"sculrismfinis'em\": 13788, 'traderi': 13789, 'raze': 13790, '_chopra2': 13791, 'unrecogn': 13792, 'bruv': 13793, 'tod': 13794, 'soldier': 13795, 'curv': 13796, 'satir': 13797, 'otto': 13798, 'random': 13799, 'declarat': 13800, 'snow': 13801, 'matako': 13802, 'slate': 13803, 'sign-in': 13804, 'ile': 13805, 'clash': 13806, 'plumber': 13807, 'NL': 13808, 'without': 13809, 'psalm': 13810, 'militar': 13811, 'preseason': 13812, 'samsung': 13813, 'castello': 13814, 'cheyenn': 13815, '7p': 13816, 'weyburn': 13817, 'gust': 13818, '_the_murd': 13819, 'eish': 13820, 'twister': 13821, 'batteri': 13822, 'tic': 13823, 'surrend': 13824, 'gentli': 13825, 'voortrekk': 13826, 'nigerian': 13827, 'salem': 13828, 'shar': 13829, 'jone': 13830, 'ecosystem': 13831, 'fucboi': 13832, 'aust': 13833, 'buckley': 13834, 'blubber': 13835, 'tren': 13836, '032': 13837, 'flip': 13838, 'mwednesday': 13839, '@_jeesss_': 13840, 'coyot': 13841, 'razedåê': 13842, '325ci': 13843, 'kjc': 13844, 'marqui': 13845, '#360wisenew': 13846, 'funch': 13847, 'rutinaoffici': 13848, 'surg': 13849, 'groan': 13850, 'ah': 13851, 'riveeeeeer': 13852, 'cometh': 13853, 'port': 13854, '#1008planet': 13855, 'lmfaoooo': 13856, 'venic': 13857, 'tent': 13858, 'said': 13859, 'headspac': 13860, 'ds': 13861, 'laid': 13862, 'wee': 13863, 'unwarr': 13864, 'excess': 13865, 'aqua': 13866, 'aggressif': 13867, '_769': 13868, 'shoulder': 13869, 'lan': 13870, 'wfocu': 13871, 'raunchi': 13872, 'butt': 13873, 'betz': 13874, 'hockey': 13875, 'fu': 13876, 'bestnaijamad': 13877, 'pew': 13878, 'au': 13879, 'hookup': 13880, 'byow': 13881, 'rateliff': 13882, 'grandfath': 13883, 'harun': 13884, 'tradit': 13885, 'suffer': 13886, 'vuitton': 13887, 'wen': 13888, 'residenti': 13889, '19': 13890, 'sixteenth': 13891, 'SF': 13892, 'abba': 13893, 'ûªd': 13894, 'cycl': 13895, 'podcast': 13896, 'psycho': 13897, 'devic': 13898, 'ûïheat': 13899, 'pepe': 13900, 'handl': 13901, 'daesh': 13902, '@5so': 13903, 'commerc': 13904, 'urin': 13905, '4buffalo': 13906, '4.1': 13907, 'pirat': 13908, 'kemsley': 13909, 'niagara': 13910, 'chile': 13911, '5.3': 13912, 'arachi': 13913, 'muschamp': 13914, 'citru': 13915, '2k13': 13916, 'nade': 13917, 'runnin': 13918, 'two-ton': 13919, 'wed.aug': 13920, 'brought': 13921, 'thief': 13922, '1964': 13923, 'ideal': 13924, 'accordingli': 13925, 'consist': 13926, 'potter': 13927, 'pathfind': 13928, 'thur': 13929, 'crack': 13930, 'meteor': 13931, 'disclos': 13932, 'sunakawa': 13933, 'telemarket': 13934, 'cabinet': 13935, 'wonderkid': 13936, 'kaduna': 13937, '¨': 13938, 'ã': 13939, '_cumshot': 13940, 'somm': 13941, '6th': 13942, 'veg': 13943, 'perquisit': 13944, 'reev': 13945, 'motley': 13946, 'afraid': 13947, 'ruthann': 13948, 'mercenari': 13949, 'genit': 13950, 'jplocalfirst': 13951, 'FJ': 13952, 'bjp': 13953, 'frame': 13954, 'giorgio': 13955, 'mexico': 13956, '2011': 13957, 'florida': 13958, \"l'occitan\": 13959, 'heartburn': 13960, 'splatoon': 13961, 'belittl': 13962, 'object': 13963, 'construct': 13964, '17': 13965, 'ana': 13966, 'east': 13967, 'dixi': 13968, '4.0': 13969, 'spectat': 13970, '1984': 13971, 'rave': 13972, 'sniff': 13973, 'exploit': 13974, 'just-marri': 13975, \"@'=\": 13976, '8ysl': 13977, 'missi': 13978, 'wireless': 13979, 'ykjl': 13980, 'crush': 13981, 'prettyboyshyflizzi': 13982, 'due': 13983, 'mirad': 13984, 'amber': 13985, 'nuh': 13986, '1.3': 13987, 'machismo': 13988, 'us': 13989, 'defenc': 13990, 'locust': 13991, 'milk': 13992, 'admit': 13993, 'UX': 13994, 'hcg': 13995, 'precipit': 13996, 'version': 13997, '_one': 13998, 'digit': 13999, 'meek': 14000, 'kern': 14001, 'segment': 14002, 'mofo': 14003, 'tribez': 14004, 'captain': 14005, 'resili': 14006, 'visualis': 14007, '@233liveonlin': 14008, 'commiss': 14009, 'purpl': 14010, 'andrew': 14011, 'ignorancesh': 14012, 'concern': 14013, 'mkayla': 14014, 'vip': 14015, 'spaniel': 14016, '_robertson2': 14017, 'harlan': 14018, 'cowgirl': 14019, 'yield': 14020, 'in': 14021, 'frank': 14022, 'deliv': 14023, 'clegg': 14024, 'with': 14025, 'lucio': 14026, 'step': 14027, 'carcinoma': 14028, 'glenco': 14029, 'chillin': 14030, '(818) 447-8427': 14031, 'nia': 14032, 'mt': 14033, 'ûïjordyn': 14034, 'showcas': 14035, \"shahada'pick\": 14036, 'doon': 14037, 'IN': 14038, 'curb': 14039, 'self-delus': 14040, 'delici': 14041, 'hahahaha': 14042, 'klinenberg': 14043, 'unhappi': 14044, 'chariti': 14045, 'element': 14046, 'refugees-victimis': 14047, 'minneapoli': 14048, 'uninform': 14049, 'gp': 14050, '712c': 14051, 'ush': 14052, '5/6': 14053, 'wilden': 14054, '_ganwilson': 14055, 'jokethey': 14056, 'zehr': 14057, 'peninsula': 14058, 'burnt': 14059, 'kennel': 14060, 'kiddi': 14061, 'bangmi': 14062, 'dealbreak': 14063, 'level': 14064, '24fowler': 14065, 'ross': 14066, 'palinfoen': 14067, 'impuls': 14068, 'autumn': 14069, 'gbbo': 14070, 'rais': 14071, 'farmr': 14072, 'tab': 14073, 'meal': 14074, 'evolv': 14075, 'jp': 14076, 'fed': 14077, 'shepherd': 14078, 'poison': 14079, 'maisi': 14080, '5.5': 14081, 'wedn': 14082, 'encor': 14083, '215': 14084, 'oracl': 14085, '1686b': 14086, 'view': 14087, 'bay': 14088, 'degre': 14089, 'craig': 14090, 'caruana': 14091, 'arena.non': 14092, 'lowkey': 14093, 'maxi': 14094, '17month': 14095, 'send': 14096, 'busi': 14097, 'carpet': 14098, 'liner': 14099, 'hedg': 14100, 'studio': 14101, 'firepow': 14102, 'prolli': 14103, 'loaf': 14104, 'incred': 14105, 'exposur': 14106, 'impos': 14107, 'prevail': 14108, 'soccer': 14109, 'kodak': 14110, 'condit': 14111, 'slaughter': 14112, 'attend': 14113, 'parent': 14114, 'sexism': 14115, 'themselv': 14116, 'megadeth': 14117, '_day': 14118, 'reprocuss': 14119, 'doin': 14120, 'gray': 14121, 'suruì': 14122, 'goo': 14123, '5newsdc': 14124, 'westward': 14125, 'lightroom': 14126, 'known': 14127, 'amico': 14128, 'bst': 14129, 'brutal': 14130, 'reliabl': 14131, 'atcha': 14132, 'zar': 14133, 'ahrar': 14134, 'bleach': 14135, 'ripriprip': 14136, 'gateway': 14137, 'sound': 14138, 'royal': 14139, 'madara': 14140, 'brewer': 14141, 'dalroy': 14142, 'graywarden': 14143, '7lplay': 14144, '#2fast2furi': 14145, 'pedestrian': 14146, 'nvidia': 14147, 'israel': 14148, '_lord': 14149, 'low-li': 14150, 'activ': 14151, 'tomislav': 14152, 'sponsor': 14153, 'helmet': 14154, 'station': 14155, 'hea': 14156, 'sled': 14157, 'lawn': 14158, 'kash': 14159, 'googl': 14160, 'gin': 14161, 'loyalti': 14162, 'campfir': 14163, 'hastl': 14164, 'asphalt': 14165, 'doesn': 14166, 'soul': 14167, 'connector-connecto': 14168, 'cano': 14169, 'swell': 14170, 'allahuakbar': 14171, 'whitt': 14172, 'activis': 14173, 'requa': 14174, 'procura': 14175, 'chrysler': 14176, '_o_m': 14177, 'hatman': 14178, 'clementin': 14179, '88-92': 14180, 'chees': 14181, '15t': 14182, 'relay': 14183, 'property-casualti': 14184, 'softwar': 14185, '@_nickwilson__': 14186, 'dual-len': 14187, 'magnific': 14188, 'intent': 14189, 'barn': 14190, 'sexi': 14191, 'drain': 14192, 'feed': 14193, 'catfish': 14194, 'lich': 14195, 'bhill': 14196, 'faker': 14197, 'titolo': 14198, 'clay': 14199, '2markfranco': 14200, 'onc': 14201, 'suppli': 14202, 'enhanc': 14203, 'imposit': 14204, 'ktla': 14205, 'spiderweb': 14206, '0mads0ul': 14207, 'cryptic': 14208, 'tribul': 14209, 'waffl': 14210, '@_doofus_': 14211, 'rae': 14212, 'tacit': 14213, 'rong': 14214, 'bog': 14215, 'alec': 14216, 'b4feder': 14217, 'idgaf': 14218, 'greyjoy': 14219, 'wildlif': 14220, 'omar': 14221, 'subsd': 14222, 'kalispel': 14223, 'lzkeli': 14224, 'SB': 14225, 'fee': 14226, 'hahahah': 14227, 'benitez': 14228, 'warfight': 14229, 'current': 14230, 'marshal': 14231, 'valuat': 14232, 'debt': 14233, 'akwa': 14234, 'spoiler': 14235, '917-033': 14236, 'forgiv': 14237, 'pisc': 14238, 'font': 14239, 'seventh': 14240, 'himalaya': 14241, 'shrnnclbautista': 14242, 'motordom': 14243, 'repatri': 14244, 'LJ': 14245, '23:40': 14246, 'wqow': 14247, '$': 14248, 'thrive': 14249, 'physician': 14250, 'debbi': 14251, 'klondik': 14252, 'weren': 14253, 'driller': 14254, 'tractor-trail': 14255, 'elven': 14256, 'pre-empt': 14257, 'conven': 14258, '23:00': 14259, 'amsal': 14260, 'topic': 14261, 'geni': 14262, '320': 14263, 'onion': 14264, 'lightrail': 14265, 'canberra': 14266, 'gunner': 14267, 'futurea': 14268, 'buck': 14269, 'dream': 14270, 'faq': 14271, 'darsena': 14272, 'issit': 14273, 're-occur': 14274, 'will': 14275, 'contain': 14276, 'x1431': 14277, '18': 14278, 'mph': 14279, 'coastal': 14280, 'clearli': 14281, '01:20': 14282, 'fletcher': 14283, 'coercion': 14284, 'tight': 14285, 'FU': 14286, 'luke': 14287, 'institut': 14288, 'lume': 14289, 'fiji': 14290, 'VI': 14291, 'r': 14292, 'chalk': 14293, 'intox': 14294, 'implod': 14295, 'echo': 14296, 'hi': 14297, 'fantabul': 14298, 'cartridg': 14299, 'thirty-f': 14300, 'state': 14301, 'men': 14302, 'esn': 14303, 'officer-rel': 14304, 'abbruchsimul': 14305, '4yygb': 14306, 'partak': 14307, 'mannequin': 14308, 'everi': 14309, '8.4': 14310, 'ipad': 14311, 'hanbag': 14312, 'sensit': 14313, 'm8': 14314, '17th': 14315, 'twentynin': 14316, 'tension': 14317, 'basic': 14318, '_lo': 14319, '@_dangerousbean': 14320, 'ibiza': 14321, 'aaron': 14322, 'vortex': 14323, 'cnmi': 14324, 'cluei': 14325, 'request': 14326, 'expens': 14327, 'grub': 14328, 'energyqfor': 14329, 'cleavag': 14330, 'annoy': 14331, 'colleenmnelson': 14332, 'transmiss': 14333, 'interest': 14334, '-08:0': 14335, 'interlock': 14336, 'pain': 14337, 'vampir': 14338, 'alhaji': 14339, 'drop': 14340, 'muh': 14341, 'forth': 14342, 'babe': 14343, 'clapton': 14344, 'ralli': 14345, 'bread': 14346, 'pup': 14347, 'reader': 14348, '733': 14349, 'parlor': 14350, '@_itsdanie_': 14351, 'furiou': 14352, 'simon': 14353, 'stranger': 14354, 'noted.th': 14355, '30pc': 14356, 'sauc': 14357, 'freakiest': 14358, 'cours': 14359, 'fdni': 14360, 'pertain': 14361, 'gemston': 14362, 'machida': 14363, 'midfield': 14364, 'extremeåêweath': 14365, '_montreal': 14366, 'nigeria': 14367, 'is': 14368, 'recent': 14369, '_georg': 14370, 'tb': 14371, 'carthag': 14372, 'rezaphotographi': 14373, 'payday': 14374, 'hotdog': 14375, 'hh': 14376, 'floorburnt': 14377, 'SD': 14378, 'nowher': 14379, 'spring': 14380, 'jacki': 14381, 'abq': 14382, 'imouto': 14383, 'newidea': 14384, 'pyrotechn': 14385, 'jokal': 14386, 'mistak': 14387, 'smugglersåênab': 14388, '3km': 14389, 'paracord': 14390, '_hart2010': 14391, 'dsc': 14392, 'smithereen': 14393, 'laughtrad': 14394, '<pad>': 14395}\n",
            "[Demo] --- RNNType: TextRNN | HiddenNodes: 64  ---\n",
            "[Para] BatchSize=256, LearningRate=0.0001, MaxEpoch=1000000, PerEpoch=10.\n",
            "[Epoch 010] loss: 0.653, train acc: 61.934%, valid acc: 61.416%.\n",
            "[Epoch 020] loss: 0.558, train acc: 77.709%, valid acc: 72.970%.\n",
            "[Epoch 030] loss: 0.468, train acc: 86.182%, valid acc: 75.483%.\n",
            "[Epoch 040] loss: 0.426, train acc: 90.267%, valid acc: 74.410%.\n"
          ],
          "name": "stdout"
        }
      ]
    }
  ]
}