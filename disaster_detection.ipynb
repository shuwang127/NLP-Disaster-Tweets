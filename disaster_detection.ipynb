{
  "nbformat": 4,
  "nbformat_minor": 0,
  "metadata": {
    "colab": {
      "name": "disaster_detection.ipynb",
      "provenance": [],
      "toc_visible": true,
      "mount_file_id": "https://github.com/shuwang127/NLP-Disaster-Tweets/blob/master/disaster_detection.ipynb",
      "authorship_tag": "ABX9TyPSgYgs71DxhZW+hlxHezuW",
      "include_colab_link": true
    },
    "kernelspec": {
      "name": "python3",
      "display_name": "Python 3"
    }
  },
  "cells": [
    {
      "cell_type": "markdown",
      "metadata": {
        "id": "view-in-github",
        "colab_type": "text"
      },
      "source": [
        "<a href=\"https://colab.research.google.com/github/shuwang127/NLP-Disaster-Tweets/blob/master/disaster_detection.ipynb\" target=\"_parent\"><img src=\"https://colab.research.google.com/assets/colab-badge.svg\" alt=\"Open In Colab\"/></a>"
      ]
    },
    {
      "cell_type": "markdown",
      "metadata": {
        "id": "SQ1yZRJWch7C",
        "colab_type": "text"
      },
      "source": [
        "# Preliminary"
      ]
    },
    {
      "cell_type": "markdown",
      "metadata": {
        "id": "hn47Mkh-VZGs",
        "colab_type": "text"
      },
      "source": [
        "Set the root path for the current program file, as well as the data path and temporary file path."
      ]
    },
    {
      "cell_type": "code",
      "metadata": {
        "id": "NxX4qtvJ--Em",
        "colab_type": "code",
        "colab": {}
      },
      "source": [
        "rootPath = './drive/My Drive/Colab Notebooks/'\n",
        "dataPath = rootPath + '/data/'\n",
        "tempPath = rootPath + '/temp/'"
      ],
      "execution_count": 0,
      "outputs": []
    },
    {
      "cell_type": "markdown",
      "metadata": {
        "id": "eQCMRmJoVyDv",
        "colab_type": "text"
      },
      "source": [
        "Import python libraies."
      ]
    },
    {
      "cell_type": "code",
      "metadata": {
        "id": "f98rK62OEaaN",
        "colab_type": "code",
        "outputId": "682de8c1-0cc3-4837-e808-4713289d9fe2",
        "colab": {
          "base_uri": "https://localhost:8080/",
          "height": 0
        }
      },
      "source": [
        "import os\n",
        "import re\n",
        "import sys\n",
        "import csv\n",
        "import math\n",
        "import random\n",
        "import nltk\n",
        "import pandas as pd\n",
        "import numpy as np\n",
        "from random import choice\n",
        "from nltk.corpus import stopwords\n",
        "from nltk.stem import PorterStemmer\n",
        "from nltk.tokenize import TweetTokenizer\n",
        "from nltk.util import ngrams\n",
        "from nltk import word_tokenize\n",
        "from sklearn.preprocessing import OneHotEncoder\n",
        "from itertools import chain\n",
        "from collections import defaultdict\n",
        "from sklearn.model_selection import train_test_split\n",
        "import torch\n",
        "import torch.nn as nn\n",
        "import torch.optim as optim\n",
        "import torch.utils.data as torchdata\n",
        "nltk.download('stopwords')\n",
        "nltk.download('punkt')"
      ],
      "execution_count": 198,
      "outputs": [
        {
          "output_type": "stream",
          "text": [
            "[nltk_data] Downloading package stopwords to /root/nltk_data...\n",
            "[nltk_data]   Package stopwords is already up-to-date!\n",
            "[nltk_data] Downloading package punkt to /root/nltk_data...\n",
            "[nltk_data]   Package punkt is already up-to-date!\n"
          ],
          "name": "stdout"
        },
        {
          "output_type": "execute_result",
          "data": {
            "text/plain": [
              "True"
            ]
          },
          "metadata": {
            "tags": []
          },
          "execution_count": 198
        }
      ]
    },
    {
      "cell_type": "markdown",
      "metadata": {
        "id": "W61oBEbvdO_U",
        "colab_type": "text"
      },
      "source": [
        "# Load Data"
      ]
    },
    {
      "cell_type": "markdown",
      "metadata": {
        "id": "whbmTuZ_YNLz",
        "colab_type": "text"
      },
      "source": [
        "Load data from .csv files."
      ]
    },
    {
      "cell_type": "code",
      "metadata": {
        "id": "Bqy-c5TaXR5x",
        "colab_type": "code",
        "colab": {}
      },
      "source": [
        "def ReadCsvData():\n",
        "    # validate temp path\n",
        "    if not os.path.exists(tempPath):\n",
        "        os.mkdir(tempPath)\n",
        "    # read data from train.csv.\n",
        "    dataTrain = pd.read_csv(dataPath + 'train.csv')\n",
        "    print('[Info] Load %d training samples from %s/train.csv.' % (len(dataTrain), dataPath))\n",
        "    # read data from test.csv.\n",
        "    dataTest = pd.read_csv(dataPath + 'test_labeled.csv')\n",
        "    print('[Info] Load %d testing samples from %s/test_labeled.csv.' % (len(dataTest), dataPath))\n",
        "    # return\n",
        "    return dataTrain, dataTest"
      ],
      "execution_count": 0,
      "outputs": []
    },
    {
      "cell_type": "markdown",
      "metadata": {
        "id": "HNQ8XurQ1xzo",
        "colab_type": "text"
      },
      "source": [
        "Get keywords and vocabulary from training data."
      ]
    },
    {
      "cell_type": "code",
      "metadata": {
        "id": "ZVx8RAYH12tI",
        "colab_type": "code",
        "colab": {}
      },
      "source": [
        "def CreateVocabulary(dataTrain, dataTest):\n",
        "    # pre-process the data.\n",
        "    def Preprocess(data):\n",
        "        # remove url\n",
        "        pattern = r'http[s]?://(?:[a-zA-Z]|[0-9]|[$-_@.&+]|[!*\\(\\),]|(?:%[0-9a-fA-F][0-9a-fA-F]))+'\n",
        "        data = re.sub(pattern, '', data)\n",
        "        # remove html special characters.\n",
        "        pattern = r'&[(amp)(gt)(lt)]+;'\n",
        "        data = re.sub(pattern, '', data)\n",
        "        # remove independent numbers.\n",
        "        pattern = r' \\d+ '\n",
        "        data = re.sub(pattern, ' ', data)\n",
        "        # lower case capitalized words.\n",
        "        pattern = r'([A-Z][a-z]+)'\n",
        "        def LowerFunc(matched):\n",
        "            return matched.group(1).lower()\n",
        "        data = re.sub(pattern, LowerFunc, data)\n",
        "        # remove hashtags.\n",
        "        pattern = r'[@#]([A-Za-z]+)'\n",
        "        data = re.sub(pattern, '', data)\n",
        "        return data\n",
        "\n",
        "    # remove stop words.\n",
        "    def RemoveStop(data):\n",
        "        dataList = data.split()\n",
        "        for item in dataList:\n",
        "            if item.lower() in stopwords.words('english'):\n",
        "                dataList.remove(item)\n",
        "        dataNew = \" \".join(dataList)\n",
        "        return dataNew\n",
        "\n",
        "    # get tokens.\n",
        "    def GetTokens(data):\n",
        "        # use tweet tokenizer.\n",
        "        tknzr = TweetTokenizer()\n",
        "        tokens = tknzr.tokenize(data)\n",
        "        tokensNew = []\n",
        "        # tokenize at each punctuation.\n",
        "        pattern = r'[A-Za-z]+\\'[A-Za-z]+'\n",
        "        for tk in tokens:\n",
        "            if re.match(pattern, tk):\n",
        "                subtokens = word_tokenize(tk)\n",
        "                tokensNew = tokensNew + subtokens\n",
        "            else:\n",
        "                tokensNew.append(tk)\n",
        "        return tokensNew\n",
        "\n",
        "    # process tokens with stemming.\n",
        "    def WithStem(tokens):\n",
        "        porter = PorterStemmer()\n",
        "        tokensStem = []\n",
        "        for tk in tokens:\n",
        "            tokensStem.append(porter.stem(tk))\n",
        "        return tokensStem\n",
        "\n",
        "    # keywords.\n",
        "    keywdList = list(set(list(dataTrain['keyword'])))\n",
        "    keywdDict = dict(zip(keywdList, range(len(keywdList))))\n",
        "    dataTrain['keywd'] = dataTrain['keyword'].apply(lambda x: keywdDict[x])\n",
        "    dataTest['keywd'] = dataTest['keyword'].apply(lambda x: keywdDict[x])\n",
        "    # exist location info?\n",
        "    def is_nan(x):\n",
        "        return (x is np.nan or x != x)\n",
        "    dataTrain['loc'] = dataTrain['location'].apply(lambda x: (0 if is_nan(x) else 1))\n",
        "    dataTest['loc'] = dataTest['location'].apply(lambda x: (0 if is_nan(x) else 1))\n",
        "    # find url number.\n",
        "    pattern = r'http[s]?://(?:[a-zA-Z]|[0-9]|[$-_@.&+]|[!*\\(\\),]|(?:%[0-9a-fA-F][0-9a-fA-F]))+'\n",
        "    dataTrain['url'] = dataTrain['text'].apply(lambda x: len(re.findall(pattern, x)))\n",
        "    dataTest['url'] = dataTest['text'].apply(lambda x: len(re.findall(pattern, x)))\n",
        "\n",
        "    # if exist list.npz, load it.\n",
        "    if os.path.exists(tempPath + 'list.npz'):\n",
        "        print('[Info] Load text list (noStem/Stem) of train/test set from %s/list.npz.' % (tempPath))\n",
        "        return np.load(tempPath + 'list.npz', allow_pickle = True)\n",
        "\n",
        "    # process train list.\n",
        "    listTrainNoStem = []\n",
        "    listTrainStem = []\n",
        "    # read the training data.\n",
        "    for i in range(len(dataTrain)):\n",
        "        # get the training data.\n",
        "        data = dataTrain['text'][i]\n",
        "        # preprocess the data.\n",
        "        data = Preprocess(data)\n",
        "        # remove stop words.\n",
        "        data = RemoveStop(data)\n",
        "        # get the tokens for the data.\n",
        "        tokens = GetTokens(data)\n",
        "        listTrainNoStem.append(tokens)\n",
        "        # get the stemmed tokens for the data.\n",
        "        tokensStem = WithStem(tokens)\n",
        "        listTrainStem.append(tokensStem)\n",
        "    # process test list.\n",
        "    listTestNoStem = []\n",
        "    listTestStem = []\n",
        "    # read the testing data.\n",
        "    for i in range(len(dataTest)):\n",
        "        # get the testing data.\n",
        "        data = dataTest['text'][i]\n",
        "        # preprocess the data.\n",
        "        data = Preprocess(data)\n",
        "        # remove stop words.\n",
        "        data = RemoveStop(data)\n",
        "        # get the tokens for the data.\n",
        "        tokens = GetTokens(data)\n",
        "        listTestNoStem.append(tokens)\n",
        "        # get the stemmed tokens for the data.\n",
        "        tokensStem = WithStem(tokens)\n",
        "        listTestStem.append(tokensStem)\n",
        "    np.savez(tempPath + 'list.npz', listTrainNoStem=listTrainNoStem, listTrainStem=listTrainStem, listTestNoStem=listTestNoStem, listTestStem=listTestStem)\n",
        "    print('[Info] Load text list (noStem/Stem) of train/test set from %s/list.npz.' % (tempPath))\n",
        "    return np.load(tempPath + 'list.npz', allow_pickle = True)"
      ],
      "execution_count": 0,
      "outputs": []
    },
    {
      "cell_type": "markdown",
      "metadata": {
        "id": "bxanvMsLd2p-",
        "colab_type": "text"
      },
      "source": [
        "# Feature Extraction"
      ]
    },
    {
      "cell_type": "markdown",
      "metadata": {
        "id": "trknAeZwawS4",
        "colab_type": "text"
      },
      "source": [
        "Extract features from the data."
      ]
    },
    {
      "cell_type": "code",
      "metadata": {
        "id": "ePerXVX1a4PR",
        "colab_type": "code",
        "colab": {}
      },
      "source": [
        "def ExtractFeatures(dataset, dList, typeSet, typeStem, typeFeat):\n",
        "    # input validation.\n",
        "    if typeSet not in ['Train', 'Test']:\n",
        "        print('[Error] Dataset setting invalid!')\n",
        "        return\n",
        "    # sparse the corresponding dataset.\n",
        "    data = dList['list' + typeSet + typeStem]\n",
        "    D = len(data)\n",
        "    # build the vocabulary from training set.\n",
        "    vocab = list(set(list(chain.from_iterable(dList['listTrain' + typeStem]))))\n",
        "    V = len(vocab)\n",
        "    vocabDict = dict(zip(vocab, range(V)))\n",
        "    print('[Info] Load %d \\'%s\\' vocabulary words.' % (V, typeStem))\n",
        "\n",
        "    # get labels.\n",
        "    labels = np.array(dataset['target']).reshape(-1, 1)\n",
        "    # get text features.\n",
        "    features = np.zeros((D, V))\n",
        "    # get the feature matrix (Frequency).\n",
        "    if 'Frequency' == typeFeat:\n",
        "        for ind, doc in enumerate(data):\n",
        "            for item in doc:\n",
        "                if item in vocabDict:\n",
        "                    features[ind][vocabDict[item]] += 1\n",
        "    # get the feature matrix (Binary).\n",
        "    if 'Binary' == typeFeat:\n",
        "        for ind, doc in enumerate(data):\n",
        "            for item in doc:\n",
        "                if item in vocabDict:\n",
        "                    features[ind][vocabDict[item]] = 1\n",
        "    # get the feature matrix (TFIDF):\n",
        "    if 'TFIDF' == typeFeat:\n",
        "        if os.path.exists(tempPath + '/tfidf_' + typeSet + typeStem + '.npy'):\n",
        "            features = np.load(tempPath + '/tfidf_' + typeSet + typeStem + '.npy')\n",
        "        else:\n",
        "            # get freq and bin features.\n",
        "            termFreq = np.zeros((D, V))\n",
        "            termBin = np.zeros((D, V))\n",
        "            for ind, doc in enumerate(data):\n",
        "                for item in doc:\n",
        "                    if item in vocabDict:\n",
        "                        termFreq[ind][vocabDict[item]] += 1\n",
        "                        termBin[ind][vocabDict[item]] = 1\n",
        "            # get tf (1+log10)\n",
        "            tf = np.zeros((D, V))\n",
        "            for ind in range(D):\n",
        "                for i in range(V):\n",
        "                    if termFreq[ind][i] > 0:\n",
        "                        tf[ind][i] = 1 + math.log(termFreq[ind][i], 10)\n",
        "            del termFreq\n",
        "            # find idf\n",
        "            if os.path.exists(tempPath + '/idf_' + typeStem + '.npy'):\n",
        "                idf = np.load(tempPath + '/idf_' + typeStem + '.npy')\n",
        "            elif 'Train' == typeSet:\n",
        "                # get df\n",
        "                df = np.zeros((V, 1))\n",
        "                for ind in range(D):\n",
        "                    for i in range(V):\n",
        "                        df[i] += termBin[ind][i]\n",
        "                # get idf (log10(D/df))\n",
        "                idf = np.zeros((V, 1))\n",
        "                for i in range(V):\n",
        "                    if df[i] > 0:\n",
        "                        idf[i] = math.log(D, 10) - math.log(df[i], 10)\n",
        "                del df\n",
        "                np.save(tempPath + '/idf_' + typeStem + '.npy', idf)\n",
        "            else:\n",
        "                print('[Error] Need file: %s/idf_%s.npy to process test data!' % (tempPath, typeStem))\n",
        "                return\n",
        "            del termBin\n",
        "            # get tfidf\n",
        "            for ind in range(D):\n",
        "                for i in range(V):\n",
        "                    features[ind][i] = tf[ind][i] * idf[i]\n",
        "            np.save(tempPath + '/tfidf_' + typeSet + typeStem + '.npy', features)\n",
        "\n",
        "    # mix features.\n",
        "    # loc? (1 or 0)\n",
        "    featloc = np.array(dataset['loc']).reshape(-1, 1)\n",
        "    features = np.hstack((features, featloc))\n",
        "    # url number.\n",
        "    featurl = np.array(dataset['url']).reshape(-1, 1)\n",
        "    features = np.hstack((features, featurl))\n",
        "    # keywd onehot (222).\n",
        "    featkeywd = np.array(dataset['keywd']).reshape(-1, 1)\n",
        "    onehot_encoder = OneHotEncoder(sparse = False)\n",
        "    featkeywd = onehot_encoder.fit_transform(featkeywd)\n",
        "    features = np.hstack((features, featkeywd))\n",
        "    # return features and labels\n",
        "    print('[Info] Get %d \\'%s\\' %sing features (dim:%d) and labels (dim:1).' % (len(features), typeFeat, typeSet.lower(), len(features[0])))\n",
        "    return features, labels"
      ],
      "execution_count": 0,
      "outputs": []
    },
    {
      "cell_type": "markdown",
      "metadata": {
        "id": "OFaaAw39eJaR",
        "colab_type": "text"
      },
      "source": [
        "# Classifiers\n"
      ]
    },
    {
      "cell_type": "markdown",
      "metadata": {
        "id": "2i3TVlIwenES",
        "colab_type": "text"
      },
      "source": [
        "### Naive Bayes Classifier"
      ]
    },
    {
      "cell_type": "markdown",
      "metadata": {
        "id": "KSIKMy6tbPl-",
        "colab_type": "text"
      },
      "source": [
        "Naive bayes classifier training process."
      ]
    },
    {
      "cell_type": "code",
      "metadata": {
        "id": "o5tllt8bbbzO",
        "colab_type": "code",
        "colab": {}
      },
      "source": [
        "def NaiveBayesTrain(features, labels):\n",
        "    # define the log prior.\n",
        "    def GetLogPrior(labelTrain):\n",
        "        # count the number.\n",
        "        nDoc = len(labelTrain)\n",
        "        nPos = list(labelTrain).count(1)\n",
        "        nNag = list(labelTrain).count(0)\n",
        "        # calculate the logprior.\n",
        "        priorPos = math.log(nPos / nDoc)\n",
        "        priorNag = math.log(nNag / nDoc)\n",
        "        prior = [priorNag, priorPos]\n",
        "        return prior\n",
        "\n",
        "    # define loglikelihood.\n",
        "    def GetLogLikelihood(features, labels):\n",
        "        # get V and D.\n",
        "        V = len(features[0])\n",
        "        D = len(features)\n",
        "        cls = 2\n",
        "        # initilaze likelihood matrix.\n",
        "        likelihood = np.zeros((cls, V))\n",
        "        for ind in range(D):\n",
        "            for i in range(V):\n",
        "                likelihood[labels[ind][0]][i] += features[ind][i]\n",
        "        # Laplace smoothing.\n",
        "        denom = np.zeros((cls, 1))\n",
        "        for lb in range(cls):\n",
        "            denom[lb] = sum(likelihood[lb]) + V\n",
        "            for i in range(V):\n",
        "                likelihood[lb][i] += 1\n",
        "                likelihood[lb][i] /= denom[lb]\n",
        "                likelihood[lb][i] = math.log(likelihood[lb][i])\n",
        "        return likelihood\n",
        "\n",
        "    # get the log prior.\n",
        "    prior = GetLogPrior(labels)\n",
        "    # get the log likelihood\n",
        "    likelihood = GetLogLikelihood(features, labels)\n",
        "    return prior, likelihood"
      ],
      "execution_count": 0,
      "outputs": []
    },
    {
      "cell_type": "markdown",
      "metadata": {
        "id": "FH-uoO-8fgCw",
        "colab_type": "text"
      },
      "source": [
        "Naive bayes classifier testing process."
      ]
    },
    {
      "cell_type": "code",
      "metadata": {
        "id": "C9oVKU72fp5T",
        "colab_type": "code",
        "colab": {}
      },
      "source": [
        "def NaiveBayesTest(prior, likelihood, featTest):\n",
        "    # get V and D.\n",
        "    V = len(featTest[0])\n",
        "    D = len(featTest)\n",
        "    cls = 2\n",
        "    # get pred(D, cls) matrix and predictions(D, 1).\n",
        "    pred = np.zeros((D, cls))\n",
        "    predictions = np.zeros((D, 1))\n",
        "    for ind in range(D):\n",
        "        for lb in range(cls):\n",
        "            pred[ind][lb] += prior[lb]\n",
        "            for i in range(V):\n",
        "                pred[ind][lb] += likelihood[lb][i] * featTest[ind][i]\n",
        "        predictions[ind] = list(pred[ind]).index(max(pred[ind]))\n",
        "    return predictions"
      ],
      "execution_count": 0,
      "outputs": []
    },
    {
      "cell_type": "markdown",
      "metadata": {
        "id": "RYOmvNRKgDpZ",
        "colab_type": "text"
      },
      "source": [
        "### Logistic Regression Classifier"
      ]
    },
    {
      "cell_type": "markdown",
      "metadata": {
        "id": "3rEI_t9egNbq",
        "colab_type": "text"
      },
      "source": [
        "Logistic regression classifier training process."
      ]
    },
    {
      "cell_type": "code",
      "metadata": {
        "id": "ig7j7TPKgXaM",
        "colab_type": "code",
        "colab": {}
      },
      "source": [
        "def LogisticTrain():\n",
        "    return"
      ],
      "execution_count": 0,
      "outputs": []
    },
    {
      "cell_type": "markdown",
      "metadata": {
        "id": "BcNF_E0ygd7k",
        "colab_type": "text"
      },
      "source": [
        "Logistic regression classifier testing process."
      ]
    },
    {
      "cell_type": "code",
      "metadata": {
        "id": "OT1C_J7dgkWH",
        "colab_type": "code",
        "colab": {}
      },
      "source": [
        "def LogisticTest():\n",
        "    return"
      ],
      "execution_count": 0,
      "outputs": []
    },
    {
      "cell_type": "markdown",
      "metadata": {
        "id": "Qfju-e3Qe_xR",
        "colab_type": "text"
      },
      "source": [
        "# Evaluation"
      ]
    },
    {
      "cell_type": "markdown",
      "metadata": {
        "id": "tF4Lo48bfGgr",
        "colab_type": "text"
      },
      "source": [
        "Evaluate and output the experimental results."
      ]
    },
    {
      "cell_type": "code",
      "metadata": {
        "id": "y0Y1QGF5fMKX",
        "colab_type": "code",
        "colab": {}
      },
      "source": [
        "def OutputEval(predictions, labels, typeStem, typeFeat, method):\n",
        "    # evaluate the predictions with gold labels, and get accuracy and confusion matrix.\n",
        "    def Evaluation(predictions, labels):\n",
        "        D = len(labels)\n",
        "        cls = 2\n",
        "        # get confusion matrix.\n",
        "        confusion = np.zeros((cls, cls))\n",
        "        for ind in range(D):\n",
        "            nRow = int(predictions[ind][0])\n",
        "            nCol = int(labels[ind][0])\n",
        "            confusion[nRow][nCol] += 1\n",
        "        # get accuracy.\n",
        "        accuracy = 0\n",
        "        for ind in range(cls):\n",
        "            accuracy += confusion[ind][ind]\n",
        "        accuracy /= D\n",
        "        return accuracy, confusion\n",
        "\n",
        "    # get accuracy and confusion matrix.\n",
        "    accuracy, confusion = Evaluation(predictions, labels)\n",
        "    # output on screen and to file.\n",
        "    print('       -------------------------------------------')\n",
        "    print('       ' + typeStem + ' | ' + typeFeat + ' | ' + method)\n",
        "    print('       accuracy : %.2f%%' % (accuracy * 100))\n",
        "    print('       confusion matrix :      (actual)')\n",
        "    print('                           Neg         Pos')\n",
        "    print('       (predicted) Neg     %-4d(TN)    %-4d(FN)' % (confusion[0][0], confusion[0][1]))\n",
        "    print('                   Pos     %-4d(FP)    %-4d(TP)' % (confusion[1][0], confusion[1][1]))\n",
        "    print('       -------------------------------------------')\n",
        "    return accuracy, confusion"
      ],
      "execution_count": 0,
      "outputs": []
    },
    {
      "cell_type": "markdown",
      "metadata": {
        "id": "o2ETtiume0Jx",
        "colab_type": "text"
      },
      "source": [
        "# Main Entrance."
      ]
    },
    {
      "cell_type": "markdown",
      "metadata": {
        "id": "bar8Vf_M8GVN",
        "colab_type": "text"
      },
      "source": [
        "Specify the details for different setting."
      ]
    },
    {
      "cell_type": "code",
      "metadata": {
        "id": "IrhX0uhB8CK3",
        "colab_type": "code",
        "colab": {}
      },
      "source": [
        "DEBUG = True\n",
        "def demo(dataTrain, dataTest, dList, typeStem, typeFeat, method):\n",
        "    # input validation.\n",
        "    if typeStem not in ['NoStem', 'Stem']:\n",
        "        print('[Error] Stemming setting invalid!')\n",
        "        return\n",
        "    if typeFeat not in ['Frequency', 'Binary', 'TFIDF']:\n",
        "        print('[Error] Feature setting invalid!')\n",
        "        return\n",
        "    if method not in ['NaiveBayes', 'Logistic']:\n",
        "        print('[Error] Classifier setting invalid!')\n",
        "        return\n",
        "    print('[Demo] ------ Data: %s | Feature: %s | Classifier: %s ------' % (typeStem, typeFeat, method))\n",
        "    # extract training features and labels.\n",
        "    featTrain, labelTrain = ExtractFeatures(dataTrain, dList, 'Train', typeStem, typeFeat)\n",
        "    # train the model.\n",
        "    if 'NaiveBayes' == method:\n",
        "        prior, likelihood = NaiveBayesTrain(featTrain, labelTrain)\n",
        "    print('[Info] %s classifier training done!' % (method))\n",
        "    # extract testing features and labels.\n",
        "    featTest, labelTest = ExtractFeatures(dataTest, dList, 'Test', typeStem, typeFeat)\n",
        "    # test the model.\n",
        "    if 'NaiveBayes' == method:\n",
        "        predTest = NaiveBayesTest(prior, likelihood, featTest)\n",
        "    print('[Info] %s classifier testing done!' % (method))\n",
        "    # evaluate.\n",
        "    accuracy, confusion = OutputEval(predTest, labelTest, typeStem, typeFeat, method)\n",
        "    return"
      ],
      "execution_count": 0,
      "outputs": []
    },
    {
      "cell_type": "markdown",
      "metadata": {
        "id": "GSXiVgILYa9q",
        "colab_type": "text"
      },
      "source": [
        "The main function and the entrance."
      ]
    },
    {
      "cell_type": "code",
      "metadata": {
        "id": "GnGE_FPdWH46",
        "colab_type": "code",
        "outputId": "72741fd0-5ec4-4f73-dea6-e93b29b7c5c7",
        "colab": {
          "base_uri": "https://localhost:8080/",
          "height": 1000
        }
      },
      "source": [
        "def main():\n",
        "    # info.\n",
        "    print(\"-- AIT726 Project from Julia Jeng, Shu Wang, and Arman Anwar --\")\n",
        "    # load training and testing data.\n",
        "    dataTrain, dataTest = ReadCsvData()\n",
        "    # get keywords and vocabulary from training data.\n",
        "    dList = CreateVocabulary(dataTrain, dataTest)\n",
        "    # demo\n",
        "    demo(dataTrain, dataTest, dList, 'NoStem', 'Frequency', 'NaiveBayes')\n",
        "    demo(dataTrain, dataTest, dList, 'NoStem', 'Binary', 'NaiveBayes')\n",
        "    demo(dataTrain, dataTest, dList, 'NoStem', 'TFIDF', 'NaiveBayes')\n",
        "    demo(dataTrain, dataTest, dList, 'Stem', 'Frequency', 'NaiveBayes')\n",
        "    demo(dataTrain, dataTest, dList, 'Stem', 'Binary', 'NaiveBayes')\n",
        "    demo(dataTrain, dataTest, dList, 'Stem', 'TFIDF', 'NaiveBayes')\n",
        "    return\n",
        "\n",
        "if __name__ == \"__main__\":\n",
        "    main()"
      ],
      "execution_count": 208,
      "outputs": [
        {
          "output_type": "stream",
          "text": [
            "-- AIT726 Project from Julia Jeng, Shu Wang, and Arman Anwar --\n",
            "[Info] Load 7613 training samples from ./drive/My Drive/Colab Notebooks//data//train.csv.\n",
            "[Info] Load 3263 testing samples from ./drive/My Drive/Colab Notebooks//data//test_labeled.csv.\n",
            "[Info] Load text list (noStem/Stem) of train/test set from ./drive/My Drive/Colab Notebooks//temp//list.npz.\n",
            "[Demo] ------ Data: NoStem | Feature: Frequency | Classifier: NaiveBayes ------\n",
            "[Info] Load 15769 'NoStem' vocabulary words.\n",
            "[Info] Get 7613 'Frequency' training features (dim:15993) and labels (dim:1).\n",
            "[Info] NaiveBayes classifier training done!\n",
            "[Info] Load 15769 'NoStem' vocabulary words.\n",
            "[Info] Get 3263 'Frequency' testing features (dim:15993) and labels (dim:1).\n",
            "[Info] NaiveBayes classifier testing done!\n",
            "       -------------------------------------------\n",
            "       NoStem | Frequency | NaiveBayes\n",
            "       accuracy : 79.56%\n",
            "       confusion matrix :      (actual)\n",
            "                           Neg         Pos\n",
            "       (predicted) Neg     1617(TN)    423 (FN)\n",
            "                   Pos     244 (FP)    979 (TP)\n",
            "       -------------------------------------------\n",
            "[Demo] ------ Data: NoStem | Feature: Binary | Classifier: NaiveBayes ------\n",
            "[Info] Load 15769 'NoStem' vocabulary words.\n",
            "[Info] Get 7613 'Binary' training features (dim:15993) and labels (dim:1).\n",
            "[Info] NaiveBayes classifier training done!\n",
            "[Info] Load 15769 'NoStem' vocabulary words.\n",
            "[Info] Get 3263 'Binary' testing features (dim:15993) and labels (dim:1).\n",
            "[Info] NaiveBayes classifier testing done!\n",
            "       -------------------------------------------\n",
            "       NoStem | Binary | NaiveBayes\n",
            "       accuracy : 79.59%\n",
            "       confusion matrix :      (actual)\n",
            "                           Neg         Pos\n",
            "       (predicted) Neg     1617(TN)    422 (FN)\n",
            "                   Pos     244 (FP)    980 (TP)\n",
            "       -------------------------------------------\n",
            "[Demo] ------ Data: NoStem | Feature: TFIDF | Classifier: NaiveBayes ------\n",
            "[Info] Load 15769 'NoStem' vocabulary words.\n",
            "[Info] Get 7613 'TFIDF' training features (dim:15993) and labels (dim:1).\n",
            "[Info] NaiveBayes classifier training done!\n",
            "[Info] Load 15769 'NoStem' vocabulary words.\n",
            "[Info] Get 3263 'TFIDF' testing features (dim:15993) and labels (dim:1).\n",
            "[Info] NaiveBayes classifier testing done!\n",
            "       -------------------------------------------\n",
            "       NoStem | TFIDF | NaiveBayes\n",
            "       accuracy : 77.93%\n",
            "       confusion matrix :      (actual)\n",
            "                           Neg         Pos\n",
            "       (predicted) Neg     1562(TN)    421 (FN)\n",
            "                   Pos     299 (FP)    981 (TP)\n",
            "       -------------------------------------------\n",
            "[Demo] ------ Data: Stem | Feature: Frequency | Classifier: NaiveBayes ------\n",
            "[Info] Load 11811 'Stem' vocabulary words.\n",
            "[Info] Get 7613 'Frequency' training features (dim:12035) and labels (dim:1).\n",
            "[Info] NaiveBayes classifier training done!\n",
            "[Info] Load 11811 'Stem' vocabulary words.\n",
            "[Info] Get 3263 'Frequency' testing features (dim:12035) and labels (dim:1).\n",
            "[Info] NaiveBayes classifier testing done!\n",
            "       -------------------------------------------\n",
            "       Stem | Frequency | NaiveBayes\n",
            "       accuracy : 79.01%\n",
            "       confusion matrix :      (actual)\n",
            "                           Neg         Pos\n",
            "       (predicted) Neg     1594(TN)    418 (FN)\n",
            "                   Pos     267 (FP)    984 (TP)\n",
            "       -------------------------------------------\n",
            "[Demo] ------ Data: Stem | Feature: Binary | Classifier: NaiveBayes ------\n",
            "[Info] Load 11811 'Stem' vocabulary words.\n",
            "[Info] Get 7613 'Binary' training features (dim:12035) and labels (dim:1).\n",
            "[Info] NaiveBayes classifier training done!\n",
            "[Info] Load 11811 'Stem' vocabulary words.\n",
            "[Info] Get 3263 'Binary' testing features (dim:12035) and labels (dim:1).\n",
            "[Info] NaiveBayes classifier testing done!\n",
            "       -------------------------------------------\n",
            "       Stem | Binary | NaiveBayes\n",
            "       accuracy : 79.04%\n",
            "       confusion matrix :      (actual)\n",
            "                           Neg         Pos\n",
            "       (predicted) Neg     1596(TN)    419 (FN)\n",
            "                   Pos     265 (FP)    983 (TP)\n",
            "       -------------------------------------------\n",
            "[Demo] ------ Data: Stem | Feature: TFIDF | Classifier: NaiveBayes ------\n",
            "[Info] Load 11811 'Stem' vocabulary words.\n",
            "[Info] Get 7613 'TFIDF' training features (dim:12035) and labels (dim:1).\n",
            "[Info] NaiveBayes classifier training done!\n",
            "[Info] Load 11811 'Stem' vocabulary words.\n",
            "[Info] Get 3263 'TFIDF' testing features (dim:12035) and labels (dim:1).\n",
            "[Info] NaiveBayes classifier testing done!\n",
            "       -------------------------------------------\n",
            "       Stem | TFIDF | NaiveBayes\n",
            "       accuracy : 78.76%\n",
            "       confusion matrix :      (actual)\n",
            "                           Neg         Pos\n",
            "       (predicted) Neg     1581(TN)    413 (FN)\n",
            "                   Pos     280 (FP)    989 (TP)\n",
            "       -------------------------------------------\n"
          ],
          "name": "stdout"
        }
      ]
    }
  ]
}