{
  "nbformat": 4,
  "nbformat_minor": 0,
  "metadata": {
    "colab": {
      "name": "disaster_detection.ipynb",
      "provenance": [],
      "toc_visible": true,
      "mount_file_id": "https://github.com/shuwang127/NLP-Disaster-Tweets/blob/master/disaster_detection.ipynb",
      "authorship_tag": "ABX9TyOst0OWdCyEIEgebDt6u6Ek",
      "include_colab_link": true
    },
    "kernelspec": {
      "name": "python3",
      "display_name": "Python 3"
    }
  },
  "cells": [
    {
      "cell_type": "markdown",
      "metadata": {
        "id": "view-in-github",
        "colab_type": "text"
      },
      "source": [
        "<a href=\"https://colab.research.google.com/github/shuwang127/NLP-Disaster-Tweets/blob/master/disaster_detection.ipynb\" target=\"_parent\"><img src=\"https://colab.research.google.com/assets/colab-badge.svg\" alt=\"Open In Colab\"/></a>"
      ]
    },
    {
      "cell_type": "markdown",
      "metadata": {
        "id": "SQ1yZRJWch7C",
        "colab_type": "text"
      },
      "source": [
        "# Preliminary"
      ]
    },
    {
      "cell_type": "markdown",
      "metadata": {
        "id": "hn47Mkh-VZGs",
        "colab_type": "text"
      },
      "source": [
        "Set the root path for the current program file, as well as the data path and temporary file path."
      ]
    },
    {
      "cell_type": "code",
      "metadata": {
        "id": "NxX4qtvJ--Em",
        "colab_type": "code",
        "colab": {}
      },
      "source": [
        "rootPath = './drive/My Drive/Colab Notebooks/'\n",
        "dataPath = rootPath + '/data/'\n",
        "tempPath = rootPath + '/temp/'"
      ],
      "execution_count": 0,
      "outputs": []
    },
    {
      "cell_type": "markdown",
      "metadata": {
        "id": "eQCMRmJoVyDv",
        "colab_type": "text"
      },
      "source": [
        "Import python libraies."
      ]
    },
    {
      "cell_type": "code",
      "metadata": {
        "id": "f98rK62OEaaN",
        "colab_type": "code",
        "colab": {}
      },
      "source": [
        "import os\n",
        "import re\n",
        "import sys\n",
        "import csv\n",
        "import random\n",
        "from random import choice\n",
        "import numpy as np\n",
        "from nltk.tokenize import TweetTokenizer\n",
        "from nltk.util import ngrams\n",
        "from nltk import word_tokenize\n",
        "from itertools import chain\n",
        "from collections import defaultdict\n",
        "from sklearn.model_selection import train_test_split\n",
        "import torch\n",
        "import torch.nn as nn\n",
        "import torch.optim as optim\n",
        "import torch.utils.data as torchdata"
      ],
      "execution_count": 0,
      "outputs": []
    },
    {
      "cell_type": "markdown",
      "metadata": {
        "id": "W61oBEbvdO_U",
        "colab_type": "text"
      },
      "source": [
        "# Load Data"
      ]
    },
    {
      "cell_type": "markdown",
      "metadata": {
        "id": "whbmTuZ_YNLz",
        "colab_type": "text"
      },
      "source": [
        "Load data from .csv files."
      ]
    },
    {
      "cell_type": "code",
      "metadata": {
        "id": "Bqy-c5TaXR5x",
        "colab_type": "code",
        "colab": {}
      },
      "source": [
        "def ReadCsvData():\n",
        "    with open(dataPath + '/train.csv', 'r') as csvFile:\n",
        "        csvReader = csv.reader(csvFile)\n",
        "        for row in csvReader:\n",
        "            print(', '.join(row))\n",
        "    print('[Info] Load data successfully from ' + dataPath)\n",
        "    return"
      ],
      "execution_count": 0,
      "outputs": []
    },
    {
      "cell_type": "markdown",
      "metadata": {
        "id": "bxanvMsLd2p-",
        "colab_type": "text"
      },
      "source": [
        "# Feature Extraction"
      ]
    },
    {
      "cell_type": "markdown",
      "metadata": {
        "id": "trknAeZwawS4",
        "colab_type": "text"
      },
      "source": [
        "Extract features from the data."
      ]
    },
    {
      "cell_type": "code",
      "metadata": {
        "id": "ePerXVX1a4PR",
        "colab_type": "code",
        "colab": {}
      },
      "source": [
        "def ExtractFeatures():\n",
        "    return"
      ],
      "execution_count": 0,
      "outputs": []
    },
    {
      "cell_type": "markdown",
      "metadata": {
        "id": "OFaaAw39eJaR",
        "colab_type": "text"
      },
      "source": [
        "# Classifiers\n"
      ]
    },
    {
      "cell_type": "markdown",
      "metadata": {
        "id": "2i3TVlIwenES",
        "colab_type": "text"
      },
      "source": [
        "### Naive Bayes Classifier"
      ]
    },
    {
      "cell_type": "markdown",
      "metadata": {
        "id": "KSIKMy6tbPl-",
        "colab_type": "text"
      },
      "source": [
        "Naive bayes classifier training process."
      ]
    },
    {
      "cell_type": "code",
      "metadata": {
        "id": "o5tllt8bbbzO",
        "colab_type": "code",
        "colab": {}
      },
      "source": [
        "def TrainNaiveBayes():\n",
        "    return"
      ],
      "execution_count": 0,
      "outputs": []
    },
    {
      "cell_type": "markdown",
      "metadata": {
        "id": "FH-uoO-8fgCw",
        "colab_type": "text"
      },
      "source": [
        "Naive bayes classifier testing process."
      ]
    },
    {
      "cell_type": "code",
      "metadata": {
        "id": "C9oVKU72fp5T",
        "colab_type": "code",
        "colab": {}
      },
      "source": [
        "def TestNaiveBayes():\n",
        "    return"
      ],
      "execution_count": 0,
      "outputs": []
    },
    {
      "cell_type": "markdown",
      "metadata": {
        "id": "RYOmvNRKgDpZ",
        "colab_type": "text"
      },
      "source": [
        "### Logistic Regression Classifier"
      ]
    },
    {
      "cell_type": "markdown",
      "metadata": {
        "id": "3rEI_t9egNbq",
        "colab_type": "text"
      },
      "source": [
        "Logistic regression classifier training process."
      ]
    },
    {
      "cell_type": "code",
      "metadata": {
        "id": "ig7j7TPKgXaM",
        "colab_type": "code",
        "colab": {}
      },
      "source": [
        "def LogisticTrain():\n",
        "    return"
      ],
      "execution_count": 0,
      "outputs": []
    },
    {
      "cell_type": "markdown",
      "metadata": {
        "id": "BcNF_E0ygd7k",
        "colab_type": "text"
      },
      "source": [
        "Logistic regression classifier testing process."
      ]
    },
    {
      "cell_type": "code",
      "metadata": {
        "id": "OT1C_J7dgkWH",
        "colab_type": "code",
        "colab": {}
      },
      "source": [
        "def LogisticTest():\n",
        "    return"
      ],
      "execution_count": 0,
      "outputs": []
    },
    {
      "cell_type": "markdown",
      "metadata": {
        "id": "Qfju-e3Qe_xR",
        "colab_type": "text"
      },
      "source": [
        "# Evaluation"
      ]
    },
    {
      "cell_type": "markdown",
      "metadata": {
        "id": "tF4Lo48bfGgr",
        "colab_type": "text"
      },
      "source": [
        "Evaluate and output the experimental results."
      ]
    },
    {
      "cell_type": "code",
      "metadata": {
        "id": "y0Y1QGF5fMKX",
        "colab_type": "code",
        "colab": {}
      },
      "source": [
        "def OutputEval():\n",
        "    return"
      ],
      "execution_count": 0,
      "outputs": []
    },
    {
      "cell_type": "markdown",
      "metadata": {
        "id": "o2ETtiume0Jx",
        "colab_type": "text"
      },
      "source": [
        "# Main Entrance."
      ]
    },
    {
      "cell_type": "markdown",
      "metadata": {
        "id": "GSXiVgILYa9q",
        "colab_type": "text"
      },
      "source": [
        "The main function and the entrance."
      ]
    },
    {
      "cell_type": "code",
      "metadata": {
        "id": "GnGE_FPdWH46",
        "colab_type": "code",
        "colab": {}
      },
      "source": [
        "def main():\n",
        "    ReadCsvData()\n",
        "    return\n",
        "\n",
        "if __name__ == \"__main__\":\n",
        "    main()"
      ],
      "execution_count": 0,
      "outputs": []
    }
  ]
}